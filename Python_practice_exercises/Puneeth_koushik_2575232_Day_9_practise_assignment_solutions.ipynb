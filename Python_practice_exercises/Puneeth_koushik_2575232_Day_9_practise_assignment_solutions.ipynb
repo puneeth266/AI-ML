{
 "cells": [
  {
   "cell_type": "code",
   "execution_count": 3,
   "id": "4f4f81a6",
   "metadata": {},
   "outputs": [],
   "source": [
    "import numpy as np\n",
    "\n"
   ]
  },
  {
   "cell_type": "code",
   "execution_count": null,
   "id": "ab21926e",
   "metadata": {},
   "outputs": [],
   "source": [
    "olympic_country = np.array(['GBR', 'China', 'RUS', 'US', 'KOR', 'JPN', 'GER'])\n",
    "olympic_country_gold = np.array([29, 38, 24, 46, 13, 7, 11])\n",
    "olympic_country_silver = np.array([17, 28, 25, 28, 8, 14, 11])\n",
    "olympic_country_bronze = np.array([19, 22, 32, 29, 7, 17, 14])"
   ]
  },
  {
   "cell_type": "markdown",
   "id": "675466d7",
   "metadata": {},
   "source": [
    "# 1. Find Country index with max gold"
   ]
  },
  {
   "cell_type": "code",
   "execution_count": 6,
   "id": "640f27b0",
   "metadata": {},
   "outputs": [
    {
     "name": "stdout",
     "output_type": "stream",
     "text": [
      "The country with the maximum gold medals is US at index 3.\n"
     ]
    }
   ],
   "source": [
    "# Define the data\n",
    "olympic_country = np.array(['GBR', 'Chine', 'RUS', 'US', 'KOR, JPN', 'GER'])\n",
    "olympic_country_gold = np.array([29, 38, 24, 46, 13, 7, 11])\n",
    "\n",
    "# Find the index of the country with the maximum gold medals\n",
    "max_gold_index = np.argmax(olympic_country_gold)\n",
    "\n",
    "# Get the country with the maximum gold medals\n",
    "country_with_max_gold = olympic_country[max_gold_index]\n",
    "\n",
    "print(f\"The country with the maximum gold medals is {country_with_max_gold} at index {max_gold_index}.\")"
   ]
  },
  {
   "cell_type": "markdown",
   "id": "c34c9545",
   "metadata": {},
   "source": [
    "# 2. Country with Max Gold"
   ]
  },
  {
   "cell_type": "code",
   "execution_count": 12,
   "id": "ae197d85",
   "metadata": {},
   "outputs": [
    {
     "name": "stdout",
     "output_type": "stream",
     "text": [
      "Country with the most gold medals: US\n"
     ]
    }
   ],
   "source": [
    "import numpy as np\n",
    "\n",
    "# Assuming you have the data stored in the following arrays\n",
    "olympic_country = np.array(['GBR', 'China', 'RUS', 'US', 'KOR', 'JPN', 'GER'])\n",
    "olympic_country_gold = np.array([29, 38, 24, 46, 13, 7, 11])\n",
    "\n",
    "# Find the index of the country with the max gold medals\n",
    "max_gold_index = np.argmax(olympic_country_gold)\n",
    "\n",
    "# Get the country with the max gold medals\n",
    "country_with_max_gold = olympic_country[max_gold_index]\n",
    "\n",
    "print(\"Country with the most gold medals:\", country_with_max_gold)"
   ]
  },
  {
   "cell_type": "markdown",
   "id": "629127cd",
   "metadata": {},
   "source": [
    "# 3. Find Countries with More than 20 Gold"
   ]
  },
  {
   "cell_type": "code",
   "execution_count": 9,
   "id": "21966e10",
   "metadata": {},
   "outputs": [
    {
     "name": "stdout",
     "output_type": "stream",
     "text": [
      "Countries with more than 20 gold medals: ['GBR' 'China' 'RUS' 'US']\n"
     ]
    }
   ],
   "source": [
    "# Assuming you have the data stored in the following arrays\n",
    "olympic_country = np.array(['GBR', 'China', 'RUS', 'US', 'KOR', 'JPN', 'GER'])\n",
    "olympic_country_gold = np.array([29, 38, 24, 46, 13, 7, 11])\n",
    "\n",
    "# Create a boolean mask for countries with more than 20 gold medals\n",
    "mask = olympic_country_gold > 20\n",
    "\n",
    "# Use the mask to filter the countries\n",
    "countries_with_more_than_20_gold = olympic_country[mask]\n",
    "\n",
    "print(\"Countries with more than 20 gold medals:\", countries_with_more_than_20_gold)"
   ]
  },
  {
   "cell_type": "markdown",
   "id": "7244338c",
   "metadata": {},
   "source": [
    "# 4. Evaluate the dataset and print the medal:\n",
    "\n",
    "1. print each country name with number of gold medals\n",
    "\n",
    "2. print each country nale with total number of medals"
   ]
  },
  {
   "cell_type": "code",
   "execution_count": 10,
   "id": "3faf76cf",
   "metadata": {},
   "outputs": [
    {
     "name": "stdout",
     "output_type": "stream",
     "text": [
      "Country: GBR, Gold Medals: 29, Total Medals: 65\n",
      "Country: China, Gold Medals: 38, Total Medals: 88\n",
      "Country: RUS, Gold Medals: 24, Total Medals: 81\n",
      "Country: US, Gold Medals: 46, Total Medals: 103\n",
      "Country: KOR, Gold Medals: 13, Total Medals: 28\n",
      "Country: JPN, Gold Medals: 7, Total Medals: 38\n",
      "Country: GER, Gold Medals: 11, Total Medals: 36\n"
     ]
    }
   ],
   "source": [
    "import numpy as np\n",
    "\n",
    "# Assuming you have the data stored in the following arrays\n",
    "olympic_country = np.array(['GBR', 'China', 'RUS', 'US', 'KOR', 'JPN', 'GER'])\n",
    "olympic_country_gold = np.array([29, 38, 24, 46, 13, 7, 11])\n",
    "olympic_country_silver = np.array([17, 28, 25, 28, 8, 14, 11])\n",
    "olympic_country_bronze = np.array([19, 22, 32, 29, 7, 17, 14])\n",
    "\n",
    "# Calculate and print each country's name with the number of gold medals and total medals\n",
    "for i in range(len(olympic_country)):\n",
    "    country = olympic_country[i]\n",
    "    gold = olympic_country_gold[i]\n",
    "    silver = olympic_country_silver[i]\n",
    "    bronze = olympic_country_bronze[i]\n",
    "    total_medals = gold + silver + bronze\n",
    "    print(f\"Country: {country}, Gold Medals: {gold}, Total Medals: {total_medals}\")"
   ]
  },
  {
   "cell_type": "code",
   "execution_count": null,
   "id": "11727ef2",
   "metadata": {},
   "outputs": [],
   "source": []
  },
  {
   "cell_type": "markdown",
   "id": "6b1253aa",
   "metadata": {},
   "source": [
    "# 1. Create a 3x3x3 array with random values."
   ]
  },
  {
   "cell_type": "code",
   "execution_count": 13,
   "id": "32914dc2",
   "metadata": {},
   "outputs": [
    {
     "name": "stdout",
     "output_type": "stream",
     "text": [
      "[[[0.48074543 0.66607089 0.03014761]\n",
      "  [0.176452   0.5672356  0.92511377]\n",
      "  [0.50178349 0.23857957 0.18480939]]\n",
      "\n",
      " [[0.15218969 0.75553821 0.01813953]\n",
      "  [0.93500695 0.34183355 0.2518215 ]\n",
      "  [0.84846274 0.68614971 0.51351038]]\n",
      "\n",
      " [[0.1227467  0.23958522 0.36590624]\n",
      "  [0.54068412 0.36466656 0.71488646]\n",
      "  [0.06073988 0.80738589 0.50137612]]]\n"
     ]
    }
   ],
   "source": [
    "import numpy as np\n",
    "random_array = np.random.rand(3, 3, 3)\n",
    "\n",
    "print(random_array)\n"
   ]
  },
  {
   "cell_type": "markdown",
   "id": "abe59214",
   "metadata": {},
   "source": [
    "# 2.Create a 5x5 matrix with values 1,2,3,4 just below the diagonal\n"
   ]
  },
  {
   "cell_type": "code",
   "execution_count": 18,
   "id": "acac58f9",
   "metadata": {},
   "outputs": [
    {
     "name": "stdout",
     "output_type": "stream",
     "text": [
      "[[0. 0. 0. 0. 0.]\n",
      " [1. 0. 0. 0. 0.]\n",
      " [0. 2. 0. 0. 0.]\n",
      " [0. 0. 3. 0. 0.]\n",
      " [0. 0. 0. 4. 0.]]\n"
     ]
    }
   ],
   "source": [
    "import numpy as np\n",
    "\n",
    "# Create a 5x5 matrix filled with zeros\n",
    "matrix = np.zeros((5, 5))\n",
    "\n",
    "# Fill the values 1, 2, 3, 4 just below the diagonal\n",
    "np.fill_diagonal(matrix[1:], [1, 2, 3, 4])\n",
    "\n",
    "print(matrix)\n"
   ]
  },
  {
   "cell_type": "markdown",
   "id": "c1523b10",
   "metadata": {},
   "source": [
    "# 3.Create a 8x8 matrix and fill it with a checkerboard pattern"
   ]
  },
  {
   "cell_type": "code",
   "execution_count": 19,
   "id": "981e6b81",
   "metadata": {},
   "outputs": [
    {
     "name": "stdout",
     "output_type": "stream",
     "text": [
      "[[0 1 0 1 0 1 0 1]\n",
      " [1 0 1 0 1 0 1 0]\n",
      " [0 1 0 1 0 1 0 1]\n",
      " [1 0 1 0 1 0 1 0]\n",
      " [0 1 0 1 0 1 0 1]\n",
      " [1 0 1 0 1 0 1 0]\n",
      " [0 1 0 1 0 1 0 1]\n",
      " [1 0 1 0 1 0 1 0]]\n"
     ]
    }
   ],
   "source": [
    "import numpy as np\n",
    "\n",
    "# Create an 8x8 matrix filled with zeros\n",
    "matrix = np.zeros((8, 8), dtype=int)\n",
    "\n",
    "# Fill the even rows and columns with 1\n",
    "matrix[1::2, ::2] = 1\n",
    "matrix[::2, 1::2] = 1\n",
    "\n",
    "print(matrix)\n"
   ]
  },
  {
   "cell_type": "markdown",
   "id": "c0aaa3d8",
   "metadata": {},
   "source": [
    "# 4. Normalize a 5x5 random matrix"
   ]
  },
  {
   "cell_type": "code",
   "execution_count": 20,
   "id": "66005182",
   "metadata": {},
   "outputs": [
    {
     "name": "stdout",
     "output_type": "stream",
     "text": [
      "Original Matrix:\n",
      "[[0.53362488 0.53950354 0.02819541 0.38043913 0.98093999]\n",
      " [0.32061138 0.90747204 0.97274159 0.5182073  0.36044875]\n",
      " [0.30000999 0.37903112 0.95869751 0.14254207 0.2335364 ]\n",
      " [0.5990552  0.56955616 0.00511614 0.40503824 0.46418739]\n",
      " [0.08622913 0.23004703 0.42775389 0.30234512 0.18948816]]\n",
      "\n",
      "Normalized Matrix:\n",
      "[[ 0.36168759  0.38290071 -1.46215354 -0.19108284  1.9758232 ]\n",
      " [-0.40697116  1.71071424  1.94623927  0.30605329 -0.26321808]\n",
      " [-0.48131121 -0.19616364  1.89556125 -1.04953387 -0.72118104]\n",
      " [ 0.59779276  0.49134554 -1.54543503 -0.10231702  0.11112256]\n",
      " [-1.25273898 -0.7337724  -0.02034766 -0.47288493 -0.88012902]]\n"
     ]
    }
   ],
   "source": [
    "import numpy as np\n",
    "\n",
    "# Create a 5x5 random matrix\n",
    "random_matrix = np.random.rand(5, 5)\n",
    "\n",
    "# Normalize the matrix\n",
    "normalized_matrix = (random_matrix - np.mean(random_matrix)) / np.std(random_matrix)\n",
    "\n",
    "print(\"Original Matrix:\")\n",
    "print(random_matrix)\n",
    "\n",
    "print(\"\\nNormalized Matrix:\")\n",
    "print(normalized_matrix)"
   ]
  },
  {
   "cell_type": "markdown",
   "id": "d7765a14",
   "metadata": {},
   "source": [
    "# 5. How to find common values between two arrays?"
   ]
  },
  {
   "cell_type": "code",
   "execution_count": 21,
   "id": "6285f889",
   "metadata": {},
   "outputs": [
    {
     "name": "stdout",
     "output_type": "stream",
     "text": [
      "[3 4 5]\n"
     ]
    }
   ],
   "source": [
    "import numpy as np\n",
    "\n",
    "# Create two arrays\n",
    "array1 = np.array([1, 2, 3, 4, 5])\n",
    "array2 = np.array([3, 4, 5, 6, 7])\n",
    "\n",
    "# Find common values between the two arrays\n",
    "common_values = np.intersect1d(array1, array2)\n",
    "\n",
    "print(common_values)\n"
   ]
  },
  {
   "cell_type": "markdown",
   "id": "29574045",
   "metadata": {},
   "source": [
    "# 6.How to get the dates of yesterday, today and tomorrow?"
   ]
  },
  {
   "cell_type": "code",
   "execution_count": 24,
   "id": "79b9eb79",
   "metadata": {},
   "outputs": [
    {
     "name": "stdout",
     "output_type": "stream",
     "text": [
      "Yesterday: 20-09-2023\n",
      "Today: 21-09-2023\n",
      "Tomorrow: 22-09-2023\n"
     ]
    }
   ],
   "source": [
    "from datetime import datetime, timedelta\n",
    "\n",
    "# Get today's date\n",
    "today = datetime.now()\n",
    "\n",
    "# Calculate yesterday's date by subtracting one day\n",
    "yesterday = today - timedelta(days=1)\n",
    "\n",
    "# Calculate tomorrow's date by adding one day\n",
    "tomorrow = today + timedelta(days=1)\n",
    "\n",
    "# Format the dates as strings (optional)\n",
    "today_str = today.strftime('%d-%m-%Y')\n",
    "yesterday_str = yesterday.strftime('%d-%m-%Y')\n",
    "tomorrow_str = tomorrow.strftime('%d-%m-%Y')\n",
    "\n",
    "# Print the dates\n",
    "print(\"Yesterday:\", yesterday_str)\n",
    "print(\"Today:\", today_str)\n",
    "print(\"Tomorrow:\", tomorrow_str)\n"
   ]
  },
  {
   "cell_type": "markdown",
   "id": "b4ccba16",
   "metadata": {},
   "source": [
    "# 7. Consider two random array A and B, check if they are equal\n"
   ]
  },
  {
   "cell_type": "code",
   "execution_count": 25,
   "id": "346d3e26",
   "metadata": {},
   "outputs": [
    {
     "name": "stdout",
     "output_type": "stream",
     "text": [
      "Arrays A and B are not equal element-wise.\n"
     ]
    }
   ],
   "source": [
    "import numpy as np\n",
    "\n",
    "# Create two random arrays A and B\n",
    "A = np.random.rand(5, 5)\n",
    "B = np.random.rand(5, 5)\n",
    "\n",
    "# Check if the arrays are equal element-wise\n",
    "elementwise_equal = (A == B).all()\n",
    "\n",
    "if elementwise_equal:\n",
    "    print(\"Arrays A and B are equal element-wise.\")\n",
    "else:\n",
    "    print(\"Arrays A and B are not equal element-wise.\")\n",
    "\n",
    "    "
   ]
  },
  {
   "cell_type": "markdown",
   "id": "18341f31",
   "metadata": {},
   "source": [
    "# 8.Create random vector of size 10 and replace the maximum value by 0"
   ]
  },
  {
   "cell_type": "code",
   "execution_count": 26,
   "id": "a7d3ba6f",
   "metadata": {},
   "outputs": [
    {
     "name": "stdout",
     "output_type": "stream",
     "text": [
      "Original random vector:\n",
      "[0.14161112 0.26793149 0.84470435 0.11377951 0.17506438 0.2507231\n",
      " 0.29822502 0.24004103 0.         0.57650985]\n"
     ]
    }
   ],
   "source": [
    "import numpy as np\n",
    "\n",
    "# Create a random vector of size 10\n",
    "random_vector = np.random.rand(10)\n",
    "\n",
    "# Find the index of the maximum value in the vector\n",
    "max_index = np.argmax(random_vector)\n",
    "\n",
    "# Replace the maximum value with 0\n",
    "random_vector[max_index] = 0\n",
    "\n",
    "print(\"Original random vector:\")\n",
    "print(random_vector)\n"
   ]
  },
  {
   "cell_type": "markdown",
   "id": "f2a896d2",
   "metadata": {},
   "source": [
    "# 9. How to print all the values of an array?\n"
   ]
  },
  {
   "cell_type": "code",
   "execution_count": 28,
   "id": "4d8a6977",
   "metadata": {},
   "outputs": [
    {
     "name": "stdout",
     "output_type": "stream",
     "text": [
      "[[[[6.95310536e-310 0.00000000e+000 0.00000000e+000 0.00000000e+000\n",
      "    0.00000000e+000]\n",
      "   [4.94065646e-324 0.00000000e+000 0.00000000e+000 0.00000000e+000\n",
      "    0.00000000e+000]\n",
      "   [0.00000000e+000 0.00000000e+000 0.00000000e+000 0.00000000e+000\n",
      "    0.00000000e+000]\n",
      "   [0.00000000e+000 0.00000000e+000 6.95310546e-310 0.00000000e+000\n",
      "    0.00000000e+000]]\n",
      "\n",
      "  [[0.00000000e+000 0.00000000e+000 0.00000000e+000 1.42173718e-312\n",
      "    0.00000000e+000]\n",
      "   [0.00000000e+000 0.00000000e+000 0.00000000e+000 0.00000000e+000\n",
      "    0.00000000e+000]\n",
      "   [0.00000000e+000 0.00000000e+000 0.00000000e+000 0.00000000e+000\n",
      "    0.00000000e+000]\n",
      "   [0.00000000e+000 0.00000000e+000 0.00000000e+000 0.00000000e+000\n",
      "    0.00000000e+000]]\n",
      "\n",
      "  [[0.00000000e+000 0.00000000e+000 0.00000000e+000 0.00000000e+000\n",
      "    0.00000000e+000]\n",
      "   [0.00000000e+000 0.00000000e+000 0.00000000e+000 0.00000000e+000\n",
      "    0.00000000e+000]\n",
      "   [0.00000000e+000 0.00000000e+000 0.00000000e+000 0.00000000e+000\n",
      "    0.00000000e+000]\n",
      "   [0.00000000e+000 2.16939877e-317 0.00000000e+000 0.00000000e+000\n",
      "    0.00000000e+000]]]\n",
      "\n",
      "\n",
      " [[[0.00000000e+000 0.00000000e+000 0.00000000e+000 0.00000000e+000\n",
      "    0.00000000e+000]\n",
      "   [0.00000000e+000 0.00000000e+000 0.00000000e+000 0.00000000e+000\n",
      "    0.00000000e+000]\n",
      "   [0.00000000e+000 0.00000000e+000 0.00000000e+000 0.00000000e+000\n",
      "    0.00000000e+000]\n",
      "   [0.00000000e+000 0.00000000e+000 0.00000000e+000 0.00000000e+000\n",
      "    0.00000000e+000]]\n",
      "\n",
      "  [[0.00000000e+000 0.00000000e+000 0.00000000e+000 0.00000000e+000\n",
      "    0.00000000e+000]\n",
      "   [0.00000000e+000 0.00000000e+000 0.00000000e+000 0.00000000e+000\n",
      "    0.00000000e+000]\n",
      "   [0.00000000e+000 0.00000000e+000 0.00000000e+000 0.00000000e+000\n",
      "    0.00000000e+000]\n",
      "   [0.00000000e+000 0.00000000e+000 0.00000000e+000 0.00000000e+000\n",
      "    0.00000000e+000]]\n",
      "\n",
      "  [[0.00000000e+000 0.00000000e+000 0.00000000e+000 0.00000000e+000\n",
      "    0.00000000e+000]\n",
      "   [0.00000000e+000 0.00000000e+000 0.00000000e+000 0.00000000e+000\n",
      "    0.00000000e+000]\n",
      "   [0.00000000e+000 0.00000000e+000 0.00000000e+000 0.00000000e+000\n",
      "    0.00000000e+000]\n",
      "   [0.00000000e+000 0.00000000e+000 4.94065646e-324 0.00000000e+000\n",
      "    0.00000000e+000]]]]\n"
     ]
    }
   ],
   "source": [
    "#List:\n",
    "\n",
    "my_list = [1, 2, 3, 4, 5]\n",
    "a=np.ndarray(my_list)\n",
    "for value in a:\n",
    "    print(value)\n"
   ]
  },
  {
   "cell_type": "code",
   "execution_count": 29,
   "id": "d855ba83",
   "metadata": {},
   "outputs": [
    {
     "name": "stdout",
     "output_type": "stream",
     "text": [
      "1\n",
      "2\n",
      "3\n",
      "4\n",
      "5\n"
     ]
    },
    {
     "data": {
      "text/plain": [
       "[None, None, None, None, None]"
      ]
     },
     "execution_count": 29,
     "metadata": {},
     "output_type": "execute_result"
    }
   ],
   "source": [
    "#Using a list comprehension:\n",
    "\n",
    "my_list = [1, 2, 3, 4, 5]\n",
    "[print(value) for value in my_list]\n"
   ]
  },
  {
   "cell_type": "code",
   "execution_count": 30,
   "id": "219d2d83",
   "metadata": {},
   "outputs": [
    {
     "name": "stdout",
     "output_type": "stream",
     "text": [
      "[1 2 3 4 5]\n"
     ]
    }
   ],
   "source": [
    "#NumPy Array:\n",
    "import numpy as np\n",
    "\n",
    "my_array = np.array([1, 2, 3, 4, 5])\n",
    "print(my_array)\n"
   ]
  },
  {
   "cell_type": "markdown",
   "id": "65002355",
   "metadata": {},
   "source": [
    "# 10.Subtract the mean of each row of a matrix"
   ]
  },
  {
   "cell_type": "code",
   "execution_count": 31,
   "id": "f449828b",
   "metadata": {},
   "outputs": [
    {
     "name": "stdout",
     "output_type": "stream",
     "text": [
      "Original Matrix:\n",
      "[[1 2 3]\n",
      " [4 5 6]\n",
      " [7 8 9]]\n",
      "\n",
      "Matrix with Row Means Subtracted:\n",
      "[[-1.  0.  1.]\n",
      " [-1.  0.  1.]\n",
      " [-1.  0.  1.]]\n"
     ]
    }
   ],
   "source": [
    "import numpy as np\n",
    "\n",
    "# Create a sample matrix (replace this with your own matrix)\n",
    "matrix = np.array([[1, 2, 3],\n",
    "                  [4, 5, 6],\n",
    "                  [7, 8, 9]])\n",
    "\n",
    "# Calculate the mean of each row\n",
    "row_means = np.mean(matrix, axis=1, keepdims=True)\n",
    "\n",
    "# Subtract the row means from the original matrix\n",
    "normalized_matrix = matrix - row_means\n",
    "\n",
    "print(\"Original Matrix:\")\n",
    "print(matrix)\n",
    "\n",
    "print(\"\\nMatrix with Row Means Subtracted:\")\n",
    "print(normalized_matrix)\n"
   ]
  },
  {
   "cell_type": "markdown",
   "id": "6c9281be",
   "metadata": {},
   "source": [
    "# 11.Consider a given vector. How to add one to each element indexed by a second vector(be careful with repeated indices)? Code in Python."
   ]
  },
  {
   "cell_type": "code",
   "execution_count": 32,
   "id": "65b85d28",
   "metadata": {},
   "outputs": [
    {
     "name": "stdout",
     "output_type": "stream",
     "text": [
      "[2 2 4 5 5]\n"
     ]
    }
   ],
   "source": [
    "import numpy as np\n",
    "\n",
    "# Your initial vector\n",
    "initial_vector = np.array([1, 2, 3, 4, 5])\n",
    "\n",
    "# Second vector containing indices\n",
    "indices = np.array([0, 2, 3])\n",
    "\n",
    "# Create a new vector to store the results\n",
    "result_vector = initial_vector.copy()\n",
    "\n",
    "# Add one to each element at the specified indices\n",
    "result_vector[indices] += 1\n",
    "\n",
    "print(result_vector)"
   ]
  },
  {
   "cell_type": "markdown",
   "id": "09d5ac31",
   "metadata": {},
   "source": [
    "# 12. How to get a Diagonal of Dot product?"
   ]
  },
  {
   "cell_type": "code",
   "execution_count": 33,
   "id": "82b1deac",
   "metadata": {},
   "outputs": [
    {
     "name": "stdout",
     "output_type": "stream",
     "text": [
      "[30 69 90]\n"
     ]
    }
   ],
   "source": [
    "import numpy as np\n",
    "\n",
    "# Create two matrices A and B\n",
    "A = np.array([[1, 2, 3],\n",
    "              [4, 5, 6],\n",
    "              [7, 8, 9]])\n",
    "\n",
    "B = np.array([[9, 8, 7],\n",
    "              [6, 5, 4],\n",
    "              [3, 2, 1]])\n",
    "\n",
    "# Calculate the dot product of A and B\n",
    "dot_product = np.dot(A, B)\n",
    "\n",
    "# Get the diagonal elements of the dot product\n",
    "diagonal = np.diagonal(dot_product)\n",
    "\n",
    "print(diagonal)"
   ]
  },
  {
   "cell_type": "markdown",
   "id": "e633d994",
   "metadata": {},
   "source": [
    "# 12.How to get a Diagonal of Dot product ?"
   ]
  },
  {
   "cell_type": "code",
   "execution_count": 34,
   "id": "a149a433",
   "metadata": {},
   "outputs": [
    {
     "name": "stdout",
     "output_type": "stream",
     "text": [
      "[30 69 90]\n"
     ]
    }
   ],
   "source": [
    "import numpy as np\n",
    "\n",
    "# Create two matrices A and B\n",
    "A = np.array([[1, 2, 3],\n",
    "              [4, 5, 6],\n",
    "              [7, 8, 9]])\n",
    "\n",
    "B = np.array([[9, 8, 7],\n",
    "              [6, 5, 4],\n",
    "              [3, 2, 1]])\n",
    "\n",
    "# Calculate the dot product of A and B\n",
    "dot_product = np.dot(A, B)\n",
    "\n",
    "# Get the diagonal elements of the dot product\n",
    "diagonal = np.diagonal(dot_product)\n",
    "\n",
    "print(diagonal)"
   ]
  },
  {
   "cell_type": "markdown",
   "id": "1d93a94b",
   "metadata": {},
   "source": [
    "# 13.How to Find the Most Frequent Value in an Array?"
   ]
  },
  {
   "cell_type": "code",
   "execution_count": 35,
   "id": "25f47ef5",
   "metadata": {},
   "outputs": [
    {
     "name": "stdout",
     "output_type": "stream",
     "text": [
      "The most frequent value is 4 with 4 occurrences.\n"
     ]
    }
   ],
   "source": [
    "import numpy as np\n",
    "\n",
    "# Sample array\n",
    "my_array = np.array([1, 2, 2, 3, 3, 3, 4, 4, 4, 4, 5])\n",
    "\n",
    "# Use the `unique` function to get unique values and their counts\n",
    "unique_values, counts = np.unique(my_array, return_counts=True)\n",
    "\n",
    "# Find the index of the maximum count, which corresponds to the most frequent value\n",
    "most_frequent_index = np.argmax(counts)\n",
    "\n",
    "# Get the most frequent value\n",
    "most_frequent_value = unique_values[most_frequent_index]\n",
    "\n",
    "print(f\"The most frequent value is {most_frequent_value} with {counts[most_frequent_index]} occurrences.\")"
   ]
  },
  {
   "cell_type": "markdown",
   "id": "75efe540",
   "metadata": {},
   "source": [
    "# 14.How to get the n-largest values of an array?"
   ]
  },
  {
   "cell_type": "code",
   "execution_count": 36,
   "id": "4f4e7afb",
   "metadata": {},
   "outputs": [
    {
     "name": "stdout",
     "output_type": "stream",
     "text": [
      "[5 7 8]\n"
     ]
    }
   ],
   "source": [
    "import numpy as np\n",
    "\n",
    "# Create an example array\n",
    "arr = np.array([5, 2, 8, 1, 7, 3])\n",
    "\n",
    "# Set the value of 'n' to get the n-largest values\n",
    "n = 3\n",
    "\n",
    "# Use partition to get the n-largest values\n",
    "n_largest = np.partition(arr, -n)[-n:]\n",
    "\n",
    "print(n_largest)"
   ]
  },
  {
   "cell_type": "markdown",
   "id": "b5f98569",
   "metadata": {},
   "source": [
    "# 15.How to Create a Record Array from a Regular Array?"
   ]
  },
  {
   "cell_type": "code",
   "execution_count": 37,
   "id": "815f5638",
   "metadata": {},
   "outputs": [
    {
     "name": "stdout",
     "output_type": "stream",
     "text": [
      "((1, 'rohan', 25), (2, 'rohit', 30), (3, 'vignesh', 22))\n"
     ]
    }
   ],
   "source": [
    "import numpy as np\n",
    "\n",
    "# Create a regular array with data\n",
    "regular_array = np.array([(1, 'rohan', 25),\n",
    "                           (2, 'rohit', 30),\n",
    "                           (3, 'vignesh', 22)],\n",
    "                          dtype=[('ID', int), ('Name', 'U10'), ('Age', int)])\n",
    "\n",
    "# Create a record array\n",
    "record_array = np.rec.fromarrays(regular_array.T, names=regular_array.dtype.names)\n",
    "\n",
    "# Print the record array\n",
    "print(record_array)"
   ]
  },
  {
   "cell_type": "markdown",
   "id": "ad646c65",
   "metadata": {},
   "source": [
    "# 16.How to swap two rows of an array ?"
   ]
  },
  {
   "cell_type": "code",
   "execution_count": 38,
   "id": "90962c87",
   "metadata": {},
   "outputs": [
    {
     "name": "stdout",
     "output_type": "stream",
     "text": [
      "[[7 8 9]\n",
      " [4 5 6]\n",
      " [1 2 3]]\n"
     ]
    }
   ],
   "source": [
    "import numpy as np\n",
    "\n",
    "# Create a sample 2D NumPy array\n",
    "array = np.array([[1, 2, 3],\n",
    "                  [4, 5, 6],\n",
    "                  [7, 8, 9]])\n",
    "\n",
    "# Swap rows (for example, swapping rows 0 and 2)\n",
    "array[[0, 2]] = array[[2, 0]]\n",
    "\n",
    "# Now, 'array' will have rows 0 and 2 swapped\n",
    "print(array)"
   ]
  },
  {
   "cell_type": "markdown",
   "id": "53ab1ae5",
   "metadata": {},
   "source": [
    "# 17. Write Python code to reshape to the next dimension of numPy array."
   ]
  },
  {
   "cell_type": "code",
   "execution_count": 39,
   "id": "71d58085",
   "metadata": {},
   "outputs": [
    {
     "name": "stdout",
     "output_type": "stream",
     "text": [
      "Original Array:\n",
      "[[1 2]\n",
      " [3 4]\n",
      " [5 6]]\n",
      "\n",
      "Reshaped Array:\n",
      "[[1 2 3]\n",
      " [4 5 6]]\n"
     ]
    }
   ],
   "source": [
    "import numpy as np\n",
    "\n",
    "# Create a NumPy array\n",
    "original_array = np.array([[1, 2], [3, 4], [5, 6]])\n",
    "\n",
    "# Reshape the array to the next dimension\n",
    "reshaped_array = original_array.reshape(-1, original_array.shape[0])\n",
    "\n",
    "# Print the original and reshaped arrays\n",
    "print(\"Original Array:\")\n",
    "print(original_array)\n",
    "\n",
    "print(\"\\nReshaped Array:\")\n",
    "print(reshaped_array)"
   ]
  },
  {
   "cell_type": "code",
   "execution_count": null,
   "id": "31600252",
   "metadata": {},
   "outputs": [],
   "source": []
  }
 ],
 "metadata": {
  "kernelspec": {
   "display_name": "Python 3 (ipykernel)",
   "language": "python",
   "name": "python3"
  },
  "language_info": {
   "codemirror_mode": {
    "name": "ipython",
    "version": 3
   },
   "file_extension": ".py",
   "mimetype": "text/x-python",
   "name": "python",
   "nbconvert_exporter": "python",
   "pygments_lexer": "ipython3",
   "version": "3.11.4"
  }
 },
 "nbformat": 4,
 "nbformat_minor": 5
}
