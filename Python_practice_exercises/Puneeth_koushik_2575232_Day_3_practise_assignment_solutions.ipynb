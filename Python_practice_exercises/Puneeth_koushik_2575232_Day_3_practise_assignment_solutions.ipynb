{
 "cells": [
  {
   "cell_type": "markdown",
   "id": "ec3fd9f3",
   "metadata": {},
   "source": [
    "# 1. Write a python function that copies a reading and writing upto 50 characters at a time\n"
   ]
  },
  {
   "cell_type": "code",
   "execution_count": 64,
   "id": "7affe59f",
   "metadata": {},
   "outputs": [
    {
     "name": "stdout",
     "output_type": "stream",
     "text": [
      "Advances in computing and digital technologies hav\n",
      "e a direct influence on our lives, businesses and \n",
      "social life. This has influenced our daily routine\n",
      "s, such as using mobile devices and active involve\n",
      "ment on social media. AI systems are the most infl\n",
      "uential digital technologies. With AI systems, bus\n",
      "inesses are able to handle large data sets and pro\n",
      "vide speedy essential input to operations. Moreove\n",
      "r, businesses are able to adapt to constant change\n",
      "s and are becoming more flexible. By introducing A\n",
      "rtificial Intelligence systems into devices, new b\n",
      "usiness processes are opting for the automated pro\n",
      "cess. A new paradigm emerges as a result of such i\n",
      "ntelligent automation, which now dictates not only\n",
      " how businesses operate but also who does the job.\n",
      " Many manufacturing sites can now operate fully au\n",
      "tomated with robots and without any human workers.\n",
      " Artificial Intelligence now brings unheard and un\n",
      "expected innovations to the business world that ma\n",
      "ny organizations will need to integrate to remain \n",
      "competitive and move further to lead the competito\n",
      "rs. Artificial Intelligence shapes our lives and s\n",
      "ocial interactions through technological advanceme\n",
      "nt. There are many AI applications which are speci\n",
      "fically developed for providing better services to\n",
      " individuals, such as mobile phones, electronic ga\n",
      "dgets, social media platforms etc. We are delegati\n",
      "ng our activities through intelligent applications\n",
      ", such as personal assistants, intelligent wearabl\n",
      "e devices and other applications. AI systems that \n",
      "operate household apparatus help us at home with c\n",
      "ooking or cleaning.\n",
      "\n",
      "Advances in computing and digital technologies have a direct influence on our lives, businesses and social life. This has influenced our daily routines, such as using mobile devices and active involvement on social media. AI systems are the most influential digital technologies. With AI systems, businesses are able to handle large data sets and provide speedy essential input to operations. Moreover, businesses are able to adapt to constant changes and are becoming more flexible. By introducing Artificial Intelligence systems into devices, new business processes are opting for the automated process. A new paradigm emerges as a result of such intelligent automation, which now dictates not only how businesses operate but also who does the job. Many manufacturing sites can now operate fully automated with robots and without any human workers. Artificial Intelligence now brings unheard and unexpected innovations to the business world that many organizations will need to integrate to remain competitive and move further to lead the competitors. Artificial Intelligence shapes our lives and social interactions through technological advancement. There are many AI applications which are specifically developed for providing better services to individuals, such as mobile phones, electronic gadgets, social media platforms etc. We are delegating our activities through intelligent applications, such as personal assistants, intelligent wearable devices and other applications. AI systems that operate household apparatus help us at home with cooking or cleaning.\n",
      "File 'file1.txt' copied to 'file2.txt' in chunks of 50 characters.\n"
     ]
    }
   ],
   "source": [
    "with open(\"file1.txt\", \"w\") as file1:\n",
    "    file1.write(\"Advances in computing and digital technologies have a direct influence on our lives, businesses and social life. This has influenced our daily routines, such as using mobile devices and active involvement on social media. AI systems are the most influential digital technologies. With AI systems, businesses are able to handle large data sets and provide speedy essential input to operations. Moreover, businesses are able to adapt to constant changes and are becoming more flexible. By introducing Artificial Intelligence systems into devices, new business processes are opting for the automated process. A new paradigm emerges as a result of such intelligent automation, which now dictates not only how businesses operate but also who does the job. Many manufacturing sites can now operate fully automated with robots and without any human workers. Artificial Intelligence now brings unheard and unexpected innovations to the business world that many organizations will need to integrate to remain competitive and move further to lead the competitors. Artificial Intelligence shapes our lives and social interactions through technological advancement. There are many AI applications which are specifically developed for providing better services to individuals, such as mobile phones, electronic gadgets, social media platforms etc. We are delegating our activities through intelligent applications, such as personal assistants, intelligent wearable devices and other applications. AI systems that operate household apparatus help us at home with cooking or cleaning.\")\n",
    "    #file1.write(\"Advances in computing and digital technologies have a direct influence on our lives, businesses and social life. This has influenced our daily routines, such as using mobile devices and active involvement on social media. AI systems are the most influential digital technologies. With AI systems, businesses are able to handle large data sets and provide speedy essential input to operations. Moreover, businesses are able to adapt to constant changes and are becoming more flexible. By introducing Artificial Intelligence systems into devices, new business processes are opting for the automated process. A new paradigm emerges as a result of such intelligent automation, which now dictates not only how businesses operate but also who does the job. Many manufacturing sites can now operate fully automated with robots and without any human workers. Artificial Intelligence now brings unheard and unexpected innovations to the business world that many organizations will need to integrate to remain competitive and move further to lead the competitors.\")\n",
    "\n",
    "with open(\"file2.txt\", \"w\") as file2:\n",
    "    file2.write(\"Advances in computing and digital technologies have a direct influence on our lives, businesses and social life. This has influenced our daily routines, such as using mobile devices and active involvement on social media. AI systems are the most influential digital technologies. With AI systems, businesses are able to handle large data sets and provide speedy essential input to operations. Moreover, businesses are able to adapt to constant changes and are becoming more flexible. By introducing Artificial Intelligence systems into devices, new business processes are opting for the automated process. A new paradigm emerges as a result of such intelligent automation, which now dictates not only how businesses operate but also who does the job. Many manufacturing sites can now operate fully automated with robots and without any human workers. Artificial Intelligence now brings unheard and unexpected innovations to the business world that many organizations will need to integrate to remain competitive and move further to lead the competitors.\")\n",
    "    \n",
    "\n",
    "\n",
    "\n",
    "def copy_file_in_chunks(source_file, destination_file, chunk_size=50):\n",
    "    try:\n",
    "        with open(source_file, 'r') as source:\n",
    "            with open(destination_file, 'w') as destination:\n",
    "                while True:\n",
    "                    chunk = source.read(chunk_size)\n",
    "                    print(chunk)\n",
    "                    if not chunk:\n",
    "                        break\n",
    "                    destination.write(chunk)\n",
    "            with open(destination_file, 'r') as destination:\n",
    "                copied_data = destination.read()\n",
    "                print(copied_data)\n",
    "    except FileNotFoundError:\n",
    "        print(\"File not found.\")\n",
    "    except Exception as e:\n",
    "        print(f\"An error occurred: {e}\")\n",
    "\n",
    "source_file = \"file1.txt\"\n",
    "destination_file = \"file2.txt\"\n",
    "copy_file_in_chunks(source_file, destination_file, chunk_size=50)\n",
    "print(f\"File '{source_file}' copied to '{destination_file}' in chunks of {50} characters.\")\n",
    "\n"
   ]
  },
  {
   "cell_type": "code",
   "execution_count": 67,
   "id": "886427e5",
   "metadata": {},
   "outputs": [],
   "source": [
    "file1.close()"
   ]
  },
  {
   "cell_type": "code",
   "execution_count": 75,
   "id": "e786420a",
   "metadata": {},
   "outputs": [
    {
     "name": "stdout",
     "output_type": "stream",
     "text": [
      "<_io.TextIOWrapper name='file2.txt' mode='r' encoding='cp1252'>\n"
     ]
    }
   ],
   "source": [
    "with open(\"file2.txt\", \"r\") as file2:\n",
    "    print (file2)"
   ]
  },
  {
   "cell_type": "code",
   "execution_count": 76,
   "id": "87177cf4",
   "metadata": {},
   "outputs": [
    {
     "ename": "ValueError",
     "evalue": "I/O operation on closed file.",
     "output_type": "error",
     "traceback": [
      "\u001b[1;31m---------------------------------------------------------------------------\u001b[0m",
      "\u001b[1;31mValueError\u001b[0m                                Traceback (most recent call last)",
      "Cell \u001b[1;32mIn[76], line 1\u001b[0m\n\u001b[1;32m----> 1\u001b[0m file2\u001b[38;5;241m.\u001b[39mread()\n",
      "\u001b[1;31mValueError\u001b[0m: I/O operation on closed file."
     ]
    }
   ],
   "source": [
    "file2.read()"
   ]
  },
  {
   "cell_type": "code",
   "execution_count": 77,
   "id": "f24e078e",
   "metadata": {},
   "outputs": [
    {
     "data": {
      "text/plain": [
       "'Advances in computing and digital technologies have a direct influence on our lives, businesses and social life. This has influenced our daily routines, such as using mobile devices and active involvement on social media. AI systems are the most influential digital technologies. With AI systems, businesses are able to handle large data sets and provide speedy essential input to operations. Moreover, businesses are able to adapt to constant changes and are becoming more flexible. By introducing Artificial Intelligence systems into devices, new business processes are opting for the automated process. A new paradigm emerges as a result of such intelligent automation, which now dictates not only how businesses operate but also who does the job. Many manufacturing sites can now operate fully automated with robots and without any human workers. Artificial Intelligence now brings unheard and unexpected innovations to the business world that many organizations will need to integrate to remain competitive and move further to lead the competitors. Artificial Intelligence shapes our lives and social interactions through technological advancement. There are many AI applications which are specifically developed for providing better services to individuals, such as mobile phones, electronic gadgets, social media platforms etc. We are delegating our activities through intelligent applications, such as personal assistants, intelligent wearable devices and other applications. AI systems that operate household apparatus help us at home with cooking or cleaning.'"
      ]
     },
     "execution_count": 77,
     "metadata": {},
     "output_type": "execute_result"
    }
   ],
   "source": [
    "file_path=open('file2.txt' , 'r')\n",
    "file_path.read()"
   ]
  },
  {
   "cell_type": "code",
   "execution_count": null,
   "id": "6c49bd59",
   "metadata": {},
   "outputs": [],
   "source": []
  },
  {
   "cell_type": "markdown",
   "id": "eb49a654",
   "metadata": {},
   "source": [
    "# 2. print all numbers present in the text file and print the number of blank spaces in the same file\n",
    "\n"
   ]
  },
  {
   "cell_type": "code",
   "execution_count": 99,
   "id": "09891ea8",
   "metadata": {},
   "outputs": [
    {
     "name": "stdout",
     "output_type": "stream",
     "text": [
      "Number of blank spaces in the file: 226\n"
     ]
    }
   ],
   "source": [
    "def extract_numbers_and_count_spaces(file_path):\n",
    "    space_count = 0\n",
    "    with open('file2.txt', 'r') as file:\n",
    "        for line in file:\n",
    "            # Split each line into words\n",
    "            words = line.split()\n",
    "            space_count += sum(1 for char in line if char.isspace())\n",
    "            print(\"Number of blank spaces in the file:\", space_count)\n",
    "\n",
    "extract_numbers_and_count_spaces('file2.txt')\n"
   ]
  },
  {
   "cell_type": "markdown",
   "id": "ffadf1d2",
   "metadata": {},
   "source": [
    "# 3. Write a function called sed that takes as arguments a pattern string, a replacement string, and two filenames; it should read the first file and write the contents into the second file (creating it if necessary). If the pattern string appears anywhere in the file, it should be replaced with the replacement string. If an error occurs while opening, reading, writing, or closing files, your program should catch the exception, print an error message, and exit.\n"
   ]
  },
  {
   "cell_type": "code",
   "execution_count": null,
   "id": "9b4da4db",
   "metadata": {},
   "outputs": [],
   "source": []
  },
  {
   "cell_type": "code",
   "execution_count": 106,
   "id": "a119087d",
   "metadata": {},
   "outputs": [
    {
     "name": "stdout",
     "output_type": "stream",
     "text": [
      "Pattern 'AI' replaced with '%%%changed%%%%' in 'file1.txt' and saved to 'file2.txt'.\n",
      "Advances in computing and digital technologies have a direct influence on our lives, businesses and social life. This has influenced our daily routines, such as using mobile devices and active involvement on social media. %%%changed%%%% systems are the most influential digital technologies. With %%%changed%%%% systems, businesses are able to handle large data sets and provide speedy essential input to operations. Moreover, businesses are able to adapt to constant changes and are becoming more flexible. By introducing Artificial Intelligence systems into devices, new business processes are opting for the automated process. A new paradigm emerges as a result of such intelligent automation, which now dictates not only how businesses operate but also who does the job. Many manufacturing sites can now operate fully automated with robots and without any human workers. Artificial Intelligence now brings unheard and unexpected innovations to the business world that many organizations will need to integrate to remain competitive and move further to lead the competitors. Artificial Intelligence shapes our lives and social interactions through technological advancement. There are many %%%changed%%%% applications which are specifically developed for providing better services to individuals, such as mobile phones, electronic gadgets, social media platforms etc. We are delegating our activities through intelligent applications, such as personal assistants, intelligent wearable devices and other applications. %%%changed%%%% systems that operate household apparatus help us at home with cooking or cleaning.\n"
     ]
    }
   ],
   "source": [
    "def sed(pattern, replacement, input_file, output_file):\n",
    "    try:\n",
    "        with open(input_file, 'r') as file:\n",
    "            input_content = file.read()\n",
    "        modified_content = input_content.replace(pattern, replacement)\n",
    "\n",
    "        with open(output_file, 'w') as file:\n",
    "            file.write(modified_content)\n",
    "    \n",
    "    except FileNotFoundError:\n",
    "        print(f\"Error: One or both of the files '{input_file}' or '{output_file}' not found.\")\n",
    "    except Exception as e:\n",
    "        print(f\"An error occurred: {e}\")\n",
    "pattern = \"AI\"\n",
    "replacement = \"%%%changed%%%%\"\n",
    "input_file = \"file1.txt\"\n",
    "output_file = \"file2.txt\"\n",
    "\n",
    "sed(pattern, replacement, input_file, output_file)\n",
    "\n",
    "print(f\"Pattern '{pattern}' replaced with '{replacement}' in '{input_file}' and saved to '{output_file}'.\")\n",
    "with open(output_file, 'r') as file:\n",
    "    file2_content = file.read()\n",
    "    print(file2_content)\n"
   ]
  },
  {
   "cell_type": "markdown",
   "id": "3318a850",
   "metadata": {},
   "source": [
    "# 5. Text File Search and Replace: You have a text file with a large amount of text, and you want to search for specific words or phrases and replace them with new content.\n",
    "\n",
    "a. Write Python code to search for and replace text within a text file.\n",
    "\n"
   ]
  },
  {
   "cell_type": "code",
   "execution_count": 117,
   "id": "02b08eda",
   "metadata": {},
   "outputs": [
    {
     "name": "stdout",
     "output_type": "stream",
     "text": [
      "Search term 'AI' replaced with '%%%%%% AI %%%%%' in 'file1.txt' and saved to 'file2.txt'.\n",
      "$$$$$$$$$$$$$$$$$$$$$$$$$$$$$$$$$$$$$$$$$$$$$$$$$$$$$$$$$$$$$$$$$$$$$$$$$$$$$$$$$$$$$$$$$$$$$$$$$$$$\n",
      "Advances in computing and digital technologies have a direct influence on our lives, businesses and social life. This has influenced our daily routines, such as using mobile devices and active involvement on social media. AI systems are the most influential digital technologies. With AI systems, businesses are able to handle large data sets and provide speedy essential input to operations. Moreover, businesses are able to adapt to constant changes and are becoming more flexible. By introducing Artificial Intelligence systems into devices, new business processes are opting for the automated process. A new paradigm emerges as a result of such intelligent automation, which now dictates not only how businesses operate but also who does the job. Many manufacturing sites can now operate fully automated with robots and without any human workers. Artificial Intelligence now brings unheard and unexpected innovations to the business world that many organizations will need to integrate to remain competitive and move further to lead the competitors. Artificial Intelligence shapes our lives and social interactions through technological advancement. There are many AI applications which are specifically developed for providing better services to individuals, such as mobile phones, electronic gadgets, social media platforms etc. We are delegating our activities through intelligent applications, such as personal assistants, intelligent wearable devices and other applications. AI systems that operate household apparatus help us at home with cooking or cleaning.\n",
      "----------------------------------------------------------------------------------------------------\n",
      "********************************************************************************\n",
      "Advances in computing and digital technologies have a direct influence on our lives, businesses and social life. This has influenced our daily routines, such as using mobile devices and active involvement on social media. %%%%%% AI %%%%% systems are the most influential digital technologies. With %%%%%% AI %%%%% systems, businesses are able to handle large data sets and provide speedy essential input to operations. Moreover, businesses are able to adapt to constant changes and are becoming more flexible. By introducing Artificial Intelligence systems into devices, new business processes are opting for the automated process. A new paradigm emerges as a result of such intelligent automation, which now dictates not only how businesses operate but also who does the job. Many manufacturing sites can now operate fully automated with robots and without any human workers. Artificial Intelligence now brings unheard and unexpected innovations to the business world that many organizations will need to integrate to remain competitive and move further to lead the competitors. Artificial Intelligence shapes our lives and social interactions through technological advancement. There are many %%%%%% AI %%%%% applications which are specifically developed for providing better services to individuals, such as mobile phones, electronic gadgets, social media platforms etc. We are delegating our activities through intelligent applications, such as personal assistants, intelligent wearable devices and other applications. %%%%%% AI %%%%% systems that operate household apparatus help us at home with cooking or cleaning.\n"
     ]
    }
   ],
   "source": [
    "def search_replace_in_file(input_file, output_file, search_term, replacement):\n",
    "    try:\n",
    "        with open(input_file, 'r') as file:\n",
    "            content = file.read()\n",
    "\n",
    "        # Perform the search and replace\n",
    "        modified_content = content.replace(search_term, replacement)\n",
    "\n",
    "        with open(output_file, 'w') as file:\n",
    "            file.write(modified_content)\n",
    "    \n",
    "    except FileNotFoundError:\n",
    "        print(f\"Error: File '{input_file}' not found.\")\n",
    "    except Exception as e:\n",
    "        print(f\"An error occurred: {e}\")\n",
    "\n",
    "input_file = \"file1.txt\" \n",
    "output_file = \"file2.txt\" \n",
    "search_term = \"AI\"\n",
    "replacement = \"%%%%%% AI %%%%%\"\n",
    "\n",
    "search_replace_in_file(input_file, output_file, search_term, replacement)\n",
    "print(f\"Search term '{search_term}' replaced with '{replacement}' in '{input_file}' and saved to '{output_file}'.\")\n",
    "print('$'*100)\n",
    "with open(input_file, 'r') as file:\n",
    "    file1_content = file.read()\n",
    "    print(file1_content)\n",
    "    print('-'*100)\n",
    "    print('*'*80)\n",
    "    \n",
    "with open(output_file, 'r') as file:\n",
    "    file2_content = file.read()\n",
    "    print(file2_content)\n"
   ]
  },
  {
   "cell_type": "code",
   "execution_count": null,
   "id": "79313ed6",
   "metadata": {},
   "outputs": [],
   "source": []
  },
  {
   "cell_type": "code",
   "execution_count": 123,
   "id": "9fe5f6bc",
   "metadata": {},
   "outputs": [
    {
     "name": "stdout",
     "output_type": "stream",
     "text": [
      "Number of unique users: 0\n",
      "An error occurred: list index out of range\n"
     ]
    }
   ],
   "source": [
    "from collections import Counter\n",
    "\n",
    "def analyze_log(log_file_path):\n",
    "    unique_users = set()\n",
    "    action_counter = Counter()\n",
    "\n",
    "    try:\n",
    "        with open(log_file_path, 'r') as log_file:\n",
    "            for line in log_file:\n",
    "                # Split the log entry into parts based on a common separator, e.g., ':'\n",
    "                parts = line.strip().split(': ')\n",
    "                if len(parts) == 2:\n",
    "                    key, value = parts[0], parts[1]\n",
    "                    if key == 'User ID':\n",
    "                        unique_users.add(value)\n",
    "                    elif key == 'User Action':\n",
    "                        action_counter[value] += 1\n",
    "\n",
    "        # Number of unique users\n",
    "        print(f\"Number of unique users: {len(unique_users)}\")\n",
    "\n",
    "        # Most common action\n",
    "        most_common_action, action_count = action_counter.most_common(1)[0]\n",
    "        print(f\"Most common action: {most_common_action} ({action_count} times)\")\n",
    "\n",
    "    except FileNotFoundError:\n",
    "        print(f\"Error: File '{log_file_path}' not found.\")\n",
    "    except Exception as e:\n",
    "        print(f\"An error occurred: {e}\")\n",
    "\n",
    "# Example usage with your log file\n",
    "log_file_path = \"new.log\"  # Replace with the path to your log file\n",
    "analyze_log(log_file_path)\n"
   ]
  },
  {
   "cell_type": "code",
   "execution_count": null,
   "id": "f4506a89",
   "metadata": {},
   "outputs": [],
   "source": []
  },
  {
   "cell_type": "code",
   "execution_count": null,
   "id": "92dbebec",
   "metadata": {},
   "outputs": [],
   "source": []
  },
  {
   "cell_type": "code",
   "execution_count": null,
   "id": "bc4ee9fd",
   "metadata": {},
   "outputs": [],
   "source": []
  },
  {
   "cell_type": "code",
   "execution_count": 130,
   "id": "a3619067",
   "metadata": {},
   "outputs": [
    {
     "name": "stdout",
     "output_type": "stream",
     "text": [
      "An error occurred: 'charmap' codec can't decode byte 0x90 in position 368: character maps to <undefined>\n"
     ]
    }
   ],
   "source": [
    "\n",
    "def extract_user_ids(log_file_path):\n",
    "    user_ids = []\n",
    "\n",
    "    try:\n",
    "        with open(log_file_path, 'r') as log_file:\n",
    "            current_user_id = None\n",
    "            for line in log_file:\n",
    "                parts = line.strip().split()\n",
    "                if len(parts) == 2 and parts[0] == 'User' and parts[1] == 'ID':\n",
    "                    current_user_id = parts[2]\n",
    "                elif current_user_id:\n",
    "                    user_ids.append(current_user_id)\n",
    "                    current_user_id = None\n",
    "\n",
    "        if user_ids:\n",
    "            print(\"User IDs extracted from the log file:\")\n",
    "            for user_id in user_ids:\n",
    "                print(user_id)\n",
    "        else:\n",
    "            print(\"No User IDs found in the log file.\")\n",
    "\n",
    "    except FileNotFoundError:\n",
    "        print(f\"Error: File '{log_file_path}' not found.\")\n",
    "    except Exception as e:\n",
    "        print(f\"An error occurred: {e}\")\n",
    "\n",
    "# Example usage with your log file\n",
    "log_file_path = \"SampleAgentLoginLogoutReport.pdf\"  # Replace with the path to your log file\n",
    "extract_user_ids(log_file_path)\n"
   ]
  },
  {
   "cell_type": "code",
   "execution_count": null,
   "id": "950b83a9",
   "metadata": {},
   "outputs": [],
   "source": []
  },
  {
   "cell_type": "markdown",
   "id": "461ef5a5",
   "metadata": {},
   "source": [
    "# 6. Write a Python script that concatenates the contents of multiple text files into a single output file. Allow the user to specify the input files and the output file."
   ]
  },
  {
   "cell_type": "code",
   "execution_count": 119,
   "id": "fa3bd92f",
   "metadata": {},
   "outputs": [
    {
     "name": "stdout",
     "output_type": "stream",
     "text": [
      "Concatenated 2 files into 'output.txt'.\n",
      "----------------------------------------------------------------------------------------------------\n",
      "Advances in computing and digital technologies have a direct influence on our lives, businesses and social life. This has influenced our daily routines, such as using mobile devices and active involvement on social media. AI systems are the most influential digital technologies. With AI systems, businesses are able to handle large data sets and provide speedy essential input to operations. Moreover, businesses are able to adapt to constant changes and are becoming more flexible. By introducing Artificial Intelligence systems into devices, new business processes are opting for the automated process. A new paradigm emerges as a result of such intelligent automation, which now dictates not only how businesses operate but also who does the job. Many manufacturing sites can now operate fully automated with robots and without any human workers. Artificial Intelligence now brings unheard and unexpected innovations to the business world that many organizations will need to integrate to remain competitive and move further to lead the competitors. Artificial Intelligence shapes our lives and social interactions through technological advancement. There are many AI applications which are specifically developed for providing better services to individuals, such as mobile phones, electronic gadgets, social media platforms etc. We are delegating our activities through intelligent applications, such as personal assistants, intelligent wearable devices and other applications. AI systems that operate household apparatus help us at home with cooking or cleaning.Advances in computing and digital technologies have a direct influence on our lives, businesses and social life. This has influenced our daily routines, such as using mobile devices and active involvement on social media. %%%%%% AI %%%%% systems are the most influential digital technologies. With %%%%%% AI %%%%% systems, businesses are able to handle large data sets and provide speedy essential input to operations. Moreover, businesses are able to adapt to constant changes and are becoming more flexible. By introducing Artificial Intelligence systems into devices, new business processes are opting for the automated process. A new paradigm emerges as a result of such intelligent automation, which now dictates not only how businesses operate but also who does the job. Many manufacturing sites can now operate fully automated with robots and without any human workers. Artificial Intelligence now brings unheard and unexpected innovations to the business world that many organizations will need to integrate to remain competitive and move further to lead the competitors. Artificial Intelligence shapes our lives and social interactions through technological advancement. There are many %%%%%% AI %%%%% applications which are specifically developed for providing better services to individuals, such as mobile phones, electronic gadgets, social media platforms etc. We are delegating our activities through intelligent applications, such as personal assistants, intelligent wearable devices and other applications. %%%%%% AI %%%%% systems that operate household apparatus help us at home with cooking or cleaning.\n"
     ]
    }
   ],
   "source": [
    "def concatenate_files(input_files, output_file):\n",
    "    try:\n",
    "        with open(output_file, 'w') as output:\n",
    "            for input_file in input_files:\n",
    "                with open(input_file, 'r') as file:\n",
    "                    content = file.read()\n",
    "                    output.write(content)\n",
    "\n",
    "        print(f\"Concatenated {len(input_files)} files into '{output_file}'.\")\n",
    "        print('-'*100)\n",
    "\n",
    "    except FileNotFoundError as e:\n",
    "        print(f\"Error: {e}\")\n",
    "\n",
    "input_files = [\"file1.txt\", \"file2.txt\"]  # Replace with your input file paths\n",
    "output_file = \"output.txt\"  # Replace with your desired output file path\n",
    "\n",
    "concatenate_files(input_files, output_file)\n",
    "\n",
    "with open(output_file, 'r') as file:\n",
    "    file2_content = file.read()\n",
    "    print(file2_content)\n"
   ]
  },
  {
   "cell_type": "code",
   "execution_count": null,
   "id": "80cbf68f",
   "metadata": {},
   "outputs": [],
   "source": []
  },
  {
   "cell_type": "markdown",
   "id": "39d6afb0",
   "metadata": {},
   "source": [
    "# 7.You are given a text file named input.txt containing a list of words, one word per line. Your task is to create a Python program that reads the contents of input.txt, processes the words, and writes the result to an output file named output.txt.\n",
    "\n",
    "a. The program should perform the following operations:\n",
    "\n",
    "i. Read the words from input.txt.\n",
    "\n",
    "ii. For each word in the input file, calculate the length of the word and store it in a dictionary where the word is the key, and the length is the value.\n",
    "\n",
    "iii. Write the word-length dictionary to output.txt in the following format:\n",
    "\n",
    "Word 1 : Length 1\n",
    "Word 2 : Length 2\n",
    "...\n",
    "\n",
    "Iv)Close both input and output files properly.\n",
    "\n",
    "v) Write Python code to accomplish this task. Ensure proper error handling for file operations.\n",
    "\n",
    "Sample Input(\"input.txt')\n",
    " apple \n",
    "Banana\n",
    "Cherry \n",
    "Date \n",
    "\n",
    "Sample output ( 'output.txt') \n",
    " Apple : 5 \n",
    "banana : 6\n",
    "Cherry : 6\n",
    "date : 4"
   ]
  },
  {
   "cell_type": "code",
   "execution_count": 132,
   "id": "33491912",
   "metadata": {},
   "outputs": [],
   "source": [
    "with open('input.txt', 'w') as file:\n",
    "    file.write(\"Apple.\\n\")\n",
    "    file.write(\"Box.\\n\")\n",
    "    file.write(\"Cat\\n\")\n",
    "    file.write(\"Dog\\n\")\n",
    "\n",
    "with open('output.txt', 'w') as file:\n",
    "    pass  "
   ]
  },
  {
   "cell_type": "code",
   "execution_count": 134,
   "id": "89616b40",
   "metadata": {},
   "outputs": [
    {
     "name": "stdout",
     "output_type": "stream",
     "text": [
      "Processing completed. Check 'output1.txt' for results.\n",
      "Apple.: 6\n",
      "Box.: 4\n",
      "Cat: 3\n",
      "Dog: 3\n",
      "\n"
     ]
    }
   ],
   "source": [
    "input_file_name = 'input.txt'\n",
    "output_file_name = 'output1.txt'\n",
    "\n",
    "try:\n",
    "    with open(input_file_name, 'r') as input_file:\n",
    "        word_length_dict = {} \n",
    "\n",
    "        for line in input_file:\n",
    "            word = line.strip()  \n",
    "            length = len(word)   \n",
    "            \n",
    "            word_length_dict[word] = length\n",
    "            \n",
    "    with open(output_file_name, 'w') as output_file:\n",
    "        for word, length in word_length_dict.items():\n",
    "            output_file.write(f\"{word}: {length}\\n\")\n",
    "\n",
    "    print(\"Processing completed. Check 'output1.txt' for results.\")\n",
    "\n",
    "except FileNotFoundError:\n",
    "    print(f\"Error: {input_file_name} not found.\")\n",
    "except Exception as e:\n",
    "    print(f\"An error occurred: {str(e)}\")\n",
    "    \n",
    "with open(output_file_name, 'r') as file:\n",
    "    file2_content = file.read()\n",
    "    print(file2_content)"
   ]
  },
  {
   "cell_type": "code",
   "execution_count": null,
   "id": "dd36ca8d",
   "metadata": {},
   "outputs": [],
   "source": []
  },
  {
   "cell_type": "markdown",
   "id": "e5cf7d19",
   "metadata": {},
   "source": [
    "# 8. Assume that you are developing a student gradebook system for a school. The system should allow teachers to input student grades for various subjects, store the data in files, and provide students with the ability to view their grades.\n",
    "\n",
    "Design a Python program that accomplishes the following tasks:\n",
    "\n",
    "i. Teachers should be able to input grades for students in different subjects.\n",
    "\n",
    "ii. Store the student grade data in separate text files for each subject.\n",
    "\n",
    "iii. Students should be able to view their grades for each subject.\n",
    "\n",
    "iv. Implement error handling for file operations, such as file not found or permission issues."
   ]
  },
  {
   "cell_type": "code",
   "execution_count": null,
   "id": "4a66c81c",
   "metadata": {},
   "outputs": [],
   "source": []
  },
  {
   "cell_type": "code",
   "execution_count": 121,
   "id": "eacae36a",
   "metadata": {},
   "outputs": [
    {
     "name": "stdout",
     "output_type": "stream",
     "text": [
      "\n",
      "Student Gradebook System\n",
      "1. Input Grades\n",
      "2. View Grades\n",
      "3. Quit\n",
      "Select an option (1/2/3): 1\n",
      "Enter the subject name: science\n",
      "Enter the number of students: 3\n",
      "Enter student 1 name: puneeth\n",
      "Enter their grade: 80\n",
      "Enter student 2 name: rohan\n",
      "Enter their grade: 78\n",
      "Enter student 3 name: rohit\n",
      "Enter their grade: 90\n",
      "Grades for science stored successfully.\n",
      "\n",
      "Student Gradebook System\n",
      "1. Input Grades\n",
      "2. View Grades\n",
      "3. Quit\n",
      "Select an option (1/2/3): 2\n",
      "Enter the subject name to view grades: rohit\n",
      "Grades for rohit not found.\n",
      "\n",
      "Student Gradebook System\n",
      "1. Input Grades\n",
      "2. View Grades\n",
      "3. Quit\n",
      "Select an option (1/2/3): 2\n",
      "Enter the subject name to view grades: science\n",
      "Grades for science:\n",
      "puneeth: 80\n",
      "rohan: 78\n",
      "rohit: 90\n",
      "\n",
      "\n",
      "Student Gradebook System\n",
      "1. Input Grades\n",
      "2. View Grades\n",
      "3. Quit\n",
      "Select an option (1/2/3): 3\n",
      "Exiting the program.\n"
     ]
    }
   ],
   "source": [
    "import os\n",
    "\n",
    "def input_grades(subject, grades):\n",
    "    try:\n",
    "        with open(f\"{subject}.txt\", 'a') as file:\n",
    "            for student, grade in grades.items():\n",
    "                file.write(f\"{student}: {grade}\\n\")\n",
    "        print(f\"Grades for {subject} stored successfully.\")\n",
    "    except Exception as e:\n",
    "        print(f\"Error: {e}\")\n",
    "\n",
    "def view_grades(subject):\n",
    "    try:\n",
    "        with open(f\"{subject}.txt\", 'r') as file:\n",
    "            grades = file.read()\n",
    "            print(f\"Grades for {subject}:\\n{grades}\")\n",
    "    except FileNotFoundError:\n",
    "        print(f\"Grades for {subject} not found.\")\n",
    "    except Exception as e:\n",
    "        print(f\"Error: {e}\")\n",
    "\n",
    "while True:\n",
    "    print(\"\\nStudent Gradebook System\")\n",
    "    print(\"1. Input Grades\")\n",
    "    print(\"2. View Grades\")\n",
    "    print(\"3. Quit\")\n",
    "    choice = input(\"Select an option (1/2/3): \")\n",
    "\n",
    "    if choice == '1':\n",
    "        subject = input(\"Enter the subject name: \")\n",
    "        num_students = int(input(\"Enter the number of students: \"))\n",
    "        grades = {input(f\"Enter student {i + 1} name: \"): input(f\"Enter their grade: \") for i in range(num_students)}\n",
    "        input_grades(subject, grades)\n",
    "    elif choice == '2':\n",
    "        subject = input(\"Enter the subject name to view grades: \")\n",
    "        view_grades(subject)\n",
    "    elif choice == '3':\n",
    "        print(\"Exiting the program.\")\n",
    "        break\n",
    "    else:\n",
    "        print(\"Invalid choice. Please select a valid option (1/2/3).\")\n"
   ]
  },
  {
   "cell_type": "code",
   "execution_count": null,
   "id": "f4154745",
   "metadata": {},
   "outputs": [],
   "source": []
  },
  {
   "cell_type": "code",
   "execution_count": 108,
   "id": "58021215",
   "metadata": {},
   "outputs": [
    {
     "name": "stdout",
     "output_type": "stream",
     "text": [
      "Number of unique users: 0\n",
      "An error occurred: list index out of range\n"
     ]
    }
   ],
   "source": [
    "from collections import Counter\n",
    "\n",
    "def analyze_log(log_file_path):\n",
    "    unique_users = set()\n",
    "    action_counter = Counter()\n",
    "\n",
    "    try:\n",
    "        with open(log_file_path, 'r') as log_file:\n",
    "            for line in log_file:\n",
    "                parts = line.strip().split(',')\n",
    "                if len(parts) >= 3:\n",
    "                    timestamp, user_id, action = parts[:3]\n",
    "                    unique_users.add(user_id)\n",
    "                    action_counter[action] += 1\n",
    "\n",
    "        # Number of unique users\n",
    "        print(f\"Number of unique users: {len(unique_users)}\")\n",
    "\n",
    "        # Most common action\n",
    "        most_common_action, action_count = action_counter.most_common(1)[0]\n",
    "        print(f\"Most common action: {most_common_action} ({action_count} times)\")\n",
    "\n",
    "    except FileNotFoundError:\n",
    "        print(\"Log file not found.\")\n",
    "    except Exception as e:\n",
    "        print(f\"An error occurred: {e}\")\n",
    "\n",
    "# Example usage:\n",
    "log_file_path = \"Apache_2k.\"  # Replace with the path to your log file\n",
    "analyze_log(log_file_path)\n"
   ]
  },
  {
   "cell_type": "code",
   "execution_count": null,
   "id": "e5078767",
   "metadata": {},
   "outputs": [],
   "source": []
  },
  {
   "cell_type": "code",
   "execution_count": null,
   "id": "d9cc86a6",
   "metadata": {},
   "outputs": [],
   "source": []
  },
  {
   "cell_type": "code",
   "execution_count": null,
   "id": "3f10f894",
   "metadata": {},
   "outputs": [],
   "source": []
  },
  {
   "cell_type": "code",
   "execution_count": null,
   "id": "8d7fe66d",
   "metadata": {},
   "outputs": [],
   "source": []
  },
  {
   "cell_type": "code",
   "execution_count": null,
   "id": "05a858fb",
   "metadata": {},
   "outputs": [],
   "source": []
  },
  {
   "cell_type": "code",
   "execution_count": 41,
   "id": "70927e1a",
   "metadata": {},
   "outputs": [
    {
     "name": "stdout",
     "output_type": "stream",
     "text": [
      "[['Name', 'Age', 'City'], ['Puneeth', 23, 'blr'], ['rohan', 25, 'bgm'], ['vicky', 45, 'delhi']]\n",
      "[{'Name': 'Puneeth', 'Age': '23', 'City': 'blr'}, {'Name': 'rohan', 'Age': '25', 'City': 'bgm'}, {'Name': 'vicky', 'Age': '45', 'City': 'delhi'}]\n",
      "[\n",
      "    {\n",
      "        \"Name\": \"Puneeth\",\n",
      "        \"Age\": \"23\",\n",
      "        \"City\": \"blr\"\n",
      "    },\n",
      "    {\n",
      "        \"Name\": \"rohan\",\n",
      "        \"Age\": \"25\",\n",
      "        \"City\": \"bgm\"\n",
      "    },\n",
      "    {\n",
      "        \"Name\": \"vicky\",\n",
      "        \"Age\": \"45\",\n",
      "        \"City\": \"delhi\"\n",
      "    }\n",
      "]\n"
     ]
    }
   ],
   "source": [
    "import csv\n",
    "import json\n",
    "\n",
    "csv_data = [\n",
    "    [\"Name\", \"Age\", \"City\"],\n",
    "    [\"Puneeth\", 23, \"blr\"],\n",
    "    [\"rohan\", 25, \"bgm\"],\n",
    "    [\"vicky\", 45, \"delhi\"]\n",
    "]\n",
    "print(csv_data)\n",
    "\n",
    "with open(\"dempo.csv\", mode=\"w\", newline=\"\") as csv_file:\n",
    "    csv_writer = csv.writer(csv_file)\n",
    "    \n",
    "    csv_writer.writerows(csv_data)\n",
    "    \n",
    "csv_data = []\n",
    "with open(\"dempo.csv\", mode=\"r\") as csv_file:\n",
    "    csv_reader = csv.DictReader(csv_file)\n",
    "    for row in csv_reader:\n",
    "        csv_data.append(row)\n",
    "        \n",
    "print(csv_data)\n",
    "\n",
    "json_data = json.dumps(csv_data, indent=4)\n",
    "\n",
    "with open(\"dempo.json\", mode=\"w\") as json_file:\n",
    "    json_file.write(json_data)\n",
    "    print(json_data)\n"
   ]
  },
  {
   "cell_type": "code",
   "execution_count": null,
   "id": "fe58c7c3",
   "metadata": {},
   "outputs": [],
   "source": []
  }
 ],
 "metadata": {
  "kernelspec": {
   "display_name": "Python 3 (ipykernel)",
   "language": "python",
   "name": "python3"
  },
  "language_info": {
   "codemirror_mode": {
    "name": "ipython",
    "version": 3
   },
   "file_extension": ".py",
   "mimetype": "text/x-python",
   "name": "python",
   "nbconvert_exporter": "python",
   "pygments_lexer": "ipython3",
   "version": "3.11.4"
  }
 },
 "nbformat": 4,
 "nbformat_minor": 5
}
