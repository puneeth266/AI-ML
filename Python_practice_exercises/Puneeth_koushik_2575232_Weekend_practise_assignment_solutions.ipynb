{
 "cells": [
  {
   "cell_type": "code",
   "execution_count": null,
   "id": "2d6e83a0",
   "metadata": {},
   "outputs": [],
   "source": []
  },
  {
   "cell_type": "markdown",
   "id": "2e1c925b",
   "metadata": {},
   "source": [
    "# 2. Create a Python function that checks if two given strings are anagrams of each other."
   ]
  },
  {
   "cell_type": "code",
   "execution_count": 2,
   "id": "1dca4bc4",
   "metadata": {},
   "outputs": [
    {
     "name": "stdout",
     "output_type": "stream",
     "text": [
      "Enter the first string: nitin\n",
      "Enter the second string: nitin\n",
      "'nitin' and 'nitin' are anagrams.\n"
     ]
    }
   ],
   "source": [
    "def are_anagrams(str1, str2):\n",
    "    str1 = str1.replace(\" \", \"\").lower()\n",
    "    str2 = str2.replace(\" \", \"\").lower()\n",
    "    return sorted(str1) == sorted(str2)\n",
    "\n",
    "string1 = input(\"Enter the first string: \")\n",
    "string2 = input(\"Enter the second string: \")\n",
    "\n",
    "result = are_anagrams(string1, string2)\n",
    "\n",
    "if result:\n",
    "    print(f\"'{string1}' and '{string2}' are anagrams.\")\n",
    "else:\n",
    "    print(f\"'{string1}' and '{string2}' are not anagrams.\")"
   ]
  },
  {
   "cell_type": "markdown",
   "id": "661547a5",
   "metadata": {},
   "source": [
    "# 3. Create a Python function that checks if two given strings are anagrams of each other."
   ]
  },
  {
   "cell_type": "code",
   "execution_count": 3,
   "id": "3cec55cb",
   "metadata": {},
   "outputs": [
    {
     "name": "stdout",
     "output_type": "stream",
     "text": [
      "Enter the first string: listen\n",
      "Enter the second string: silent\n",
      "'listen' and 'silent' are anagrams.\n"
     ]
    }
   ],
   "source": [
    "def are_anagrams(str1, str2):\n",
    "    str1 = str1.replace(\" \", \"\").lower()\n",
    "    str2 = str2.replace(\" \", \"\").lower()\n",
    "    return sorted(str1) == sorted(str2)\n",
    "\n",
    "string1 = input(\"Enter the first string: \")\n",
    "string2 = input(\"Enter the second string: \")\n",
    "\n",
    "result = are_anagrams(string1, string2)\n",
    "\n",
    "if result:\n",
    "    print(f\"'{string1}' and '{string2}' are anagrams.\")\n",
    "else:\n",
    "    print(f\"'{string1}' and '{string2}' are not anagrams.\")"
   ]
  },
  {
   "cell_type": "markdown",
   "id": "baa30be4",
   "metadata": {},
   "source": [
    "# 1. Case Study: Online Shopping Cart Exception Handling\n",
    "\n",
    "You are working as a Python developer for an e-commerce company, and your team is responsible for building and maintaining the shopping cart module of the website. Customers can add items to their cart, view the cart contents, and proceed to checkout.\n",
    "\n",
    "Recently, there have been reports of unexpected crashes and errors when customers interact with their shopping carts. Your task is to investigate these issues and improve the exception handling in the shopping cart code to make it more robust.\n",
    "\n",
    "Requirements and Scenarios:\n",
    "\n",
    "Scenario 1 - Adding Items to Cart:\n",
    "\n",
    "When a customer adds an item to their cart, they provide the product ID and quantity. Handle exceptions that may occur during this process, such as:\n",
    "\n",
    "i. Product ID not found in the product catalog.\n",
    "\n",
    "il. Invalid quantity (e.g., negative quantity or non-integer input).\n",
    "\n",
    "Scenario 2 - Viewing Cart Contents:\n",
    "\n",
    "When a customer views their cart, display the list of items and their quantities. Handle exceptions that may occur during this process, such as:\n",
    "\n",
    "i. Empty cart (no items added).\n",
    "\n",
    "ii. Unexpected errors (e.g., network issues when fetching cart data).\n",
    "\n",
    "Scenario 3- Proceeding to Checkout:\n",
    "\n",
    "When a customer proceeds to checkout, validate the cart and process the payment. Handle exceptions that may occur during this process, such as:\n",
    "\n",
    "i. Insufficient stock for some items in the cart.\n",
    "\n",
    "ii. Payment gateway errors.\n",
    "\n",
    "iii. Customer payment method declined.\n",
    "\n",
    "Your Tasks:\n",
    "\n",
    "1. Review the existing shopping cart code to identify potential areas where exceptions may occur.\n",
    "\n",
    "2. Enhance the exception handling in the code by adding appropriate try, except, and finally blocks to handle exceptions gracefully. Provide helpful error messages to the user where applicable.\n",
    "\n",
    "3. Ensure that the program continues to run smoothly even when exceptions occur, and customers receive informative feedback.\n",
    "\n",
    "4. Test the shopping cart thoroughly with different scenarios to ensure that it handles exceptions correctly"
   ]
  },
  {
   "cell_type": "code",
   "execution_count": 5,
   "id": "8edc9fc5",
   "metadata": {},
   "outputs": [
    {
     "name": "stdout",
     "output_type": "stream",
     "text": [
      "Error: Product ID not found in the catalog\n",
      "Error: Product ID not found in the catalog\n",
      "Product ID: 123, Quantity: 10\n",
      "Thank you for shopping with us!\n"
     ]
    }
   ],
   "source": [
    "class ProductCatalog:\n",
    "    def __init__(self):\n",
    "        self.products = {} \n",
    "\n",
    "    def add_product(self, product_id, stock_quantity):\n",
    "        self.products[product_id] = stock_quantity\n",
    "\n",
    "    def find_product(self, product_id):\n",
    "        if product_id in self.products:\n",
    "            return self.products[product_id]\n",
    "        else:\n",
    "            raise ValueError(\"Product ID not found in the catalog\")\n",
    "\n",
    "class ShoppingCart:\n",
    "    def __init__(self):\n",
    "        self.cart = {}  \n",
    "\n",
    "    def add_item(self, product_id, quantity, catalog):\n",
    "        try:\n",
    "            stock_quantity = catalog.find_product(product_id)\n",
    "            if quantity <= 0 or not isinstance(quantity, int):\n",
    "                raise ValueError(\"Invalid quantity. Please enter a positive integer.\")\n",
    "            if stock_quantity < quantity:\n",
    "                raise ValueError(\"Insufficient stock for this item.\")\n",
    "            if product_id in self.cart:\n",
    "                self.cart[product_id] += quantity\n",
    "            else:\n",
    "                self.cart[product_id] = quantity\n",
    "        except ValueError as e:\n",
    "            print(f\"Error: {e}\")\n",
    "\n",
    "    def view_cart(self):\n",
    "        try:\n",
    "            if not self.cart:\n",
    "                raise ValueError(\"Cart is empty.\")\n",
    "            for product_id, quantity in self.cart.items():\n",
    "                print(f\"Product ID: {product_id}, Quantity: {quantity}\")\n",
    "        except ValueError as e:\n",
    "            print(f\"Error: {e}\")\n",
    "\n",
    "    def checkout(self):\n",
    "        try:\n",
    "            self.cart = {}\n",
    "        except Exception as e:\n",
    "            print(f\"Error during checkout: {e}\")\n",
    "        finally:\n",
    "            print(\"Thank you for shopping with us!\")\n",
    "\n",
    "catalog = ProductCatalog()\n",
    "catalog.add_product(\"123\", 10)\n",
    "cart = ShoppingCart()\n",
    "\n",
    "cart.add_item(\"123\", 10, catalog) \n",
    "cart.add_item(\"456\", -1, catalog) \n",
    "cart.add_item(\"789\", 5, catalog)  \n",
    "\n",
    "# Scenario 2: Viewing cart contents\n",
    "cart.view_cart()  # Should display the cart items\n",
    "\n",
    "# Scenario 3: Proceeding to checkout\n",
    "cart.checkout()"
   ]
  },
  {
   "cell_type": "markdown",
   "id": "0dea2a35",
   "metadata": {},
   "source": []
  },
  {
   "cell_type": "code",
   "execution_count": null,
   "id": "168573a6",
   "metadata": {},
   "outputs": [],
   "source": []
  },
  {
   "cell_type": "markdown",
   "id": "4531b4c5",
   "metadata": {},
   "source": [
    "# 4. Case Study: Online Bookstore Database Connectivity\n",
    "\n",
    "You are a Python developer working on the backend of an online bookstore website. The website's database stores information about books, customers, orders, and inventory. Your task is to develop and maintain the database connectivity and interaction components.\n",
    "\n",
    "Requirements and Scenarios:\n",
    "\n",
    "Scenario 1-Customer Registration:\n",
    "\n",
    "When a new customer registers on the website, their information (name, email, password) should be stored in the database.\n",
    "\n",
    "Handle exceptions that may occur during the registration process, such as:\n",
    "\n",
    "1. Duplicate email addresses.\n",
    "\n",
    "2. Database connection errors.\n",
    "\n",
    "Scenario 2-Book Inventory Management:\n",
    "\n",
    "Implement functionality to add new books to the inventory, update existing book details, and delete books.\n",
    "\n",
    "Handle exceptions that may occur during these operations, such as:\n",
    "\n",
    "1. Invalid book data.\n",
    "\n",
    "2. Database errors when updating or deleting books.\n",
    "\n",
    "Scenario 3-Customer Orders:\n",
    "\n",
    "Allow customers to place orders for books. Each order includes customer details and a list of ordered books.\n",
    "\n",
    "Handle exceptions that may occur during order placement, such as:\n",
    "\n",
    "1. Insufficient stock for some books.\n",
    "2. Database errors when recording orders\n",
    "Scenario \n",
    "\n",
    "4-Order History:\n",
    "\n",
    "Customers should be able to view their order history, which includes details of past orders.\n",
    "\n",
    "Handle exceptions that may occur when retrieving order history, such as:\n",
    "\n",
    "1. No orders found for the customer.\n",
    "\n",
    "2. Database connection issues. "
   ]
  },
  {
   "cell_type": "code",
   "execution_count": 3,
   "id": "2e418c67",
   "metadata": {},
   "outputs": [
    {
     "name": "stdout",
     "output_type": "stream",
     "text": [
      "Enter your name: rohan\n",
      "Enter your email: rohan@gmail.com\n",
      "Enter your password: 11111111\n",
      "Registration successful!\n"
     ]
    }
   ],
   "source": [
    "#Scenario 1:\n",
    "\n",
    "import mysql.connector\n",
    "\n",
    "try:\n",
    "    db = mysql.connector.connect(\n",
    "        host=\"127.0.0.1\",\n",
    "        user=\"root\",\n",
    "        password=\"Siri@123\",\n",
    "        database=\"inventory\"\n",
    "    )\n",
    "    cursor = db.cursor()\n",
    "\n",
    "    # User input for registration\n",
    "    name = input(\"Enter your name: \")\n",
    "    email = input(\"Enter your email: \")\n",
    "    password = input(\"Enter your password: \")\n",
    "\n",
    "    # Check if the email is already registered\n",
    "    cursor.execute(\"SELECT * FROM Customers WHERE email = %s\", (email,))\n",
    "    existing_user = cursor.fetchone()\n",
    "\n",
    "    if existing_user:\n",
    "        print(\"Email address is already registered.\")\n",
    "    else:\n",
    "        # Insert new customer into Customers table\n",
    "        cursor.execute(\"INSERT INTO Customers (name, email, password) VALUES (%s, %s, %s)\", (name, email, password))\n",
    "        db.commit()\n",
    "        print(\"Registration successful!\")\n",
    "\n",
    "except mysql.connector.Error as e:\n",
    "    print(\"MySQL Error:\", e)\n",
    "except Exception as e:\n",
    "    print(\"Error:\", e)\n",
    "finally:\n",
    "    db.close()\n"
   ]
  },
  {
   "cell_type": "code",
   "execution_count": 4,
   "id": "b4417280",
   "metadata": {},
   "outputs": [
    {
     "name": "stdout",
     "output_type": "stream",
     "text": [
      "Enter your name: rohan\n",
      "Enter your email: rohan@gmail.com\n",
      "Enter your password: 11111212\n",
      "Email address is already registered.\n"
     ]
    }
   ],
   "source": [
    "#Scenario 1:\n",
    "\n",
    "import mysql.connector\n",
    "\n",
    "try:\n",
    "    db = mysql.connector.connect(\n",
    "        host=\"127.0.0.1\",\n",
    "        user=\"root\",\n",
    "        password=\"Siri@123\",\n",
    "        database=\"inventory\"\n",
    "    )\n",
    "    cursor = db.cursor()\n",
    "\n",
    "    # User input for registration\n",
    "    name = input(\"Enter your name: \")\n",
    "    email = input(\"Enter your email: \")\n",
    "    password = input(\"Enter your password: \")\n",
    "\n",
    "    # Check if the email is already registered\n",
    "    cursor.execute(\"SELECT * FROM Customers WHERE email = %s\", (email,))\n",
    "    existing_user = cursor.fetchone()\n",
    "\n",
    "    if existing_user:\n",
    "        print(\"Email address is already registered.\")\n",
    "    else:\n",
    "        # Insert new customer into Customers table\n",
    "        cursor.execute(\"INSERT INTO Customers (name, email, password) VALUES (%s, %s, %s)\", (name, email, password))\n",
    "        db.commit()\n",
    "        print(\"Registration successful!\")\n",
    "\n",
    "except mysql.connector.Error as e:\n",
    "    print(\"MySQL Error:\", e)\n",
    "except Exception as e:\n",
    "    print(\"Error:\", e)\n",
    "finally:\n",
    "    db.close()\n"
   ]
  },
  {
   "cell_type": "code",
   "execution_count": null,
   "id": "cb9e7c4e",
   "metadata": {},
   "outputs": [],
   "source": []
  },
  {
   "cell_type": "code",
   "execution_count": 16,
   "id": "0b1ac600",
   "metadata": {},
   "outputs": [
    {
     "name": "stdout",
     "output_type": "stream",
     "text": [
      "Book added to inventory successfully!\n"
     ]
    }
   ],
   "source": [
    "#Scenario 2:\n",
    "# Function to add a new book to the inventory\n",
    "def add_book(title, author, price, stock_quantity):\n",
    "    try:\n",
    "        # Establish a database connection\n",
    "        db = mysql.connector.connect(\n",
    "        host=\"127.0.0.1\",\n",
    "        user=\"root\",\n",
    "        password=\"Siri@123\",\n",
    "        database=\"inventory\"\n",
    "        )\n",
    "\n",
    "        # Create a cursor object\n",
    "        cursor = db.cursor()\n",
    "\n",
    "        # Insert the new book into the Books table\n",
    "        cursor.execute(\"INSERT INTO Books (title, author, price, stock_quantity) VALUES (%s, %s, %s, %s)\",\n",
    "                       (title, author, price, stock_quantity))\n",
    "        db.commit()\n",
    "        print(\"Book added to inventory successfully!\")\n",
    "\n",
    "    except mysql.connector.Error as e:\n",
    "        print(\"MySQL Error:\", e)\n",
    "    except Exception as e:\n",
    "        print(\"Error:\", e)\n",
    "    #finally:\n",
    "        # Close the database connection\n",
    "        #db.close()\n",
    "        \n",
    "add_book(\"Three men in a boat\", \"no idea\", 280, 12)\n"
   ]
  },
  {
   "cell_type": "code",
   "execution_count": 17,
   "id": "cf64a302",
   "metadata": {},
   "outputs": [
    {
     "name": "stdout",
     "output_type": "stream",
     "text": [
      "(1, 'story_of_my_life', 'helen_killer', Decimal('270.00'), 20)\n",
      "(2, 'one night @call centre', 'Chetan Bhagat', Decimal('220.00'), 14)\n",
      "(3, 'Three men in a boat', 'no idea', Decimal('280.00'), 12)\n"
     ]
    }
   ],
   "source": [
    "db = mysql.connector.connect(\n",
    "        host=\"127.0.0.1\",\n",
    "        user=\"root\",\n",
    "        password=\"Siri@123\",\n",
    "        database=\"inventory\"\n",
    "        )\n",
    "cursor = db.cursor()\n",
    "cursor.execute(\"select * from books\")\n",
    "for i in cursor:\n",
    "    print(i)"
   ]
  },
  {
   "cell_type": "code",
   "execution_count": 24,
   "id": "de7612d1",
   "metadata": {},
   "outputs": [
    {
     "name": "stdout",
     "output_type": "stream",
     "text": [
      "0\n",
      "Book details updated successfully!\n"
     ]
    }
   ],
   "source": [
    "#Update books.\n",
    "cursor = db.cursor()\n",
    "\n",
    "cursor.execute(\"UPDATE Books SET author = 'william' WHERE book_id = 3\")\n",
    "db.commit()\n",
    "print(cursor.rowcount)\n",
    "print(\"Book details updated successfully!\")"
   ]
  },
  {
   "cell_type": "code",
   "execution_count": 25,
   "id": "30f93c57",
   "metadata": {},
   "outputs": [
    {
     "name": "stdout",
     "output_type": "stream",
     "text": [
      "(1, 'story_of_my_life', 'helen_killer', Decimal('270.00'), 20)\n",
      "(2, 'one night @call centre', 'Chetan Bhagat', Decimal('220.00'), 14)\n",
      "(3, 'Three men in a boat', 'william', Decimal('280.00'), 12)\n"
     ]
    }
   ],
   "source": [
    "cursor = db.cursor()\n",
    "cursor.execute(\"select * from books\")\n",
    "for i in cursor:\n",
    "    print(i)"
   ]
  },
  {
   "cell_type": "code",
   "execution_count": 26,
   "id": "5662508b",
   "metadata": {},
   "outputs": [
    {
     "name": "stdout",
     "output_type": "stream",
     "text": [
      "1\n",
      "Book details deleted successfully!\n"
     ]
    }
   ],
   "source": [
    "#Delete books.\n",
    "cursor = db.cursor()\n",
    "\n",
    "cursor.execute(\"Delete from books WHERE book_id = 3\")\n",
    "db.commit()\n",
    "print(cursor.rowcount)\n",
    "print(\"Book details deleted successfully!\")"
   ]
  },
  {
   "cell_type": "code",
   "execution_count": 27,
   "id": "ed24b278",
   "metadata": {},
   "outputs": [
    {
     "name": "stdout",
     "output_type": "stream",
     "text": [
      "(1, 'story_of_my_life', 'helen_killer', Decimal('270.00'), 20)\n",
      "(2, 'one night @call centre', 'Chetan Bhagat', Decimal('220.00'), 14)\n"
     ]
    }
   ],
   "source": [
    "cursor = db.cursor()\n",
    "cursor.execute(\"select * from books\")\n",
    "for i in cursor:\n",
    "    print(i)"
   ]
  },
  {
   "cell_type": "code",
   "execution_count": null,
   "id": "e53e5fbf",
   "metadata": {},
   "outputs": [],
   "source": []
  },
  {
   "cell_type": "code",
   "execution_count": null,
   "id": "a8306d52",
   "metadata": {},
   "outputs": [],
   "source": []
  },
  {
   "cell_type": "code",
   "execution_count": null,
   "id": "0cc1617b",
   "metadata": {},
   "outputs": [],
   "source": []
  },
  {
   "cell_type": "code",
   "execution_count": 28,
   "id": "175cb31e",
   "metadata": {},
   "outputs": [
    {
     "name": "stdout",
     "output_type": "stream",
     "text": [
      "Enter your customer ID: 3\n",
      "Enter the book ID you want to order: 121\n",
      "Enter the quantity: 2\n",
      "Error: 'NoneType' object is not subscriptable\n"
     ]
    }
   ],
   "source": [
    "#Scenario 3\n",
    "\n",
    "import mysql.connector\n",
    "\n",
    "try:\n",
    "    db = mysql.connector.connect(\n",
    "        host=\"127.0.0.1\",\n",
    "        user=\"root\",\n",
    "        password=\"Siri@123\",\n",
    "        database=\"inventory\"\n",
    "    )\n",
    "\n",
    "    # Create a cursor object\n",
    "    cursor = db.cursor()\n",
    "\n",
    "    # User input for order\n",
    "    customer_id = int(input(\"Enter your customer ID: \"))\n",
    "    book_id = int(input(\"Enter the book ID you want to order: \"))\n",
    "    quantity = int(input(\"Enter the quantity: \"))\n",
    "\n",
    "    # Check if there is enough stock\n",
    "    cursor.execute(\"SELECT stock_quantity FROM Books WHERE book_id = %s\", (book_id,))\n",
    "    stock_quantity = cursor.fetchone()[0]\n",
    "\n",
    "    if quantity > stock_quantity:\n",
    "        print(\"Insufficient stock for this book.\")\n",
    "    else:\n",
    "        # Calculate total amount and insert order\n",
    "        cursor.execute(\"SELECT price FROM Books WHERE book_id = %s\", (book_id,))\n",
    "        price = cursor.fetchone()[0]\n",
    "        total_amount = price * quantity\n",
    "\n",
    "        cursor.execute(\"INSERT INTO Orders (customer_id, order_date, total_amount) VALUES (%s, NOW(), %s)\",\n",
    "                       (customer_id, total_amount))\n",
    "        order_id = cursor.lastrowid\n",
    "        cursor.execute(\"INSERT INTO OrderDetails (order_id, book_id, quantity, subtotal) VALUES (%s, %s, %s, %s)\",\n",
    "                       (order_id, book_id, quantity, total_amount))\n",
    "        db.commit()\n",
    "        print(\"Order placed successfully!\")\n",
    "\n",
    "except mysql.connector.Error as e:\n",
    "    print(\"MySQL Error:\", e)\n",
    "except Exception as e:\n",
    "    print(\"Error:\", e)\n",
    "finally:\n",
    "    # Close the database connection\n",
    "    db.close()\n"
   ]
  },
  {
   "cell_type": "code",
   "execution_count": null,
   "id": "a7dfde2b",
   "metadata": {},
   "outputs": [],
   "source": []
  },
  {
   "cell_type": "code",
   "execution_count": 32,
   "id": "5bcb5f7b",
   "metadata": {},
   "outputs": [
    {
     "name": "stdout",
     "output_type": "stream",
     "text": [
      "Enter your customer ID: 3\n",
      "Enter the book ID you want to order: 1\n",
      "Enter the quantity: 5\n",
      "Order placed successfully!\n"
     ]
    }
   ],
   "source": [
    "#Scenario 3\n",
    "\n",
    "import mysql.connector\n",
    "\n",
    "try:\n",
    "    db = mysql.connector.connect(\n",
    "        host=\"127.0.0.1\",\n",
    "        user=\"root\",\n",
    "        password=\"Siri@123\",\n",
    "        database=\"inventory\"\n",
    "    )\n",
    "\n",
    "    # Create a cursor object\n",
    "    cursor = db.cursor()\n",
    "\n",
    "    # User input for order\n",
    "    customer_id = int(input(\"Enter your customer ID: \"))\n",
    "    book_id = int(input(\"Enter the book ID you want to order: \"))\n",
    "    quantity = int(input(\"Enter the quantity: \"))\n",
    "\n",
    "    # Check if there is enough stock\n",
    "    cursor.execute(\"SELECT stock_quantity FROM Books WHERE book_id = %s\", (book_id,))\n",
    "    stock_quantity = cursor.fetchone()[0]\n",
    "\n",
    "    if quantity > stock_quantity:\n",
    "        print(\"Insufficient stock for this book.\")\n",
    "    else:\n",
    "        # Calculate total amount and insert order\n",
    "        cursor.execute(\"SELECT price FROM Books WHERE book_id = %s\", (book_id,))\n",
    "        price = cursor.fetchone()[0]\n",
    "        total_amount = price * quantity\n",
    "\n",
    "        cursor.execute(\"INSERT INTO bookOrders (customer_id, order_date, total_amount) VALUES (%s, NOW(), %s)\",\n",
    "                       (customer_id, total_amount))\n",
    "        order_id = cursor.lastrowid\n",
    "        cursor.execute(\"INSERT INTO bookOrderDetails (order_id, book_id, quantity, subtotal) VALUES (%s, %s, %s, %s)\",\n",
    "                       (order_id, book_id, quantity, total_amount))\n",
    "        db.commit()\n",
    "        print(\"Order placed successfully!\")\n",
    "\n",
    "except mysql.connector.Error as e:\n",
    "    print(\"MySQL Error:\", e)\n",
    "except Exception as e:\n",
    "    print(\"Error:\", e)\n",
    "finally:\n",
    "    # Close the database connection\n",
    "    db.close()\n"
   ]
  },
  {
   "cell_type": "code",
   "execution_count": 33,
   "id": "631534b4",
   "metadata": {},
   "outputs": [
    {
     "name": "stdout",
     "output_type": "stream",
     "text": [
      "(1, 2, 4, Decimal('880.00'))\n",
      "(2, 1, 5, Decimal('1350.00'))\n"
     ]
    }
   ],
   "source": [
    "db = mysql.connector.connect(\n",
    "        host=\"127.0.0.1\",\n",
    "        user=\"root\",\n",
    "        password=\"Siri@123\",\n",
    "        database=\"inventory\"\n",
    "        )\n",
    "cursor = db.cursor()\n",
    "cursor.execute(\"select * from bookorderdetails\")\n",
    "for i in cursor:\n",
    "    print(i)"
   ]
  },
  {
   "cell_type": "code",
   "execution_count": null,
   "id": "e204cb9a",
   "metadata": {},
   "outputs": [],
   "source": []
  },
  {
   "cell_type": "code",
   "execution_count": 35,
   "id": "772db5b2",
   "metadata": {},
   "outputs": [
    {
     "name": "stdout",
     "output_type": "stream",
     "text": [
      "Enter your customer ID: 3\n",
      "Order History:\n",
      "Order ID: 1, Date: 2023-09-16, Book: one night @call centre, Quantity: 4, Subtotal: 880.00\n",
      "Order ID: 2, Date: 2023-09-16, Book: story_of_my_life, Quantity: 5, Subtotal: 1350.00\n"
     ]
    }
   ],
   "source": [
    "#scenario 4: order history\n",
    "\n",
    "import mysql.connector\n",
    "\n",
    "try:\n",
    "    # Establish a database connection\n",
    "    db = mysql.connector.connect(\n",
    "        host=\"127.0.0.1\",\n",
    "        user=\"root\",\n",
    "        password=\"Siri@123\",\n",
    "        database=\"inventory\"\n",
    "    )\n",
    "\n",
    "    # Create a cursor object\n",
    "    cursor = db.cursor()\n",
    "\n",
    "    # User input for order history\n",
    "    customer_id = int(input(\"Enter your customer ID: \"))\n",
    "\n",
    "    # Retrieve order history for the customer\n",
    "    cursor.execute(\"SELECT bookOrders.order_id, order_date, Books.title, quantity, subtotal FROM Customers \"\n",
    "                   \"JOIN bookOrders ON Customers.customer_id = bookOrders.customer_id \"\n",
    "                   \"JOIN bookOrderDetails ON bookOrders.order_id = bookOrderDetails.order_id \"\n",
    "                   \"JOIN Books ON bookOrderDetails.book_id = Books.book_id \"\n",
    "                   \"WHERE Customers.customer_id = %s\", (customer_id,))\n",
    "    order_history = cursor.fetchall()\n",
    "\n",
    "    if not order_history:\n",
    "        print(\"No orders found for this customer.\")\n",
    "    else:\n",
    "        print(\"Order History:\")\n",
    "        for order in order_history:\n",
    "            order_id, order_date, book_title, quantity, subtotal = order\n",
    "            print(f\"Order ID: {order_id}, Date: {order_date}, Book: {book_title}, Quantity: {quantity}, Subtotal: {subtotal}\")\n",
    "\n",
    "except mysql.connector.Error as e:\n",
    "    print(\"MySQL Error:\", e)\n",
    "except Exception as e:\n",
    "    print(\"Error:\", e)\n",
    "finally:\n",
    "    # Close the database connection\n",
    "    db.close()\n"
   ]
  },
  {
   "cell_type": "code",
   "execution_count": null,
   "id": "3a98242c",
   "metadata": {},
   "outputs": [],
   "source": []
  },
  {
   "cell_type": "markdown",
   "id": "d4873d47",
   "metadata": {},
   "source": [
    "# 6. Read a text file containing a list of names or numbers, sort the data, and write the sorted data back to a new file."
   ]
  },
  {
   "cell_type": "code",
   "execution_count": 6,
   "id": "1e1dbb94",
   "metadata": {},
   "outputs": [
    {
     "name": "stdout",
     "output_type": "stream",
     "text": [
      "Data sorted and written to outputt1.txt\n"
     ]
    }
   ],
   "source": [
    "input_file = \"file1.txt\"\n",
    "output_file = \"outputt1.txt\"\n",
    "\n",
    "try:\n",
    "    with open(input_file, 'r') as file:\n",
    "        data = file.readlines()\n",
    "\n",
    "    sorted_data = sorted(data)\n",
    "    \n",
    "    with open(output_file, 'w') as file:\n",
    "        file.writelines(sorted_data)\n",
    "\n",
    "    print(f\"Data sorted and written to {output_file}\")\n",
    "\n",
    "except FileNotFoundError:\n",
    "    print(f\"File '{input_file}' not found.\")\n",
    "except Exception as e:\n",
    "    print(f\"An error occurred: {str(e)}\")"
   ]
  },
  {
   "cell_type": "code",
   "execution_count": 8,
   "id": "bc3796f9",
   "metadata": {},
   "outputs": [
    {
     "name": "stdout",
     "output_type": "stream",
     "text": [
      "['Advances in computing and digital technologies have a direct influence on our lives, businesses and social life. This has influenced our daily routines, such as using mobile devices and active involvement on social media. AI systems are the most influential digital technologies. With AI systems, businesses are able to handle large data sets and provide speedy essential input to operations. Moreover, businesses are able to adapt to constant changes and are becoming more flexible. By introducing Artificial Intelligence systems into devices, new business processes are opting for the automated process. A new paradigm emerges as a result of such intelligent automation, which now dictates not only how businesses operate but also who does the job. Many manufacturing sites can now operate fully automated with robots and without any human workers. Artificial Intelligence now brings unheard and unexpected innovations to the business world that many organizations will need to integrate to remain competitive and move further to lead the competitors. Artificial Intelligence shapes our lives and social interactions through technological advancement. There are many AI applications which are specifically developed for providing better services to individuals, such as mobile phones, electronic gadgets, social media platforms etc. We are delegating our activities through intelligent applications, such as personal assistants, intelligent wearable devices and other applications. AI systems that operate household apparatus help us at home with cooking or cleaning.']\n"
     ]
    }
   ],
   "source": [
    "with open(output_file, 'r') as file:\n",
    "        data = file.readlines()\n",
    "print(data)"
   ]
  },
  {
   "cell_type": "markdown",
   "id": "e3ac29ad",
   "metadata": {},
   "source": [
    "# 7. Write a Python script that compares two text files and identifies the differences between them, including added, modified, and deleted lines"
   ]
  },
  {
   "cell_type": "code",
   "execution_count": 17,
   "id": "79708b10",
   "metadata": {},
   "outputs": [
    {
     "name": "stdout",
     "output_type": "stream",
     "text": [
      "\n",
      "Modified lines:\n",
      "\n",
      "Added lines:\n",
      "  Advances in computing and digital technologies have a direct influence on our lives, businesses and social life. This has influenced our daily routines, such as using mobile devices and active involvement on social media. %%%%%% AI %%%%% systems are the most influential digital technologies. With %%%%%% AI %%%%% systems, businesses are able to handle large data sets and provide speedy essential input to operations. Moreover, businesses are able to adapt to constant changes and are becoming more flexible. By introducing Artificial Intelligence systems into devices, new business processes are opting for the automated process. A new paradigm emerges as a result of such intelligent automation, which now dictates not only how businesses operate but also who does the job. Many manufacturing sites can now operate fully automated with robots and without any human workers. Artificial Intelligence now brings unheard and unexpected innovations to the business world that many organizations will need to integrate to remain competitive and move further to lead the competitors. Artificial Intelligence shapes our lives and social interactions through technological advancement. There are many %%%%%% AI %%%%% applications which are specifically developed for providing better services to individuals, such as mobile phones, electronic gadgets, social media platforms etc. We are delegating our activities through intelligent applications, such as personal assistants, intelligent wearable devices and other applications. %%%%%% AI %%%%% systems that operate household apparatus help us at home with cooking or cleaning.\n",
      "\n",
      "Deleted lines:\n",
      "  Advances in computing and digital technologies have a direct influence on our lives, businesses and social life. This has influenced our daily routines, such as using mobile devices and active involvement on social media. AI systems are the most influential digital technologies. With AI systems, businesses are able to handle large data sets and provide speedy essential input to operations. Moreover, businesses are able to adapt to constant changes and are becoming more flexible. By introducing Artificial Intelligence systems into devices, new business processes are opting for the automated process. A new paradigm emerges as a result of such intelligent automation, which now dictates not only how businesses operate but also who does the job. Many manufacturing sites can now operate fully automated with robots and without any human workers. Artificial Intelligence now brings unheard and unexpected innovations to the business world that many organizations will need to integrate to remain competitive and move further to lead the competitors. Artificial Intelligence shapes our lives and social interactions through technological advancement. There are many AI applications which are specifically developed for providing better services to individuals, such as mobile phones, electronic gadgets, social media platforms etc. We are delegating our activities through intelligent applications, such as personal assistants, intelligent wearable devices and other applications. AI systems that operate household apparatus help us at home with cooking or cleaning.\n"
     ]
    }
   ],
   "source": [
    "import difflib\n",
    "\n",
    "def read_file(file_path):\n",
    "    try:\n",
    "        with open(file_path, 'r') as file:\n",
    "            return file.readlines()\n",
    "    except FileNotFoundError:\n",
    "        return []\n",
    "\n",
    "file1_path = \"file1.txt\"\n",
    "file2_path = \"file2.txt\"\n",
    "\n",
    "file1_lines = read_file(file1_path)\n",
    "file2_lines = read_file(file2_path)\n",
    "\n",
    "differ = difflib.Differ()\n",
    "diff = list(differ.compare(file1_lines, file2_lines))\n",
    "\n",
    "added_lines = []\n",
    "modified_lines = []\n",
    "deleted_lines = []\n",
    "\n",
    "for line in diff:\n",
    "    if line.startswith('+ '):\n",
    "        added_lines.append(line[2:])\n",
    "    elif line.startswith('- '):\n",
    "        deleted_lines.append(line[2:])\n",
    "    elif line.startswith('  '):\n",
    "        modified_lines.append(line[2:])\n",
    "\n",
    "print(\"\\nModified lines:\")\n",
    "for line in modified_lines:\n",
    "    print(f\"  {line.strip()}\")\n",
    "\n",
    "print(\"\\nAdded lines:\")\n",
    "for line in added_lines:\n",
    "    print(f\"  {line.strip()}\")\n",
    "\n",
    "print(\"\\nDeleted lines:\")\n",
    "for line in deleted_lines:\n",
    "    print(f\"  {line.strip()}\")\n"
   ]
  },
  {
   "cell_type": "markdown",
   "id": "2b8b7368",
   "metadata": {},
   "source": [
    "# 8. Develop a Python program that compresses a large text file using a compression algorithm (e.g., gzip) and then decompresses it back to its original form."
   ]
  },
  {
   "cell_type": "code",
   "execution_count": 19,
   "id": "0f7a84c1",
   "metadata": {},
   "outputs": [
    {
     "name": "stdout",
     "output_type": "stream",
     "text": [
      "Compression complete. Compressed file saved as 'compressed_file.gz'\n",
      "Decompression complete. Decompressed file saved as 'output11.txt'\n"
     ]
    }
   ],
   "source": [
    "import gzip\n",
    "\n",
    "def compress_file(input_file, compressed_file):\n",
    "    try:\n",
    "        with open(input_file, 'rb') as file_in:\n",
    "            with gzip.open(compressed_file, 'wb') as file_out:\n",
    "                file_out.writelines(file_in)\n",
    "\n",
    "        print(f\"Compression complete. Compressed file saved as '{compressed_file}'\")\n",
    "\n",
    "    except FileNotFoundError:\n",
    "        print(f\"File '{input_file}' not found.\")\n",
    "    except Exception as e:\n",
    "        print(f\"An error occurred: {str(e)}\")\n",
    "\n",
    "def decompress_file(compressed_file, decompressed_file):\n",
    "    try:\n",
    "        with gzip.open(compressed_file, 'rb') as file_in:\n",
    "            with open(decompressed_file, 'wb') as file_out:\n",
    "                file_out.writelines(file_in)\n",
    "\n",
    "        print(f\"Decompression complete. Decompressed file saved as '{decompressed_file}'\")\n",
    "\n",
    "    except FileNotFoundError:\n",
    "        print(f\"File '{compressed_file}' not found.\")\n",
    "    except Exception as e:\n",
    "        print(f\"An error occurred: {str(e)}\")\n",
    "\n",
    "input_file = \"file1.txt\"\n",
    "compressed_file = \"compressed_file.gz\"\n",
    "decompressed_file = \"output11.txt\"\n",
    "\n",
    "compress_file(input_file, compressed_file)\n",
    "\n",
    "decompress_file(compressed_file, decompressed_file)\n"
   ]
  },
  {
   "cell_type": "code",
   "execution_count": 20,
   "id": "d580e2e5",
   "metadata": {},
   "outputs": [
    {
     "name": "stdout",
     "output_type": "stream",
     "text": [
      "['Advances in computing and digital technologies have a direct influence on our lives, businesses and social life. This has influenced our daily routines, such as using mobile devices and active involvement on social media. AI systems are the most influential digital technologies. With AI systems, businesses are able to handle large data sets and provide speedy essential input to operations. Moreover, businesses are able to adapt to constant changes and are becoming more flexible. By introducing Artificial Intelligence systems into devices, new business processes are opting for the automated process. A new paradigm emerges as a result of such intelligent automation, which now dictates not only how businesses operate but also who does the job. Many manufacturing sites can now operate fully automated with robots and without any human workers. Artificial Intelligence now brings unheard and unexpected innovations to the business world that many organizations will need to integrate to remain competitive and move further to lead the competitors. Artificial Intelligence shapes our lives and social interactions through technological advancement. There are many AI applications which are specifically developed for providing better services to individuals, such as mobile phones, electronic gadgets, social media platforms etc. We are delegating our activities through intelligent applications, such as personal assistants, intelligent wearable devices and other applications. AI systems that operate household apparatus help us at home with cooking or cleaning.']\n"
     ]
    }
   ],
   "source": [
    "with open(decompressed_file, 'r') as file:\n",
    "        data = file.readlines()\n",
    "print(data)"
   ]
  },
  {
   "cell_type": "markdown",
   "id": "2790399b",
   "metadata": {},
   "source": [
    "# 9. Read a binary file (e.g., an image or audio file) in Python and perform an operation, such as resizing an image or modifying audio data."
   ]
  },
  {
   "cell_type": "code",
   "execution_count": 23,
   "id": "4112629f",
   "metadata": {},
   "outputs": [
    {
     "name": "stdout",
     "output_type": "stream",
     "text": [
      "Image resized and saved as 'resized.jpg'\n"
     ]
    }
   ],
   "source": [
    "from PIL import Image\n",
    "\n",
    "def resize_image(input_image_path, output_image_path, new_width, new_height):\n",
    "    try:\n",
    "        image = Image.open(input_image_path)\n",
    "\n",
    "        resized_image = image.resize((new_width, new_height))\n",
    "\n",
    "        resized_image.save(output_image_path)\n",
    "\n",
    "        print(f\"Image resized and saved as '{output_image_path}'\")\n",
    "\n",
    "    except FileNotFoundError:\n",
    "        print(f\"File '{input_image_path}' not found.\")\n",
    "    except Exception as e:\n",
    "        print(f\"An error occurred: {str(e)}\")\n",
    "\n",
    "input_image_path = \"wordcount.jpg\"\n",
    "output_image_path = \"resized.jpg\"\n",
    "\n",
    "new_width = 800\n",
    "new_height = 600\n",
    "\n",
    "resize_image(input_image_path, output_image_path, new_width, new_height)\n"
   ]
  },
  {
   "cell_type": "code",
   "execution_count": 24,
   "id": "30a58682",
   "metadata": {},
   "outputs": [
    {
     "name": "stdout",
     "output_type": "stream",
     "text": [
      "resized.jpg\n"
     ]
    }
   ],
   "source": [
    "print(output_image_path)"
   ]
  },
  {
   "cell_type": "markdown",
   "id": "f091fe94",
   "metadata": {},
   "source": [
    "# 10. Write a python program to Combine the contents of multiple text files into a single file using Python. Each file should be appended to the end of the resulting file."
   ]
  },
  {
   "cell_type": "code",
   "execution_count": 25,
   "id": "09463917",
   "metadata": {},
   "outputs": [
    {
     "name": "stdout",
     "output_type": "stream",
     "text": [
      "Contents of 3 files combined into 'output12.txt'\n"
     ]
    }
   ],
   "source": [
    "input_files = [\"file1.txt\", \"file2.txt\", \"input.txt\"]\n",
    "\n",
    "output_file = \"output12.txt\"\n",
    "\n",
    "try:\n",
    "    with open(output_file, 'a') as outfile:\n",
    "        for input_file in input_files:\n",
    "            try:\n",
    "                with open(input_file, 'r') as infile:\n",
    "                    outfile.write(infile.read())\n",
    "                    outfile.write('\\n')\n",
    "\n",
    "            except FileNotFoundError:\n",
    "                print(f\"File '{input_file}' not found.\")\n",
    "            except Exception as e:\n",
    "                print(f\"An error occurred while processing '{input_file}': {str(e)}\")\n",
    "\n",
    "    print(f\"Contents of {len(input_files)} files combined into '{output_file}'\")\n",
    "\n",
    "except Exception as e:\n",
    "    print(f\"An error occurred: {str(e)}\")\n"
   ]
  },
  {
   "cell_type": "code",
   "execution_count": 26,
   "id": "bd741dcd",
   "metadata": {},
   "outputs": [
    {
     "name": "stdout",
     "output_type": "stream",
     "text": [
      "['Advances in computing and digital technologies have a direct influence on our lives, businesses and social life. This has influenced our daily routines, such as using mobile devices and active involvement on social media. AI systems are the most influential digital technologies. With AI systems, businesses are able to handle large data sets and provide speedy essential input to operations. Moreover, businesses are able to adapt to constant changes and are becoming more flexible. By introducing Artificial Intelligence systems into devices, new business processes are opting for the automated process. A new paradigm emerges as a result of such intelligent automation, which now dictates not only how businesses operate but also who does the job. Many manufacturing sites can now operate fully automated with robots and without any human workers. Artificial Intelligence now brings unheard and unexpected innovations to the business world that many organizations will need to integrate to remain competitive and move further to lead the competitors. Artificial Intelligence shapes our lives and social interactions through technological advancement. There are many AI applications which are specifically developed for providing better services to individuals, such as mobile phones, electronic gadgets, social media platforms etc. We are delegating our activities through intelligent applications, such as personal assistants, intelligent wearable devices and other applications. AI systems that operate household apparatus help us at home with cooking or cleaning.\\n', 'Advances in computing and digital technologies have a direct influence on our lives, businesses and social life. This has influenced our daily routines, such as using mobile devices and active involvement on social media. %%%%%% AI %%%%% systems are the most influential digital technologies. With %%%%%% AI %%%%% systems, businesses are able to handle large data sets and provide speedy essential input to operations. Moreover, businesses are able to adapt to constant changes and are becoming more flexible. By introducing Artificial Intelligence systems into devices, new business processes are opting for the automated process. A new paradigm emerges as a result of such intelligent automation, which now dictates not only how businesses operate but also who does the job. Many manufacturing sites can now operate fully automated with robots and without any human workers. Artificial Intelligence now brings unheard and unexpected innovations to the business world that many organizations will need to integrate to remain competitive and move further to lead the competitors. Artificial Intelligence shapes our lives and social interactions through technological advancement. There are many %%%%%% AI %%%%% applications which are specifically developed for providing better services to individuals, such as mobile phones, electronic gadgets, social media platforms etc. We are delegating our activities through intelligent applications, such as personal assistants, intelligent wearable devices and other applications. %%%%%% AI %%%%% systems that operate household apparatus help us at home with cooking or cleaning.\\n', 'Apple.\\n', 'Box.\\n', 'Cat\\n', 'Dog\\n', 'hey this is being updated by puneeth\\n', '\\n']\n"
     ]
    }
   ],
   "source": [
    "with open(output_file, 'r') as file:\n",
    "        data = file.readlines()\n",
    "print(data)"
   ]
  },
  {
   "cell_type": "code",
   "execution_count": null,
   "id": "56760101",
   "metadata": {},
   "outputs": [],
   "source": []
  },
  {
   "cell_type": "markdown",
   "id": "1474b818",
   "metadata": {},
   "source": [
    "# 11. Create a Python script that accepts a text file as a command-line argument and counts the number of words, lines, and characters in the file."
   ]
  },
  {
   "cell_type": "code",
   "execution_count": 27,
   "id": "d48fe87f",
   "metadata": {},
   "outputs": [
    {
     "name": "stdout",
     "output_type": "stream",
     "text": [
      "Usage: python script.py <file_path>\n"
     ]
    }
   ],
   "source": [
    "import sys\n",
    "\n",
    "def count_file_stats(file_path):\n",
    "    try:\n",
    "        with open(file_path, 'r') as file:\n",
    "            content = file.read()\n",
    "\n",
    "            word_count = len(content.split())\n",
    "            line_count = len(content.splitlines())\n",
    "            char_count = len(content)\n",
    "\n",
    "            print(f\"Word count: {word_count}\")\n",
    "            print(f\"Line count: {line_count}\")\n",
    "            print(f\"Character count: {char_count}\")\n",
    "\n",
    "    except FileNotFoundError:\n",
    "        print(f\"File '{file_path}' not found.\")\n",
    "    except Exception as e:\n",
    "        print(f\"An error occurred: {str(e)}\")\n",
    "\n",
    "if len(sys.argv) != 2:\n",
    "    print(\"Usage: python script.py <file_path>\")\n",
    "else:\n",
    "    file_path = sys.argv[1]\n",
    "    count_file_stats(file_path)\n"
   ]
  },
  {
   "cell_type": "markdown",
   "id": "ffb02598",
   "metadata": {},
   "source": [
    "                                        Output: from command line:\n",
    "PS C:\\Users\\punee\\OneDrive\\Documents\\GitHub\\AI-ML\\Python_practice_exercises> python wordcount.py file1.txt    \n",
    "Advances: 1\n",
    "in: 1\n",
    "computing: 1\n",
    "and: 10\n",
    "digital: 2\n",
    "technologies: 1\n",
    "have: 1\n",
    "a: 2\n",
    "direct: 1\n",
    "influence: 1\n",
    "on: 2\n",
    "our: 4\n",
    "lives,: 1\n",
    "businesses: 4\n",
    "social: 4\n",
    "life.: 1\n",
    "This: 1\n",
    "has: 1\n",
    "influenced: 1\n",
    "daily: 1\n",
    "routines,: 1\n",
    "such: 4\n",
    "as: 4\n",
    "using: 1\n",
    "mobile: 2\n",
    "devices: 2\n",
    "active: 1\n",
    "involvement: 1\n",
    "media.: 1\n",
    "AI: 4\n",
    "systems: 3\n",
    "are: 8\n",
    "the: 5\n",
    "most: 1\n",
    "influential: 1\n",
    "technologies.: 1\n",
    "With: 1\n",
    "systems,: 1\n",
    "able: 2\n",
    "to: 9\n",
    "handle: 1\n",
    "large: 1\n",
    "data: 1\n",
    "sets: 1\n",
    "provide: 1\n",
    "speedy: 1\n",
    "essential: 1\n",
    "input: 1\n",
    "operations.: 1\n",
    "Moreover,: 1\n",
    "adapt: 1\n",
    "constant: 1\n",
    "changes: 1\n",
    "becoming: 1\n",
    "more: 1\n",
    "flexible.: 1\n",
    "By: 1\n",
    "introducing: 1\n",
    "Artificial: 3\n",
    "Intelligence: 3\n",
    "into: 1\n",
    "devices,: 1\n",
    "new: 2\n",
    "business: 2\n",
    "processes: 1\n",
    "opting: 1\n",
    "for: 2\n",
    "automated: 2\n",
    "process.: 1\n",
    "A: 1\n",
    "paradigm: 1\n",
    "emerges: 1\n",
    "result: 1\n",
    "of: 1\n",
    "intelligent: 3\n",
    "automation,: 1\n",
    "which: 2\n",
    "now: 3\n",
    "dictates: 1\n",
    "not: 1\n",
    "only: 1\n",
    "how: 1\n",
    "operate: 3\n",
    "but: 1\n",
    "also: 1\n",
    "who: 1\n",
    "does: 1\n",
    "job.: 1\n",
    "Many: 1\n",
    "manufacturing: 1\n",
    "sites: 1\n",
    "can: 1\n",
    "fully: 1\n",
    "with: 2\n",
    "robots: 1\n",
    "without: 1\n",
    "any: 1\n",
    "human: 1\n",
    "workers.: 1\n",
    "brings: 1\n",
    "unheard: 1\n",
    "unexpected: 1\n",
    "innovations: 1\n",
    "world: 1\n",
    "that: 2\n",
    "many: 2\n",
    "organizations: 1\n",
    "will: 1\n",
    "need: 1\n",
    "integrate: 1\n",
    "remain: 1\n",
    "competitive: 1\n",
    "move: 1\n",
    "further: 1\n",
    "lead: 1\n",
    "competitors.: 1\n",
    "shapes: 1\n",
    "lives: 1\n",
    "interactions: 1\n",
    "through: 2\n",
    "technological: 1\n",
    "advancement.: 1\n",
    "There: 1\n",
    "applications: 1\n",
    "specifically: 1\n",
    "developed: 1\n",
    "providing: 1\n",
    "better: 1\n",
    "services: 1\n",
    "individuals,: 1\n",
    "phones,: 1\n",
    "electronic: 1\n",
    "gadgets,: 1\n",
    "media: 1\n",
    "platforms: 1\n",
    "etc.: 1\n",
    "We: 1\n",
    "delegating: 1\n",
    "activities: 1\n",
    "applications,: 1\n",
    "personal: 1\n",
    "assistants,: 1\n",
    "wearable: 1\n",
    "other: 1\n",
    "applications.: 1\n",
    "household: 1\n",
    "apparatus: 1\n",
    "help: 1\n",
    "us: 1\n",
    "at: 1\n",
    "home: 1\n",
    "cooking: 1\n",
    "or: 1\n",
    "cleaning.: 1\n",
    "PS C:\\Users\\punee\\OneDrive\\Documents\\GitHub\\AI-ML\\Python_practice_exercises> \n",
    "    "
   ]
  },
  {
   "cell_type": "code",
   "execution_count": null,
   "id": "b5ff3ba6",
   "metadata": {},
   "outputs": [],
   "source": []
  },
  {
   "cell_type": "markdown",
   "id": "1e3ceae3",
   "metadata": {},
   "source": [
    "# 12. Build a command-line calculator that accepts a mathematical expression as a string argument and evaluates it, then prints the result."
   ]
  },
  {
   "cell_type": "code",
   "execution_count": null,
   "id": "867196f1",
   "metadata": {},
   "outputs": [],
   "source": [
    "import sys\n",
    "def calculator(expression):\n",
    "    try:\n",
    "        result = eval(expression)\n",
    "        return result\n",
    "    except Exception as e:\n",
    "        return f\"Error: {e}\"\n",
    "\n",
    "if __name__ == \"__main__\":\n",
    "    if len(sys.argv) != 2:\n",
    "        print(\"Usage: python calculator.py <expression>\")\n",
    "    else:\n",
    "        expression = sys.argv[1]\n",
    "        result = calculator(expression)\n",
    "        print(f\"Result: {result}\")"
   ]
  },
  {
   "cell_type": "code",
   "execution_count": null,
   "id": "9dc163d0",
   "metadata": {},
   "outputs": [],
   "source": [
    "PS C:\\Users\\punee\\OneDrive\\Documents\\GitHub\\AI-ML\\Python_practice_exercises> python calculator.py \"24+8\"  \n",
    "Result: 32\n",
    "PS C:\\Users\\punee\\OneDrive\\Documents\\GitHub\\AI-ML\\Python_practice_exercises> python calculator.py \"48-34\"\n",
    "Result: 14\n",
    "PS C:\\Users\\punee\\OneDrive\\Documents\\GitHub\\AI-ML\\Python_practice_exercises> python calculator.py \"53*78\"\n",
    "Result: 4134\n",
    "PS C:\\Users\\punee\\OneDrive\\Documents\\GitHub\\AI-ML\\Python_practice_exercises> python calculator.py \"8/4\"  \n",
    "Result: 2.0\n",
    "PS C:\\Users\\punee\\OneDrive\\Documents\\GitHub\\AI-ML\\Python_practice_exercises> python calculator.py \"8/5\"\n",
    "Result: 1.6\n",
    "PS C:\\Users\\punee\\OneDrive\\Documents\\GitHub\\AI-ML\\Python_practice_exercises> python calculator.py \"8//5\"\n",
    "Result: 1\n",
    "PS C:\\Users\\punee\\OneDrive\\Documents\\GitHub\\AI-ML\\Python_practice_exercises>"
   ]
  },
  {
   "cell_type": "code",
   "execution_count": 29,
   "id": "10351f4b",
   "metadata": {},
   "outputs": [
    {
     "name": "stdout",
     "output_type": "stream",
     "text": [
      "Help on built-in function eval in module builtins:\n",
      "\n",
      "eval(source, globals=None, locals=None, /)\n",
      "    Evaluate the given source in the context of globals and locals.\n",
      "    \n",
      "    The source may be a string representing a Python expression\n",
      "    or a code object as returned by compile().\n",
      "    The globals must be a dictionary and locals can be any mapping,\n",
      "    defaulting to the current globals and locals.\n",
      "    If only globals is given, locals defaults to it.\n",
      "\n"
     ]
    }
   ],
   "source": [
    "help(eval)"
   ]
  },
  {
   "cell_type": "markdown",
   "id": "e4b51e8a",
   "metadata": {},
   "source": [
    "# 14. Write a Python script that takes two integer command-line arguments and prints their sum"
   ]
  },
  {
   "cell_type": "code",
   "execution_count": null,
   "id": "c294d31f",
   "metadata": {},
   "outputs": [],
   "source": [
    "import sys\n",
    "\n",
    "if len(sys.argv) != 3:\n",
    "    print(\"Usage: python sum.py <integer1> <integer2>\")\n",
    "else:\n",
    "    try:\n",
    "        num1 = int(sys.argv[1])\n",
    "        num2 = int(sys.argv[2])\n",
    "        result = num1 + num2\n",
    "        print(f\"The sum of {num1} and {num2} is: {result}\")\n",
    "    except ValueError:\n",
    "        print(\"Error: Please provide two valid integers as command-line arguments.\")"
   ]
  },
  {
   "cell_type": "markdown",
   "id": "ba18b6ee",
   "metadata": {},
   "source": [
    "Output of Command line:\n",
    "    \n",
    "PS C:\\Users\\punee\\OneDrive\\Documents\\GitHub\\AI-ML\\Python_practice_exercises> python sum.py 45 67     \n",
    "The sum of 45 and 67 is: 112\n",
    "PS C:\\Users\\punee\\OneDrive\\Documents\\GitHub\\AI-ML\\Python_practice_exercises> python sum.py 85 89\n",
    "The sum of 85 and 89 is: 174\n",
    "PS C:\\Users\\punee\\OneDrive\\Documents\\GitHub\\AI-ML\\Python_practice_exercises>"
   ]
  },
  {
   "cell_type": "code",
   "execution_count": null,
   "id": "055e877e",
   "metadata": {},
   "outputs": [],
   "source": []
  },
  {
   "cell_type": "code",
   "execution_count": 38,
   "id": "8d43d3e6",
   "metadata": {},
   "outputs": [
    {
     "ename": "ModuleNotFoundError",
     "evalue": "No module named 'math_operations'",
     "output_type": "error",
     "traceback": [
      "\u001b[1;31m---------------------------------------------------------------------------\u001b[0m",
      "\u001b[1;31mModuleNotFoundError\u001b[0m                       Traceback (most recent call last)",
      "Cell \u001b[1;32mIn[38], line 3\u001b[0m\n\u001b[0;32m      1\u001b[0m \u001b[38;5;66;03m# main_script.py\u001b[39;00m\n\u001b[1;32m----> 3\u001b[0m \u001b[38;5;28;01mimport\u001b[39;00m \u001b[38;5;21;01mmath_operations\u001b[39;00m\n\u001b[0;32m      5\u001b[0m \u001b[38;5;66;03m# Using the factorial function\u001b[39;00m\n\u001b[0;32m      6\u001b[0m result_factorial \u001b[38;5;241m=\u001b[39m math_operations\u001b[38;5;241m.\u001b[39mfactorial(\u001b[38;5;241m5\u001b[39m)\n",
      "\u001b[1;31mModuleNotFoundError\u001b[0m: No module named 'math_operations'"
     ]
    }
   ],
   "source": [
    "# main_script.py\n",
    "\n",
    "import math_operations\n",
    "\n",
    "# Using the factorial function\n",
    "result_factorial = math_operations.factorial(5)\n",
    "print(f\"The factorial of 5 is: {result_factorial}\")\n",
    "\n",
    "# Using the is_prime function\n",
    "number_to_check = 17\n",
    "if math_operations.is_prime(number_to_check):\n",
    "    print(f\"{number_to_check} is a prime number\")\n",
    "else:\n",
    "    print(f\"{number_to_check} is not a prime number\")"
   ]
  },
  {
   "cell_type": "code",
   "execution_count": null,
   "id": "c4cd2726",
   "metadata": {},
   "outputs": [],
   "source": []
  },
  {
   "cell_type": "markdown",
   "id": "62be53c9",
   "metadata": {},
   "source": [
    "# 16. Create a Python module named calculator.py that contains functions for each of the four operations (addition, subtraction, multiplication, and division). Each function should take two arguments, perform the respective operation, and return the result."
   ]
  },
  {
   "cell_type": "code",
   "execution_count": 37,
   "id": "07a2a7ec",
   "metadata": {},
   "outputs": [],
   "source": [
    "# calculator.py\n",
    "\n",
    "def add(a, b):\n",
    "    \"\"\"Addition\"\"\"\n",
    "    return a + b\n",
    "\n",
    "def subtract(a, b):\n",
    "    \"\"\"Subtraction\"\"\"\n",
    "    return a - b\n",
    "\n",
    "def multiply(a, b):\n",
    "    \"\"\"Multiplication\"\"\"\n",
    "    return a * b\n",
    "\n",
    "def divide(a, b):\n",
    "    \"\"\"Division\"\"\"\n",
    "    if b == 0:\n",
    "        raise ValueError(\"Division by zero is not allowed.\")\n",
    "    return a / b\n",
    "\n"
   ]
  },
  {
   "cell_type": "code",
   "execution_count": null,
   "id": "f35580ed",
   "metadata": {},
   "outputs": [],
   "source": []
  },
  {
   "cell_type": "code",
   "execution_count": 36,
   "id": "26d597ce",
   "metadata": {},
   "outputs": [
    {
     "name": "stdout",
     "output_type": "stream",
     "text": [
      "Sum result:  57\n",
      "subtract result:  9\n",
      "multiply result:  396\n",
      "divide result:  2.0\n"
     ]
    }
   ],
   "source": [
    "# main.py\n",
    "\n",
    "import calculator\n",
    "\n",
    "a = 10\n",
    "b = 5\n",
    "\n",
    "# Perform calculations using functions from the calculator module\n",
    "sum_result = calculator.add(a, b)\n",
    "difference_result = calculator.subtract(a, b)\n",
    "product_result = calculator.multiply(a, b)\n",
    "try:\n",
    "    division_result = calculator.divide(a, b)\n",
    "except ValueError as e:\n",
    "    print(e)\n",
    "\n",
    "print(f\"Sum result: {sum_result}\")\n",
    "print(f\"subtract result: {difference_result}\")\n",
    "print(f\"Multiply result: {product_result}\")\n",
    "print(f\"divide result: {division_result}\")\n"
   ]
  },
  {
   "cell_type": "code",
   "execution_count": null,
   "id": "c8986b8b",
   "metadata": {},
   "outputs": [],
   "source": []
  }
 ],
 "metadata": {
  "kernelspec": {
   "display_name": "Python 3 (ipykernel)",
   "language": "python",
   "name": "python3"
  },
  "language_info": {
   "codemirror_mode": {
    "name": "ipython",
    "version": 3
   },
   "file_extension": ".py",
   "mimetype": "text/x-python",
   "name": "python",
   "nbconvert_exporter": "python",
   "pygments_lexer": "ipython3",
   "version": "3.11.4"
  }
 },
 "nbformat": 4,
 "nbformat_minor": 5
}
