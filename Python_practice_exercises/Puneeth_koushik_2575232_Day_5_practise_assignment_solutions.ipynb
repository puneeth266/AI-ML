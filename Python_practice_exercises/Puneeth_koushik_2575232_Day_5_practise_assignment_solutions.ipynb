{
 "cells": [
  {
   "cell_type": "code",
   "execution_count": null,
   "id": "d6f3bea4",
   "metadata": {},
   "outputs": [],
   "source": []
  },
  {
   "cell_type": "code",
   "execution_count": null,
   "id": "278fdd35",
   "metadata": {},
   "outputs": [],
   "source": []
  },
  {
   "cell_type": "markdown",
   "id": "bf9db5b7",
   "metadata": {},
   "source": [
    "# 1. Module Import and Management\n",
    "\n",
    "Scenario: You are developing a complex Python project with multiple modules. To manage the project effectively, you need to import and use various modules. Additionally, you want to organize your code using namespaces and avoid naming conflicts.\n",
    "\n",
    "Design a Python program that demonstrates the following:\n",
    "\n",
    "1. Import multiple modules within your project.\n",
    "\n",
    "2. Use the import statement to access functions, classes, and variables from imported modules.\n",
    "\n",
    "3. Create your custom module and use it in your main program.\n",
    "\n",
    "4. Handle naming conflicts and ensure proper namespacing. 5. Implement error handling for missing modules or incorrect module usage.\n"
   ]
  },
  {
   "cell_type": "code",
   "execution_count": null,
   "id": "955c4d5e",
   "metadata": {},
   "outputs": [],
   "source": []
  },
  {
   "cell_type": "code",
   "execution_count": 1,
   "id": "f89626ee",
   "metadata": {},
   "outputs": [],
   "source": [
    "# my_module.py\n",
    "\n",
    "def func_():\n",
    "    return \"Hey hello from Mphasis from module.\"\n",
    "\n",
    "custom_variable = \"Hey hello from Mphasis\"\n",
    "\n",
    "class CustomClass:\n",
    "    def __init__(self):\n",
    "        self.message = \"Custom Class Instance from my_module\"\n",
    "\n",
    "    def print_message(self):\n",
    "        print(self.message)\n"
   ]
  },
  {
   "cell_type": "code",
   "execution_count": 2,
   "id": "b6bbb3e7",
   "metadata": {},
   "outputs": [
    {
     "name": "stdout",
     "output_type": "stream",
     "text": [
      "Hey hello from Mphasis from module.\n",
      "Hey hello from Mphasis\n",
      "Custom Class Instance from my_module\n",
      "Hey hello from Mphasis from main.py\n"
     ]
    }
   ],
   "source": [
    "# main.py\n",
    "\n",
    "try:\n",
    "    import my_module\n",
    "    print(my_module.func_())\n",
    "    print(my_module.custom_variable)\n",
    "\n",
    "    my_object = my_module.CustomClass()\n",
    "    my_object.print_message()\n",
    "\n",
    "    custom_variable = \"Hey hello from Mphasis from main.py\"\n",
    "    print(custom_variable)\n",
    "\n",
    "except ImportError:\n",
    "    print(\"Error: The required module is missing.\")\n",
    "except AttributeError as e:\n",
    "    print(f\"Attribute Error: {e}\")\n",
    "except Exception as e:\n",
    "    print(f\"An unexpected error occurred: {e}\")\n"
   ]
  },
  {
   "cell_type": "code",
   "execution_count": null,
   "id": "a77231d6",
   "metadata": {},
   "outputs": [],
   "source": []
  },
  {
   "cell_type": "markdown",
   "id": "e5acc2d2",
   "metadata": {},
   "source": [
    "# 2.Virtual Environment Management\n",
    "\n",
    "Scenario: You are working on multiple Python projects with different dependencies and versions. To avoid conflicts and ensure project isolation, you decide to use virtual environments.\n",
    "\n",
    "Create a Python program that demonstrates the following:\n",
    "\n",
    "1. Create a virtual environment for a specific project.\n",
    "\n",
    "2. Activate and deactivate virtual environments.\n",
    "\n",
    "3. Install, upgrade, and uninstall packages within a virtual environment.\n",
    "\n",
    "4. List the installed packages in a virtual environment.\n",
    "\n",
    "5. Implement error handling for virtual environment operations."
   ]
  },
  {
   "cell_type": "raw",
   "id": "9267412e",
   "metadata": {},
   "source": [
    "1.python -m venv demoenv \n",
    "2. .\\demoenv\\Scripts\\activate   \n",
    "     deactivate\n",
    "3.  pip install numpy , pip install --upgrade numpy , pip uninstall numpy  \n",
    "4. pip list\n"
   ]
  },
  {
   "cell_type": "code",
   "execution_count": null,
   "id": "bd52848b",
   "metadata": {},
   "outputs": [],
   "source": []
  },
  {
   "cell_type": "markdown",
   "id": "f5e6ba0f",
   "metadata": {},
   "source": [
    "3. Module Dependency Resolution\n",
    "\n",
    "Scenario: You are developing a Python application that relies on third-party packages. Managing dependencies and ensuring compatibility is crucial for your project's success.\n",
    "\n",
    "Design a Python program that demonstrates the following:\n",
    "\n",
    "1. Use a requirements.txt file to specify project dependencies.\n",
    "\n",
    "2. Automatically install all project dependencies from the requirements.txt file.\n",
    "\n",
    "3. Ensure that the versions of installed packages are compatible. 4. Implement error handling for dependency resolution and installation.\n"
   ]
  },
  {
   "cell_type": "code",
   "execution_count": 3,
   "id": "05711c2c",
   "metadata": {},
   "outputs": [
    {
     "ename": "SyntaxError",
     "evalue": "invalid syntax (4058227810.py, line 1)",
     "output_type": "error",
     "traceback": [
      "\u001b[1;36m  Cell \u001b[1;32mIn[3], line 1\u001b[1;36m\u001b[0m\n\u001b[1;33m    pip install -r requirements.txt\u001b[0m\n\u001b[1;37m        ^\u001b[0m\n\u001b[1;31mSyntaxError\u001b[0m\u001b[1;31m:\u001b[0m invalid syntax\n"
     ]
    }
   ],
   "source": [
    "pip install -r requirements.txt \n",
    "pip list"
   ]
  },
  {
   "cell_type": "code",
   "execution_count": null,
   "id": "9ac5cec5",
   "metadata": {},
   "outputs": [],
   "source": []
  },
  {
   "cell_type": "code",
   "execution_count": null,
   "id": "07dcc11e",
   "metadata": {},
   "outputs": [],
   "source": []
  },
  {
   "cell_type": "code",
   "execution_count": null,
   "id": "48dc677e",
   "metadata": {},
   "outputs": [],
   "source": []
  },
  {
   "cell_type": "markdown",
   "id": "42b610dc",
   "metadata": {},
   "source": [
    "# Database programming with MySQL:\n",
    "\n",
    "1. Implement Inventory Management in Python with MySQL\n",
    "\n",
    "a) Inventory management, a critical element of the supply chain, is the tracking of inventory from manufacturers to warehouses and from these facilities to a point of sale. The goal of inventory management is to have the right products in the right place at the right time.\n",
    "\n",
    "b) The required Database is Inventory, and the required Tables are Purchases, Sales and Inventory\n",
    "\n",
    "c) Note: Apply your thoughts to demonstrate the DB Operation in Python."
   ]
  },
  {
   "cell_type": "code",
   "execution_count": 22,
   "id": "b649689a",
   "metadata": {},
   "outputs": [
    {
     "name": "stdout",
     "output_type": "stream",
     "text": [
      "The data is added successfully in mysql\n",
      "\n",
      "1 Row(s) insterted just now\n"
     ]
    }
   ],
   "source": [
    "import mysql.connector\n",
    "\n",
    "# Connect to the MySQL database\n",
    "db = mysql.connector.connect(\n",
    "    host=\"127.0.0.1\",\n",
    "    user=\"root\",\n",
    "    password=\"******\",\n",
    "    database=\"inventory\"\n",
    ")\n",
    "cursor = db.cursor()\n",
    "\n",
    "def add_purchase(product_name, quantity, purchase_date):\n",
    "    sql = \"INSERT INTO Purchases (product_name, quantity, purchase_date) VALUES (%s, %s, %s)\"\n",
    "    values = (product_name, quantity, purchase_date)\n",
    "    cursor.execute(sql, values)\n",
    "    db.commit()\n",
    "\n",
    "def add_sale(product_name, quantity, sale_date):\n",
    "    sql = \"INSERT INTO Sales (product_name, quantity, sale_date) VALUES (%s, %s, %s)\"\n",
    "    values = (product_name, quantity, sale_date)\n",
    "    cursor.execute(sql, values)\n",
    "    db.commit()\n",
    "\n",
    "Purchase=add_purchase(\"cadbury\", 12, \"2022-09-14\")\n",
    "sale=add_sale(\"Dairymilk\", 7, \"2020-07-15\")\n",
    "\n",
    "print(\"The data is added successfully in mysql\")\n",
    "\n",
    "print()\n",
    "print(cursor.rowcount, \"Row(s) insterted just now\")\n",
    "\n",
    "#db.close()\n"
   ]
  },
  {
   "cell_type": "code",
   "execution_count": 27,
   "id": "65848289",
   "metadata": {},
   "outputs": [
    {
     "name": "stdout",
     "output_type": "stream",
     "text": [
      "('bookorderdetails',)\n",
      "('bookorders',)\n",
      "('books',)\n",
      "('customers',)\n",
      "('inventory',)\n",
      "('orderdetails',)\n",
      "('orders',)\n",
      "('products',)\n",
      "('purchases',)\n",
      "('sales',)\n"
     ]
    }
   ],
   "source": [
    "cursor = db.cursor()\n",
    "cursor.execute(\"show tables\")\n",
    "for i in cursor:\n",
    "    print(i)"
   ]
  },
  {
   "cell_type": "code",
   "execution_count": 28,
   "id": "f7bfce12",
   "metadata": {},
   "outputs": [
    {
     "name": "stdout",
     "output_type": "stream",
     "text": [
      "(3, 'Pista', 10, datetime.date(2023, 9, 16))\n",
      "(4, 'Pista', 10, datetime.date(2023, 9, 16))\n",
      "(5, 'Pista', 10, datetime.date(2023, 9, 16))\n",
      "(6, 'Pista', 10, datetime.date(2023, 9, 16))\n",
      "(7, 'Pista', 10, datetime.date(2023, 9, 16))\n",
      "(8, 'kaju', 10, datetime.date(2023, 9, 16))\n",
      "(9, 'kaju', 10, datetime.date(2023, 9, 16))\n",
      "(10, 'ferrerro', 10, datetime.date(2023, 9, 16))\n",
      "(11, 'cadbury', 12, datetime.date(2022, 9, 14))\n",
      "(12, 'cadbury', 12, datetime.date(2022, 9, 14))\n"
     ]
    }
   ],
   "source": [
    "cursor = db.cursor()\n",
    "cursor.execute(\"select * from Purchases\")\n",
    "for i in cursor:\n",
    "    print(i)"
   ]
  },
  {
   "cell_type": "code",
   "execution_count": 25,
   "id": "bbaa4f57",
   "metadata": {},
   "outputs": [
    {
     "name": "stdout",
     "output_type": "stream",
     "text": [
      "(3, 'Badam', 5, datetime.date(2023, 9, 17))\n",
      "(4, 'Badam', 5, datetime.date(2023, 9, 17))\n",
      "(5, 'Badam', 5, datetime.date(2023, 9, 17))\n",
      "(6, 'Badam', 5, datetime.date(2023, 9, 17))\n",
      "(7, 'Badam', 5, datetime.date(2023, 9, 17))\n",
      "(10, 'roacher', 5, datetime.date(2023, 9, 17))\n",
      "(11, 'Dairymilk', 7, datetime.date(2020, 7, 15))\n",
      "(12, 'Dairymilk', 7, datetime.date(2020, 7, 15))\n"
     ]
    }
   ],
   "source": [
    "cursor = db.cursor()\n",
    "cursor.execute(\"select * from sales\")\n",
    "for i in cursor:\n",
    "    print(i)"
   ]
  },
  {
   "cell_type": "code",
   "execution_count": null,
   "id": "018772ac",
   "metadata": {},
   "outputs": [],
   "source": [
    "cursor = db.cursor()\n",
    "#cursor.execute(\"DELETE FROM Purchases WHERE product_name = Product A\")\n",
    "\n",
    "#cursor.execute(\"delete from Purchases where product_name= Product A\")\n",
    "#for i in cursor:\n",
    "  #  print(i)\n",
    "    \n",
    "product_name_to_delete = \"raisins\"\n",
    "delete_sales_query = \"DELETE FROM sales WHERE product_name = %s\"\n",
    "cursor.execute(delete_sales_query, (product_name_to_delete,))\n",
    "db.commit()\n",
    "\n",
    "print(cursor.rowcount, \"Row(s) deleted just now\")\n",
    "print()\n",
    "print(\"The data is successfully deleted in mysql\")\n"
   ]
  },
  {
   "cell_type": "code",
   "execution_count": 29,
   "id": "a70a2c77",
   "metadata": {},
   "outputs": [
    {
     "name": "stdout",
     "output_type": "stream",
     "text": [
      "(3, 'Pista', 10, datetime.date(2023, 9, 16))\n",
      "(4, 'Pista', 10, datetime.date(2023, 9, 16))\n",
      "(5, 'Pista', 10, datetime.date(2023, 9, 16))\n",
      "(6, 'Pista', 10, datetime.date(2023, 9, 16))\n",
      "(7, 'Pista', 10, datetime.date(2023, 9, 16))\n",
      "(8, 'kaju', 10, datetime.date(2023, 9, 16))\n",
      "(9, 'kaju', 10, datetime.date(2023, 9, 16))\n",
      "(10, 'ferrerro', 10, datetime.date(2023, 9, 16))\n",
      "(11, 'cadbury', 12, datetime.date(2022, 9, 14))\n",
      "(12, 'cadbury', 12, datetime.date(2022, 9, 14))\n"
     ]
    }
   ],
   "source": [
    "cursor = db.cursor()\n",
    "cursor.execute(\"select * from Purchases\")\n",
    "for i in cursor:\n",
    "    print(i)"
   ]
  },
  {
   "cell_type": "code",
   "execution_count": 30,
   "id": "8fd0f32b",
   "metadata": {},
   "outputs": [
    {
     "name": "stdout",
     "output_type": "stream",
     "text": [
      "(3, 'Badam', 5, datetime.date(2023, 9, 17))\n",
      "(4, 'Badam', 5, datetime.date(2023, 9, 17))\n",
      "(5, 'Badam', 5, datetime.date(2023, 9, 17))\n",
      "(6, 'Badam', 5, datetime.date(2023, 9, 17))\n",
      "(7, 'Badam', 5, datetime.date(2023, 9, 17))\n",
      "(10, 'roacher', 5, datetime.date(2023, 9, 17))\n",
      "(11, 'Dairymilk', 7, datetime.date(2020, 7, 15))\n",
      "(12, 'Dairymilk', 7, datetime.date(2020, 7, 15))\n"
     ]
    }
   ],
   "source": [
    "cursor = db.cursor()\n",
    "cursor.execute(\"select * from sales\")\n",
    "for i in cursor:\n",
    "    print(i)"
   ]
  },
  {
   "cell_type": "code",
   "execution_count": null,
   "id": "1f6b1d16",
   "metadata": {},
   "outputs": [],
   "source": [
    "\n",
    "cursor = db.cursor()\n",
    "cursor.execute(\"SHOW DATABASES\")\n",
    "for i in cursor:\n",
    "    print(i)\n"
   ]
  },
  {
   "cell_type": "code",
   "execution_count": null,
   "id": "fbb501ea",
   "metadata": {},
   "outputs": [],
   "source": []
  },
  {
   "cell_type": "code",
   "execution_count": null,
   "id": "e1df90c3",
   "metadata": {},
   "outputs": [],
   "source": []
  },
  {
   "cell_type": "code",
   "execution_count": null,
   "id": "683ede39",
   "metadata": {},
   "outputs": [],
   "source": []
  },
  {
   "cell_type": "markdown",
   "id": "2519224b",
   "metadata": {},
   "source": [
    "# 2.Customer Order Processing\n",
    "\n",
    "Scenario: You are building a customer order processing system for an e-commerce company. The system needs to interact with a MySQL database to store customer orders, products, and order details.\n",
    "\n",
    "1. Design a MySQL database schema for the order processing system, including tables for customers, products, and orders.\n",
    "\n",
    "2. Write a Python program that connects to the database and allows customers to place new orders.\n",
    "\n",
    "3. Implement a feature that calculates the total cost of an order and updates product quantities in the database.\n",
    "\n",
    "4. How would you handle cases where a product is no longer available when a customer places an order?\n",
    "\n",
    "5. Develop a function to generate order reports for the company's finance department.\n"
   ]
  },
  {
   "cell_type": "markdown",
   "id": "0303e0b2",
   "metadata": {},
   "source": [
    "# Data base Queries to create tables\n",
    "\n",
    "CREATE TABLE Customers (\n",
    "    customer_id INT AUTO_INCREMENT PRIMARY KEY,\n",
    "    name VARCHAR(255) NOT NULL,\n",
    "    address VARCHAR(255),\n",
    "    email VARCHAR(255),\n",
    "    phone VARCHAR(20)\n",
    ");\n",
    "\n",
    "CREATE TABLE Products (\n",
    "    product_id INT AUTO_INCREMENT PRIMARY KEY,\n",
    "    name VARCHAR(255) NOT NULL,\n",
    "    description TEXT,\n",
    "    price DECIMAL(10, 2) NOT NULL,\n",
    "    quantity INT NOT NULL\n",
    ");\n",
    "\n",
    "CREATE TABLE Orders (\n",
    "    order_id INT AUTO_INCREMENT PRIMARY KEY,\n",
    "    customer_id INT,\n",
    "    order_date DATE,\n",
    "    status VARCHAR(20) DEFAULT 'pending',\n",
    "    FOREIGN KEY (customer_id) REFERENCES Customers(customer_id)\n",
    ");\n",
    "\n",
    "CREATE TABLE OrderDetails (\n",
    "    order_detail_id INT AUTO_INCREMENT PRIMARY KEY,\n",
    "    order_id INT,\n",
    "    product_id INT,\n",
    "    quantity INT,\n",
    "    total_price DECIMAL(10, 2),\n",
    "    FOREIGN KEY (order_id) REFERENCES Orders(order_id),\n",
    "    FOREIGN KEY (product_id) REFERENCES Products(product_id)\n",
    ");\n"
   ]
  },
  {
   "cell_type": "code",
   "execution_count": 26,
   "id": "1326f275",
   "metadata": {},
   "outputs": [
    {
     "name": "stdout",
     "output_type": "stream",
     "text": [
      "Product not available in the required quantity.\n"
     ]
    }
   ],
   "source": [
    "#import mysql.connector\n",
    "\n",
    "# Connect to the MySQL database\n",
    "db = mysql.connector.connect(\n",
    "    host=\"127.0.0.1\",\n",
    "    user=\"root\",\n",
    "    password=\"*****\",\n",
    "    database=\"inventory\"\n",
    ")\n",
    "# Create a cursor object to interact with the database\n",
    "cursor = db.cursor()\n",
    "\n",
    "def place_order(customer_id, product_id, quantity):\n",
    "    # Check if the product is available\n",
    "    cursor.execute(\"SELECT quantity FROM Products WHERE product_id = %s\", (product_id,))\n",
    "    row = cursor.fetchone()\n",
    "\n",
    "    if row is None:\n",
    "        print(\"Product not found.\")\n",
    "        return\n",
    "\n",
    "    available_quantity = row[0]\n",
    "\n",
    "    if available_quantity < quantity:\n",
    "        print(\"Product not available in the required quantity.\")\n",
    "        return\n",
    "\n",
    "    # Calculate the total price\n",
    "    cursor.execute(\"SELECT price FROM Products WHERE product_id = %s\", (product_id,))\n",
    "    row = cursor.fetchone()\n",
    "\n",
    "    if row is None:\n",
    "        print(\"Product price not found.\")\n",
    "        return\n",
    "\n",
    "    price = row[0]\n",
    "    total_price = price * quantity\n",
    "\n",
    "    # Insert the order and order details into the database\n",
    "    cursor.execute(\"INSERT INTO Orders (customer_id, order_date) VALUES (%s, NOW())\", (customer_id,))\n",
    "    order_id = cursor.lastrowid\n",
    "    cursor.execute(\"INSERT INTO OrderDetails (order_id, product_id, quantity, total_price) VALUES (%s, %s, %s, %s)\",\n",
    "                   (order_id, product_id, quantity, total_price))\n",
    "\n",
    "    # Update product quantity\n",
    "    new_quantity = available_quantity - quantity\n",
    "    cursor.execute(\"UPDATE Products SET quantity = %s WHERE product_id = %s\", (new_quantity, product_id))\n",
    "\n",
    "    db.commit()\n",
    "    print(f\"Order placed successfully with order ID {order_id}\")\n",
    "\n",
    "place_order(1, 3, 250)\n"
   ]
  },
  {
   "cell_type": "code",
   "execution_count": null,
   "id": "cdefdf53",
   "metadata": {},
   "outputs": [],
   "source": [
    "cursor = db.cursor()\n",
    "cursor.execute(\"SHOW tables\")\n",
    "for i in cursor:\n",
    "    print(i)"
   ]
  },
  {
   "cell_type": "code",
   "execution_count": null,
   "id": "9c321df5",
   "metadata": {},
   "outputs": [],
   "source": [
    "cursor = db.cursor()\n",
    "cursor.execute(\"Select * from products\")\n",
    "for i in cursor:\n",
    "    print(i)\n"
   ]
  },
  {
   "cell_type": "code",
   "execution_count": null,
   "id": "0424b8f4",
   "metadata": {},
   "outputs": [],
   "source": [
    "cursor = db.cursor()\n",
    "cursor.execute(\"Select * from Customers\")\n",
    "for i in cursor:\n",
    "    print(i) \n"
   ]
  },
  {
   "cell_type": "code",
   "execution_count": null,
   "id": "839abda4",
   "metadata": {},
   "outputs": [],
   "source": [
    "\n",
    "cursor = db.cursor()\n",
    "cursor.execute(\"Select * from orders\")\n",
    "for i in cursor:\n",
    "    print(i) \n"
   ]
  },
  {
   "cell_type": "code",
   "execution_count": null,
   "id": "037a7b05",
   "metadata": {},
   "outputs": [],
   "source": [
    "\n",
    "cursor = db.cursor()\n",
    "cursor.execute(\"Select * from orderdetails\")\n",
    "for i in cursor:\n",
    "    print(i) \n"
   ]
  },
  {
   "cell_type": "code",
   "execution_count": null,
   "id": "2f818d90",
   "metadata": {},
   "outputs": [],
   "source": [
    "db.close()"
   ]
  },
  {
   "cell_type": "code",
   "execution_count": null,
   "id": "9b1519d6",
   "metadata": {},
   "outputs": [],
   "source": [
    "import mysql.connector\n",
    "db = mysql.connector.connect(\n",
    "    host=\"127.0.0.1\",\n",
    "    user=\"root\",\n",
    "    password=\"*********\",\n",
    "    database=\"inventory\"\n",
    ")\n",
    "cursor = db.cursor()\n",
    "cursor.execute(\"Select * from orderdetails\")\n",
    "\n",
    "column_names = [column[0] for column in cursor.description]\n",
    "\n",
    "print(column_names)\n",
    "\n",
    "# Print the data along with column names\n",
    "for row in cursor:\n",
    "    for i, value in enumerate(row):\n",
    "        print(f\"{column_names[i]}: {value}\")\n",
    "    print(\"\\n\")\n",
    "\n",
    "#for i in cursor:\n",
    "#    print(i) \n"
   ]
  },
  {
   "cell_type": "code",
   "execution_count": null,
   "id": "9d2f6024",
   "metadata": {},
   "outputs": [],
   "source": []
  },
  {
   "cell_type": "code",
   "execution_count": 31,
   "id": "b6f259f9",
   "metadata": {},
   "outputs": [
    {
     "ename": "AttributeError",
     "evalue": "'dict' object has no attribute 'cursor'",
     "output_type": "error",
     "traceback": [
      "\u001b[1;31m---------------------------------------------------------------------------\u001b[0m",
      "\u001b[1;31mAttributeError\u001b[0m                            Traceback (most recent call last)",
      "Cell \u001b[1;32mIn[31], line 61\u001b[0m\n\u001b[0;32m     58\u001b[0m     \u001b[38;5;28mprint\u001b[39m(\u001b[38;5;124m\"\u001b[39m\u001b[38;5;124mOrder report generated successfully as \u001b[39m\u001b[38;5;124m'\u001b[39m\u001b[38;5;124morder_report.csv\u001b[39m\u001b[38;5;124m'\u001b[39m\u001b[38;5;124m.\u001b[39m\u001b[38;5;124m\"\u001b[39m)\n\u001b[0;32m     60\u001b[0m \u001b[38;5;66;03m# Call the function to generate the order report\u001b[39;00m\n\u001b[1;32m---> 61\u001b[0m generate_order_report()\n",
      "Cell \u001b[1;32mIn[31], line 17\u001b[0m, in \u001b[0;36mgenerate_order_report\u001b[1;34m()\u001b[0m\n\u001b[0;32m     15\u001b[0m connection \u001b[38;5;241m=\u001b[39m mysql\u001b[38;5;241m.\u001b[39mconnector\u001b[38;5;241m.\u001b[39mconnect(\u001b[38;5;241m*\u001b[39m\u001b[38;5;241m*\u001b[39mdb)\n\u001b[0;32m     16\u001b[0m \u001b[38;5;66;03m# Create a cursor object to interact with the database\u001b[39;00m\n\u001b[1;32m---> 17\u001b[0m cursor \u001b[38;5;241m=\u001b[39m db\u001b[38;5;241m.\u001b[39mcursor()\n\u001b[0;32m     19\u001b[0m \u001b[38;5;66;03m# Query to retrieve order information\u001b[39;00m\n\u001b[0;32m     20\u001b[0m query \u001b[38;5;241m=\u001b[39m \u001b[38;5;124m\"\"\"\u001b[39m\n\u001b[0;32m     21\u001b[0m \u001b[38;5;124mSELECT \u001b[39m\n\u001b[0;32m     22\u001b[0m \u001b[38;5;124m    Orders.order_id, \u001b[39m\n\u001b[1;32m   (...)\u001b[0m\n\u001b[0;32m     35\u001b[0m \u001b[38;5;124m    Products ON OrderDetails.product_id = Products.product_id\u001b[39m\n\u001b[0;32m     36\u001b[0m \u001b[38;5;124m\u001b[39m\u001b[38;5;124m\"\"\"\u001b[39m\n",
      "\u001b[1;31mAttributeError\u001b[0m: 'dict' object has no attribute 'cursor'"
     ]
    }
   ],
   "source": [
    "import mysql.connector\n",
    "import csv\n",
    "\n",
    "def generate_order_report():\n",
    "    # Connect to the MySQL database\n",
    "    db = {\n",
    "        \"host\": \"localhost\",\n",
    "        \"port\": 3306,\n",
    "        \"user\": \"root\",\n",
    "        \"password\": \"Siri@123\",\n",
    "        \"database\": \"inventory\"\n",
    "    }\n",
    "\n",
    "    # Connect to the MySQL database\n",
    "    connection = mysql.connector.connect(**db)\n",
    "    # Create a cursor object to interact with the database\n",
    "    cursor = db.cursor()\n",
    "\n",
    "    # Query to retrieve order information\n",
    "    query = \"\"\"\n",
    "    SELECT \n",
    "        Orders.order_id, \n",
    "        Customers.name AS customer_name, \n",
    "        Orders.order_date, \n",
    "        Products.name AS product_name, \n",
    "        OrderDetails.quantity, \n",
    "        OrderDetails.total_price \n",
    "    FROM \n",
    "        Orders\n",
    "    JOIN \n",
    "        Customers ON Orders.customer_id = Customers.customer_id\n",
    "    JOIN \n",
    "        OrderDetails ON Orders.order_id = OrderDetails.order_id\n",
    "    JOIN \n",
    "        Products ON OrderDetails.product_id = Products.product_id\n",
    "    \"\"\"\n",
    "\n",
    "    # Execute the query\n",
    "    cursor.execute(query)\n",
    "\n",
    "    # Fetch all the records\n",
    "    order_records = cursor.fetchall()\n",
    "    print(\"hi\")\n",
    "    # Close the database connection\n",
    "    #db.close()\n",
    "\n",
    "    # Create a CSV file for the report\n",
    "    with open(\"order_report.csv\", mode=\"w\", newline=\"\") as file:\n",
    "        writer = csv.writer(file)\n",
    "        \n",
    "        # Write column headers\n",
    "        writer.writerow([\"Order ID\", \"Customer Name\", \"Order Date\", \"Product Name\", \"Quantity\", \"Total Price\"])\n",
    "        \n",
    "        # Write data rows\n",
    "        for record in order_records:\n",
    "            writer.writerow(record)\n",
    "\n",
    "    print(\"Order report generated successfully as 'order_report.csv'.\")\n",
    "\n",
    "# Call the function to generate the order report\n",
    "generate_order_report()\n"
   ]
  },
  {
   "cell_type": "code",
   "execution_count": null,
   "id": "0ff63f0a",
   "metadata": {},
   "outputs": [],
   "source": []
  },
  {
   "cell_type": "markdown",
   "id": "aa76d2dc",
   "metadata": {},
   "source": [
    "# 3.. You are tasked with developing a Python program that connects to a MySQL database, retrieves data from a table, performs some operations on the data, and updates the database with the modified data. Please write Python code to accomplish this task.\n",
    "\n",
    "Instructions:\n",
    "\n",
    "1. Assume that you have a MySQL database server running with the following details: i. Host: localhost\n",
    "\n",
    "ii. Port: 3306\n",
    "\n",
    "\n",
    "iii. Username: your username iv. Password: your password\n",
    "\n",
    "v. Database Name: your database\n",
    "\n",
    "vi. Table Name: your_table\n",
    "\n",
    "vii. The table has the following columns: id (int), name (varchar), quantity (int).\n",
    "\n",
    "2. Your Python program should:\n",
    "\n",
    "i. Connect to the MySQL database.\n",
    "\n",
    "ii. Retrieve all records from the your table table.\n",
    "\n",
    "iii. Calculate the total quantity of all records retrieved.\n",
    "\n",
    "iv. Update the quantity column of each record by doubling its value.\n",
    "\n",
    "v. Commit the changes to the database.\n",
    "\n",
    "vi. Close the database connection.\n",
    "\n",
    "3. Handle any potential errors that may occur during the database connection and data manipulation, such as connection failures or SQL errors.\n",
    "\n",
    "4. Provide comments in your code to explain each step."
   ]
  },
  {
   "cell_type": "code",
   "execution_count": 18,
   "id": "5002cba5",
   "metadata": {},
   "outputs": [
    {
     "name": "stdout",
     "output_type": "stream",
     "text": [
      "Data retrieved, modified, and updated successfully.\n"
     ]
    }
   ],
   "source": [
    "import mysql.connector\n",
    "from datetime import date\n",
    "try:\n",
    "    # Database connection details\n",
    "    db_config = {\n",
    "        \"host\": \"localhost\",\n",
    "        \"port\": 3306,\n",
    "        \"user\": \"root\",\n",
    "        \"password\": \"Siri@123\",\n",
    "        \"database\": \"inventory\"\n",
    "    }\n",
    "\n",
    "    # Connect to the MySQL database\n",
    "    connection = mysql.connector.connect(**db_config)\n",
    "    cursor = connection.cursor()\n",
    "\n",
    "    # Retrieve all records from the table\n",
    "    cursor.execute(\"SELECT * FROM orders\")\n",
    "    records = cursor.fetchall()\n",
    "    \n",
    "    total_quantity = 0\n",
    "    # Calculate the total quantity of all records retrieved\n",
    "    for record in records:\n",
    "        # Convert the quantity to an integer if it's a datetime.date object\n",
    "        quantity = record[1] if isinstance(record[1], int) else int(record[1].strftime('%Y%m%d'))\n",
    "        total_quantity += quantity\n",
    "\n",
    "    # Double the quantity of each record and update the database\n",
    "    for record in records:\n",
    "        # Convert the quantity to an integer if it's a datetime.date object\n",
    "        quantity = record[1] if isinstance(record[1], int) else int(record[1].strftime('%Y%m%d'))\n",
    "        new_quantity = quantity * 2\n",
    "        cursor.execute(\"UPDATE products SET quantity = %s WHERE product_id = %s\", (new_quantity, record[0]))\n",
    "\n",
    "\n",
    "    # Commit the changes to the database\n",
    "    connection.commit()\n",
    "\n",
    "    # Close the database connection\n",
    "    cursor.close()\n",
    "    connection.close()\n",
    "\n",
    "    print(\"Data retrieved, modified, and updated successfully.\")\n",
    "except mysql.connector.Error as e:\n",
    "    print(\"MySQL Error:\", e)\n",
    "except Exception as e:\n",
    "    print(\"Error:\", e)\n"
   ]
  },
  {
   "cell_type": "code",
   "execution_count": null,
   "id": "5d5ff21f",
   "metadata": {},
   "outputs": [],
   "source": []
  },
  {
   "cell_type": "markdown",
   "id": "7b0627e7",
   "metadata": {},
   "source": [
    "# 4. You are developing an employee management system for a company. The database should store employee information, including name, salary, department, and hire date. Managers should be able to view and update employee details.\n",
    "Design the database schema for the employee management system.\n",
    "\n",
    "Write Python code to connect to the database and retrieve a list of employees in a specific department.\n",
    "\n",
    "Implement a feature to update an employee's salary."
   ]
  },
  {
   "cell_type": "code",
   "execution_count": 37,
   "id": "5347471d",
   "metadata": {},
   "outputs": [
    {
     "name": "stdout",
     "output_type": "stream",
     "text": [
      "An error occurred: MySQL Connection not available.\n"
     ]
    }
   ],
   "source": [
    "import mysql.connector\n",
    "\n",
    "# DataAbase connection details\n",
    "try:\n",
    "    # Connect to the MySQL database\n",
    "    db = mysql.connector.connect(\n",
    "    host=\"127.0.0.1\",\n",
    "    user=\"root\",\n",
    "    password=\"Siri@123\",\n",
    "    database=\"inventory\"\n",
    "    )\n",
    "    #print(\"Connected to the database!\")\n",
    "\n",
    "    # Create a cursor object to execute SQL queries\n",
    "    cursor = connection.cursor()\n",
    "\n",
    "    # Retrieve employees in a specific department\n",
    "    department = 'IT'\n",
    "    select_query = f\"SELECT * FROM employees WHERE department = '{department}'\"\n",
    "    cursor.execute(select_query)\n",
    "    employees = cursor.fetchall()\n",
    "\n",
    "    # Print employee details\n",
    "    for employee in employees:\n",
    "        employee_id, name, salary, department, hire_date = employee\n",
    "        print(f\"Employee ID: {employee_id}\")\n",
    "        print(f\"Name: {name}\")\n",
    "        print(f\"Salary: {salary}\")\n",
    "        print(f\"Department: {department}\")\n",
    "        print(f\"Hire Date: {hire_date}\")\n",
    "        print()\n",
    "\n",
    "    # Close the cursor and connection\n",
    "    cursor.close()\n",
    "    connection.close()\n",
    "    print(\"Database connection closed.\")\n",
    "\n",
    "except mysql.connector.Error as error:\n",
    "    print(\"An error occurred:\", error)"
   ]
  },
  {
   "cell_type": "code",
   "execution_count": null,
   "id": "0afa0dc8",
   "metadata": {},
   "outputs": [],
   "source": []
  }
 ],
 "metadata": {
  "kernelspec": {
   "display_name": "Python 3 (ipykernel)",
   "language": "python",
   "name": "python3"
  },
  "language_info": {
   "codemirror_mode": {
    "name": "ipython",
    "version": 3
   },
   "file_extension": ".py",
   "mimetype": "text/x-python",
   "name": "python",
   "nbconvert_exporter": "python",
   "pygments_lexer": "ipython3",
   "version": "3.11.4"
  }
 },
 "nbformat": 4,
 "nbformat_minor": 5
}
