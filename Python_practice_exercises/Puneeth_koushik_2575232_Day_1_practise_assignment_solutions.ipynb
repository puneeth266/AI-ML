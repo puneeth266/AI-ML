{
 "cells": [
  {
   "cell_type": "markdown",
   "id": "0d67dcf8",
   "metadata": {},
   "source": [
    "# 1. Manipulate using a list.\n",
    "    i) To add new elements to the end of the list.\n",
    "    ii) To reserve elements in the list\n",
    "    iii) To display the same list of elements multiple times.\n",
    "    iv) to concatenate two list\n",
    "    v) To sort the elements in the list in ascending order."
   ]
  },
  {
   "cell_type": "code",
   "execution_count": 3,
   "id": "a549d3e5",
   "metadata": {},
   "outputs": [
    {
     "name": "stdout",
     "output_type": "stream",
     "text": [
      "[1, 2, 4, 5, 'star', 'moon', 24, 67, 'sun']\n"
     ]
    }
   ],
   "source": [
    "# i) To add new elements to the end of the list.\n",
    "\n",
    "listt=[1,2,4,5,'star','moon',24,67]\n",
    "listt.append('sun')\n",
    "print(listt)\n"
   ]
  },
  {
   "cell_type": "code",
   "execution_count": 4,
   "id": "c0983805",
   "metadata": {},
   "outputs": [
    {
     "data": {
      "text/plain": [
       "['sun', 67, 24, 'moon', 'star', 5, 4, 2, 1]"
      ]
     },
     "execution_count": 4,
     "metadata": {},
     "output_type": "execute_result"
    }
   ],
   "source": [
    "#ii) To reserve elements in the list\n",
    "listt[::-1]"
   ]
  },
  {
   "cell_type": "code",
   "execution_count": 9,
   "id": "83329f5a",
   "metadata": {},
   "outputs": [
    {
     "name": "stdout",
     "output_type": "stream",
     "text": [
      "[1, 2, 4, 5, 'star', 'moon', 24, 67, 'sun', 1, 2, 4, 5, 'star', 'moon', 24, 67, 'sun', 1, 2, 4, 5, 'star', 'moon', 24, 67, 'sun', 1, 2, 4, 5, 'star', 'moon', 24, 67, 'sun']\n"
     ]
    }
   ],
   "source": [
    "# iii) To display the same list of elements multiple times.\n",
    "print ( listt*4 )"
   ]
  },
  {
   "cell_type": "code",
   "execution_count": 10,
   "id": "7c5c0bf9",
   "metadata": {},
   "outputs": [
    {
     "name": "stdout",
     "output_type": "stream",
     "text": [
      "[1, 2, 4, 5, 'star', 'moon', 24, 67, 'sun', 'new', 'list', 12]\n"
     ]
    }
   ],
   "source": [
    "# iv) to concatenate two list\n",
    "listt1=['new','list',12]\n",
    "print(listt+listt1)"
   ]
  },
  {
   "cell_type": "code",
   "execution_count": 11,
   "id": "0f4bc380",
   "metadata": {},
   "outputs": [
    {
     "name": "stdout",
     "output_type": "stream",
     "text": [
      "[3, 5, 9, 48, 65, 87]\n"
     ]
    }
   ],
   "source": [
    "# v) To sort the elements in the list in ascending order.\n",
    "listt2=[3,5,48,9,87,65]\n",
    "listt2.sort()\n",
    "print(listt2)"
   ]
  },
  {
   "cell_type": "code",
   "execution_count": null,
   "id": "2bb9c03b",
   "metadata": {},
   "outputs": [],
   "source": []
  },
  {
   "cell_type": "markdown",
   "id": "4dac7980",
   "metadata": {},
   "source": [
    "# 2 Write a Python program to do in the tuples.\n",
    "    i) Manipulate using Tuples\n",
    "    ii) To add new elements to the end of tuple.\n",
    "    iii) To reverse the elements in the list.\n",
    "    iv) To concatenate two tuples\n",
    "    v) To sort the elements in the list in ascending order.\n",
    "    "
   ]
  },
  {
   "cell_type": "code",
   "execution_count": null,
   "id": "b208056b",
   "metadata": {},
   "outputs": [],
   "source": []
  },
  {
   "cell_type": "code",
   "execution_count": null,
   "id": "8a0db70f",
   "metadata": {},
   "outputs": [],
   "source": []
  },
  {
   "cell_type": "code",
   "execution_count": 19,
   "id": "6b1c8417",
   "metadata": {},
   "outputs": [
    {
     "name": "stdout",
     "output_type": "stream",
     "text": [
      "4\n",
      "8\n"
     ]
    }
   ],
   "source": [
    "# i) Manipulate using Tuples\n",
    "\n",
    "tuple1 = (1, 2, 3, 4, 5)\n",
    "a=tuple1[3]\n",
    "print(a)\n",
    "print(a+a)\n"
   ]
  },
  {
   "cell_type": "code",
   "execution_count": 22,
   "id": "0a9e85e0",
   "metadata": {},
   "outputs": [
    {
     "name": "stdout",
     "output_type": "stream",
     "text": [
      "(1, 2, 3, 4, 5, 15)\n"
     ]
    }
   ],
   "source": [
    "#ii) To add new elements to the end of tuple.\n",
    "b=15\n",
    "r=tuple1 + (b,)\n",
    "print(r)\n"
   ]
  },
  {
   "cell_type": "code",
   "execution_count": 24,
   "id": "59ef0f3d",
   "metadata": {},
   "outputs": [
    {
     "name": "stdout",
     "output_type": "stream",
     "text": [
      "<class 'tuple'>\n",
      "<class 'list'>\n",
      "[5, 4, 3, 2, 1]\n"
     ]
    }
   ],
   "source": [
    "#iii) To reverse the elements in the list.\n",
    "print(type(tuple1))\n",
    "tuple1_list=list(tuple1)\n",
    "print(type(tuple1_list))\n",
    "tuple1_list.reverse()\n",
    "print(tuple1_list)\n"
   ]
  },
  {
   "cell_type": "code",
   "execution_count": 32,
   "id": "fc8a23ae",
   "metadata": {},
   "outputs": [
    {
     "name": "stdout",
     "output_type": "stream",
     "text": [
      "<class 'tuple'>\n",
      "(1, 2, 3, 4, 5, 15)\n",
      "<class 'tuple'>\n",
      "<class 'list'>\n",
      "[5, 4, 3, 2, 1, 2, 3, 4, 5]\n"
     ]
    }
   ],
   "source": [
    " # iv) To concatenate two tuples\n",
    "b=15\n",
    "r=tuple1 + (b,)\n",
    "print(type(r))\n",
    "print(r)\n",
    "tuple2=(2,3,4,5)\n",
    "print(type(tuple2))\n",
    "tuple2_list=list(tuple2)\n",
    "print(type(tuple2_list))\n",
    "result=(tuple1_list+ tuple2_list)\n",
    "\n",
    "print(result)\n",
    "    \n",
    "    \n",
    "    "
   ]
  },
  {
   "cell_type": "code",
   "execution_count": 33,
   "id": "c8ec9847",
   "metadata": {},
   "outputs": [
    {
     "name": "stdout",
     "output_type": "stream",
     "text": [
      "[1, 2, 2, 3, 3, 4, 4, 5, 5]\n"
     ]
    }
   ],
   "source": [
    "# v) To sort the elements in the list in ascending order.\n",
    "result.sort()\n",
    "print(result)"
   ]
  },
  {
   "cell_type": "markdown",
   "id": "59239ca6",
   "metadata": {},
   "source": [
    "# 3. Write a python program to implement the following using list.\n",
    "    i)create a list with integers(min of 10 num)\n",
    "    ii) how to display the last number in the list.\n",
    "    iii) command for displaying the values from the list [0:4]\n",
    "    iv) command for displaying the values from the list [2:]\n",
    "    v) command for displaying the values from the list [:6]"
   ]
  },
  {
   "cell_type": "code",
   "execution_count": 34,
   "id": "7aa72caf",
   "metadata": {},
   "outputs": [],
   "source": [
    "# i)create a list with integers(min of 10 num)\n",
    "lisst=[1,2,3,4,5,67,7,7,8,9,74,4,23]\n"
   ]
  },
  {
   "cell_type": "code",
   "execution_count": 38,
   "id": "613faf1a",
   "metadata": {},
   "outputs": [
    {
     "name": "stdout",
     "output_type": "stream",
     "text": [
      "23\n"
     ]
    }
   ],
   "source": [
    "# ii) how to display the last number in the list.\n",
    "lisst_r=lisst[-1]\n",
    "print(lisst_r)\n"
   ]
  },
  {
   "cell_type": "code",
   "execution_count": 39,
   "id": "92344e2b",
   "metadata": {},
   "outputs": [
    {
     "name": "stdout",
     "output_type": "stream",
     "text": [
      "[1, 2, 3, 4]\n"
     ]
    }
   ],
   "source": [
    "#iii) command for displaying the values from the list [0:4]\n",
    "print(lisst[0:4])"
   ]
  },
  {
   "cell_type": "code",
   "execution_count": 40,
   "id": "5803c891",
   "metadata": {},
   "outputs": [
    {
     "name": "stdout",
     "output_type": "stream",
     "text": [
      "[3, 4, 5, 67, 7, 7, 8, 9, 74, 4, 23]\n"
     ]
    }
   ],
   "source": [
    "# iv) command for displaying the values from the list [2:]\n",
    "print(lisst[2:])"
   ]
  },
  {
   "cell_type": "code",
   "execution_count": 41,
   "id": "bfd8853c",
   "metadata": {},
   "outputs": [
    {
     "name": "stdout",
     "output_type": "stream",
     "text": [
      "[1, 2, 3, 4, 5, 67]\n"
     ]
    }
   ],
   "source": [
    "# v) command for displaying the values from the list [:6]\n",
    "print(lisst[:6])"
   ]
  },
  {
   "cell_type": "markdown",
   "id": "7664ac79",
   "metadata": {},
   "source": [
    "# 4. Write a python program : tuple1=(10,50,20,40,30)\n",
    "    i) to display the elements 10 and 50 from tuple1.\n",
    "    ii) to display the length of a tuple1.\n",
    "    iii) to find the min element from tuple1.\n",
    "    iv) to add all elements in tuple1.\n",
    "    v) to display the same tuple1 multiple times."
   ]
  },
  {
   "cell_type": "code",
   "execution_count": 44,
   "id": "871d658c",
   "metadata": {},
   "outputs": [
    {
     "name": "stdout",
     "output_type": "stream",
     "text": [
      "10 50\n"
     ]
    }
   ],
   "source": [
    " #     i) to display the elements 10 and 50 from tuple1.\n",
    "tuple1=(10,50,20,40,30)\n",
    "print(tuple1[0],tuple1[1])"
   ]
  },
  {
   "cell_type": "code",
   "execution_count": 45,
   "id": "b6442c2d",
   "metadata": {},
   "outputs": [
    {
     "name": "stdout",
     "output_type": "stream",
     "text": [
      "5\n"
     ]
    }
   ],
   "source": [
    "#     ii) to display the length of a tuple1.\n",
    "print(len(tuple1))"
   ]
  },
  {
   "cell_type": "code",
   "execution_count": 46,
   "id": "376b6bf8",
   "metadata": {},
   "outputs": [
    {
     "name": "stdout",
     "output_type": "stream",
     "text": [
      "10\n"
     ]
    }
   ],
   "source": [
    "# iii) to find the min element from tuple1.\n",
    "print(min(tuple1))"
   ]
  },
  {
   "cell_type": "code",
   "execution_count": 47,
   "id": "bc9b1650",
   "metadata": {},
   "outputs": [
    {
     "name": "stdout",
     "output_type": "stream",
     "text": [
      "150\n"
     ]
    }
   ],
   "source": [
    "# iv) to add all elements in tuple1.\n",
    "print(sum(tuple1))"
   ]
  },
  {
   "cell_type": "code",
   "execution_count": 48,
   "id": "c0501a98",
   "metadata": {},
   "outputs": [
    {
     "name": "stdout",
     "output_type": "stream",
     "text": [
      "(10, 50, 20, 40, 30, 10, 50, 20, 40, 30, 10, 50, 20, 40, 30, 10, 50, 20, 40, 30, 10, 50, 20, 40, 30, 10, 50, 20, 40, 30)\n"
     ]
    }
   ],
   "source": [
    "# v) to display the same tuple1 multiple times.\n",
    "print(tuple1*6)"
   ]
  },
  {
   "cell_type": "markdown",
   "id": "5162cd8f",
   "metadata": {},
   "source": [
    "# 5. Write a program:\n",
    "    i) To calculate the length of a string.\n",
    "    ii) to reverse words in string.\n",
    "    iii) to display the same string multiple times\n",
    "    iv) to concatenate two strings\n",
    "    v) str1=\"South India\", using string slicing to display \"India\""
   ]
  },
  {
   "cell_type": "code",
   "execution_count": 49,
   "id": "00df9d6f",
   "metadata": {},
   "outputs": [
    {
     "name": "stdout",
     "output_type": "stream",
     "text": [
      "11\n"
     ]
    }
   ],
   "source": [
    "#     i) To calculate the length of a string.\n",
    "str1=\"South India\"\n",
    "print(len(str1))"
   ]
  },
  {
   "cell_type": "code",
   "execution_count": 51,
   "id": "8036d61b",
   "metadata": {},
   "outputs": [
    {
     "name": "stdout",
     "output_type": "stream",
     "text": [
      "aidnI htuoS\n"
     ]
    }
   ],
   "source": [
    "# ii) to reverse words in string.\n",
    "print(str1[::-1])"
   ]
  },
  {
   "cell_type": "code",
   "execution_count": 52,
   "id": "2cc5769f",
   "metadata": {},
   "outputs": [
    {
     "name": "stdout",
     "output_type": "stream",
     "text": [
      "South IndiaSouth IndiaSouth IndiaSouth IndiaSouth IndiaSouth India\n"
     ]
    }
   ],
   "source": [
    "# iii) to display the same string multiple times\n",
    "print(str1*6)"
   ]
  },
  {
   "cell_type": "code",
   "execution_count": 56,
   "id": "dc0fa438",
   "metadata": {},
   "outputs": [
    {
     "name": "stdout",
     "output_type": "stream",
     "text": [
      "South India _ north india\n"
     ]
    }
   ],
   "source": [
    "#     iv) to concatenate two strings\n",
    "str2=\"north india\"\n",
    "print(str1+\" _ \"+str2)"
   ]
  },
  {
   "cell_type": "code",
   "execution_count": 58,
   "id": "e491eca4",
   "metadata": {},
   "outputs": [
    {
     "name": "stdout",
     "output_type": "stream",
     "text": [
      "India: India\n"
     ]
    }
   ],
   "source": [
    "# v) str1=\"South India\", using string slicing to display \"India\"\n",
    "print(\"india:\",str1[6:])\n"
   ]
  },
  {
   "cell_type": "code",
   "execution_count": null,
   "id": "a4fe28fb",
   "metadata": {},
   "outputs": [],
   "source": []
  },
  {
   "cell_type": "markdown",
   "id": "ee626999",
   "metadata": {},
   "source": [
    "# 6. Perform the following:\n",
    "\n",
    "1. Creating the directory.\n",
    "2. Accessing values and keys in the Dictionary.\n",
    "3. Updating the dictionary using a function.\n",
    "4. Clear and delete the dictionary values."
   ]
  },
  {
   "cell_type": "code",
   "execution_count": 59,
   "id": "261c1284",
   "metadata": {},
   "outputs": [
    {
     "name": "stdout",
     "output_type": "stream",
     "text": [
      "Dictionary: {'name': 'puneeth', 'age': 22, 'place': 'bangalore'}\n"
     ]
    }
   ],
   "source": [
    "# 1. Creating the directory.\n",
    "\n",
    "dict1 = {'name': 'puneeth','age': 22,'place': 'bangalore'}\n",
    "\n",
    "print(\"Dictionary:\", dict1)\n"
   ]
  },
  {
   "cell_type": "code",
   "execution_count": 64,
   "id": "09b2d2dd",
   "metadata": {},
   "outputs": [
    {
     "name": "stdout",
     "output_type": "stream",
     "text": [
      "puneeth bangalore\n",
      "dict_keys(['name', 'age', 'place'])\n"
     ]
    }
   ],
   "source": [
    "# 2. Accessing values and keys in the Dictionary.\n",
    "print(dict1['name'], dict1['place'])\n",
    "print(dict1.keys())\n"
   ]
  },
  {
   "cell_type": "code",
   "execution_count": 65,
   "id": "2cc22cbc",
   "metadata": {},
   "outputs": [
    {
     "name": "stdout",
     "output_type": "stream",
     "text": [
      "Dictionary: {'name': 'puneeth', 'age': 22, 'place': 'bangalore', 'city': 'belgaum', 'job': 'engineer'}\n"
     ]
    }
   ],
   "source": [
    "# 3. Updating the dictionary using a function.\n",
    "\n",
    "dict1.update({'city': 'belgaum', 'job': 'engineer'})\n",
    "print(\"Dictionary:\", dict1)\n"
   ]
  },
  {
   "cell_type": "code",
   "execution_count": 66,
   "id": "a8317d40",
   "metadata": {},
   "outputs": [
    {
     "name": "stdout",
     "output_type": "stream",
     "text": [
      "{'name': 'puneeth', 'age': 22, 'place': 'bangalore', 'job': 'engineer'}\n"
     ]
    }
   ],
   "source": [
    "# 4. Clear and delete the dictionary values.\n",
    "del dict1['city']\n",
    "print(dict1)\n",
    "\n"
   ]
  },
  {
   "cell_type": "markdown",
   "id": "acb3be8d",
   "metadata": {},
   "source": [
    "# 7. Python Program to insert a number to any position in a list."
   ]
  },
  {
   "cell_type": "code",
   "execution_count": 96,
   "id": "8de1c2ce",
   "metadata": {},
   "outputs": [
    {
     "name": "stdout",
     "output_type": "stream",
     "text": [
      "[12, 23, 432, 23, 34, 53, 44, 23]\n"
     ]
    }
   ],
   "source": [
    "\n",
    "list11 = [12,23,432,23,34,44,23]\n",
    "p = 5\n",
    "insert_num = 53\n",
    "list11.insert(p, insert_num)\n",
    "print(list11)\n"
   ]
  },
  {
   "cell_type": "markdown",
   "id": "373c717c",
   "metadata": {},
   "source": [
    "# 8. Python program to delete an element froma list by index. "
   ]
  },
  {
   "cell_type": "code",
   "execution_count": 99,
   "id": "7d6f6aed",
   "metadata": {},
   "outputs": [
    {
     "name": "stdout",
     "output_type": "stream",
     "text": [
      "Deleted element at index 3.\n",
      "Updated List: [1, 2, 3, 5]\n"
     ]
    }
   ],
   "source": [
    "a = [1, 2, 3, 4, 5]\n",
    "index_to_delete = 3\n",
    "\n",
    "if index_to_delete >= 0 and index_to_delete < len(a):\n",
    "    # Delete the element at the specified index\n",
    "    del a[index_to_delete]\n",
    "    print(f\"Deleted element at index {index_to_delete}.\")\n",
    "else:\n",
    "    print(\"Invalid index. Index should be between 0 and one less than the length of the list.\")\n",
    "print(\"Updated List:\", a)"
   ]
  },
  {
   "cell_type": "markdown",
   "id": "306ffe90",
   "metadata": {},
   "source": [
    "# 9.Write a program to display a number from 1 to 100. "
   ]
  },
  {
   "cell_type": "code",
   "execution_count": 100,
   "id": "064073a1",
   "metadata": {},
   "outputs": [
    {
     "name": "stdout",
     "output_type": "stream",
     "text": [
      "1\n",
      "2\n",
      "3\n",
      "4\n",
      "5\n",
      "6\n",
      "7\n",
      "8\n",
      "9\n",
      "10\n",
      "11\n",
      "12\n",
      "13\n",
      "14\n",
      "15\n",
      "16\n",
      "17\n",
      "18\n",
      "19\n",
      "20\n",
      "21\n",
      "22\n",
      "23\n",
      "24\n",
      "25\n",
      "26\n",
      "27\n",
      "28\n",
      "29\n",
      "30\n",
      "31\n",
      "32\n",
      "33\n",
      "34\n",
      "35\n",
      "36\n",
      "37\n",
      "38\n",
      "39\n",
      "40\n",
      "41\n",
      "42\n",
      "43\n",
      "44\n",
      "45\n",
      "46\n",
      "47\n",
      "48\n",
      "49\n",
      "50\n",
      "51\n",
      "52\n",
      "53\n",
      "54\n",
      "55\n",
      "56\n",
      "57\n",
      "58\n",
      "59\n",
      "60\n",
      "61\n",
      "62\n",
      "63\n",
      "64\n",
      "65\n",
      "66\n",
      "67\n",
      "68\n",
      "69\n",
      "70\n",
      "71\n",
      "72\n",
      "73\n",
      "74\n",
      "75\n",
      "76\n",
      "77\n",
      "78\n",
      "79\n",
      "80\n",
      "81\n",
      "82\n",
      "83\n",
      "84\n",
      "85\n",
      "86\n",
      "87\n",
      "88\n",
      "89\n",
      "90\n",
      "91\n",
      "92\n",
      "93\n",
      "94\n",
      "95\n",
      "96\n",
      "97\n",
      "98\n",
      "99\n",
      "100\n"
     ]
    }
   ],
   "source": [
    "for number in range(1, 101):\n",
    "    print(number)"
   ]
  },
  {
   "cell_type": "markdown",
   "id": "0c57e185",
   "metadata": {},
   "source": [
    "# 10. Write a Python program to find the sum of all items in a tuple."
   ]
  },
  {
   "cell_type": "code",
   "execution_count": 101,
   "id": "c39a3af4",
   "metadata": {},
   "outputs": [
    {
     "name": "stdout",
     "output_type": "stream",
     "text": [
      "Sum of all items in the tuple: 15\n"
     ]
    }
   ],
   "source": [
    "z = (1, 2, 3, 4, 5)\n",
    "total_sum = sum(z)\n",
    "print(\"Sum of all items in the tuple:\", total_sum)"
   ]
  },
  {
   "cell_type": "markdown",
   "id": "53bc92a7",
   "metadata": {},
   "source": [
    "# 12. A list of words is given. Find the words from the list that have their second character in uppercase.\n",
    "\n",
    "ls=['hello', 'Dear', 'hOw', 'ARe', 'You']"
   ]
  },
  {
   "cell_type": "code",
   "execution_count": 102,
   "id": "d8d1d686",
   "metadata": {},
   "outputs": [
    {
     "name": "stdout",
     "output_type": "stream",
     "text": [
      "Words with the second character in uppercase: ['hOw', 'ARe']\n"
     ]
    }
   ],
   "source": [
    "\n",
    "ls = ['hello', 'Dear', 'hOw', 'ARe', 'You']\n",
    "\n",
    "# Initialize a list to store words that meet the condition\n",
    "result_words = []\n",
    "\n",
    "# Iterate through the list\n",
    "for word in ls:\n",
    "    # Check if the word has at least two characters and the second character is uppercase\n",
    "    if len(word) >= 2 and word[1].isupper():\n",
    "        result_words.append(word)\n",
    "\n",
    "# Print the words that meet the condition\n",
    "print(\"Words with the second character in uppercase:\", result_words)"
   ]
  },
  {
   "cell_type": "code",
   "execution_count": null,
   "id": "a8d9ac9a",
   "metadata": {},
   "outputs": [],
   "source": []
  },
  {
   "cell_type": "markdown",
   "id": "b60d6170",
   "metadata": {},
   "source": [
    "# CONTROL STRUCTURES"
   ]
  },
  {
   "cell_type": "markdown",
   "id": "9a7fdcad",
   "metadata": {},
   "source": [
    "# 1. Write a python program to find the first N prime Numbers\n"
   ]
  },
  {
   "cell_type": "code",
   "execution_count": 103,
   "id": "00bfea9a",
   "metadata": {},
   "outputs": [
    {
     "name": "stdout",
     "output_type": "stream",
     "text": [
      "Enter the value of N: 13\n",
      "The first 13 prime numbers are:\n",
      "[2, 3, 5, 7, 11, 13, 17, 19, 23, 29, 31, 37, 41]\n"
     ]
    }
   ],
   "source": [
    "def is_prime(num):\n",
    "    if num <= 1:\n",
    "        return False\n",
    "    if num <= 3:\n",
    "        return True\n",
    "    if num % 2 == 0 or num % 3 == 0:\n",
    "        return False\n",
    "    i = 5\n",
    "    while i * i <= num:\n",
    "        if num % i == 0 or num % (i + 2) == 0:\n",
    "            return False\n",
    "        i += 6\n",
    "    return True\n",
    "\n",
    "def find_primes(n):\n",
    "    prime_list = []\n",
    "    num = 2\n",
    "    while len(prime_list) < n:\n",
    "        if is_prime(num):\n",
    "            prime_list.append(num)\n",
    "        num += 1\n",
    "    return prime_list\n",
    "\n",
    "# Input: N (number of prime numbers to find)\n",
    "N = int(input(\"Enter the value of N: \"))\n",
    "\n",
    "if N <= 0:\n",
    "    print(\"N must be a positive integer.\")\n",
    "else:\n",
    "    prime_numbers = find_primes(N)\n",
    "    print(f\"The first {N} prime numbers are:\")\n",
    "    print(prime_numbers)"
   ]
  },
  {
   "cell_type": "markdown",
   "id": "58ac83a7",
   "metadata": {},
   "source": [
    "# 2. Write a Python code that calculates the salary of an employee. Prompt the user to enter the Basic Salary, HRA, TA, DA. Add these components to calculate the Gross Salary. Also deduct 10% of salary from the gross salary to be paid as a tax and display gross minus tax as net salary. "
   ]
  },
  {
   "cell_type": "code",
   "execution_count": 104,
   "id": "edaaeee9",
   "metadata": {},
   "outputs": [
    {
     "name": "stdout",
     "output_type": "stream",
     "text": [
      "Enter Basic Salary: 30000\n",
      "Enter HRA: 2300\n",
      "Enter TA: 2000\n",
      "Enter DA: 3000\n",
      "Gross Salary: 37300.0\n",
      "Tax Deducted (10% of Gross Salary): 3730.0\n",
      "Net Salary: 33570.0\n"
     ]
    }
   ],
   "source": [
    "# Prompt the user to enter the Basic Salary, HRA, TA, and DA\n",
    "basic_salary = float(input(\"Enter Basic Salary: \"))\n",
    "hra = float(input(\"Enter HRA: \"))\n",
    "ta = float(input(\"Enter TA: \"))\n",
    "da = float(input(\"Enter DA: \"))\n",
    "\n",
    "# Calculate Gross Salary by adding Basic Salary, HRA, TA, and DA\n",
    "gross_salary = basic_salary + hra + ta + da\n",
    "\n",
    "# Calculate Tax (10% of Gross Salary)\n",
    "tax = 0.10 * gross_salary\n",
    "\n",
    "# Calculate Net Salary (Gross Salary - Tax)\n",
    "net_salary = gross_salary - tax\n",
    "\n",
    "# Display the results\n",
    "print(\"Gross Salary:\", gross_salary)\n",
    "print(\"Tax Deducted (10% of Gross Salary):\", tax)\n",
    "print(\"Net Salary:\", net_salary)"
   ]
  },
  {
   "cell_type": "markdown",
   "id": "c861e26b",
   "metadata": {},
   "source": [
    "# 3.Write a Python program to search for a given string in the list\n"
   ]
  },
  {
   "cell_type": "code",
   "execution_count": 106,
   "id": "54a569bf",
   "metadata": {},
   "outputs": [
    {
     "name": "stdout",
     "output_type": "stream",
     "text": [
      "Enter a string to search for: Mphasis\n",
      "'Mphasis' was found in the list.\n"
     ]
    }
   ],
   "source": [
    "# Sample list of strings\n",
    "string_list = [\"apple\", \"banana\", \"cherry\", \"date\",\"Mphasis\", \"fig\"]\n",
    "\n",
    "# Prompt the user to enter a string to search for\n",
    "search_string = input(\"Enter a string to search for: \")\n",
    "\n",
    "# Initialize a flag to track if the string is found\n",
    "found = False\n",
    "\n",
    "# Iterate through the list to search for the string\n",
    "for item in string_list:\n",
    "    if search_string.lower() == item.lower():\n",
    "        found = True\n",
    "        break\n",
    "\n",
    "# Check if the string was found and display the result\n",
    "if found:\n",
    "    print(f\"'{search_string}' was found in the list.\")\n",
    "else:\n",
    "    print(f\"'{search_string}' was not found in the list.\")"
   ]
  },
  {
   "cell_type": "markdown",
   "id": "bf49b84a",
   "metadata": {},
   "source": [
    "# 4. Write a Python function that accepts a string and calculates the number of upper and lower case letters. "
   ]
  },
  {
   "cell_type": "code",
   "execution_count": 108,
   "id": "e6de972a",
   "metadata": {},
   "outputs": [
    {
     "name": "stdout",
     "output_type": "stream",
     "text": [
      "Enter a string: HeLlo\n",
      "Number of uppercase letters: 2\n",
      "Number of lowercase letters: 3\n"
     ]
    }
   ],
   "source": [
    "def count_upper_lower_case_letters(input_string):\n",
    "    # Initialize counters for uppercase and lowercase letters\n",
    "    uppercase_count = 0\n",
    "    lowercase_count = 0\n",
    "\n",
    "    # Iterate through each character in the input string\n",
    "    for char in input_string:\n",
    "        if char.isupper():\n",
    "            uppercase_count += 1\n",
    "        elif char.islower():\n",
    "            lowercase_count += 1\n",
    "\n",
    "    # Return the counts\n",
    "    return uppercase_count, lowercase_count\n",
    "\n",
    "# Example usage\n",
    "input_str = input(\"Enter a string: \")\n",
    "uppercase, lowercase = count_upper_lower_case_letters(input_str)\n",
    "\n",
    "print(\"Number of uppercase letters:\", uppercase)\n",
    "print(\"Number of lowercase letters:\", lowercase)"
   ]
  },
  {
   "cell_type": "markdown",
   "id": "bba56e4a",
   "metadata": {},
   "source": [
    "# 5. Write a program to display the sum of odd numbers and even numbers that fall between 12 and 37."
   ]
  },
  {
   "cell_type": "code",
   "execution_count": 109,
   "id": "e033b251",
   "metadata": {},
   "outputs": [
    {
     "name": "stdout",
     "output_type": "stream",
     "text": [
      "Sum of even numbers between 12 and 37: 312\n",
      "Sum of odd numbers between 12 and 37: 325\n"
     ]
    }
   ],
   "source": [
    "# Initialize variables to store the sum of odd and even numbers\n",
    "sum_odd = 0\n",
    "sum_even = 0\n",
    "\n",
    "# Iterate through numbers from 12 to 37 (inclusive)\n",
    "for num in range(12, 38):\n",
    "    if num % 2 == 0:  # Check if the number is even\n",
    "        sum_even += num\n",
    "    else:\n",
    "        sum_odd += num\n",
    "\n",
    "# Display the sums\n",
    "print(\"Sum of even numbers between 12 and 37:\", sum_even)\n",
    "print(\"Sum of odd numbers between 12 and 37:\", sum_odd)"
   ]
  },
  {
   "cell_type": "markdown",
   "id": "364a5453",
   "metadata": {},
   "source": [
    "# 6. Write a Python program to print the table of any number."
   ]
  },
  {
   "cell_type": "code",
   "execution_count": 111,
   "id": "06d35436",
   "metadata": {},
   "outputs": [
    {
     "name": "stdout",
     "output_type": "stream",
     "text": [
      "Enter a number: 76\n",
      "Table of 76:\n",
      "76 x 1 = 76\n",
      "76 x 2 = 152\n",
      "76 x 3 = 228\n",
      "76 x 4 = 304\n",
      "76 x 5 = 380\n",
      "76 x 6 = 456\n",
      "76 x 7 = 532\n",
      "76 x 8 = 608\n",
      "76 x 9 = 684\n",
      "76 x 10 = 760\n"
     ]
    }
   ],
   "source": [
    "number = int(input(\"Enter a number: \"))\n",
    "\n",
    "# Print the table of the entered number (up to a certain limit, e.g., 10)\n",
    "print(f\"Table of {number}:\")\n",
    "\n",
    "# Use a loop to calculate and print the table\n",
    "for i in range(1, 11):\n",
    "    result = number * i\n",
    "    print(f\"{number} x {i} = {result}\")"
   ]
  },
  {
   "cell_type": "markdown",
   "id": "3fa9a66f",
   "metadata": {},
   "source": [
    "# 7. Write a Python Program to sum the first 10 prime numbers. \n"
   ]
  },
  {
   "cell_type": "code",
   "execution_count": 112,
   "id": "e0da869d",
   "metadata": {},
   "outputs": [
    {
     "name": "stdout",
     "output_type": "stream",
     "text": [
      "Sum of the first 10 prime numbers: 129\n"
     ]
    }
   ],
   "source": [
    "def is_prime(num):\n",
    "    if num <= 1:\n",
    "        return False\n",
    "    if num <= 3:\n",
    "        return True\n",
    "    if num % 2 == 0 or num % 3 == 0:\n",
    "        return False\n",
    "    i = 5\n",
    "    while i * i <= num:\n",
    "        if num % i == 0 or num % (i + 2) == 0:\n",
    "            return False\n",
    "        i += 6\n",
    "    return True\n",
    "\n",
    "count = 0\n",
    "num = 2\n",
    "sum_primes = 0\n",
    "\n",
    "while count < 10:\n",
    "    if is_prime(num):\n",
    "        sum_primes += num\n",
    "        count += 1\n",
    "    num += 1\n",
    "\n",
    "print(\"Sum of the first 10 prime numbers:\", sum_primes)"
   ]
  },
  {
   "cell_type": "code",
   "execution_count": null,
   "id": "0396cb61",
   "metadata": {},
   "outputs": [],
   "source": []
  },
  {
   "cell_type": "markdown",
   "id": "8752c39f",
   "metadata": {},
   "source": [
    "# 8. Write a Python Program to implement airthametic operations using nested if statements."
   ]
  },
  {
   "cell_type": "code",
   "execution_count": 71,
   "id": "6bd5877c",
   "metadata": {},
   "outputs": [
    {
     "name": "stdout",
     "output_type": "stream",
     "text": [
      "Enter the number: 12\n",
      "Enter the number: 16\n",
      "Enter any to perform (+, -, *, /): /\n",
      "0.75\n"
     ]
    }
   ],
   "source": [
    "\n",
    "num1 = float(input(\"Enter the number: \"))\n",
    "num2 = float(input(\"Enter the number: \"))\n",
    "\n",
    "operator = input(\"Enter any to perform (+, -, *, /): \")\n",
    "\n",
    "if operator == \"+\":\n",
    "    result = num1 + num2\n",
    "    print(result)\n",
    "elif operator == \"-\":\n",
    "    result = num1 - num2\n",
    "    print( result)\n",
    "elif operator == \"*\":\n",
    "    result = num1 * num2\n",
    "    print(result)\n",
    "elif operator == \"/\":\n",
    "    if num2 != 0:  \n",
    "        result = num1 / num2\n",
    "        print(result)\n",
    "    else:\n",
    "        print(\"division by 0 is not allowed\")\n",
    "else:\n",
    "    print(\"Please enter +, -, *, or /.\")\n"
   ]
  },
  {
   "cell_type": "code",
   "execution_count": 73,
   "id": "c35920de",
   "metadata": {},
   "outputs": [
    {
     "name": "stdout",
     "output_type": "stream",
     "text": [
      "enter degree celcius: 100\n",
      "212.0\n"
     ]
    }
   ],
   "source": [
    "# 9. Write a Python Program to Take the temperature in celcius and convert it to Fahrenheit.\n",
    "temp=int(input(\"enter degree celcius: \"))\n",
    "farenhiet =(temp * 9/5) + 32\n",
    "print(farenhiet)\n"
   ]
  },
  {
   "cell_type": "markdown",
   "id": "ef5ce779",
   "metadata": {},
   "source": [
    "# 10. Write a Python Program to find the max and min number in a list without using an inbuilt function."
   ]
  },
  {
   "cell_type": "code",
   "execution_count": 78,
   "id": "56dc1402",
   "metadata": {},
   "outputs": [
    {
     "name": "stdout",
     "output_type": "stream",
     "text": [
      "Maximum number: 87\n",
      "Minimum number: 3\n"
     ]
    }
   ],
   "source": [
    "listt2=[3,5,48,9,87,65]\n",
    "max_num = listt2[0]  \n",
    "min_num = listt2[0]  \n",
    "\n",
    "for num in listt2:\n",
    "    if num > max_num:\n",
    "        max_num = num\n",
    "    elif num < min_num:\n",
    "        min_num = num\n",
    "\n",
    "print(\"Maximum number:\", max_num)\n",
    "print(\"Minimum number:\", min_num)\n"
   ]
  },
  {
   "cell_type": "markdown",
   "id": "157d4744",
   "metadata": {},
   "source": [
    "# 11. Write a Python Program to print out the number of seconds in 30 day month 30 days,24 hours in a day, 60 mins per day, 60 second per min."
   ]
  },
  {
   "cell_type": "code",
   "execution_count": 79,
   "id": "d5237a05",
   "metadata": {},
   "outputs": [
    {
     "name": "stdout",
     "output_type": "stream",
     "text": [
      "2592000\n"
     ]
    }
   ],
   "source": [
    "\n",
    "days_in_month = 30\n",
    "hours_per_day = 24\n",
    "minutes_per_hour = 60\n",
    "seconds_per_minute = 60\n",
    "Total_seconds = days_in_month * hours_per_day * minutes_per_hour * seconds_per_minute\n",
    "print(Total_seconds)"
   ]
  },
  {
   "cell_type": "markdown",
   "id": "5f1ce42f",
   "metadata": {},
   "source": [
    "# 12. Write a Python Program to print out the number of seconds in a year."
   ]
  },
  {
   "cell_type": "code",
   "execution_count": 113,
   "id": "c150975c",
   "metadata": {},
   "outputs": [
    {
     "name": "stdout",
     "output_type": "stream",
     "text": [
      "31536000\n"
     ]
    }
   ],
   "source": [
    "days_in_year=365\n",
    "hours_per_day = 24\n",
    "minutes_per_hour = 60\n",
    "seconds_per_minute = 60\n",
    "Total_seconds_in_year = days_in_year * hours_per_day * minutes_per_hour * seconds_per_minute\n",
    "print(Total_seconds_in_year)"
   ]
  },
  {
   "cell_type": "markdown",
   "id": "f5f6106b",
   "metadata": {},
   "source": [
    "# 13. A high speed train can travel at an avg speed of 150 mph, how long will it take a train travelling at this speed to travel from Londen to Glasgow which is 414 miles away."
   ]
  },
  {
   "cell_type": "code",
   "execution_count": 88,
   "id": "a26880d4",
   "metadata": {},
   "outputs": [
    {
     "name": "stdout",
     "output_type": "stream",
     "text": [
      "2.76\n"
     ]
    }
   ],
   "source": [
    "distance = 414  \n",
    "speed = 150  \n",
    "\n",
    "time = distance / speed\n",
    "print(time)\n"
   ]
  },
  {
   "cell_type": "markdown",
   "id": "b3e05d4d",
   "metadata": {},
   "source": [
    "# 14.Write a Python Program that defines a variable called days_in_each_school_year and assign 192 to variable. The program should then print out the total hours that you spend in school from year 7 to year 11. if each day you spend 6 hours in school day_in_each_school_year = 192"
   ]
  },
  {
   "cell_type": "code",
   "execution_count": 90,
   "id": "08301a0a",
   "metadata": {},
   "outputs": [
    {
     "name": "stdout",
     "output_type": "stream",
     "text": [
      "5760 hours\n"
     ]
    }
   ],
   "source": [
    "days_in_each_school_year = 192 \n",
    "hours_per_school_day = 6 \n",
    "total_hours = (days_in_each_school_year * 5) * hours_per_school_day  \n",
    "print(f\"{total_hours} hours\")"
   ]
  },
  {
   "cell_type": "markdown",
   "id": "1b9788e3",
   "metadata": {},
   "source": [
    "# 15. If the ages of Ram, Sam and Khan are input through the keyboard, write a python program to determine the eldest and the youngest of the three."
   ]
  },
  {
   "cell_type": "code",
   "execution_count": 92,
   "id": "9ad51b48",
   "metadata": {},
   "outputs": [
    {
     "name": "stdout",
     "output_type": "stream",
     "text": [
      "Enter the age of ram: 14\n",
      "Enter the age of sam: 12\n",
      "Enter the age of khan: 16\n",
      "The eldest person is khan with age 16 years.\n",
      "The youngest person is sam with age 12 years.\n"
     ]
    }
   ],
   "source": [
    "ram = int(input(\"Enter the age of ram: \"))\n",
    "sam = int(input(\"Enter the age of sam: \"))\n",
    "khan = int(input(\"Enter the age of khan: \"))\n",
    "if ram > sam and ram > khan:\n",
    "    eldest = \"ram\"\n",
    "elif sam > ram and sam > khan:\n",
    "    eldest = \"sam\"\n",
    "else:\n",
    "    eldest = \"khan\"\n",
    "\n",
    "if ram < sam and ram < khan:\n",
    "    youngest = \"ram\"\n",
    "elif sam < ram and sam < khan:\n",
    "    youngest = \"sam\"\n",
    "else:\n",
    "    youngest = \"khan\"\n",
    "\n",
    "print(f\"The eldest person is {eldest} with age {max(ram, sam, khan)} years.\")\n",
    "print(f\"The youngest person is {youngest} with age {min(ram, sam, khan)} years.\")\n"
   ]
  },
  {
   "cell_type": "markdown",
   "id": "5457ae06",
   "metadata": {},
   "source": [
    "# 16.Write a python program to rotate a list by the right n times with and without slicing technique."
   ]
  },
  {
   "cell_type": "code",
   "execution_count": 95,
   "id": "dad117b1",
   "metadata": {},
   "outputs": [
    {
     "name": "stdout",
     "output_type": "stream",
     "text": [
      "List Using Slicing: [43, 45, 75, 12, 24]\n",
      "List Without Slicing: [43, 45, 75, 12, 24]\n"
     ]
    }
   ],
   "source": [
    "lisst12 = [12,24,43,45,75]\n",
    "rotate_times = 3\n",
    "rotated_list_slicing = lisst12[-rotate_times:] + lisst12[:-rotate_times]   # Rotate list using slicing\n",
    "\n",
    "rotate_times = rotate_times % len(lisst12)\n",
    "for _ in range(rotate_times):\n",
    "    last_element = lisst12.pop()\n",
    "    lisst12.insert(0, last_element)# Rotate the list without using slicing\n",
    "\n",
    "print(\"List Using Slicing:\", rotated_list_slicing)\n",
    "print(\"List Without Slicing:\", lisst12)\n"
   ]
  },
  {
   "cell_type": "code",
   "execution_count": null,
   "id": "e9788da0",
   "metadata": {},
   "outputs": [],
   "source": []
  },
  {
   "cell_type": "code",
   "execution_count": null,
   "id": "dabda94f",
   "metadata": {},
   "outputs": [],
   "source": []
  },
  {
   "cell_type": "code",
   "execution_count": null,
   "id": "7e1e76bd",
   "metadata": {},
   "outputs": [],
   "source": []
  }
 ],
 "metadata": {
  "kernelspec": {
   "display_name": "Python 3 (ipykernel)",
   "language": "python",
   "name": "python3"
  },
  "language_info": {
   "codemirror_mode": {
    "name": "ipython",
    "version": 3
   },
   "file_extension": ".py",
   "mimetype": "text/x-python",
   "name": "python",
   "nbconvert_exporter": "python",
   "pygments_lexer": "ipython3",
   "version": "3.11.4"
  }
 },
 "nbformat": 4,
 "nbformat_minor": 5
}
