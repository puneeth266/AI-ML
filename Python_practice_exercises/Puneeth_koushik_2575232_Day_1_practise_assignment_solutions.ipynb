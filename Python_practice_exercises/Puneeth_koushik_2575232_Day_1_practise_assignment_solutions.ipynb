{
 "cells": [
  {
   "cell_type": "markdown",
   "id": "438db737",
   "metadata": {},
   "source": [
    "# 1. Manipulate using a list.\n",
    "    i) To add new elements to the end of the list.\n",
    "    ii) To reserve elements in the list\n",
    "    iii) To display the same list of elements multiple times.\n",
    "    iv) to concatenate two list\n",
    "    v) To sort the elements in the list in ascending order."
   ]
  },
  {
   "cell_type": "code",
   "execution_count": 3,
   "id": "e21bcbf8",
   "metadata": {},
   "outputs": [
    {
     "name": "stdout",
     "output_type": "stream",
     "text": [
      "[1, 2, 4, 5, 'star', 'moon', 24, 67, 'sun']\n"
     ]
    }
   ],
   "source": [
    "# i) To add new elements to the end of the list.\n",
    "\n",
    "listt=[1,2,4,5,'star','moon',24,67]\n",
    "listt.append('sun')\n",
    "print(listt)\n"
   ]
  },
  {
   "cell_type": "code",
   "execution_count": 4,
   "id": "cfd99db8",
   "metadata": {},
   "outputs": [
    {
     "data": {
      "text/plain": [
       "['sun', 67, 24, 'moon', 'star', 5, 4, 2, 1]"
      ]
     },
     "execution_count": 4,
     "metadata": {},
     "output_type": "execute_result"
    }
   ],
   "source": [
    "#ii) To reserve elements in the list\n",
    "listt[::-1]"
   ]
  },
  {
   "cell_type": "code",
   "execution_count": 9,
   "id": "8206b716",
   "metadata": {},
   "outputs": [
    {
     "name": "stdout",
     "output_type": "stream",
     "text": [
      "[1, 2, 4, 5, 'star', 'moon', 24, 67, 'sun', 1, 2, 4, 5, 'star', 'moon', 24, 67, 'sun', 1, 2, 4, 5, 'star', 'moon', 24, 67, 'sun', 1, 2, 4, 5, 'star', 'moon', 24, 67, 'sun']\n"
     ]
    }
   ],
   "source": [
    "# iii) To display the same list of elements multiple times.\n",
    "print ( listt*4 )"
   ]
  },
  {
   "cell_type": "code",
   "execution_count": 10,
   "id": "1d1609ce",
   "metadata": {},
   "outputs": [
    {
     "name": "stdout",
     "output_type": "stream",
     "text": [
      "[1, 2, 4, 5, 'star', 'moon', 24, 67, 'sun', 'new', 'list', 12]\n"
     ]
    }
   ],
   "source": [
    "# iv) to concatenate two list\n",
    "listt1=['new','list',12]\n",
    "print(listt+listt1)"
   ]
  },
  {
   "cell_type": "code",
   "execution_count": 11,
   "id": "5de7c658",
   "metadata": {},
   "outputs": [
    {
     "name": "stdout",
     "output_type": "stream",
     "text": [
      "[3, 5, 9, 48, 65, 87]\n"
     ]
    }
   ],
   "source": [
    "# v) To sort the elements in the list in ascending order.\n",
    "listt2=[3,5,48,9,87,65]\n",
    "listt2.sort()\n",
    "print(listt2)"
   ]
  },
  {
   "cell_type": "code",
   "execution_count": null,
   "id": "d6b252aa",
   "metadata": {},
   "outputs": [],
   "source": []
  },
  {
   "cell_type": "markdown",
   "id": "822660c9",
   "metadata": {},
   "source": [
    "# 2 Write a Python program to do in the tuples.\n",
    "    i) Manipulate using Tuples\n",
    "    ii) To add new elements to the end of tuple.\n",
    "    iii) To reverse the elements in the list.\n",
    "    iv) To concatenate two tuples\n",
    "    v) To sort the elements in the list in ascending order.\n",
    "    "
   ]
  },
  {
   "cell_type": "code",
   "execution_count": null,
   "id": "877e5639",
   "metadata": {},
   "outputs": [],
   "source": []
  },
  {
   "cell_type": "code",
   "execution_count": null,
   "id": "07ed4479",
   "metadata": {},
   "outputs": [],
   "source": []
  },
  {
   "cell_type": "code",
   "execution_count": 19,
   "id": "cfc892a0",
   "metadata": {},
   "outputs": [
    {
     "name": "stdout",
     "output_type": "stream",
     "text": [
      "4\n",
      "8\n"
     ]
    }
   ],
   "source": [
    "# i) Manipulate using Tuples\n",
    "\n",
    "tuple1 = (1, 2, 3, 4, 5)\n",
    "a=tuple1[3]\n",
    "print(a)\n",
    "print(a+a)\n"
   ]
  },
  {
   "cell_type": "code",
   "execution_count": 22,
   "id": "29901bf3",
   "metadata": {},
   "outputs": [
    {
     "name": "stdout",
     "output_type": "stream",
     "text": [
      "(1, 2, 3, 4, 5, 15)\n"
     ]
    }
   ],
   "source": [
    "#ii) To add new elements to the end of tuple.\n",
    "b=15\n",
    "r=tuple1 + (b,)\n",
    "print(r)\n"
   ]
  },
  {
   "cell_type": "code",
   "execution_count": 24,
   "id": "b12eb434",
   "metadata": {},
   "outputs": [
    {
     "name": "stdout",
     "output_type": "stream",
     "text": [
      "<class 'tuple'>\n",
      "<class 'list'>\n",
      "[5, 4, 3, 2, 1]\n"
     ]
    }
   ],
   "source": [
    "#iii) To reverse the elements in the list.\n",
    "print(type(tuple1))\n",
    "tuple1_list=list(tuple1)\n",
    "print(type(tuple1_list))\n",
    "tuple1_list.reverse()\n",
    "print(tuple1_list)\n"
   ]
  },
  {
   "cell_type": "code",
   "execution_count": 32,
   "id": "d5c4f727",
   "metadata": {},
   "outputs": [
    {
     "name": "stdout",
     "output_type": "stream",
     "text": [
      "<class 'tuple'>\n",
      "(1, 2, 3, 4, 5, 15)\n",
      "<class 'tuple'>\n",
      "<class 'list'>\n",
      "[5, 4, 3, 2, 1, 2, 3, 4, 5]\n"
     ]
    }
   ],
   "source": [
    " # iv) To concatenate two tuples\n",
    "b=15\n",
    "r=tuple1 + (b,)\n",
    "print(type(r))\n",
    "print(r)\n",
    "tuple2=(2,3,4,5)\n",
    "print(type(tuple2))\n",
    "tuple2_list=list(tuple2)\n",
    "print(type(tuple2_list))\n",
    "result=(tuple1_list+ tuple2_list)\n",
    "\n",
    "print(result)\n",
    "    \n",
    "    \n",
    "    "
   ]
  },
  {
   "cell_type": "code",
   "execution_count": 33,
   "id": "2091b176",
   "metadata": {},
   "outputs": [
    {
     "name": "stdout",
     "output_type": "stream",
     "text": [
      "[1, 2, 2, 3, 3, 4, 4, 5, 5]\n"
     ]
    }
   ],
   "source": [
    "# v) To sort the elements in the list in ascending order.\n",
    "result.sort()\n",
    "print(result)"
   ]
  },
  {
   "cell_type": "markdown",
   "id": "e7d840d5",
   "metadata": {},
   "source": [
    "# 3. Write a python program to implement the following using list.\n",
    "    i)create a list with integers(min of 10 num)\n",
    "    ii) how to display the last number in the list.\n",
    "    iii) command for displaying the values from the list [0:4]\n",
    "    iv) command for displaying the values from the list [2:]\n",
    "    v) command for displaying the values from the list [:6]"
   ]
  },
  {
   "cell_type": "code",
   "execution_count": 34,
   "id": "ce00362f",
   "metadata": {},
   "outputs": [],
   "source": [
    "# i)create a list with integers(min of 10 num)\n",
    "lisst=[1,2,3,4,5,67,7,7,8,9,74,4,23]\n"
   ]
  },
  {
   "cell_type": "code",
   "execution_count": 38,
   "id": "94dfd2a7",
   "metadata": {},
   "outputs": [
    {
     "name": "stdout",
     "output_type": "stream",
     "text": [
      "23\n"
     ]
    }
   ],
   "source": [
    "# ii) how to display the last number in the list.\n",
    "lisst_r=lisst[-1]\n",
    "print(lisst_r)\n"
   ]
  },
  {
   "cell_type": "code",
   "execution_count": 39,
   "id": "399e9e42",
   "metadata": {},
   "outputs": [
    {
     "name": "stdout",
     "output_type": "stream",
     "text": [
      "[1, 2, 3, 4]\n"
     ]
    }
   ],
   "source": [
    "#iii) command for displaying the values from the list [0:4]\n",
    "print(lisst[0:4])"
   ]
  },
  {
   "cell_type": "code",
   "execution_count": 40,
   "id": "d3493fb9",
   "metadata": {},
   "outputs": [
    {
     "name": "stdout",
     "output_type": "stream",
     "text": [
      "[3, 4, 5, 67, 7, 7, 8, 9, 74, 4, 23]\n"
     ]
    }
   ],
   "source": [
    "# iv) command for displaying the values from the list [2:]\n",
    "print(lisst[2:])"
   ]
  },
  {
   "cell_type": "code",
   "execution_count": 41,
   "id": "0f76bea1",
   "metadata": {},
   "outputs": [
    {
     "name": "stdout",
     "output_type": "stream",
     "text": [
      "[1, 2, 3, 4, 5, 67]\n"
     ]
    }
   ],
   "source": [
    "# v) command for displaying the values from the list [:6]\n",
    "print(lisst[:6])"
   ]
  },
  {
   "cell_type": "markdown",
   "id": "33cdf88a",
   "metadata": {},
   "source": [
    "# 4. Write a python program : tuple1=(10,50,20,40,30)\n",
    "    i) to display the elements 10 and 50 from tuple1.\n",
    "    ii) to display the length of a tuple1.\n",
    "    iii) to find the min element from tuple1.\n",
    "    iv) to add all elements in tuple1.\n",
    "    v) to display the same tuple1 multiple times."
   ]
  },
  {
   "cell_type": "code",
   "execution_count": 44,
   "id": "c9e8a11b",
   "metadata": {},
   "outputs": [
    {
     "name": "stdout",
     "output_type": "stream",
     "text": [
      "10 50\n"
     ]
    }
   ],
   "source": [
    " #     i) to display the elements 10 and 50 from tuple1.\n",
    "tuple1=(10,50,20,40,30)\n",
    "print(tuple1[0],tuple1[1])"
   ]
  },
  {
   "cell_type": "code",
   "execution_count": 45,
   "id": "fdf837bf",
   "metadata": {},
   "outputs": [
    {
     "name": "stdout",
     "output_type": "stream",
     "text": [
      "5\n"
     ]
    }
   ],
   "source": [
    "#     ii) to display the length of a tuple1.\n",
    "print(len(tuple1))"
   ]
  },
  {
   "cell_type": "code",
   "execution_count": 46,
   "id": "863fe73e",
   "metadata": {},
   "outputs": [
    {
     "name": "stdout",
     "output_type": "stream",
     "text": [
      "10\n"
     ]
    }
   ],
   "source": [
    "# iii) to find the min element from tuple1.\n",
    "print(min(tuple1))"
   ]
  },
  {
   "cell_type": "code",
   "execution_count": 47,
   "id": "093f3bd2",
   "metadata": {},
   "outputs": [
    {
     "name": "stdout",
     "output_type": "stream",
     "text": [
      "150\n"
     ]
    }
   ],
   "source": [
    "# iv) to add all elements in tuple1.\n",
    "print(sum(tuple1))"
   ]
  },
  {
   "cell_type": "code",
   "execution_count": 48,
   "id": "fe3714d6",
   "metadata": {},
   "outputs": [
    {
     "name": "stdout",
     "output_type": "stream",
     "text": [
      "(10, 50, 20, 40, 30, 10, 50, 20, 40, 30, 10, 50, 20, 40, 30, 10, 50, 20, 40, 30, 10, 50, 20, 40, 30, 10, 50, 20, 40, 30)\n"
     ]
    }
   ],
   "source": [
    "# v) to display the same tuple1 multiple times.\n",
    "print(tuple1*6)"
   ]
  },
  {
   "cell_type": "markdown",
   "id": "2cd39942",
   "metadata": {},
   "source": [
    "# 5. Write a program:\n",
    "    i) To calculate the length of a string.\n",
    "    ii) to reverse words in string.\n",
    "    iii) to display the same string multiple times\n",
    "    iv) to concatenate two strings\n",
    "    v) str1=\"South India\", using string slicing to display \"India\""
   ]
  },
  {
   "cell_type": "code",
   "execution_count": 49,
   "id": "616bb9f9",
   "metadata": {},
   "outputs": [
    {
     "name": "stdout",
     "output_type": "stream",
     "text": [
      "11\n"
     ]
    }
   ],
   "source": [
    "#     i) To calculate the length of a string.\n",
    "str1=\"South India\"\n",
    "print(len(str1))"
   ]
  },
  {
   "cell_type": "code",
   "execution_count": 51,
   "id": "787218b3",
   "metadata": {},
   "outputs": [
    {
     "name": "stdout",
     "output_type": "stream",
     "text": [
      "aidnI htuoS\n"
     ]
    }
   ],
   "source": [
    "# ii) to reverse words in string.\n",
    "print(str1[::-1])"
   ]
  },
  {
   "cell_type": "code",
   "execution_count": 52,
   "id": "1cdcae1a",
   "metadata": {},
   "outputs": [
    {
     "name": "stdout",
     "output_type": "stream",
     "text": [
      "South IndiaSouth IndiaSouth IndiaSouth IndiaSouth IndiaSouth India\n"
     ]
    }
   ],
   "source": [
    "# iii) to display the same string multiple times\n",
    "print(str1*6)"
   ]
  },
  {
   "cell_type": "code",
   "execution_count": 56,
   "id": "92e8667e",
   "metadata": {},
   "outputs": [
    {
     "name": "stdout",
     "output_type": "stream",
     "text": [
      "South India _ north india\n"
     ]
    }
   ],
   "source": [
    "#     iv) to concatenate two strings\n",
    "str2=\"north india\"\n",
    "print(str1+\" _ \"+str2)"
   ]
  },
  {
   "cell_type": "code",
   "execution_count": 58,
   "id": "e556a763",
   "metadata": {},
   "outputs": [
    {
     "name": "stdout",
     "output_type": "stream",
     "text": [
      "India: India\n"
     ]
    }
   ],
   "source": [
    "# v) str1=\"South India\", using string slicing to display \"India\"\n",
    "print(\"india:\",str1[6:])\n"
   ]
  },
  {
   "cell_type": "code",
   "execution_count": null,
   "id": "021ab30c",
   "metadata": {},
   "outputs": [],
   "source": []
  },
  {
   "cell_type": "markdown",
   "id": "35d7b343",
   "metadata": {},
   "source": [
    "# 6. Perform the following:\n",
    "\n",
    "1. Creating the directory.\n",
    "2. Accessing values and keys in the Dictionary.\n",
    "3. Updating the dictionary using a function.\n",
    "4. Clear and delete the dictionary values."
   ]
  },
  {
   "cell_type": "code",
   "execution_count": 59,
   "id": "23dfa78f",
   "metadata": {},
   "outputs": [
    {
     "name": "stdout",
     "output_type": "stream",
     "text": [
      "Dictionary: {'name': 'puneeth', 'age': 22, 'place': 'bangalore'}\n"
     ]
    }
   ],
   "source": [
    "# 1. Creating the directory.\n",
    "\n",
    "dict1 = {'name': 'puneeth','age': 22,'place': 'bangalore'}\n",
    "\n",
    "print(\"Dictionary:\", dict1)\n"
   ]
  },
  {
   "cell_type": "code",
   "execution_count": 64,
   "id": "1e684aab",
   "metadata": {},
   "outputs": [
    {
     "name": "stdout",
     "output_type": "stream",
     "text": [
      "puneeth bangalore\n",
      "dict_keys(['name', 'age', 'place'])\n"
     ]
    }
   ],
   "source": [
    "# 2. Accessing values and keys in the Dictionary.\n",
    "print(dict1['name'], dict1['place'])\n",
    "print(dict1.keys())\n"
   ]
  },
  {
   "cell_type": "code",
   "execution_count": 65,
   "id": "95b413e6",
   "metadata": {},
   "outputs": [
    {
     "name": "stdout",
     "output_type": "stream",
     "text": [
      "Dictionary: {'name': 'puneeth', 'age': 22, 'place': 'bangalore', 'city': 'belgaum', 'job': 'engineer'}\n"
     ]
    }
   ],
   "source": [
    "# 3. Updating the dictionary using a function.\n",
    "\n",
    "dict1.update({'city': 'belgaum', 'job': 'engineer'})\n",
    "print(\"Dictionary:\", dict1)\n"
   ]
  },
  {
   "cell_type": "code",
   "execution_count": 66,
   "id": "495ca52a",
   "metadata": {},
   "outputs": [
    {
     "name": "stdout",
     "output_type": "stream",
     "text": [
      "{'name': 'puneeth', 'age': 22, 'place': 'bangalore', 'job': 'engineer'}\n"
     ]
    }
   ],
   "source": [
    "# 4. Clear and delete the dictionary values.\n",
    "del dict1['city']\n",
    "print(dict1)\n",
    "\n"
   ]
  },
  {
   "cell_type": "markdown",
   "id": "33e1e92f",
   "metadata": {},
   "source": [
    "# 7. Python Program to insert a number to any position in a list."
   ]
  },
  {
   "cell_type": "code",
   "execution_count": 68,
   "id": "60d0c32f",
   "metadata": {},
   "outputs": [
    {
     "name": "stdout",
     "output_type": "stream",
     "text": [
      "[12, 23, 432, 23, 34, 53, 44, 23]\n"
     ]
    }
   ],
   "source": [
    "\n",
    "list11 = [12,23,432,23,34,44,23]\n",
    "p = 5\n",
    "insert_num = 53\n",
    "list11.insert(p, insert_num)\n",
    "print(list11)\n"
   ]
  },
  {
   "cell_type": "markdown",
   "id": "dd053005",
   "metadata": {},
   "source": [
    "# 8. Write a Python Program to implement airthametic operations using nested if statements."
   ]
  },
  {
   "cell_type": "code",
   "execution_count": 71,
   "id": "e4b7c247",
   "metadata": {},
   "outputs": [
    {
     "name": "stdout",
     "output_type": "stream",
     "text": [
      "Enter the number: 12\n",
      "Enter the number: 16\n",
      "Enter any to perform (+, -, *, /): /\n",
      "0.75\n"
     ]
    }
   ],
   "source": [
    "\n",
    "num1 = float(input(\"Enter the number: \"))\n",
    "num2 = float(input(\"Enter the number: \"))\n",
    "\n",
    "operator = input(\"Enter any to perform (+, -, *, /): \")\n",
    "\n",
    "if operator == \"+\":\n",
    "    result = num1 + num2\n",
    "    print(result)\n",
    "elif operator == \"-\":\n",
    "    result = num1 - num2\n",
    "    print( result)\n",
    "elif operator == \"*\":\n",
    "    result = num1 * num2\n",
    "    print(result)\n",
    "elif operator == \"/\":\n",
    "    if num2 != 0:  \n",
    "        result = num1 / num2\n",
    "        print(result)\n",
    "    else:\n",
    "        print(\"division by 0 is not allowed\")\n",
    "else:\n",
    "    print(\"Please enter +, -, *, or /.\")\n"
   ]
  },
  {
   "cell_type": "code",
   "execution_count": 73,
   "id": "7c010e41",
   "metadata": {},
   "outputs": [
    {
     "name": "stdout",
     "output_type": "stream",
     "text": [
      "enter degree celcius: 100\n",
      "212.0\n"
     ]
    }
   ],
   "source": [
    "# 9. Write a Python Program to Take the temperature in celcius and convert it to Fahrenheit.\n",
    "temp=int(input(\"enter degree celcius: \"))\n",
    "farenhiet =(temp * 9/5) + 32\n",
    "print(farenhiet)\n"
   ]
  },
  {
   "cell_type": "markdown",
   "id": "ca386c5d",
   "metadata": {},
   "source": [
    "# 10. Write a Python Program to find the max and min number in a list without using an inbuilt function."
   ]
  },
  {
   "cell_type": "code",
   "execution_count": 78,
   "id": "dc06a099",
   "metadata": {},
   "outputs": [
    {
     "name": "stdout",
     "output_type": "stream",
     "text": [
      "Maximum number: 87\n",
      "Minimum number: 3\n"
     ]
    }
   ],
   "source": [
    "listt2=[3,5,48,9,87,65]\n",
    "max_num = listt2[0]  \n",
    "min_num = listt2[0]  \n",
    "\n",
    "for num in listt2:\n",
    "    if num > max_num:\n",
    "        max_num = num\n",
    "    elif num < min_num:\n",
    "        min_num = num\n",
    "\n",
    "print(\"Maximum number:\", max_num)\n",
    "print(\"Minimum number:\", min_num)\n"
   ]
  },
  {
   "cell_type": "markdown",
   "id": "166e5d90",
   "metadata": {},
   "source": [
    "# 11. Write a Python Program to print out the number of seconds in 30 day month 30 days,24 hours in a day, 60 mins per day, 60 second per min."
   ]
  },
  {
   "cell_type": "code",
   "execution_count": 79,
   "id": "e940b094",
   "metadata": {},
   "outputs": [
    {
     "name": "stdout",
     "output_type": "stream",
     "text": [
      "2592000\n"
     ]
    }
   ],
   "source": [
    "\n",
    "days_in_month = 30\n",
    "hours_per_day = 24\n",
    "minutes_per_hour = 60\n",
    "seconds_per_minute = 60\n",
    "Total_seconds = days_in_month * hours_per_day * minutes_per_hour * seconds_per_minute\n",
    "print(Total_seconds)"
   ]
  },
  {
   "cell_type": "markdown",
   "id": "2590af39",
   "metadata": {},
   "source": [
    "# 12. Write a Python Program to print out the number of seconds in a year."
   ]
  },
  {
   "cell_type": "code",
   "execution_count": 81,
   "id": "6e85bfa0",
   "metadata": {},
   "outputs": [
    {
     "name": "stdout",
     "output_type": "stream",
     "text": [
      "2592000\n"
     ]
    }
   ],
   "source": [
    "days_in_year=365\n",
    "hours_per_day = 24\n",
    "minutes_per_hour = 60\n",
    "seconds_per_minute = 60\n",
    "Total_seconds_in_year = days_in_year * hours_per_day * minutes_per_hour * seconds_per_minute\n",
    "print(Total_seconds)"
   ]
  },
  {
   "cell_type": "markdown",
   "id": "45e300d6",
   "metadata": {},
   "source": [
    "# 13. A high speed train can travel at an avg speed of 150 mph, how long will it take a train travelling at this speed to travel from Londen to Glasgow which is 414 miles away."
   ]
  },
  {
   "cell_type": "code",
   "execution_count": 88,
   "id": "002f96f5",
   "metadata": {},
   "outputs": [
    {
     "name": "stdout",
     "output_type": "stream",
     "text": [
      "2.76\n"
     ]
    }
   ],
   "source": [
    "distance = 414  \n",
    "speed = 150  \n",
    "\n",
    "time = distance / speed\n",
    "print(time)\n"
   ]
  },
  {
   "cell_type": "markdown",
   "id": "c0b5b2ca",
   "metadata": {},
   "source": [
    "# 14.Write a Python Program that defines a variable called days_in_each_school_year and assign 192 to variable. The program should then print out the total hours that you spend in school from year 7 to year 11. if each day you spend 6 hours in school day_in_each_school_year = 192"
   ]
  },
  {
   "cell_type": "code",
   "execution_count": 90,
   "id": "0096e2d2",
   "metadata": {},
   "outputs": [
    {
     "name": "stdout",
     "output_type": "stream",
     "text": [
      "5760 hours\n"
     ]
    }
   ],
   "source": [
    "days_in_each_school_year = 192 \n",
    "hours_per_school_day = 6 \n",
    "total_hours = (days_in_each_school_year * 5) * hours_per_school_day  \n",
    "print(f\"{total_hours} hours\")"
   ]
  },
  {
   "cell_type": "markdown",
   "id": "5e84975e",
   "metadata": {},
   "source": [
    "# 15. If the ages of Ram, Sam and Khan are input through the keyboard, write a python program to determine the eldest and the youngest of the three."
   ]
  },
  {
   "cell_type": "code",
   "execution_count": 92,
   "id": "a3218200",
   "metadata": {},
   "outputs": [
    {
     "name": "stdout",
     "output_type": "stream",
     "text": [
      "Enter the age of ram: 14\n",
      "Enter the age of sam: 12\n",
      "Enter the age of khan: 16\n",
      "The eldest person is khan with age 16 years.\n",
      "The youngest person is sam with age 12 years.\n"
     ]
    }
   ],
   "source": [
    "ram = int(input(\"Enter the age of ram: \"))\n",
    "sam = int(input(\"Enter the age of sam: \"))\n",
    "khan = int(input(\"Enter the age of khan: \"))\n",
    "if ram > sam and ram > khan:\n",
    "    eldest = \"ram\"\n",
    "elif sam > ram and sam > khan:\n",
    "    eldest = \"sam\"\n",
    "else:\n",
    "    eldest = \"khan\"\n",
    "\n",
    "if ram < sam and ram < khan:\n",
    "    youngest = \"ram\"\n",
    "elif sam < ram and sam < khan:\n",
    "    youngest = \"sam\"\n",
    "else:\n",
    "    youngest = \"khan\"\n",
    "\n",
    "print(f\"The eldest person is {eldest} with age {max(ram, sam, khan)} years.\")\n",
    "print(f\"The youngest person is {youngest} with age {min(ram, sam, khan)} years.\")\n"
   ]
  },
  {
   "cell_type": "markdown",
   "id": "72e49594",
   "metadata": {},
   "source": [
    "# 16.Write a python program to rotate a list by the right n times with and without slicing technique."
   ]
  },
  {
   "cell_type": "code",
   "execution_count": 95,
   "id": "095d08a5",
   "metadata": {},
   "outputs": [
    {
     "name": "stdout",
     "output_type": "stream",
     "text": [
      "List Using Slicing: [43, 45, 75, 12, 24]\n",
      "List Without Slicing: [43, 45, 75, 12, 24]\n"
     ]
    }
   ],
   "source": [
    "lisst12 = [12,24,43,45,75]\n",
    "rotate_times = 3\n",
    "rotated_list_slicing = lisst12[-rotate_times:] + lisst12[:-rotate_times]   # Rotate list using slicing\n",
    "\n",
    "rotate_times = rotate_times % len(lisst12)\n",
    "for _ in range(rotate_times):\n",
    "    last_element = lisst12.pop()\n",
    "    lisst12.insert(0, last_element)# Rotate the list without using slicing\n",
    "\n",
    "print(\"List Using Slicing:\", rotated_list_slicing)\n",
    "print(\"List Without Slicing:\", lisst12)\n"
   ]
  },
  {
   "cell_type": "code",
   "execution_count": null,
   "id": "396d212a",
   "metadata": {},
   "outputs": [],
   "source": []
  }
 ],
 "metadata": {
  "kernelspec": {
   "display_name": "Python 3 (ipykernel)",
   "language": "python",
   "name": "python3"
  },
  "language_info": {
   "codemirror_mode": {
    "name": "ipython",
    "version": 3
   },
   "file_extension": ".py",
   "mimetype": "text/x-python",
   "name": "python",
   "nbconvert_exporter": "python",
   "pygments_lexer": "ipython3",
   "version": "3.11.4"
  }
 },
 "nbformat": 4,
 "nbformat_minor": 5
}
