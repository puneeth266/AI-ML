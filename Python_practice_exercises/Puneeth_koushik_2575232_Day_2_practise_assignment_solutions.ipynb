{
 "cells": [
  {
   "cell_type": "markdown",
   "id": "83c55328",
   "metadata": {},
   "source": [
    "# 1. Write a python Function to list even and odd numbers in a list.\n"
   ]
  },
  {
   "cell_type": "code",
   "execution_count": 22,
   "id": "68e39dc9",
   "metadata": {},
   "outputs": [
    {
     "data": {
      "text/plain": [
       "([12, 76, 54, 56], [23, 45, 65, 87, 43])"
      ]
     },
     "execution_count": 22,
     "metadata": {},
     "output_type": "execute_result"
    }
   ],
   "source": [
    "list1=[12,23,45,65,76,87,43,54,56]\n",
    "def even_or_odd(list1):\n",
    "    even_nums=[]\n",
    "    odd_nums=[]\n",
    "    \n",
    "    for i in list1:\n",
    "        \n",
    "        if i%2==0:\n",
    "            even_nums.append(i)\n",
    "    \n",
    "        else:\n",
    "            odd_nums.append(i)\n",
    "    return even_nums, odd_nums\n",
    "even_or_odd(list1)\n"
   ]
  },
  {
   "cell_type": "markdown",
   "id": "93c38f1b",
   "metadata": {},
   "source": [
    "# 2. Write and run a Python program that asks the user to enter 8 integers (one at a time), and then prints out how many of those integers were even numbers. For example, if the user entered 19, 6, 9, 20, 13, 7, 6, and 1, then your program should print out 3 since 3 of those numbers were even.\n"
   ]
  },
  {
   "cell_type": "code",
   "execution_count": 29,
   "id": "81af2e17",
   "metadata": {},
   "outputs": [
    {
     "name": "stdout",
     "output_type": "stream",
     "text": [
      "Enter integer 1: 19\n",
      "Enter integer 2: 6\n",
      "Enter integer 3: 9\n",
      "Enter integer 4: 20\n",
      "Enter integer 5: 13\n",
      "Enter integer 6: 7\n",
      "Enter integer 7: 6\n",
      "Enter integer 8: 1\n",
      "Number of even numbers entered: 3\n"
     ]
    }
   ],
   "source": [
    "even_count=0\n",
    "for i in range(8):\n",
    "    user_input = int(input(f\"Enter integer {i + 1}: \"))\n",
    "\n",
    "    if user_input % 2 == 0:\n",
    "        even_count += 1\n",
    "print(f\"Number of even numbers entered: {even_count}\")"
   ]
  },
  {
   "cell_type": "markdown",
   "id": "71e2ea1d",
   "metadata": {},
   "source": []
  },
  {
   "cell_type": "markdown",
   "id": "354fdc6d",
   "metadata": {},
   "source": [
    "# 3. Write a Python program where you take any positive integer n, if n is even, divide it by 2 to get n/ 2. If n is odd, multiply it by 3 and add 1 to obtain 3n+ 1. Repeat the process until you reach 1."
   ]
  },
  {
   "cell_type": "code",
   "execution_count": 63,
   "id": "a697346e",
   "metadata": {},
   "outputs": [
    {
     "name": "stdout",
     "output_type": "stream",
     "text": [
      "Enter a integer: 15\n",
      "Step 1: 15\n",
      "Step 2: 46\n",
      "Step 3: 23\n",
      "Step 4: 70\n",
      "Step 5: 35\n",
      "Step 6: 106\n",
      "Step 7: 53\n",
      "Step 8: 160\n",
      "Step 9: 80\n",
      "Step 10: 40\n",
      "Step 11: 20\n",
      "Step 12: 10\n",
      "Step 13: 5\n",
      "Step 14: 16\n",
      "Step 15: 8\n",
      "Step 16: 4\n",
      "Step 17: 2\n",
      "Step 18: 1\n"
     ]
    }
   ],
   "source": [
    "def sequence_(n):\n",
    "    sequence = [n]\n",
    "    while n != 1:\n",
    "        if n % 2 == 0:\n",
    "            n = n // 2\n",
    "        else:\n",
    "            n = (3 * n) + 1\n",
    "        sequence.append(n)\n",
    "    return sequence\n",
    "n = int(input(\"Enter a integer: \"))\n",
    "\n",
    "if n <= 0:\n",
    "    print(\"Please enter a positive integer.\")\n",
    "else:\n",
    "    sequence = sequence_(n)\n",
    "    for step, num in enumerate(sequence):\n",
    "        print(f\"Step {step + 1}: {num}\")"
   ]
  },
  {
   "cell_type": "code",
   "execution_count": null,
   "id": "96cc80ac",
   "metadata": {},
   "outputs": [],
   "source": []
  },
  {
   "cell_type": "code",
   "execution_count": null,
   "id": "7c8e5de3",
   "metadata": {},
   "outputs": [],
   "source": []
  },
  {
   "cell_type": "markdown",
   "id": "8b1274eb",
   "metadata": {},
   "source": [
    "# 4. Write a Python program to compute the sum of all the multiples of 3 or 5 below 500.\n"
   ]
  },
  {
   "cell_type": "code",
   "execution_count": 38,
   "id": "87a1cf41",
   "metadata": {},
   "outputs": [
    {
     "name": "stdout",
     "output_type": "stream",
     "text": [
      "57918\n"
     ]
    }
   ],
   "source": [
    "sum_ = 0\n",
    "for i in range(1, 500):\n",
    "    if i % 3 == 0 or i % 5 == 0:\n",
    "        sum_ += i\n",
    "print(sum_)"
   ]
  },
  {
   "cell_type": "markdown",
   "id": "8c6351cb",
   "metadata": {},
   "source": [
    "# 5.To write a Python program to find first 'n' prime numbers from a list of given numbers.\n"
   ]
  },
  {
   "cell_type": "code",
   "execution_count": 42,
   "id": "5ef673df",
   "metadata": {},
   "outputs": [
    {
     "name": "stdout",
     "output_type": "stream",
     "text": [
      "The first 4 prime numbers from the list are: [2, 3, 5, 7]\n"
     ]
    }
   ],
   "source": [
    "def prime_(num):\n",
    "    if num <= 1:\n",
    "        return False\n",
    "    for i in range(2, int(num**0.5) + 1):\n",
    "        if num % i == 0:\n",
    "            return False\n",
    "    return True\n",
    "numbers_to_check = [2, 3, 4, 5, 6, 7, 8, 9, 10, 11, 12] \n",
    "n = 4\n",
    "prime_numbers = [num for num in numbers_to_check if is_prime(num)][:n]\n",
    "print(f\"The first {n} prime numbers from the list are:\", prime_numbers)\n"
   ]
  },
  {
   "cell_type": "markdown",
   "id": "bed5348a",
   "metadata": {},
   "source": [
    "# 6. To write a Python program to compute matrix multiplication. "
   ]
  },
  {
   "cell_type": "code",
   "execution_count": 61,
   "id": "7f663755",
   "metadata": {},
   "outputs": [
    {
     "name": "stdout",
     "output_type": "stream",
     "text": [
      "[[58, 64], [139, 154]]\n"
     ]
    }
   ],
   "source": [
    "def matrix_multiply(matrix1, matrix2):\n",
    "    if len(matrix1[0]) != len(matrix2):\n",
    "        return \"can't do Matrix multiplication\"\n",
    "    result = [[0 for _ in range(len(matrix2[0]))] for _ in range(len(matrix1))]\n",
    "    for i in range(len(matrix1)):\n",
    "        for j in range(len(matrix2[0])):\n",
    "            for k in range(len(matrix2)):\n",
    "                result[i][j] += matrix1[i][k] * matrix2[k][j]\n",
    "    return result\n",
    "matrix_A = [[1, 2, 3], [4, 5, 6]]\n",
    "matrix_B = [[7, 8], [9, 10], [11, 12]]\n",
    "result_matrix = matrix_multiply(matrix_A, matrix_B)\n",
    "print(result_matrix) "
   ]
  },
  {
   "cell_type": "code",
   "execution_count": null,
   "id": "2af6b2e9",
   "metadata": {},
   "outputs": [],
   "source": []
  },
  {
   "cell_type": "markdown",
   "id": "d035ac65",
   "metadata": {},
   "source": [
    "# 7. Write a python Function to count the number of vowels in a string."
   ]
  },
  {
   "cell_type": "code",
   "execution_count": 45,
   "id": "2a496879",
   "metadata": {},
   "outputs": [
    {
     "name": "stdout",
     "output_type": "stream",
     "text": [
      "Number of vowels in the string: 4\n"
     ]
    }
   ],
   "source": [
    "def count_vowels(string):\n",
    "    vowels = \"AEIOUaeiou\"\n",
    "    count = 0\n",
    "    for i in string:\n",
    "        if i in vowels:\n",
    "            count += 1\n",
    "    return count\n",
    "input_string = \"Mphasis ltd AE\"\n",
    "vowel_count = count_vowels(input_string)\n",
    "print(f\"Number of vowels in the string: {vowel_count}\")"
   ]
  },
  {
   "cell_type": "markdown",
   "id": "be15a159",
   "metadata": {},
   "source": []
  },
  {
   "cell_type": "code",
   "execution_count": null,
   "id": "c7b5a76d",
   "metadata": {},
   "outputs": [],
   "source": []
  },
  {
   "cell_type": "markdown",
   "id": "b53820d3",
   "metadata": {},
   "source": [
    "# 8. Write a python Function for finding factorial for the given number using a recursive function\n"
   ]
  },
  {
   "cell_type": "code",
   "execution_count": 49,
   "id": "41c32e7f",
   "metadata": {},
   "outputs": [
    {
     "data": {
      "text/plain": [
       "120"
      ]
     },
     "execution_count": 49,
     "metadata": {},
     "output_type": "execute_result"
    }
   ],
   "source": [
    "def factorial_recursive(n):\n",
    "    if n == 0:\n",
    "        return 1\n",
    "    else:\n",
    "        return n * factorial_recursive(n - 1)\n",
    "n = 5\n",
    "factorial_recursive(n)"
   ]
  },
  {
   "cell_type": "markdown",
   "id": "37baa1bc",
   "metadata": {},
   "source": [
    "# 9. Write a python Function for generating the Fibonacci series using the function.\n"
   ]
  },
  {
   "cell_type": "code",
   "execution_count": 52,
   "id": "b4ec5c63",
   "metadata": {},
   "outputs": [
    {
     "data": {
      "text/plain": [
       "[0, 1, 1, 2, 3, 5, 8, 13, 21, 34]"
      ]
     },
     "execution_count": 52,
     "metadata": {},
     "output_type": "execute_result"
    }
   ],
   "source": [
    "def fibonacci_(n):\n",
    "    if n <= 0:\n",
    "        return []\n",
    "    elif n == 1:\n",
    "        return [0]\n",
    "    elif n == 2:\n",
    "        return [0, 1]\n",
    "    else:\n",
    "        fib_series = fibonacci_(n - 1)\n",
    "        fib_series.append(fib_series[-1] + fib_series[-2])\n",
    "        return fib_series\n",
    "fibonacci_(10)\n"
   ]
  },
  {
   "cell_type": "markdown",
   "id": "4f6df680",
   "metadata": {},
   "source": [
    "# 10. Python program to display the given integer in reverse order using the function without an in-built function."
   ]
  },
  {
   "cell_type": "code",
   "execution_count": 54,
   "id": "197744fa",
   "metadata": {},
   "outputs": [
    {
     "name": "stdout",
     "output_type": "stream",
     "text": [
      "Original: 23457345\n",
      "Reversed: 54375432\n"
     ]
    }
   ],
   "source": [
    "def reverse_integer(num):\n",
    "    if num < 0:\n",
    "        num_str = '-' + str(-num)\n",
    "    else:\n",
    "        num_str = str(num)\n",
    "\n",
    "    reversed_str = num_str[::-1]\n",
    "\n",
    "    return int(reversed_str) \n",
    "\n",
    "input_num = 23457345  \n",
    "reversed_num = reverse_integer(input_num)\n",
    "print(\"Original:\", input_num)\n",
    "print(\"Reversed:\", reversed_num)"
   ]
  },
  {
   "cell_type": "markdown",
   "id": "3c7eae1b",
   "metadata": {},
   "source": [
    "# 11. Write a Python Function to display all integers within the range 200-300 whose sum of digits is an even number."
   ]
  },
  {
   "cell_type": "code",
   "execution_count": 55,
   "id": "73a5a9d6",
   "metadata": {},
   "outputs": [
    {
     "name": "stdout",
     "output_type": "stream",
     "text": [
      "Integers with even sum of digits in the range 200-300:\n",
      "[200, 202, 204, 206, 208, 211, 213, 215, 217, 219, 220, 222, 224, 226, 228, 231, 233, 235, 237, 239, 240, 242, 244, 246, 248, 251, 253, 255, 257, 259, 260, 262, 264, 266, 268, 271, 273, 275, 277, 279, 280, 282, 284, 286, 288, 291, 293, 295, 297, 299]\n"
     ]
    }
   ],
   "source": [
    "def sum_of_digits_even(num):\n",
    "    digit_sum = sum(int(digit) for digit in str(num))\n",
    "    \n",
    "    return digit_sum % 2 == 0\n",
    "\n",
    "def find_integers_with_even_digit_sum(start, end):\n",
    "    result = []\n",
    "    \n",
    "    for num in range(start, end + 1):\n",
    "        if sum_of_digits_even(num):\n",
    "            result.append(num)\n",
    "    \n",
    "    return result\n",
    "\n",
    "start_range = 200\n",
    "end_range = 300\n",
    "result_list = find_integers_with_even_digit_sum(start_range, end_range)\n",
    "print(\"Integers with even sum of digits in the range {}-{}:\".format(start_range, end_range))\n",
    "print(result_list)"
   ]
  },
  {
   "cell_type": "markdown",
   "id": "1879d604",
   "metadata": {},
   "source": [
    "# 12. Write a python Function to find the number of digits and sum of digits for a given integer\n"
   ]
  },
  {
   "cell_type": "code",
   "execution_count": 57,
   "id": "5b588a67",
   "metadata": {},
   "outputs": [
    {
     "name": "stdout",
     "output_type": "stream",
     "text": [
      "Number of digits: 6\n",
      "Sum of digits: 19\n"
     ]
    }
   ],
   "source": [
    "def count_digits_and_sum(num):\n",
    "    digit_count = 0\n",
    "    digit_sum = 0\n",
    "\n",
    "    num = abs(num)\n",
    "    while num > 0:\n",
    "        digit = num % 10\n",
    "\n",
    "        digit_count += 1\n",
    "        digit_sum += digit\n",
    "\n",
    "        num //= 10\n",
    "\n",
    "    return digit_count, digit_sum\n",
    "\n",
    "input_num = 234253\n",
    "num_digits, sum_of_digits = count_digits_and_sum(input_num)\n",
    "print(\"Number of digits:\", num_digits)\n",
    "print(\"Sum of digits:\", sum_of_digits)"
   ]
  },
  {
   "cell_type": "code",
   "execution_count": null,
   "id": "a866c6ad",
   "metadata": {},
   "outputs": [],
   "source": []
  },
  {
   "cell_type": "markdown",
   "id": "452fd3a6",
   "metadata": {},
   "source": [
    "# 13. Write functions called is_sorted that takes a list as a parameter and returns True if the list is sorted in ascending order and False otherwise and has_ duplicates that takes a list and returns True if there is any element that appears more than once. It should not modify the original list."
   ]
  },
  {
   "cell_type": "code",
   "execution_count": 60,
   "id": "a8289bee",
   "metadata": {},
   "outputs": [
    {
     "name": "stdout",
     "output_type": "stream",
     "text": [
      "Does the list have duplicates: True\n"
     ]
    }
   ],
   "source": [
    "def has_duplicates(arr):\n",
    "    seen = set()\n",
    "    for element in arr:\n",
    "        if element in seen:\n",
    "            return True\n",
    "        seen.add(element)\n",
    "\n",
    "    return False\n",
    "my_list = [1, 2, 3, 4, 5, 4]  \n",
    "duplicates_result = has_duplicates(my_list)\n",
    "print(\"Does the list have duplicates:\", duplicates_result)"
   ]
  },
  {
   "cell_type": "code",
   "execution_count": null,
   "id": "c0e82509",
   "metadata": {},
   "outputs": [],
   "source": []
  },
  {
   "cell_type": "code",
   "execution_count": null,
   "id": "1863b2b9",
   "metadata": {},
   "outputs": [],
   "source": []
  },
  {
   "cell_type": "code",
   "execution_count": null,
   "id": "85ebdf3c",
   "metadata": {},
   "outputs": [],
   "source": []
  },
  {
   "cell_type": "code",
   "execution_count": null,
   "id": "329dc512",
   "metadata": {},
   "outputs": [],
   "source": []
  }
 ],
 "metadata": {
  "kernelspec": {
   "display_name": "Python 3 (ipykernel)",
   "language": "python",
   "name": "python3"
  },
  "language_info": {
   "codemirror_mode": {
    "name": "ipython",
    "version": 3
   },
   "file_extension": ".py",
   "mimetype": "text/x-python",
   "name": "python",
   "nbconvert_exporter": "python",
   "pygments_lexer": "ipython3",
   "version": "3.11.4"
  }
 },
 "nbformat": 4,
 "nbformat_minor": 5
}
