{
 "cells": [
  {
   "cell_type": "code",
   "execution_count": 10,
   "id": "5d132aa7",
   "metadata": {},
   "outputs": [
    {
     "name": "stdout",
     "output_type": "stream",
     "text": [
      "[1]\n",
      "1\n",
      "[1, 2]\n",
      "2\n",
      "[1, 2, 3]\n",
      "3\n",
      "[1, 2, 3, 4]\n",
      "4\n",
      "[1, 2, 3, 4, 5]\n",
      "5\n",
      "[1, 2, 3, 4, 5, 6]\n",
      "6\n",
      "[1, 2, 3, 4, 5, 6, 7]\n",
      "7\n",
      "[1, 2, 3, 4, 5, 6, 7, 8]\n",
      "8\n",
      "[1, 2, 3, 4, 5, 6, 7, 8, 9]\n",
      "9\n",
      "[1, 2, 3, 4, 5, 6, 7, 8, 9, 10]\n",
      "10\n",
      "[1, 2, 3, 4, 5, 6, 7, 8, 9, 10, 11]\n",
      "11\n"
     ]
    }
   ],
   "source": [
    "class Stack:\n",
    "    \n",
    "    def __init__(self):\n",
    "        self.__stack=[]\n",
    "        \n",
    "    def is_empty(self):\n",
    "        if len(self.__stack)==0:\n",
    "            return True\n",
    "        else:\n",
    "            return False\n",
    "        \n",
    "    def size(self):\n",
    "        return len(self.__stack)\n",
    "        \n",
    "    def push(self,item):\n",
    "        self.__stack.append(item)\n",
    "        \n",
    "    def pop(self):\n",
    "        if len(self.__stack)==0:\n",
    "            raise Exception('Stack is empty!!- no need to call pop punction ')\n",
    "            \n",
    "        else:\n",
    "            return self.__stack.pop()\n",
    "        \n",
    "    def peek(self):\n",
    "        print(self.__stack)\n",
    "        if (self.is_empty()):\n",
    "            raise Exception('Empty stack')\n",
    "        else:\n",
    "            return self.__stack[len(self.__stack)-1]\n",
    "        \n",
    "s=Stack()\n",
    "for i in range(1,12):\n",
    "    s.push(i)\n",
    "    print(s.peek())"
   ]
  },
  {
   "cell_type": "code",
   "execution_count": 8,
   "id": "fa19e99d",
   "metadata": {},
   "outputs": [
    {
     "name": "stdout",
     "output_type": "stream",
     "text": [
      "<__main__.Stack object at 0x0000023E4897B850>\n"
     ]
    }
   ],
   "source": [
    "print(s)"
   ]
  },
  {
   "cell_type": "code",
   "execution_count": null,
   "id": "12228fef",
   "metadata": {},
   "outputs": [],
   "source": []
  },
  {
   "cell_type": "code",
   "execution_count": 16,
   "id": "b44ac7e4",
   "metadata": {},
   "outputs": [
    {
     "name": "stdout",
     "output_type": "stream",
     "text": [
      "1\n",
      "2\n",
      "3\n",
      "4\n",
      "5\n",
      "6\n",
      "7\n",
      "8\n",
      "9\n",
      "10\n",
      "11\n",
      "Dequeued item: 1\n"
     ]
    },
    {
     "ename": "AttributeError",
     "evalue": "'Queue' object has no attribute '__queue'",
     "output_type": "error",
     "traceback": [
      "\u001b[1;31m---------------------------------------------------------------------------\u001b[0m",
      "\u001b[1;31mAttributeError\u001b[0m                            Traceback (most recent call last)",
      "Cell \u001b[1;32mIn[16], line 34\u001b[0m\n\u001b[0;32m     31\u001b[0m item \u001b[38;5;241m=\u001b[39m q\u001b[38;5;241m.\u001b[39mdequeue()\n\u001b[0;32m     32\u001b[0m \u001b[38;5;28mprint\u001b[39m(\u001b[38;5;124m\"\u001b[39m\u001b[38;5;124mDequeued item:\u001b[39m\u001b[38;5;124m\"\u001b[39m, item)\n\u001b[1;32m---> 34\u001b[0m \u001b[38;5;28mprint\u001b[39m(\u001b[38;5;124m\"\u001b[39m\u001b[38;5;124mQueue:\u001b[39m\u001b[38;5;124m\"\u001b[39m, q\u001b[38;5;241m.\u001b[39m__queue)\n",
      "\u001b[1;31mAttributeError\u001b[0m: 'Queue' object has no attribute '__queue'"
     ]
    }
   ],
   "source": [
    "class Queue:\n",
    "    def __init__(self):\n",
    "        self.__queue = []\n",
    "        \n",
    "    def is_empty(self):\n",
    "        return len(self.__queue) == 0\n",
    "\n",
    "    def size(self):\n",
    "        return len(self.__queue)\n",
    "    \n",
    "    def push(self,item):\n",
    "        self.__queue.append(item)\n",
    "\n",
    "    def enqueue(self, item):\n",
    "        self.__queue.append(item)\n",
    "\n",
    "    def dequeue(self):\n",
    "        if not self.is_empty():\n",
    "            return self.__queue.pop(0)\n",
    "        else:\n",
    "            return None\n",
    "\n",
    "    \n",
    "\n",
    "q = Queue()\n",
    "\n",
    "for i in range(1,12):\n",
    "    q.enqueue(i)\n",
    "    print(q.size())\n",
    "\n",
    "item = q.dequeue()\n",
    "print(\"Dequeued item:\", item)\n",
    "\n",
    "print(\"Queue:\", q.__queue)\n"
   ]
  },
  {
   "cell_type": "code",
   "execution_count": null,
   "id": "7ff4735d",
   "metadata": {},
   "outputs": [],
   "source": []
  },
  {
   "cell_type": "code",
   "execution_count": 19,
   "id": "8f22a5af",
   "metadata": {},
   "outputs": [
    {
     "name": "stdout",
     "output_type": "stream",
     "text": [
      "Enter # of elements to be inserted:\t4\n",
      "Enter the Element 1:2\n",
      "Enter the Element 2:45\n",
      "Enter the Element 3:67\n",
      "Enter the Element 4:87\n",
      "Enter the value to be searched: \t67\n",
      "Element 67 Found at Position 3\n",
      "[2, 45, 67, 87]\n"
     ]
    }
   ],
   "source": [
    "data=[]\n",
    "n=int(input('Enter # of elements to be inserted:\\t'))\n",
    "\n",
    " \n",
    "\n",
    "for i in range(0,n):\n",
    "    x=int(input('Enter the Element %d:'%(i+1)))\n",
    "    data.append(x)\n",
    "\n",
    "e=int(input('Enter the value to be searched: \\t'))\n",
    "\n",
    " \n",
    "\n",
    "pos=0\n",
    "\n",
    " \n",
    "\n",
    "found=False\n",
    "\n",
    " \n",
    "\n",
    "while pos <n and not found:\n",
    "    if data[pos]==e:\n",
    "        found=True\n",
    "    else:\n",
    "        pos+=1\n",
    "\n",
    "if found:\n",
    "    print('Element %d Found at Position %d'%(e,pos+1))\n",
    "\n",
    "else:\n",
    "    print('Element %d not found in the list'%e)\n",
    "\n",
    "print(data)"
   ]
  },
  {
   "cell_type": "code",
   "execution_count": 20,
   "id": "92213813",
   "metadata": {},
   "outputs": [
    {
     "name": "stdout",
     "output_type": "stream",
     "text": [
      "Enter # of elements to be inserted:\t3\n",
      "Enter the Element 1:34\n",
      "Enter the Element 2:54\n",
      "Enter the Element 3:56\n",
      "Enter the value to be searched: \t98\n",
      "Element 98 not found in the list\n",
      "[34, 54, 56]\n"
     ]
    }
   ],
   "source": [
    "data=[]\n",
    "n=int(input('Enter # of elements to be inserted:\\t'))\n",
    "\n",
    " \n",
    "\n",
    "for i in range(0,n):\n",
    "    x=int(input('Enter the Element %d:'%(i+1)))\n",
    "    data.append(x)\n",
    "\n",
    "e=int(input('Enter the value to be searched: \\t'))\n",
    "\n",
    " \n",
    "\n",
    "pos=0\n",
    "\n",
    " \n",
    "\n",
    "found=False\n",
    "\n",
    " \n",
    "\n",
    "while pos <n and not found:\n",
    "    if data[pos]==e:\n",
    "        found=True\n",
    "    else:\n",
    "        pos+=1\n",
    "\n",
    "if found:\n",
    "    print('Element %d Found at Position %d'%(e,pos+1))\n",
    "\n",
    "else:\n",
    "    print('Element %d not found in the list'%e)\n",
    "\n",
    "print(data)"
   ]
  },
  {
   "cell_type": "code",
   "execution_count": null,
   "id": "b25f235e",
   "metadata": {},
   "outputs": [],
   "source": []
  },
  {
   "cell_type": "code",
   "execution_count": 21,
   "id": "25203760",
   "metadata": {},
   "outputs": [
    {
     "name": "stdout",
     "output_type": "stream",
     "text": [
      "8 found at index 3\n"
     ]
    }
   ],
   "source": [
    "def linear_search(arr, target):\n",
    "    for i in range(len(arr)):\n",
    "        if arr[i] == target:\n",
    "            return i  # Return the index of the target element if found\n",
    "    return -1  # Return -1 if the target element is not in the list\n",
    "\n",
    "my_list = [2, 4, 6, 8, 10, 12]\n",
    "target_element = 8\n",
    "\n",
    "result = linear_search(my_list, target_element)\n",
    "\n",
    "if result != -1:\n",
    "    print(f\"{target_element} found at index {result}\")\n",
    "else:\n",
    "    print(f\"{target_element} not found in the list\")\n"
   ]
  },
  {
   "cell_type": "code",
   "execution_count": null,
   "id": "c185d35e",
   "metadata": {},
   "outputs": [],
   "source": []
  },
  {
   "cell_type": "code",
   "execution_count": 38,
   "id": "2663fc8f",
   "metadata": {},
   "outputs": [
    {
     "data": {
      "text/plain": [
       "3"
      ]
     },
     "execution_count": 38,
     "metadata": {},
     "output_type": "execute_result"
    }
   ],
   "source": [
    "def binary_search(lst, x):\n",
    "    left = 0\n",
    "    right = len(lst) - 1\n",
    "\n",
    "    while left <= right:\n",
    "        mid = (left + right) // 2\n",
    "\n",
    "        if lst[mid] == x:\n",
    "            return mid  # Return the index of the target element if found\n",
    "        elif lst[mid] < x:\n",
    "            left = mid + 1\n",
    "        else:\n",
    "            right = mid - 1\n",
    "\n",
    "    return 'element not in list'  # Return -1 if the target element is not in the list\n",
    "binary_search([2,4,7,8,9,12], 8)"
   ]
  },
  {
   "cell_type": "code",
   "execution_count": null,
   "id": "b1f0a2dc",
   "metadata": {},
   "outputs": [],
   "source": []
  },
  {
   "cell_type": "markdown",
   "id": "4034ce27",
   "metadata": {},
   "source": [
    "# 1. Write a Python program to find a target values in a list using linear search with following steps:\n",
    "\n",
    "a. Initialize the list to store the input elements.\n",
    "\n",
    "b. Initialize found-False.\n",
    "\n",
    "c. Enter the item to be searched (match_item).\n",
    "\n",
    "d. For each element in the list\n",
    "\n",
    "1. if match_item = value\n",
    "\n",
    "a. return match_item's position.\n",
    "\n",
    "e. If the match item is not in the list, display an error message that the item is not found in the list."
   ]
  },
  {
   "cell_type": "code",
   "execution_count": 47,
   "id": "d6bb6caa",
   "metadata": {},
   "outputs": [
    {
     "name": "stdout",
     "output_type": "stream",
     "text": [
      "Enter the number of elements to be inserted: 7\n",
      "Enter Element 1: 12\n",
      "Enter Element 2: 23\n",
      "Enter Element 3: 43\n",
      "Enter Element 4: 15\n",
      "Enter Element 5: 87\n",
      "Enter Element 6: 98\n",
      "Enter Element 7: 54\n",
      "Enter the item to be searched: 98\n",
      "Element 98 Found at Position 6\n"
     ]
    }
   ],
   "source": [
    "def linear_search(data, match_item):\n",
    "    found = False\n",
    "    position = -1 \n",
    "\n",
    "    for index, value in enumerate(data):\n",
    "        if match_item == value:\n",
    "            found = True\n",
    "            position = index\n",
    "            break  \n",
    "\n",
    "    return found, position\n",
    "\n",
    "data = []  \n",
    "\n",
    "n = int(input(\"Enter the number of elements to be inserted: \"))\n",
    "for i in range(n):\n",
    "    x = int(input(f\"Enter Element {i + 1}: \"))\n",
    "    data.append(x)\n",
    "\n",
    "match_item = int(input(\"Enter the item to be searched: \"))\n",
    "\n",
    "found, position = linear_search(data, match_item)\n",
    "\n",
    "if found:\n",
    "    print(f\"Element {match_item} Found at Position {position + 1}\")\n",
    "else:\n",
    "    print(f\"Element {match_item} is not found in the list\")"
   ]
  },
  {
   "cell_type": "code",
   "execution_count": null,
   "id": "8b557301",
   "metadata": {},
   "outputs": [],
   "source": []
  },
  {
   "cell_type": "code",
   "execution_count": null,
   "id": "997ff1fa",
   "metadata": {},
   "outputs": [],
   "source": []
  },
  {
   "cell_type": "markdown",
   "id": "76fbed2c",
   "metadata": {},
   "source": [
    "# 2. Write a Python program to implement binary search to find the target values from the list:\n",
    "\n",
    "a. Create a separate function to do binary search.\n",
    "\n",
    "b. Get the number of inputs from the user.\n",
    "\n",
    "c. Store the inputs individually in a list.\n",
    "\n",
    "d. In binary search function at first sort the list in order to start the search from middle of the list.\n",
    "\n",
    "e. Compare the middle element to right and left elements to search target element\n",
    "\n",
    "f. If greater, move to right of list or else move to another side of the list.\n",
    "g. Print the result along with the position of the element."
   ]
  },
  {
   "cell_type": "code",
   "execution_count": 1,
   "id": "9e4e45e0",
   "metadata": {},
   "outputs": [
    {
     "name": "stdout",
     "output_type": "stream",
     "text": [
      "Enter the number of elements to be inserted: 7\n",
      "Enter Element 1: 32\n",
      "Enter Element 2: 12\n",
      "Enter Element 3: 23\n",
      "Enter Element 4: 43\n",
      "Enter Element 5: 54\n",
      "Enter Element 6: 56\n",
      "Enter Element 7: 7\n",
      "Enter the value to be searched: 54\n",
      "Element 54 found at position 6\n",
      "Sorted list: [7, 12, 23, 32, 43, 54, 56]\n"
     ]
    }
   ],
   "source": [
    "def binary_search(arr, target):\n",
    "    arr.sort()\n",
    "\n",
    "    left = 0\n",
    "    right = len(arr) - 1\n",
    "    position = -1  \n",
    "\n",
    "    while left <= right:\n",
    "        mid = (left + right) // 2\n",
    "        if arr[mid] == target:\n",
    "            position = mid\n",
    "            break\n",
    "        elif arr[mid] < target:\n",
    "            left = mid + 1\n",
    "        else:\n",
    "            right = mid - 1\n",
    "\n",
    "    return position\n",
    "\n",
    "n = int(input(\"Enter the number of elements to be inserted: \"))\n",
    "\n",
    "data = []\n",
    "for i in range(n):\n",
    "    x = int(input(f\"Enter Element {i + 1}: \"))\n",
    "    data.append(x)\n",
    "\n",
    "target = int(input(\"Enter the value to be searched: \"))\n",
    "\n",
    "position = binary_search(data, target)\n",
    "\n",
    "if position != -1:\n",
    "    print(f\"Element {target} found at position {position + 1}\")\n",
    "else:\n",
    "    print(f\"Element {target} is not found in the list\")\n",
    "\n",
    "print(\"Sorted list:\", data)"
   ]
  },
  {
   "cell_type": "code",
   "execution_count": null,
   "id": "5d4f808f",
   "metadata": {},
   "outputs": [],
   "source": []
  },
  {
   "cell_type": "markdown",
   "id": "62aecd58",
   "metadata": {},
   "source": [
    "# 6. Write a Python script to perform the following operations on a singly linked list\n",
    "\n",
    "a. Create a list\n",
    "\n",
    "b. Find the smallest element from the list\n",
    "\n",
    "C. Insert an element if it is not a duplicate element\n",
    "\n",
    "d. Display the elements in reverse order"
   ]
  },
  {
   "cell_type": "code",
   "execution_count": 3,
   "id": "aa5bf1b1",
   "metadata": {},
   "outputs": [
    {
     "name": "stdout",
     "output_type": "stream",
     "text": [
      "Smallest element: 15\n",
      "Elements in reverse order:\n",
      "7\n",
      "39\n",
      "15\n",
      "24\n",
      "82\n",
      "23\n",
      "51\n"
     ]
    }
   ],
   "source": [
    "class Node:\n",
    "    def __init__(self, data):\n",
    "        self.data = data\n",
    "        self.next = None\n",
    "\n",
    "class LinkedList:\n",
    "    def __init__(self):\n",
    "        self.head = None\n",
    "\n",
    "    def create_list(self, elements):\n",
    "        for data in elements:\n",
    "            self.insert(data)\n",
    "\n",
    "    def insert(self, data):\n",
    "        new_node = Node(data)\n",
    "\n",
    "        if not self.head:\n",
    "            self.head = new_node\n",
    "        else:\n",
    "            current = self.head\n",
    "            while current.next:\n",
    "                current = current.next\n",
    "            current.next = new_node\n",
    "\n",
    "    def find_smallest(self):\n",
    "        if not self.head:\n",
    "            return None\n",
    "\n",
    "        smallest = self.head.data\n",
    "        current = self.head.next\n",
    "\n",
    "        while current:\n",
    "            if current.data < smallest:\n",
    "                smallest = current.data\n",
    "            current = current.next\n",
    "\n",
    "        return smallest\n",
    "\n",
    "    def insert_unique(self, data):\n",
    "        if not self.head:\n",
    "            self.insert(data)\n",
    "        else:\n",
    "            current = self.head\n",
    "            while current:\n",
    "                if current.data == data:\n",
    "                    return\n",
    "                if not current.next:\n",
    "                    break\n",
    "                current = current.next\n",
    "            current.next = Node(data)\n",
    "\n",
    "    def display_reverse(self):\n",
    "        stack = []\n",
    "        current = self.head\n",
    "        while current:\n",
    "            stack.append(current.data)\n",
    "            current = current.next\n",
    "        while stack:\n",
    "            print(stack.pop())\n",
    "\n",
    "linked_list = LinkedList()\n",
    "\n",
    "elements = [51, 23, 82, 24, 15, 39]\n",
    "\n",
    "linked_list.create_list(elements)\n",
    "\n",
    "smallest = linked_list.find_smallest()\n",
    "print(f\"Smallest element: {smallest}\")\n",
    "\n",
    "unique_element = 7\n",
    "linked_list.insert_unique(unique_element)\n",
    "\n",
    "print(\"Elements in reverse order:\")\n",
    "linked_list.display_reverse()"
   ]
  },
  {
   "cell_type": "code",
   "execution_count": null,
   "id": "76044e1f",
   "metadata": {},
   "outputs": [],
   "source": []
  },
  {
   "cell_type": "markdown",
   "id": "623c2e2e",
   "metadata": {},
   "source": [
    "# 7. Write a python program to implement the various operations for Stack ADT\n",
    "\n",
    "i. Push\n",
    "\n",
    "ii. Pop\n",
    "\n",
    "iii. Display. "
   ]
  },
  {
   "cell_type": "code",
   "execution_count": 7,
   "id": "08f0b540",
   "metadata": {},
   "outputs": [
    {
     "name": "stdout",
     "output_type": "stream",
     "text": [
      "Stack Contents:\n",
      "14\n",
      "22\n",
      "36\n",
      "Popped item: 36\n",
      "Stack Contents:\n",
      "14\n",
      "22\n"
     ]
    }
   ],
   "source": [
    "class Stack:\n",
    "    def __init__(self):\n",
    "        self.items = []\n",
    "\n",
    "    def push(self, item):\n",
    "        self.items.append(item)\n",
    "\n",
    "    def pop(self):\n",
    "        if not self.is_empty():\n",
    "            return self.items.pop()\n",
    "        else:\n",
    "            raise Exception('Stack is empty - cannot pop')\n",
    "\n",
    "    def is_empty(self):\n",
    "        return len(self.items) == 0\n",
    "\n",
    "    def display(self):\n",
    "        if not self.is_empty():\n",
    "            print(\"Stack Contents:\")\n",
    "            for item in self.items:\n",
    "                print(item)\n",
    "        else:\n",
    "            print(\"Stack is empty.\")\n",
    "\n",
    "stack = Stack()\n",
    "\n",
    "stack.push(14)\n",
    "stack.push(22)\n",
    "stack.push(36)\n",
    "\n",
    "stack.display()\n",
    "\n",
    "popped_item = stack.pop()\n",
    "print(f\"Popped item: {popped_item}\")\n",
    "\n",
    "stack.display()"
   ]
  },
  {
   "cell_type": "code",
   "execution_count": null,
   "id": "1a9e63e2",
   "metadata": {},
   "outputs": [],
   "source": []
  },
  {
   "cell_type": "markdown",
   "id": "cc62f666",
   "metadata": {},
   "source": [
    "# 8.Write a python script to implement the various operations for Queue ADT\n",
    "\n",
    "1.) Insert \n",
    "ii.) Delete \n",
    "iii.) Display."
   ]
  },
  {
   "cell_type": "code",
   "execution_count": 11,
   "id": "435319e0",
   "metadata": {},
   "outputs": [
    {
     "name": "stdout",
     "output_type": "stream",
     "text": [
      "Queue Contents:\n",
      "42\n",
      "14\n",
      "28\n",
      "39\n",
      "Deleted item: 42\n",
      "Queue Contents:\n",
      "14\n",
      "28\n",
      "39\n"
     ]
    }
   ],
   "source": [
    "class Queue:\n",
    "    def __init__(self):\n",
    "        self.items = []\n",
    "\n",
    "    def insert(self, item):\n",
    "        self.items.append(item)\n",
    "\n",
    "    def delete(self):\n",
    "        if not self.is_empty():\n",
    "            return self.items.pop(0)\n",
    "        else:\n",
    "            raise Exception('Queue is empty - cannot delete')\n",
    "\n",
    "    def is_empty(self):\n",
    "        return len(self.items) == 0\n",
    "\n",
    "    def display(self):\n",
    "        if not self.is_empty():\n",
    "            print(\"Queue Contents:\")\n",
    "            for item in self.items:\n",
    "                print(item)\n",
    "        else:\n",
    "            print(\"Queue is empty.\")\n",
    "\n",
    "queue = Queue()\n",
    "\n",
    "queue.insert(42)\n",
    "queue.insert(14)\n",
    "queue.insert(28)\n",
    "queue.insert(39)\n",
    "\n",
    "queue.display()\n",
    "\n",
    "deleted_item = queue.delete()\n",
    "print(f\"Deleted item: {deleted_item}\")\n",
    "\n",
    "queue.display()"
   ]
  },
  {
   "cell_type": "code",
   "execution_count": null,
   "id": "ecf33a77",
   "metadata": {},
   "outputs": [],
   "source": []
  },
  {
   "cell_type": "markdown",
   "id": "545e6d8c",
   "metadata": {},
   "source": [
    "# 9. Write a program in python to convert the following infix expression to its postfix form using push and pop operations of a Stack\n",
    "\n",
    "a. A/B^C+D*E-F*G\n",
    "\n",
    "b. (B^2-4*A*C)^(1/2) (100)"
   ]
  },
  {
   "cell_type": "code",
   "execution_count": 12,
   "id": "5c2527dc",
   "metadata": {},
   "outputs": [
    {
     "name": "stdout",
     "output_type": "stream",
     "text": [
      "Postfix expression (a): ABC^/DE*+FG*-\n",
      "Postfix expression (b): B2^4A*C*-12/^100 \n"
     ]
    }
   ],
   "source": [
    "class Stack:\n",
    "    def __init__(self):\n",
    "        self.items = []\n",
    "\n",
    "    def push(self, item):\n",
    "        self.items.append(item)\n",
    "\n",
    "    def pop(self):\n",
    "        if not self.is_empty():\n",
    "            return self.items.pop()\n",
    "        else:\n",
    "            raise Exception('Stack is empty - cannot pop')\n",
    "\n",
    "    def is_empty(self):\n",
    "        return len(self.items) == 0\n",
    "\n",
    "    def peek(self):\n",
    "        if not self.is_empty():\n",
    "            return self.items[-1]\n",
    "        else:\n",
    "            return None\n",
    "\n",
    "def infix_to_postfix(expression):\n",
    "    precedence = {'+': 1, '-': 1, '*': 2, '/': 2, '^': 3}\n",
    "\n",
    "    stack = Stack()\n",
    "    postfix = []\n",
    "\n",
    "    for char in expression:\n",
    "        if char.isalnum():\n",
    "            postfix.append(char)\n",
    "        elif char == '(':\n",
    "            stack.push(char)\n",
    "        elif char == ')':\n",
    "            while not stack.is_empty() and stack.peek() != '(':\n",
    "                postfix.append(stack.pop())\n",
    "            stack.pop()  # Pop the left parenthesis\n",
    "        else:\n",
    "            while (not stack.is_empty() and\n",
    "                   stack.peek() != '(' and\n",
    "                   precedence.get(char, 0) <= precedence.get(stack.peek(), 0)):\n",
    "                postfix.append(stack.pop())\n",
    "            stack.push(char)\n",
    "\n",
    "    while not stack.is_empty():\n",
    "        postfix.append(stack.pop())\n",
    "\n",
    "    return ''.join(postfix)\n",
    "\n",
    "expression_a = \"A/B^C+D*E-F*G\"\n",
    "expression_b = \"(B^2-4*A*C)^(1/2) (100)\"\n",
    "\n",
    "postfix_a = infix_to_postfix(expression_a)\n",
    "postfix_b = infix_to_postfix(expression_b)\n",
    "\n",
    "print(\"Postfix expression (a):\", postfix_a)\n",
    "print(\"Postfix expression (b):\", postfix_b)"
   ]
  }
 ],
 "metadata": {
  "kernelspec": {
   "display_name": "Python 3 (ipykernel)",
   "language": "python",
   "name": "python3"
  },
  "language_info": {
   "codemirror_mode": {
    "name": "ipython",
    "version": 3
   },
   "file_extension": ".py",
   "mimetype": "text/x-python",
   "name": "python",
   "nbconvert_exporter": "python",
   "pygments_lexer": "ipython3",
   "version": "3.11.4"
  }
 },
 "nbformat": 4,
 "nbformat_minor": 5
}
