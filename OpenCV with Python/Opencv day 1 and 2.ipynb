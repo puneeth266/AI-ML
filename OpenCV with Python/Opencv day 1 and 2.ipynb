{
 "cells": [
  {
   "cell_type": "code",
   "execution_count": null,
   "id": "58764cd6",
   "metadata": {},
   "outputs": [],
   "source": [
    "import cv2\n",
    "import numpy as np\n",
    "image=np.zeros((1400,800,3),dtype=np.uint8)\n",
    "cv2.line(image,(100,100),(50,50),(123,235,215),6)\n",
    "cv2.imshow(\"TestImages2 for crashing\",image)"
   ]
  },
  {
   "cell_type": "code",
   "execution_count": null,
   "id": "4f2086fe",
   "metadata": {},
   "outputs": [],
   "source": [
    "import cv2\n",
    "import numpy as np\n",
    "\n",
    "image = np.zeros((1400, 800, 3), dtype=np.uint8)\n",
    "\n",
    "\n",
    "cv2.line(image, (100, 100), (50, 50), (123, 235, 215), 6)\n",
    "cv2.imshow(\"TestImages2 for crashing\", image)\n",
    "\n",
    "# Wait for a key event and close the window when a key is pressed\n",
    "cv2.waitKey(0)\n",
    "cv2.destroyAllWindows()\n"
   ]
  },
  {
   "cell_type": "code",
   "execution_count": null,
   "id": "fd4daddc",
   "metadata": {},
   "outputs": [],
   "source": [
    "\n",
    "import cv2\n",
    "import numpy as np\n",
    "\n",
    "image = np.zeros((1400, 800, 3), dtype=np.uint8)\n",
    "\n",
    "\n",
    "#cv2.line(image, (100, 100), (50, 50), (123, 235, 215), 6)\n",
    "cv2.rectangle(image, (50, 100), (250, 200), (0, 0, 255), 3) \n",
    "\n",
    "cv2.imshow(\"TestImages2 for crashing\", image)\n",
    "\n",
    "# Wait for a key event and close the window when a key is pressed\n",
    "cv2.waitKey(0)\n",
    "cv2.destroyAllWindows()\n"
   ]
  },
  {
   "cell_type": "code",
   "execution_count": null,
   "id": "efff8132",
   "metadata": {},
   "outputs": [],
   "source": [
    "import cv2\n",
    "import numpy as np\n",
    "import matplotlib.pyplot as plt\n",
    "\n",
    "image = np.zeros((1400, 800, 3), dtype=np.uint8)\n",
    "cv2.line(image, (100, 100), (50, 50), (123, 235, 215), 6)\n",
    "\n",
    "# Display the image using matplotlib\n",
    "plt.imshow(cv2.cvtColor(image, cv2.COLOR_BGR2RGB))\n",
    "plt.show()\n"
   ]
  },
  {
   "cell_type": "code",
   "execution_count": null,
   "id": "cdd58862",
   "metadata": {},
   "outputs": [],
   "source": [
    "import cv2\n",
    "import numpy as np\n",
    "\n",
    "image = np.ones((800, 800, 3), dtype=np.uint8) * 255\n",
    "\n",
    "cv2.circle(image, (400, 400), 200, (104, 119, 142), 20)\n",
    "cv2.circle(image, (400, 400), 160, (255, 255, 255), -1)\n",
    "\n",
    "# Display the image\n",
    "cv2.imshow(\"Instagram Logo Outline\", image)\n",
    "\n",
    "# Wait for a key event and close the window when a key is pressed\n",
    "cv2.waitKey(0)\n",
    "cv2.destroyAllWindows()\n"
   ]
  },
  {
   "cell_type": "code",
   "execution_count": null,
   "id": "5bc6eabc",
   "metadata": {},
   "outputs": [],
   "source": [
    "import cv2\n",
    "import numpy as np\n",
    "\n",
    "image = np.ones((800, 800, 3), dtype=np.uint8) * 255\n",
    "rectangle_color = (0, 0, 255)\n",
    "cv2.rectangle(image, (200, 300), (600, 500), rectangle_color, -1)\n",
    "\n",
    "circle_radius = 100\n",
    "cv2.circle(image, circle_center, circle_radius, (255, 255, 255), -1)\n",
    "\n",
    "cv2.imshow(\"Logo\", image)\n",
    "\n",
    "cv2.waitKey(0)\n",
    "cv2.destroyAllWindows()\n"
   ]
  },
  {
   "cell_type": "code",
   "execution_count": null,
   "id": "89dc9d45",
   "metadata": {},
   "outputs": [],
   "source": [
    "import cv2\n",
    "\n",
    "image = cv2.imread(\"car.jpeg\")\n",
    "cvtd=cv2.cvtColor(image,cv2.COLOR_BGR2RGB)\n",
    "cvtd1=cv2.cvtColor(image,cv2.COLOR_BGR2GRAY)\n",
    "cvtd2=cv2.cvtColor(image,cv2.COLOR_BGR2HSV)\n",
    "cvtd3=cv2.cvtColor(image,cv2.COLOR_BGR2LAB)\n",
    "\n",
    "cv2.imshow(\"Original Image\",image)\n",
    "cv2.imshow(\"hsv Image\",cvtd2)\n",
    "cv2.imshow(\"Gray Image\",cvtd1)\n",
    "\n",
    "cv2.imshow(\"rgb Image\",cvtd)\n",
    "cv2.imshow(\"LAB Image\",cvtd3)\n",
    "\n",
    "\n",
    "cv2.waitKey(0)\n",
    "cv2.destroyAllWindows()"
   ]
  },
  {
   "cell_type": "code",
   "execution_count": null,
   "id": "07f89e1a",
   "metadata": {},
   "outputs": [],
   "source": [
    "import cv2\n",
    "\n",
    "image = cv2.imread(\"car.jpeg\",cv2.IMREAD_GRAYSCALE)\n",
    "width,height=image.shape[:2]\n",
    "\n",
    "rotation_center=(width//2,height//2)\n",
    "rotation_angle=360 #in Degrees\n",
    "rotation_matrix = cv2.getRotationMatrix2D(rotation_center, rotation_angle, 1)  \n",
    "# 1 is the scale factor\n",
    "rotated_image = cv2.warpAffine(image, rotation_matrix, (width, height))\n",
    "\n",
    "cv2.imshow(\"Original Image\",image)\n",
    "cv2.imshow(\"Transformed Image\",rotated_image)\n",
    "cv2.waitKey(0)\n",
    "cv2.destroyAllWindows()\n"
   ]
  },
  {
   "cell_type": "code",
   "execution_count": null,
   "id": "5d667b00",
   "metadata": {},
   "outputs": [
    {
     "name": "stdout",
     "output_type": "stream",
     "text": [
      "Enter zoom level (100, 200, 300): 300\n"
     ]
    }
   ],
   "source": [
    "import cv2\n",
    "\n",
    "def apply_transform(image, zoom_factor, rotation_factor=None):\n",
    "    width, height = image.shape[:2]\n",
    "\n",
    "    # Zooming\n",
    "    zoom_matrix = cv2.getRotationMatrix2D((width//2, height//2), 0, zoom_factor / 100)\n",
    "    zoomed_image = cv2.warpAffine(image, zoom_matrix, (width, height))\n",
    "\n",
    "    # Rotation\n",
    "    if rotation_factor is not None:\n",
    "        rotation_angle = 120 * rotation_factor  # Adjust the rotation angle as needed\n",
    "        rotation_matrix = cv2.getRotationMatrix2D((width//2, height//2), rotation_angle, 1)\n",
    "        rotated_image = cv2.warpAffine(zoomed_image, rotation_matrix, (width, height))\n",
    "        return rotated_image\n",
    "    else:\n",
    "        return zoomed_image\n",
    "\n",
    "if __name__ == \"__main__\":\n",
    "    image = cv2.imread(\"car.jpeg\", cv2.IMREAD_GRAYSCALE)\n",
    "\n",
    "    # Get user input for zoom\n",
    "    zoom_input = int(input(\"Enter zoom level (100, 200, 300): \"))\n",
    "\n",
    "    if zoom_input not in [100, 200, 300]:\n",
    "        print(\"Invalid input. Please enter a valid zoom level.\")\n",
    "    else:\n",
    "        # Set rotation factor based on zoom level\n",
    "        rotation_factor = None if zoom_input == 100 else zoom_input / 100\n",
    "        transformed_image = apply_transform(image, zoom_input, rotation_factor)\n",
    "\n",
    "        cv2.imshow(\"Original Image\", image)\n",
    "        cv2.imshow(\"Transformed Image\", transformed_image)\n",
    "        cv2.waitKey(0)\n",
    "        cv2.destroyAllWindows()\n"
   ]
  },
  {
   "cell_type": "code",
   "execution_count": null,
   "id": "daad90eb",
   "metadata": {},
   "outputs": [],
   "source": []
  },
  {
   "cell_type": "code",
   "execution_count": null,
   "id": "dcdf65e6",
   "metadata": {},
   "outputs": [],
   "source": []
  },
  {
   "cell_type": "code",
   "execution_count": null,
   "id": "2666a4cb",
   "metadata": {},
   "outputs": [],
   "source": []
  },
  {
   "cell_type": "code",
   "execution_count": null,
   "id": "54f51b10",
   "metadata": {},
   "outputs": [],
   "source": []
  },
  {
   "cell_type": "code",
   "execution_count": null,
   "id": "a21adbd0",
   "metadata": {},
   "outputs": [],
   "source": []
  },
  {
   "cell_type": "code",
   "execution_count": null,
   "id": "149d291e",
   "metadata": {},
   "outputs": [],
   "source": []
  },
  {
   "cell_type": "code",
   "execution_count": null,
   "id": "d966bbf1",
   "metadata": {},
   "outputs": [],
   "source": []
  },
  {
   "cell_type": "code",
   "execution_count": null,
   "id": "db9766de",
   "metadata": {},
   "outputs": [
    {
     "name": "stdout",
     "output_type": "stream",
     "text": [
      "Enter zoom level (100, 200, 300): 200\n"
     ]
    }
   ],
   "source": [
    "import cv2\n",
    "\n",
    "# Read the image\n",
    "image = cv2.imread(\"car.jpeg\", cv2.IMREAD_GRAYSCALE)\n",
    "width, height = image.shape[:2]\n",
    "\n",
    "# Get user input for zoom\n",
    "zoom_input = int(input(\"Enter zoom level (100, 200, 300): \"))\n",
    "\n",
    "if zoom_input not in [100, 200, 300]:\n",
    "    print(\"Invalid input. Please enter a valid zoom level.\")\n",
    "else:\n",
    "    # Set rotation factor based on zoom level\n",
    "    rotation_factor = None if zoom_input == 100 else zoom_input / 100\n",
    "\n",
    "    # Zooming\n",
    "    zoom_matrix = cv2.getRotationMatrix2D((width//2, height//2), 0, zoom_input / 100)\n",
    "    zoomed_image = cv2.warpAffine(image, zoom_matrix, (width, height))\n",
    "\n",
    "    # Rotation\n",
    "    if rotation_factor is not None:\n",
    "        rotation_angle = 120 * rotation_factor  # Adjust the rotation angle as needed\n",
    "        rotation_matrix = cv2.getRotationMatrix2D((width//2, height//2), rotation_angle, 1)\n",
    "        transformed_image = cv2.warpAffine(zoomed_image, rotation_matrix, (width, height))\n",
    "    else:\n",
    "        transformed_image = zoomed_image\n",
    "\n",
    "    # Display images\n",
    "    cv2.imshow(\"Original Image\", image)\n",
    "    cv2.imshow(\"zoomed Image\", transformed_image)\n",
    "    cv2.waitKey(0)\n",
    "    cv2.destroyAllWindows()\n"
   ]
  },
  {
   "cell_type": "code",
   "execution_count": null,
   "id": "ae50442b",
   "metadata": {},
   "outputs": [],
   "source": [
    "\n",
    "\n",
    "\n",
    "import cv2\n",
    "\n",
    "image = cv2.imread(\"car.jpeg\",cv2.IMREAD_GRAYSCALE)\n",
    "width,height=image.shape[:2]\n",
    "\n",
    "rotation_center=(width//2,height//2)\n",
    "rotation_angle=45 #in Degrees\n",
    "rotation_matrix = cv2.getRotationMatrix2D(rotation_center, rotation_angle, 1)  \n",
    "# 1 is the scale factor\n",
    "rotated_image = cv2.warpAffine(image, rotation_matrix, (width, height))\n",
    "\n",
    "scaled_image = cv2.resize(image, (280,260))\n",
    "scaled_image1 = cv2.resize(image, None,fx=1.2,fy=2.5)\n",
    "\n",
    "cv2.imshow(\"Original Image\",scaled_image)\n",
    "cv2.imshow(\"Original Image\",scaled_image)\n",
    "cv2.imshow(\"Transformed Image\",scaled_image1)\n",
    "cv2.imshow(\"rotated Image\",rotated_image)\n",
    "\n",
    "cv2.waitKey(0)\n",
    "cv2.destroyAllWindows()\n"
   ]
  },
  {
   "cell_type": "code",
   "execution_count": null,
   "id": "96b5e8ad",
   "metadata": {},
   "outputs": [],
   "source": []
  },
  {
   "cell_type": "code",
   "execution_count": null,
   "id": "ff2fd48e",
   "metadata": {},
   "outputs": [],
   "source": [
    "import cv2\n",
    "import numpy as np\n",
    "\n",
    "image = cv2.imread('car.jpeg', cv2.IMREAD_GRAYSCALE)\n",
    "\n",
    "cv2.imshow('Original Grayscale Image', image)\n",
    "\n",
    "threshold_value = 127  # Threshold value\n",
    "_, binary_threshold_image = cv2.threshold(image, threshold_value, 255, cv2.THRESH_BINARY)\n",
    "\n",
    "cv2.imshow('Binary Threshold Image', binary_threshold_image)\n",
    "cv2.waitKey(0)\n",
    "cv2.destroyAllWindows()"
   ]
  },
  {
   "cell_type": "code",
   "execution_count": null,
   "id": "c0705ed6",
   "metadata": {},
   "outputs": [],
   "source": [
    "import cv2\n",
    "import numpy as np\n",
    "\n",
    "image = cv2.imread('car.jpeg')\n",
    "\n",
    "blue_overlay = np.zeros_like(image)\n",
    "blue_overlay[:, :] = [242, 10, 242]  # Blue (BGR format)\n",
    "\n",
    "blue_overlay1 = np.zeros_like(image)\n",
    "blue_overlay1[:, :] = [190, 10, 242]  # Blue (BGR format)\n",
    "\n",
    "alpha = 0.5  # 0.0: fully transparent, 1.0: fully opaque\n",
    "\n",
    "# Blend the image with the blue overlay\n",
    "result_image = cv2.addWeighted(image, 1 - alpha, blue_overlay, alpha, 0)\n",
    "result_image1 = cv2.addWeighted(image, 1 - alpha, blue_overlay1, alpha, 0)\n",
    "\n",
    "\n",
    "cv2.imshow('Original Image', image)\n",
    "\n",
    "cv2.imshow('Blue Image', result_image)\n",
    "cv2.imshow('Image', result_image1)\n",
    "cv2.waitKey(0)\n",
    "\n",
    "cv2.destroyAllWindows()\n"
   ]
  },
  {
   "cell_type": "code",
   "execution_count": null,
   "id": "be6f275b",
   "metadata": {},
   "outputs": [],
   "source": [
    "import cv2\n",
    "import numpy as np\n",
    "\n",
    "image = cv2.imread('car.jpeg')\n",
    "\n",
    "cv2.imshow('Original Image', image)\n",
    "\n",
    "# Average Blurring: Replacing each pixel value with the average value of its neighborhood\n",
    "kernel_size = (25, 25)  # Kernel size for the average blur filter\n",
    "average_blur_image = cv2.blur(image, kernel_size)\n",
    "\n",
    "cv2.imshow('Average Blurred Image', average_blur_image)\n",
    "cv2.waitKey(0)\n",
    "cv2.destroyAllWindows()"
   ]
  },
  {
   "cell_type": "code",
   "execution_count": null,
   "id": "891b64b6",
   "metadata": {},
   "outputs": [],
   "source": [
    "import cv2\n",
    "#import GaussianBlur from cv2\n",
    "import numpy as np\n",
    "\n",
    "image = cv2.imread('car2.jpeg')\n",
    "#a=GaussianBlur()\n",
    "cv2.imshow('Original Image', image)\n",
    "\n",
    "# Average Blurring: Replacing each pixel value with the average value of its neighborhood\n",
    "kernel_size = (25, 25)  # Kernel size for the average blur filter\n",
    "average_blur_image = cv2.blur(image, kernel_size)\n",
    "guassian_blur_image = cv2.GaussianBlur(image, kernel_size,0)\n",
    "\n",
    "blue_overlay = np.zeros_like(image)\n",
    "blue_overlay[:, :] = [242, 10, 242]  # Blue (BGR format)\n",
    "\n",
    "blue_overlay1 = np.zeros_like(image)\n",
    "blue_overlay1[:, :] = [190, 10, 242]  # Blue (BGR format)\n",
    "\n",
    "alpha = 0.5  # 0.0: fully transparent, 1.0: fully opaque\n",
    "\n",
    "# Blend the image with the blue overlay\n",
    "result_image = cv2.addWeighted(image, 1 - alpha, blue_overlay, alpha, 0)\n",
    "\n",
    "cv2.imshow('Average Blurred Image', average_blur_image)\n",
    "cv2.imshow('Guassian Blurred Image', guassian_blur_image)\n",
    "\n",
    "cv2.imshow('Blue Image', result_image)\n",
    "\n",
    "cv2.waitKey(0)\n",
    "cv2.destroyAllWindows()"
   ]
  },
  {
   "cell_type": "code",
   "execution_count": null,
   "id": "cc2abdc3",
   "metadata": {},
   "outputs": [],
   "source": []
  },
  {
   "cell_type": "code",
   "execution_count": null,
   "id": "2866392d",
   "metadata": {},
   "outputs": [
    {
     "name": "stdout",
     "output_type": "stream",
     "text": [
      "(180, 320, 3)\n",
      "(180, 320, 3)\n"
     ]
    }
   ],
   "source": [
    "import cv2\n",
    "import numpy as np\n",
    "\n",
    "image = cv2.imread('carr.jpeg')\n",
    "image1= cv2.imread('carr1.jpeg')\n",
    "print(image.shape)\n",
    "print(image1.shape)\n",
    "\n",
    "image2= cv2.add(image,image1)\n",
    "img3=cv2.addWeighted(image,0.1,image2,0.9,0)\n",
    "\n",
    "img4=cv2.addWeighted(image,0.9,image2,0.1,0)\n",
    "\n",
    "\n",
    "\n",
    "cv2.imshow('added Image', image2)\n",
    "cv2.imshow(' Image', img3)\n",
    "\n",
    "cv2.imshow(' Image_', img4)\n",
    "\n",
    "\n",
    "\n",
    "\n",
    "#threshold_value = 127  # Threshold value\n",
    "#_, binary_threshold_image = cv2.threshold(image, threshold_value, 255, cv2.THRESH_BINARY)\n",
    "\n",
    "#cv2.imshow('Binary Threshold Image', binary_threshold_image)\n",
    "cv2.waitKey(0)\n",
    "cv2.destroyAllWindows()"
   ]
  },
  {
   "cell_type": "code",
   "execution_count": null,
   "id": "fe2d9c7d",
   "metadata": {},
   "outputs": [
    {
     "name": "stdout",
     "output_type": "stream",
     "text": [
      "(180, 320, 3)\n",
      "(180, 320, 3)\n"
     ]
    }
   ],
   "source": [
    "\n",
    "\n",
    "import cv2\n",
    "import numpy as np\n",
    "\n",
    "image = cv2.imread('carr.jpeg')\n",
    "image1= cv2.imread('carr1.jpeg')\n",
    "print(image.shape)\n",
    "print(image1.shape)\n",
    "\n",
    "image2= cv2.add(image,image1)\n",
    "img3=cv2.addWeighted(image,0.1,image2,0.9,0)\n",
    "\n",
    "img4=cv2.addWeighted(image,0.9,image2,0.1,0)\n",
    "\n",
    "\n",
    "\n",
    "cv2.imshow('added Image', image2)\n",
    "cv2.imshow(' Image', img3)\n",
    "\n",
    "cv2.imshow(' Image_', img4)\n",
    "\n",
    "\n",
    "cv2.imwrite(\"newImage.jpg\",img3)\n",
    "\n",
    "\n",
    "#threshold_value = 127  # Threshold value\n",
    "#_, binary_threshold_image = cv2.threshold(image, threshold_value, 255, cv2.THRESH_BINARY)\n",
    "\n",
    "#cv2.imshow('Binary Threshold Image', binary_threshold_image)\n",
    "cv2.waitKey(0)\n",
    "cv2.destroyAllWindows()"
   ]
  },
  {
   "cell_type": "code",
   "execution_count": null,
   "id": "9e7b6109",
   "metadata": {},
   "outputs": [
    {
     "name": "stdout",
     "output_type": "stream",
     "text": [
      "(194, 259, 3)\n",
      "(180, 320, 3)\n",
      "\n",
      "(600, 800, 3)\n",
      "(600, 800, 3)\n"
     ]
    }
   ],
   "source": [
    "\n",
    "\n",
    "import cv2\n",
    "import numpy as np\n",
    "\n",
    "image = cv2.imread('car.jpeg')\n",
    "image1= cv2.imread('car2.jpeg')\n",
    "print(image.shape)\n",
    "print(image1.shape)\n",
    "\n",
    "width = 800\n",
    "height = 600\n",
    "\n",
    "\n",
    "\n",
    "resized_image = cv2.resize(image, (width, height))\n",
    "resized_image1 = cv2.resize(image1, (width, height))\n",
    "print()\n",
    "print(resized_image.shape)\n",
    "print(resized_image1.shape)\n",
    "\n",
    "image2= cv2.add(resized_image,resized_image1)\n",
    "img3=cv2.addWeighted(resized_image,0.1,resized_image1,0.9,0)\n",
    "\n",
    "img4=cv2.addWeighted(resized_image,0.9,resized_image1,0.1,0)\n",
    "\n",
    "\n",
    "\n",
    "cv2.imshow('added Image', image2)\n",
    "cv2.imshow(' Image', img3)\n",
    "\n",
    "cv2.imshow(' Image_', img4)\n",
    "\n",
    "\n",
    "cv2.imwrite(\"newImage.jpg\",img3)\n",
    "\n",
    "\n",
    "#threshold_value = 127  # Threshold value\n",
    "#_, binary_threshold_image = cv2.threshold(image, threshold_value, 255, cv2.THRESH_BINARY)\n",
    "\n",
    "#cv2.imshow('Binary Threshold Image', binary_threshold_image)\n",
    "cv2.waitKey(0)\n",
    "cv2.destroyAllWindows()"
   ]
  },
  {
   "cell_type": "code",
   "execution_count": null,
   "id": "7cb1e15e",
   "metadata": {},
   "outputs": [
    {
     "name": "stdout",
     "output_type": "stream",
     "text": [
      "(194, 259, 3)\n",
      "(180, 320, 3)\n",
      "\n",
      "(51, 51, 3)\n",
      "(51, 51, 3)\n"
     ]
    }
   ],
   "source": [
    "\n",
    "\n",
    "\n",
    "import cv2\n",
    "import numpy as np\n",
    "\n",
    "image = cv2.imread('car.jpeg')\n",
    "image1= cv2.imread('car2.jpeg')\n",
    "print(image.shape)\n",
    "print(image1.shape)\n",
    "\n",
    "width = 800\n",
    "height = 600\n",
    "\n",
    "\n",
    "passport_size = (51, 51)\n",
    "\n",
    "\n",
    "resized_image = cv2.resize(image, passport_size)\n",
    "resized_image1 = cv2.resize(image1, passport_size)\n",
    "print()\n",
    "print(resized_image.shape)\n",
    "print(resized_image1.shape)\n",
    "\n",
    "image2= cv2.add(resized_image,resized_image1)\n",
    "img3=cv2.addWeighted(resized_image,0.1,resized_image1,0.9,0)\n",
    "\n",
    "img4=cv2.addWeighted(resized_image,0.9,resized_image1,0.1,0)\n",
    "\n",
    "\n",
    "\n",
    "cv2.imshow('added Image', image2)\n",
    "cv2.imshow(' Image', img3)\n",
    "\n",
    "cv2.imshow(' Image_', img4)\n",
    "\n",
    "\n",
    "cv2.imwrite(\"newImage1.jpg\",img3)\n",
    "\n",
    "\n",
    "#threshold_value = 127  # Threshold value\n",
    "#_, binary_threshold_image = cv2.threshold(image, threshold_value, 255, cv2.THRESH_BINARY)\n",
    "\n",
    "#cv2.imshow('Binary Threshold Image', binary_threshold_image)\n",
    "cv2.waitKey(0)\n",
    "cv2.destroyAllWindows()\n"
   ]
  },
  {
   "cell_type": "code",
   "execution_count": null,
   "id": "bf0ed3de",
   "metadata": {},
   "outputs": [
    {
     "name": "stdout",
     "output_type": "stream",
     "text": [
      "(194, 259, 3)\n",
      "(180, 320, 3)\n",
      "\n",
      "(600, 800, 3)\n",
      "(600, 800, 3)\n"
     ]
    }
   ],
   "source": [
    "\n",
    "\n",
    "import cv2\n",
    "import numpy as np\n",
    "\n",
    "image = cv2.imread('car.jpeg')\n",
    "image1= cv2.imread('car2.jpeg')\n",
    "print(image.shape)\n",
    "print(image1.shape)\n",
    "\n",
    "width = 800\n",
    "height = 600\n",
    "\n",
    "\n",
    "\n",
    "resized_image = cv2.resize(image, (width, height))\n",
    "resized_image1 = cv2.resize(image1, (width, height))\n",
    "print()\n",
    "print(resized_image.shape)\n",
    "print(resized_image1.shape)\n",
    "\n",
    "image2= cv2.subtract(resized_image,resized_image1)\n",
    "img3=cv2.addWeighted(resized_image,0.1,resized_image1,0.9,0)\n",
    "\n",
    "img4=cv2.addWeighted(resized_image,0.9,resized_image1,0.1,0)\n",
    "\n",
    "\n",
    "\n",
    "cv2.imshow('subtracted Image', image2)\n",
    "cv2.imshow(' Image', img3)\n",
    "\n",
    "cv2.imshow(' Image_', img4)\n",
    "\n",
    "\n",
    "cv2.imwrite(\"newImage2.jpg\",img3)\n",
    "\n",
    "\n",
    "#threshold_value = 127  # Threshold value\n",
    "#_, binary_threshold_image = cv2.threshold(image, threshold_value, 255, cv2.THRESH_BINARY)\n",
    "\n",
    "#cv2.imshow('Binary Threshold Image', binary_threshold_image)\n",
    "cv2.waitKey(0)\n",
    "cv2.destroyAllWindows()"
   ]
  },
  {
   "cell_type": "code",
   "execution_count": null,
   "id": "82116abe",
   "metadata": {},
   "outputs": [
    {
     "name": "stdout",
     "output_type": "stream",
     "text": [
      "(194, 259, 3)\n",
      "(180, 320, 3)\n",
      "\n",
      "(600, 800, 3)\n",
      "(600, 800, 3)\n"
     ]
    }
   ],
   "source": [
    "\n",
    "\n",
    "import cv2\n",
    "import numpy as np\n",
    "\n",
    "image = cv2.imread('car.jpeg')\n",
    "image1= cv2.imread('car2.jpeg')\n",
    "print(image.shape)\n",
    "print(image1.shape)\n",
    "\n",
    "width = 800\n",
    "height = 600\n",
    "\n",
    "\n",
    "\n",
    "resized_image = cv2.resize(image, (width, height))\n",
    "resized_image1 = cv2.resize(image1, (width, height))\n",
    "print()\n",
    "print(resized_image.shape)\n",
    "print(resized_image1.shape)\n",
    "\n",
    "img1= image2= cv2.add(resized_image,resized_image1)\n",
    "imgg1= image2= cv2.subtract(resized_image,resized_image1)\n",
    "\n",
    "\n",
    "image2= cv2.multiply(resized_image,resized_image1)\n",
    "img4 = np.multiply(resized_image,resized_image1)\n",
    "\n",
    "imgg2= image2= cv2.divide(resized_image,resized_image1)\n",
    "\n",
    "\n",
    "img3=cv2.addWeighted(resized_image,0.1,resized_image1,0.9,0)\n",
    "\n",
    "img4=cv2.addWeighted(resized_image,0.9,resized_image1,0.1,0)\n",
    "\n",
    "canny_edges = cv2.Canny(image, 50, 150) \n",
    "#cv2.imshow('canny Image', canny_edges)\n",
    "cv2.imshow('add Image', img1)\n",
    "cv2.imshow('subtract Image', imgg1)\n",
    "\n",
    "\n",
    "\n",
    "#cv2.imshow('multiplied Image', image2)\n",
    "#cv2.imshow('multiplied_np Image', img4)\n",
    "\n",
    "#cv2.imshow('divide Image', imgg2)\n",
    "\n",
    "#cv2.imshow('divide Image', imgg2)\n",
    "cv2.imshow('canny Image', canny_edges)\n",
    "\n",
    "\n",
    "#cv2.imshow(' Image', img3)\n",
    "\n",
    "#cv2.imshow(' Image_', img4)\n",
    "\n",
    "\n",
    "#cv2.imwrite(\"newImage2.jpg\",img3)\n",
    "\n",
    "\n",
    "#threshold_value = 127  # Threshold value\n",
    "#_, binary_threshold_image = cv2.threshold(image, threshold_value, 255, cv2.THRESH_BINARY)\n",
    "\n",
    "#cv2.imshow('Binary Threshold Image', binary_threshold_image)\n",
    "cv2.waitKey(0)\n",
    "cv2.destroyAllWindows()"
   ]
  },
  {
   "cell_type": "code",
   "execution_count": 5,
   "id": "6510bdfc",
   "metadata": {},
   "outputs": [],
   "source": [
    "import cv2\n",
    "image = cv2.imread('car.jpeg', cv2.IMREAD_GRAYSCALE)\n",
    "\n",
    "contours, _ = cv2.findContours(image, cv2.RETR_EXTERNAL, cv2.CHAIN_APPROX_SIMPLE)\n",
    "\n",
    "# Create a copy of the original image to draw contours on\n",
    "contour_image = image.copy()\n",
    "\n",
    "cv2.drawContours(contour_image, contours, -1, (0, 255, 0), 2)\n",
    "\n",
    "cv2.imshow('Image with Contours', contour_image)\n",
    "cv2.waitKey(0)\n",
    "cv2.destroyAllWindows()\n"
   ]
  },
  {
   "cell_type": "code",
   "execution_count": 3,
   "id": "3ca224df",
   "metadata": {},
   "outputs": [
    {
     "name": "stdout",
     "output_type": "stream",
     "text": [
      "44\n"
     ]
    }
   ],
   "source": [
    "import cv2\n",
    "import numpy as np\n",
    "image=np.zeros((1400,800,3),dtype=np.uint8)\n",
    "cv2.circle(image, (400, 150), 50, (255, 0, 0), -1)\n",
    "cv2.imshow(\"TestImages2 for crashing\",image)\n",
    "cv2.imwrite(\"out.jpg\",image)\n",
    "img=cv2.imread(\"out.jpg\",cv2.IMREAD_GRAYSCALE)\n",
    "contours, _ = cv2.findContours(img, cv2.RETR_EXTERNAL, cv2.CHAIN_APPROX_SIMPLE)\n",
    "cv2.drawContours(img, contours, -1, (0, 255, 0), 2)\n",
    "cv2.imshow('Image with Contours', img)\n",
    "print(len(contours))\n",
    "cv2.waitKey(0)\n",
    "cv2.destroyAllWindows()\n"
   ]
  },
  {
   "cell_type": "code",
   "execution_count": 4,
   "id": "22ebe99e",
   "metadata": {},
   "outputs": [
    {
     "name": "stdout",
     "output_type": "stream",
     "text": [
      "44\n"
     ]
    }
   ],
   "source": [
    "import cv2\n",
    "import numpy as np\n",
    "image=np.zeros((1400,800,3),dtype=np.uint8)\n",
    "cv2.circle(image, (400, 150), 50, (255, 0, 0), -1)\n",
    "cv2.imshow(\"TestImages2 for crashing\",image)\n",
    "cv2.imwrite(\"out.jpg\",image)\n",
    "img=cv2.imread(\"out.jpg\",cv2.IMREAD_GRAYSCALE)\n",
    "contours, _ = cv2.findContours(img, cv2.RETR_EXTERNAL, cv2.CHAIN_APPROX_SIMPLE)\n",
    "cv2.drawContours(img, contours, -1, (0, 255, 0), 2)\n",
    "cv2.imshow('Image with Contours', img)\n",
    "print(len(contours))\n",
    "cv2.waitKey(0)\n",
    "cv2.destroyAllWindows()\n"
   ]
  },
  {
   "cell_type": "code",
   "execution_count": null,
   "id": "725b09b7",
   "metadata": {},
   "outputs": [
    {
     "name": "stdout",
     "output_type": "stream",
     "text": [
      "142\n"
     ]
    }
   ],
   "source": [
    "import cv2\n",
    "image = cv2.imread('car.jpeg', cv2.IMREAD_GRAYSCALE)\n",
    "canny_edges = cv2.Canny(image, 50, 150) \n",
    "cv2.imshow('canny Image', canny_edges)\n",
    "contours, _ = cv2.findContours(canny_edges, cv2.RETR_EXTERNAL, cv2.CHAIN_APPROX_SIMPLE)\n",
    "\n",
    "# Create a copy of the original image to draw contours on\n",
    "contour_image = canny_edges.copy()\n",
    "contour_image=cv2.resize(contour_image, (1600, 800))\n",
    "cv2.drawContours(canny_edges, contours, -1, (0, 255, 255), 20)\n",
    "print(len(contours))\n",
    "\n",
    "cv2.imshow('Image with Contours', canny_edges)\n",
    "cv2.waitKey(0)\n",
    "cv2.destroyAllWindows()\n"
   ]
  },
  {
   "cell_type": "code",
   "execution_count": null,
   "id": "17717a5e",
   "metadata": {},
   "outputs": [],
   "source": [
    "help(cv2.Canny)"
   ]
  },
  {
   "cell_type": "code",
   "execution_count": 2,
   "id": "05e5e4f2",
   "metadata": {},
   "outputs": [],
   "source": [
    "import cv2\n",
    "image = cv2.imread('numplate.png', cv2.IMREAD_GRAYSCALE)\n",
    "_, binary_threshold_image = cv2.threshold(image, 176, 255, cv2.THRESH_BINARY)\n",
    "cv2.imshow('image',binary_threshold_image)\n"
   ]
  },
  {
   "cell_type": "code",
   "execution_count": null,
   "id": "39431752",
   "metadata": {},
   "outputs": [],
   "source": [
    "import cv2\n",
    "\n",
    "image = cv2.imread('numplate.png', cv2.IMREAD_GRAYSCALE)\n",
    "_, binary_threshold_image = cv2.threshold(image, 140, 255, cv2.THRESH_BINARY)\n",
    "adaptive_threshold_image = cv2.adaptiveThreshold(image, 255, cv2.ADAPTIVE_THRESH_MEAN_C, cv2.THRESH_BINARY, 11, 2)\n",
    "_, otsu_threshold_image = cv2.threshold(image, 0, 255, cv2.THRESH_BINARY + cv2.THRESH_OTSU)\n",
    "inrange_threshold_image = cv2.inRange(image, 130, 240)\n",
    "\n",
    "\n",
    "binary_threshold_image=cv2.resize(binary_threshold_image,(400,400))\n",
    "adaptive_threshold_image=cv2.resize(adaptive_threshold_image,(400,400))\n",
    "adaptive_threshold_image=cv2.resize(inrange_threshold_image,(400,400))\n",
    "\n",
    "\n",
    "\n",
    "cv2.imshow(\"Test\", binary_threshold_image)\n",
    "cv2.imshow(\"Test1\", adaptive_threshold_image)\n",
    "cv2.imshow(\"Test2\", inrange_threshold_image)\n",
    "\n",
    "cv2.waitKey(0)\n",
    "\n",
    "cv2.destroyAllWindows()"
   ]
  },
  {
   "cell_type": "code",
   "execution_count": null,
   "id": "33be965b",
   "metadata": {},
   "outputs": [],
   "source": [
    "import cv2\n",
    "import numpy as np\n",
    "\n",
    "image = cv2.imread('numplate.png', cv2.IMREAD_GRAYSCALE)\n",
    "\n",
    "cv2.imshow('Original Grayscale Image', image)\n",
    "\n",
    "# Define kernel for operations\n",
    "kernel = np.ones((6, 8), np.uint8)\n",
    "\n",
    "# Erosion: Erodes away the boundaries of foreground objects\n",
    "erosion_image = cv2.erode(image, kernel, iterations=1)\n",
    "\n",
    "cv2.imshow('Erosion Image', erosion_image)\n",
    "\n",
    "# Dilation: Expands the boundaries of foreground objects\n",
    "dilation_image = cv2.dilate(image, kernel, iterations=1)\n",
    "\n",
    "cv2.imshow('Dilation Image', dilation_image)\n",
    "\n",
    "# Opening: Erosion followed by dilation, useful for noise reduction\n",
    "opening_image = cv2.morphologyEx(image, cv2.MORPH_OPEN, kernel)\n",
    "\n",
    "cv2.imshow('Opening Image', opening_image)\n",
    "\n",
    "# Closing: Dilation followed by erosion, useful for closing small holes in objects\n",
    "closing_image = cv2.morphologyEx(image, cv2.MORPH_CLOSE, kernel)\n",
    "\n",
    "cv2.imshow('Closing Image', closing_image)\n",
    "cv2.waitKey(0)\n",
    "cv2.destroyAllWindows()\n"
   ]
  },
  {
   "cell_type": "code",
   "execution_count": 1,
   "id": "55090c44",
   "metadata": {},
   "outputs": [],
   "source": [
    "import cv2\n",
    "import numpy as np\n",
    "\n",
    "image = cv2.imread('carr1.jpeg')\n",
    "\n",
    "cv2.imshow('Original Grayscale Image', image)\n",
    "\n",
    "# Define kernel for operations\n",
    "kernel = np.ones((4, 8), np.uint8)\n",
    "\n",
    "# Erosion: Erodes away the boundaries of foreground objects\n",
    "erosion_image = cv2.erode(image, kernel, iterations=1)\n",
    "\n",
    "cv2.imshow('Erosion Image', erosion_image)"
   ]
  },
  {
   "cell_type": "code",
   "execution_count": 1,
   "id": "4b9a5369",
   "metadata": {},
   "outputs": [],
   "source": [
    "import cv2\n",
    "import numpy as np\n",
    "\n",
    "image = cv2.imread('car.jpeg')\n",
    "\n",
    "cv2.imshow('Original Grayscale Image', image)\n",
    "\n",
    "# Define kernel for operations\n",
    "kernel = np.ones((4, 8), np.uint8)\n",
    "\n",
    "# Erosion: Erodes away the boundaries of foreground objects\n",
    "opening_image = cv2.morphologyEx(image,cv2.MORPH_OPEN, kernel)\n",
    "\n",
    "cv2.imshow('opening Image', opening_image)"
   ]
  },
  {
   "cell_type": "code",
   "execution_count": 3,
   "id": "e40a8585",
   "metadata": {},
   "outputs": [
    {
     "data": {
      "text/plain": [
       "'4.8.1'"
      ]
     },
     "execution_count": 3,
     "metadata": {},
     "output_type": "execute_result"
    }
   ],
   "source": [
    "cv2.__version__\n"
   ]
  },
  {
   "cell_type": "code",
   "execution_count": 3,
   "id": "d4f0abf6",
   "metadata": {},
   "outputs": [
    {
     "ename": "error",
     "evalue": "OpenCV(4.8.1) D:\\a\\opencv-python\\opencv-python\\opencv\\modules\\imgproc\\src\\templmatch.cpp:1175: error: (-215:Assertion failed) _img.size().height <= _templ.size().height && _img.size().width <= _templ.size().width in function 'cv::matchTemplate'\n",
     "output_type": "error",
     "traceback": [
      "\u001b[1;31m---------------------------------------------------------------------------\u001b[0m",
      "\u001b[1;31merror\u001b[0m                                     Traceback (most recent call last)",
      "Cell \u001b[1;32mIn[3], line 7\u001b[0m\n\u001b[0;32m      4\u001b[0m main_image \u001b[38;5;241m=\u001b[39m cv2\u001b[38;5;241m.\u001b[39mimread(\u001b[38;5;124m'\u001b[39m\u001b[38;5;124mcar.jpeg\u001b[39m\u001b[38;5;124m'\u001b[39m)\n\u001b[0;32m      6\u001b[0m template \u001b[38;5;241m=\u001b[39m cv2\u001b[38;5;241m.\u001b[39mimread(\u001b[38;5;124m'\u001b[39m\u001b[38;5;124mcar2.jpeg\u001b[39m\u001b[38;5;124m'\u001b[39m)\n\u001b[1;32m----> 7\u001b[0m result \u001b[38;5;241m=\u001b[39m cv2\u001b[38;5;241m.\u001b[39mmatchTemplate(main_image, template, cv2\u001b[38;5;241m.\u001b[39mTM_CCOEFF_NORMED)\n\u001b[0;32m      9\u001b[0m \u001b[38;5;66;03m# Find the location of the matched area\u001b[39;00m\n\u001b[0;32m     10\u001b[0m min_val, max_val, min_loc, max_loc \u001b[38;5;241m=\u001b[39m cv2\u001b[38;5;241m.\u001b[39mminMaxLoc(result)\n",
      "\u001b[1;31merror\u001b[0m: OpenCV(4.8.1) D:\\a\\opencv-python\\opencv-python\\opencv\\modules\\imgproc\\src\\templmatch.cpp:1175: error: (-215:Assertion failed) _img.size().height <= _templ.size().height && _img.size().width <= _templ.size().width in function 'cv::matchTemplate'\n"
     ]
    }
   ],
   "source": [
    "import cv2\n",
    "import numpy as np\n",
    "\n",
    "main_image = cv2.imread('car.jpeg')\n",
    "\n",
    "template = cv2.imread('car2.jpeg')\n",
    "result = cv2.matchTemplate(main_image, template, cv2.TM_CCOEFF_NORMED)\n",
    "\n",
    "# Find the location of the matched area\n",
    "min_val, max_val, min_loc, max_loc = cv2.minMaxLoc(result)\n",
    "\n",
    "# Draw a rectangle around the matched area\n",
    "h, w, _ = template.shape\n",
    "cv2.rectangle(main_image, max_loc, (max_loc[0] + w, max_loc[1] + h), (0, 255, 0), 2)\n",
    "\n",
    "# Display the result\n",
    "cv2.imshow('Matching Result', cv2.resize(main_image,(800,800)))\n",
    "cv2.imshow(\"Org Image\",template)\n",
    "cv2.waitKey(0)\n",
    "cv2.destroyAllWindows()"
   ]
  },
  {
   "cell_type": "code",
   "execution_count": null,
   "id": "6a5c9bf3",
   "metadata": {},
   "outputs": [],
   "source": []
  }
 ],
 "metadata": {
  "kernelspec": {
   "display_name": "Python 3 (ipykernel)",
   "language": "python",
   "name": "python3"
  },
  "language_info": {
   "codemirror_mode": {
    "name": "ipython",
    "version": 3
   },
   "file_extension": ".py",
   "mimetype": "text/x-python",
   "name": "python",
   "nbconvert_exporter": "python",
   "pygments_lexer": "ipython3",
   "version": "3.11.4"
  }
 },
 "nbformat": 4,
 "nbformat_minor": 5
}
