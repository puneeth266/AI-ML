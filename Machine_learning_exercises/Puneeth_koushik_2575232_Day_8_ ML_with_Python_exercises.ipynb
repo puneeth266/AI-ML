{
 "cells": [
  {
   "cell_type": "code",
   "execution_count": 1,
   "id": "4489d2fe",
   "metadata": {},
   "outputs": [],
   "source": [
    "import pandas as pd\n",
    "import numpy as np\n",
    "import matplotlib.pyplot as plt\n",
    "import seaborn as sns"
   ]
  },
  {
   "cell_type": "code",
   "execution_count": 2,
   "id": "9aad5618",
   "metadata": {},
   "outputs": [
    {
     "data": {
      "text/html": [
       "<div>\n",
       "<style scoped>\n",
       "    .dataframe tbody tr th:only-of-type {\n",
       "        vertical-align: middle;\n",
       "    }\n",
       "\n",
       "    .dataframe tbody tr th {\n",
       "        vertical-align: top;\n",
       "    }\n",
       "\n",
       "    .dataframe thead th {\n",
       "        text-align: right;\n",
       "    }\n",
       "</style>\n",
       "<table border=\"1\" class=\"dataframe\">\n",
       "  <thead>\n",
       "    <tr style=\"text-align: right;\">\n",
       "      <th></th>\n",
       "      <th>symboling</th>\n",
       "      <th>normalized.losses</th>\n",
       "      <th>make</th>\n",
       "      <th>fuel.type</th>\n",
       "      <th>aspiration</th>\n",
       "      <th>num.of.doors</th>\n",
       "      <th>body.style</th>\n",
       "      <th>drive.wheels</th>\n",
       "      <th>engine.location</th>\n",
       "      <th>wheel.base</th>\n",
       "      <th>...</th>\n",
       "      <th>engine.size</th>\n",
       "      <th>fuel.system</th>\n",
       "      <th>bore</th>\n",
       "      <th>stroke</th>\n",
       "      <th>compression.ratio</th>\n",
       "      <th>horsepower</th>\n",
       "      <th>peak.rpm</th>\n",
       "      <th>city.mpg</th>\n",
       "      <th>highway.mpg</th>\n",
       "      <th>Car_Price</th>\n",
       "    </tr>\n",
       "  </thead>\n",
       "  <tbody>\n",
       "    <tr>\n",
       "      <th>0</th>\n",
       "      <td>1</td>\n",
       "      <td>129.0</td>\n",
       "      <td>mazda</td>\n",
       "      <td>gas</td>\n",
       "      <td>std</td>\n",
       "      <td>two</td>\n",
       "      <td>hatchback</td>\n",
       "      <td>fwd</td>\n",
       "      <td>front</td>\n",
       "      <td>98.8</td>\n",
       "      <td>...</td>\n",
       "      <td>122</td>\n",
       "      <td>2bbl</td>\n",
       "      <td>3.39</td>\n",
       "      <td>3.39</td>\n",
       "      <td>8.6</td>\n",
       "      <td>84.0</td>\n",
       "      <td>4800.0</td>\n",
       "      <td>26</td>\n",
       "      <td>32</td>\n",
       "      <td>10595.0</td>\n",
       "    </tr>\n",
       "    <tr>\n",
       "      <th>1</th>\n",
       "      <td>1</td>\n",
       "      <td>125.0</td>\n",
       "      <td>mitsubishi</td>\n",
       "      <td>gas</td>\n",
       "      <td>std</td>\n",
       "      <td>four</td>\n",
       "      <td>sedan</td>\n",
       "      <td>fwd</td>\n",
       "      <td>front</td>\n",
       "      <td>96.3</td>\n",
       "      <td>...</td>\n",
       "      <td>122</td>\n",
       "      <td>2bbl</td>\n",
       "      <td>3.35</td>\n",
       "      <td>3.46</td>\n",
       "      <td>8.5</td>\n",
       "      <td>88.0</td>\n",
       "      <td>5000.0</td>\n",
       "      <td>25</td>\n",
       "      <td>32</td>\n",
       "      <td>8189.0</td>\n",
       "    </tr>\n",
       "    <tr>\n",
       "      <th>2</th>\n",
       "      <td>3</td>\n",
       "      <td>150.0</td>\n",
       "      <td>mazda</td>\n",
       "      <td>gas</td>\n",
       "      <td>std</td>\n",
       "      <td>two</td>\n",
       "      <td>hatchback</td>\n",
       "      <td>rwd</td>\n",
       "      <td>front</td>\n",
       "      <td>95.3</td>\n",
       "      <td>...</td>\n",
       "      <td>70</td>\n",
       "      <td>4bbl</td>\n",
       "      <td>NaN</td>\n",
       "      <td>NaN</td>\n",
       "      <td>9.4</td>\n",
       "      <td>101.0</td>\n",
       "      <td>6000.0</td>\n",
       "      <td>17</td>\n",
       "      <td>23</td>\n",
       "      <td>13645.0</td>\n",
       "    </tr>\n",
       "    <tr>\n",
       "      <th>3</th>\n",
       "      <td>3</td>\n",
       "      <td>194.0</td>\n",
       "      <td>nissan</td>\n",
       "      <td>gas</td>\n",
       "      <td>std</td>\n",
       "      <td>NaN</td>\n",
       "      <td>hatchback</td>\n",
       "      <td>rwd</td>\n",
       "      <td>front</td>\n",
       "      <td>91.3</td>\n",
       "      <td>...</td>\n",
       "      <td>181</td>\n",
       "      <td>mpfi</td>\n",
       "      <td>3.43</td>\n",
       "      <td>3.27</td>\n",
       "      <td>9.0</td>\n",
       "      <td>160.0</td>\n",
       "      <td>5200.0</td>\n",
       "      <td>19</td>\n",
       "      <td>25</td>\n",
       "      <td>17199.0</td>\n",
       "    </tr>\n",
       "    <tr>\n",
       "      <th>4</th>\n",
       "      <td>0</td>\n",
       "      <td>85.0</td>\n",
       "      <td>honda</td>\n",
       "      <td>gas</td>\n",
       "      <td>std</td>\n",
       "      <td>four</td>\n",
       "      <td>sedan</td>\n",
       "      <td>fwd</td>\n",
       "      <td>front</td>\n",
       "      <td>96.5</td>\n",
       "      <td>...</td>\n",
       "      <td>110</td>\n",
       "      <td>mpfi</td>\n",
       "      <td>3.15</td>\n",
       "      <td>3.58</td>\n",
       "      <td>9.0</td>\n",
       "      <td>101.0</td>\n",
       "      <td>5800.0</td>\n",
       "      <td>24</td>\n",
       "      <td>28</td>\n",
       "      <td>12945.0</td>\n",
       "    </tr>\n",
       "  </tbody>\n",
       "</table>\n",
       "<p>5 rows × 26 columns</p>\n",
       "</div>"
      ],
      "text/plain": [
       "   symboling  normalized.losses        make fuel.type aspiration num.of.doors  \\\n",
       "0          1              129.0       mazda       gas        std          two   \n",
       "1          1              125.0  mitsubishi       gas        std         four   \n",
       "2          3              150.0       mazda       gas        std          two   \n",
       "3          3              194.0      nissan       gas        std          NaN   \n",
       "4          0               85.0       honda       gas        std         four   \n",
       "\n",
       "  body.style drive.wheels engine.location  wheel.base  ...  engine.size  \\\n",
       "0  hatchback          fwd           front        98.8  ...          122   \n",
       "1      sedan          fwd           front        96.3  ...          122   \n",
       "2  hatchback          rwd           front        95.3  ...           70   \n",
       "3  hatchback          rwd           front        91.3  ...          181   \n",
       "4      sedan          fwd           front        96.5  ...          110   \n",
       "\n",
       "   fuel.system  bore  stroke compression.ratio horsepower  peak.rpm city.mpg  \\\n",
       "0         2bbl  3.39    3.39               8.6       84.0    4800.0       26   \n",
       "1         2bbl  3.35    3.46               8.5       88.0    5000.0       25   \n",
       "2         4bbl   NaN     NaN               9.4      101.0    6000.0       17   \n",
       "3         mpfi  3.43    3.27               9.0      160.0    5200.0       19   \n",
       "4         mpfi  3.15    3.58               9.0      101.0    5800.0       24   \n",
       "\n",
       "   highway.mpg  Car_Price  \n",
       "0           32    10595.0  \n",
       "1           32     8189.0  \n",
       "2           23    13645.0  \n",
       "3           25    17199.0  \n",
       "4           28    12945.0  \n",
       "\n",
       "[5 rows x 26 columns]"
      ]
     },
     "execution_count": 2,
     "metadata": {},
     "output_type": "execute_result"
    }
   ],
   "source": [
    "data=pd.read_excel('cars_train.xlsx')\n",
    "data.head()"
   ]
  },
  {
   "cell_type": "code",
   "execution_count": 3,
   "id": "c4909c3a",
   "metadata": {},
   "outputs": [
    {
     "data": {
      "text/plain": [
       "array([[<Axes: title={'center': 'symboling'}>,\n",
       "        <Axes: title={'center': 'normalized.losses'}>,\n",
       "        <Axes: title={'center': 'wheel.base'}>,\n",
       "        <Axes: title={'center': 'length'}>],\n",
       "       [<Axes: title={'center': 'width'}>,\n",
       "        <Axes: title={'center': 'height'}>,\n",
       "        <Axes: title={'center': 'curb.weight'}>,\n",
       "        <Axes: title={'center': 'engine.size'}>],\n",
       "       [<Axes: title={'center': 'bore'}>,\n",
       "        <Axes: title={'center': 'stroke'}>,\n",
       "        <Axes: title={'center': 'compression.ratio'}>,\n",
       "        <Axes: title={'center': 'horsepower'}>],\n",
       "       [<Axes: title={'center': 'peak.rpm'}>,\n",
       "        <Axes: title={'center': 'city.mpg'}>,\n",
       "        <Axes: title={'center': 'highway.mpg'}>,\n",
       "        <Axes: title={'center': 'Car_Price'}>]], dtype=object)"
      ]
     },
     "execution_count": 3,
     "metadata": {},
     "output_type": "execute_result"
    },
    {
     "data": {
      "image/png": "[encoded data removed]",
      "text/plain": [
       "<Figure size 700x700 with 16 Axes>"
      ]
     },
     "metadata": {},
     "output_type": "display_data"
    }
   ],
   "source": [
    "data.hist (figsize=(7,7))"
   ]
  },
  {
   "cell_type": "code",
   "execution_count": 4,
   "id": "1223a11b",
   "metadata": {},
   "outputs": [
    {
     "data": {
      "text/plain": [
       "symboling             0\n",
       "normalized.losses    30\n",
       "make                  0\n",
       "fuel.type             0\n",
       "aspiration            0\n",
       "num.of.doors         11\n",
       "body.style            0\n",
       "drive.wheels          0\n",
       "engine.location       2\n",
       "wheel.base            0\n",
       "length                0\n",
       "width                 0\n",
       "height                0\n",
       "curb.weight           0\n",
       "engine.type           0\n",
       "num.of.cylinders      2\n",
       "engine.size           0\n",
       "fuel.system           0\n",
       "bore                  3\n",
       "stroke                3\n",
       "compression.ratio     0\n",
       "horsepower            4\n",
       "peak.rpm              4\n",
       "city.mpg              0\n",
       "highway.mpg           0\n",
       "Car_Price             3\n",
       "dtype: int64"
      ]
     },
     "execution_count": 4,
     "metadata": {},
     "output_type": "execute_result"
    }
   ],
   "source": [
    "data.isna().sum()"
   ]
  },
  {
   "cell_type": "code",
   "execution_count": 5,
   "id": "adad371c",
   "metadata": {},
   "outputs": [],
   "source": [
    "data=data['normalized.losses'].dropna(inplace=True)\n"
   ]
  },
  {
   "cell_type": "markdown",
   "id": "6dc46988",
   "metadata": {},
   "source": [
    "# Day 8 Starts here"
   ]
  },
  {
   "cell_type": "code",
   "execution_count": 22,
   "id": "6a6b859a",
   "metadata": {},
   "outputs": [
    {
     "name": "stdout",
     "output_type": "stream",
     "text": [
      "   fixed acidity  volatile acidity  citric acid  residual sugar  chlorides  \\\n",
      "0            7.4              0.70         0.00             1.9      0.076   \n",
      "1            7.8              0.88         0.00             2.6      0.098   \n",
      "2            7.8              0.76         0.04             2.3      0.092   \n",
      "3           11.2              0.28         0.56             1.9      0.075   \n",
      "4            7.4              0.70         0.00             1.9      0.076   \n",
      "\n",
      "   free sulfur dioxide  total sulfur dioxide  density    pH  sulphates  \\\n",
      "0                 11.0                  34.0   0.9978  3.51       0.56   \n",
      "1                 25.0                  67.0   0.9968  3.20       0.68   \n",
      "2                 15.0                  54.0   0.9970  3.26       0.65   \n",
      "3                 17.0                  60.0   0.9980  3.16       0.58   \n",
      "4                 11.0                  34.0   0.9978  3.51       0.56   \n",
      "\n",
      "   alcohol  quality  \n",
      "0      9.4        5  \n",
      "1      9.8        5  \n",
      "2      9.8        5  \n",
      "3      9.8        6  \n",
      "4      9.4        5  \n"
     ]
    }
   ],
   "source": [
    "import pandas as pd\n",
    "import numpy as np\n",
    "#from sklearn.datasets import load_boston\n",
    "from sklearn.model_selection import train_test_split, cross_val_score, KFold\n",
    "from sklearn.preprocessing import StandardScaler\n",
    "from sklearn.linear_model import LinearRegression\n",
    "from sklearn.decomposition import PCA\n",
    "from sklearn.discriminant_analysis import LinearDiscriminantAnalysis\n",
    "from sklearn.ensemble import RandomForestRegressor\n",
    "from sklearn.model_selection import GridSearchCV, RandomizedSearchCV\n",
    "from sklearn.metrics import mean_squared_error\n",
    "\n",
    "\n",
    "\n",
    "data = pd.read_csv('winequality-red.csv')\n",
    "print(data.head())\n",
    "X = data.drop(columns=['alcohol'])\n",
    "y = data['alcohol']\n"
   ]
  },
  {
   "cell_type": "code",
   "execution_count": null,
   "id": "765018aa",
   "metadata": {},
   "outputs": [],
   "source": []
  },
  {
   "cell_type": "code",
   "execution_count": null,
   "id": "dac4c117",
   "metadata": {},
   "outputs": [],
   "source": []
  },
  {
   "cell_type": "code",
   "execution_count": 23,
   "id": "f50a68be",
   "metadata": {},
   "outputs": [
    {
     "data": {
      "text/plain": [
       "fixed acidity           0\n",
       "volatile acidity        0\n",
       "citric acid             0\n",
       "residual sugar          0\n",
       "chlorides               0\n",
       "free sulfur dioxide     0\n",
       "total sulfur dioxide    0\n",
       "density                 0\n",
       "pH                      0\n",
       "sulphates               0\n",
       "alcohol                 0\n",
       "quality                 0\n",
       "dtype: int64"
      ]
     },
     "execution_count": 23,
     "metadata": {},
     "output_type": "execute_result"
    }
   ],
   "source": [
    "data.isna().sum()"
   ]
  },
  {
   "cell_type": "code",
   "execution_count": null,
   "id": "05e7f707",
   "metadata": {},
   "outputs": [],
   "source": []
  },
  {
   "cell_type": "code",
   "execution_count": 24,
   "id": "385b0d75",
   "metadata": {},
   "outputs": [
    {
     "data": {
      "text/plain": [
       "fixed acidity           0\n",
       "volatile acidity        0\n",
       "citric acid             0\n",
       "residual sugar          0\n",
       "chlorides               0\n",
       "free sulfur dioxide     0\n",
       "total sulfur dioxide    0\n",
       "density                 0\n",
       "pH                      0\n",
       "sulphates               0\n",
       "alcohol                 0\n",
       "quality                 0\n",
       "dtype: int64"
      ]
     },
     "execution_count": 24,
     "metadata": {},
     "output_type": "execute_result"
    }
   ],
   "source": [
    "data.isna().sum()"
   ]
  },
  {
   "cell_type": "code",
   "execution_count": 27,
   "id": "28b8ef8d",
   "metadata": {},
   "outputs": [
    {
     "data": {
      "text/plain": [
       "Index(['fixed acidity', 'volatile acidity', 'citric acid', 'residual sugar',\n",
       "       'chlorides', 'free sulfur dioxide', 'total sulfur dioxide', 'density',\n",
       "       'pH', 'sulphates', 'alcohol', 'quality'],\n",
       "      dtype='object')"
      ]
     },
     "execution_count": 27,
     "metadata": {},
     "output_type": "execute_result"
    }
   ],
   "source": [
    "data.columns"
   ]
  },
  {
   "cell_type": "code",
   "execution_count": 28,
   "id": "6ce43948",
   "metadata": {},
   "outputs": [],
   "source": [
    "data=data.dropna()"
   ]
  },
  {
   "cell_type": "code",
   "execution_count": 29,
   "id": "5e1634c3",
   "metadata": {},
   "outputs": [],
   "source": [
    "# Feature scaling\n",
    "scaler = StandardScaler()\n",
    "X_scaled = scaler.fit_transform(X)\n",
    "\n",
    "# Train-test split\n",
    "X_train, X_test, y_train, y_test = train_test_split(X_scaled, y, test_size=0.2, random_state=42)\n",
    "\n",
    "# Linear Regression\n",
    "lr = LinearRegression()\n",
    "lr.fit(X_train, y_train)\n",
    "lr_predictions = lr.predict(X_test)"
   ]
  },
  {
   "cell_type": "code",
   "execution_count": 30,
   "id": "81e92715",
   "metadata": {},
   "outputs": [],
   "source": [
    "# Cross-validation\n",
    "kfold = KFold(n_splits=5, shuffle=True, random_state=42)\n",
    "lr_cv_scores = cross_val_score(lr, X_scaled, y, cv=kfold, scoring='neg_mean_squared_error')\n",
    "lr_rmse_scores = np.sqrt(-lr_cv_scores)"
   ]
  },
  {
   "cell_type": "code",
   "execution_count": null,
   "id": "ca686ad9",
   "metadata": {},
   "outputs": [],
   "source": [
    "# Linear Discriminant Analysis (LDA)\n",
    "lda = LinearDiscriminantAnalysis(n_components=2)\n",
    "X_lda = lda.fit_transform(X_scaled, y)"
   ]
  },
  {
   "cell_type": "code",
   "execution_count": 39,
   "id": "4b3c34ce",
   "metadata": {},
   "outputs": [],
   "source": [
    "# Principal Component Analysis (PCA)\n",
    "pca = PCA(n_components=2)\n",
    "X_pca = pca.fit_transform(X_scaled)"
   ]
  },
  {
   "cell_type": "code",
   "execution_count": 40,
   "id": "ab89cca6",
   "metadata": {},
   "outputs": [],
   "source": [
    "# Random Forest Regressor\n",
    "rf = RandomForestRegressor(random_state=42)\n",
    "rf.fit(X_train, y_train)\n",
    "rf_predictions = rf.predict(X_test)"
   ]
  },
  {
   "cell_type": "code",
   "execution_count": 33,
   "id": "6b0af10d",
   "metadata": {},
   "outputs": [],
   "source": [
    "# GridSearchCV\n",
    "param_grid = {'n_estimators': [10, 100, 200],\n",
    "              'max_depth': [None, 10, 20]}\n",
    "rf_grid = GridSearchCV(rf, param_grid, cv=5, scoring='neg_mean_squared_error')\n",
    "rf_grid.fit(X_scaled, y)\n",
    "best_rf = rf_grid.best_estimator_\n",
    "best_rf_predictions = best_rf.predict(X_test)"
   ]
  },
  {
   "cell_type": "code",
   "execution_count": 34,
   "id": "9cd757b0",
   "metadata": {},
   "outputs": [
    {
     "name": "stderr",
     "output_type": "stream",
     "text": [
      "C:\\Users\\punee\\anaconda3\\Lib\\site-packages\\sklearn\\model_selection\\_search.py:307: UserWarning: The total space of parameters 9 is smaller than n_iter=10. Running 9 iterations. For exhaustive searches, use GridSearchCV.\n",
      "  warnings.warn(\n"
     ]
    }
   ],
   "source": [
    "# RandomizedSearchCV\n",
    "param_dist = {'n_estimators': [10, 100, 200],\n",
    "              'max_depth': [None, 10, 20]}\n",
    "rf_random = RandomizedSearchCV(rf, param_distributions=param_dist, n_iter=10, cv=5, scoring='neg_mean_squared_error')\n",
    "rf_random.fit(X_scaled, y)\n",
    "best_rf_random = rf_random.best_estimator_\n",
    "best_rf_random_predictions = best_rf_random.predict(X_test)"
   ]
  },
  {
   "cell_type": "code",
   "execution_count": 35,
   "id": "4efe7419",
   "metadata": {},
   "outputs": [],
   "source": [
    "# Model Evaluation\n",
    "lr_rmse = np.sqrt(mean_squared_error(y_test, lr_predictions))\n",
    "rf_rmse = np.sqrt(mean_squared_error(y_test, rf_predictions))\n",
    "best_rf_rmse = np.sqrt(mean_squared_error(y_test, best_rf_predictions))\n",
    "best_rf_random_rmse = np.sqrt(mean_squared_error(y_test, best_rf_random_predictions))"
   ]
  },
  {
   "cell_type": "code",
   "execution_count": 36,
   "id": "5fac1a25",
   "metadata": {},
   "outputs": [
    {
     "name": "stdout",
     "output_type": "stream",
     "text": [
      "Linear Regression RMSE: 0.5874152464696406\n",
      "Random Forest RMSE: 0.5115351903146244\n",
      "Best Random Forest RMSE (GridSearchCV): 0.2622218012102871\n",
      "Best Random Forest RMSE (RandomizedSearchCV): 0.2622218012102871\n"
     ]
    }
   ],
   "source": [
    "# Output results\n",
    "print(\"Linear Regression RMSE:\", lr_rmse)\n",
    "print(\"Random Forest RMSE:\", rf_rmse)\n",
    "print(\"Best Random Forest RMSE (GridSearchCV):\", best_rf_rmse)\n",
    "print(\"Best Random Forest RMSE (RandomizedSearchCV):\", best_rf_random_rmse)"
   ]
  },
  {
   "cell_type": "code",
   "execution_count": 41,
   "id": "dd0bd6fe",
   "metadata": {},
   "outputs": [
    {
     "name": "stdout",
     "output_type": "stream",
     "text": [
      "PCA Reduced Data:\n",
      " [[-1.89260154 -0.00383946]\n",
      " [-1.12944733  1.71828717]\n",
      " [-1.01600024  0.7335452 ]\n",
      " ...\n",
      " [-1.30673024  0.174062  ]\n",
      " [-2.40339678  0.84618162]\n",
      " [-0.1926568  -0.42381055]]\n"
     ]
    }
   ],
   "source": [
    "# Feature Reduction Techniques\n",
    "#print(\"LDA Reduced Data:\\n\", X_lda)\n",
    "print(\"PCA Reduced Data:\\n\", X_pca)\n"
   ]
  },
  {
   "cell_type": "code",
   "execution_count": null,
   "id": "fb9406f0",
   "metadata": {},
   "outputs": [],
   "source": []
  }
 ],
 "metadata": {
  "kernelspec": {
   "display_name": "Python 3 (ipykernel)",
   "language": "python",
   "name": "python3"
  },
  "language_info": {
   "codemirror_mode": {
    "name": "ipython",
    "version": 3
   },
   "file_extension": ".py",
   "mimetype": "text/x-python",
   "name": "python",
   "nbconvert_exporter": "python",
   "pygments_lexer": "ipython3",
   "version": "3.11.4"
  }
 },
 "nbformat": 4,
 "nbformat_minor": 5
}
