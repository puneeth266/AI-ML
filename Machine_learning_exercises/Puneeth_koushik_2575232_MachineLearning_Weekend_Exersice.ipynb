{
 "cells": [
  {
   "cell_type": "markdown",
   "id": "e294913c",
   "metadata": {},
   "source": [
    "# Problem Statement:\n",
    "\n",
    "A new car manufacturing company wants to launch cars in different categories and would like to have an idea about the price \n",
    "of cars based on cars specifications (in terms of various characteristics) available in market.\n",
    "\n",
    "Task: Develop a suitable model which can help company to predict car prices.\n",
    "\n",
    "Following points must be included in your analysis:\n",
    "\n",
    "• EDA analysis (Exploratory Data Analysis):\n",
    "\n",
    "Need to present complete data review with suitable charts/graphs\n",
    "\n",
    "Data processing steps\n",
    "\n",
    "Generic steps and process followed for given dataset-\n",
    "\n",
    "For example, if one of the missing value treatments has been applied then we would need information on other methods \n",
    "as well with justification as to why this method has been applied instead of others. This would be applicable for all \n",
    "steps (like multicollinearity, outlier, variable selection etc.) you followed in data processing/preparation.\n",
    "\n",
    "Need justification if any Variable transformation (Bucketing, dummy variable creation) has been applied.\n",
    "\n",
    "Assumption applied, if any.\n",
    "\n",
    "Model Building:\n",
    "\n",
    "Reason for selecting this model (what are the criteria you considered to finalize\n",
    "\n",
    "your model, also provide generic ranges of considered criteria.\n",
    "\n",
    "Considered model selection criteria, also give information on criteria you have not considered but can be considered.\n",
    "\n",
    "Results of the model using Test and Validation sample."
   ]
  },
  {
   "cell_type": "markdown",
   "id": "1265b5f8",
   "metadata": {},
   "source": [
    "# Submission Details:\n",
    "\n",
    "1. You are supposed to share python code along with above mentioned details.\n",
    "\n",
    "2. You are supposed to share test dataset along with predicted prices based upon the model built using training dataset.\n",
    "\n",
    "3. Perform the Lazzo & Ridge Optimization model.\n",
    "\n",
    "4. Build the various ensemble model and observe the performance.\n",
    "\n",
    "5. Prepare a presentation or report summarizing your analysis, results, and recommendations for the retail company."
   ]
  },
  {
   "cell_type": "markdown",
   "id": "0be1b62e",
   "metadata": {},
   "source": [
    "# 1. Description:\n",
    "\n",
    "This data set consists of three types of entities:\n",
    "\n",
    "a. the specification of an auto in terms of various characteristics,\n",
    "\n",
    "b. Its assigned insurance risk rating:\n",
    "\n",
    "This corresponds to the degree to which the auto is more risky than its price indicates. Cars are initially assigned \n",
    "a risk factor symbol associated with its price. Then, if it is more risky (or less). this symbol is adjusted by moving \n",
    "it up (or down) the scale. Actuarians call this process \"symboling\". A value of +3 indicates that the auto is risky. \n",
    "-3 that it is probably pretty safe\n",
    "\n",
    "c. its normalized losses in use as compared to other cars:\n",
    "\n",
    "This factor is the relative average loss payment per insured vehicle year. This value is normalized for all autos \n",
    "within a particular size classification (two-door small, station wagons, sports/speciality, etc.), and represents the \n",
    "average loss per car per year.\n",
    "\n",
    "2. Missing values are denoted by \"NA\"."
   ]
  },
  {
   "cell_type": "code",
   "execution_count": 3,
   "id": "6ec29ad9",
   "metadata": {},
   "outputs": [],
   "source": [
    "import numpy as np\n",
    "import pandas as pd\n",
    "import matplotlib.pyplot as plt\n",
    "import seaborn as sns"
   ]
  },
  {
   "cell_type": "code",
   "execution_count": 4,
   "id": "e8cd8fcd",
   "metadata": {},
   "outputs": [
    {
     "data": {
      "text/html": [
       "<div>\n",
       "<style scoped>\n",
       "    .dataframe tbody tr th:only-of-type {\n",
       "        vertical-align: middle;\n",
       "    }\n",
       "\n",
       "    .dataframe tbody tr th {\n",
       "        vertical-align: top;\n",
       "    }\n",
       "\n",
       "    .dataframe thead th {\n",
       "        text-align: right;\n",
       "    }\n",
       "</style>\n",
       "<table border=\"1\" class=\"dataframe\">\n",
       "  <thead>\n",
       "    <tr style=\"text-align: right;\">\n",
       "      <th></th>\n",
       "      <th>symboling</th>\n",
       "      <th>normalized.losses</th>\n",
       "      <th>make</th>\n",
       "      <th>fuel.type</th>\n",
       "      <th>aspiration</th>\n",
       "      <th>num.of.doors</th>\n",
       "      <th>body.style</th>\n",
       "      <th>drive.wheels</th>\n",
       "      <th>engine.location</th>\n",
       "      <th>wheel.base</th>\n",
       "      <th>...</th>\n",
       "      <th>engine.size</th>\n",
       "      <th>fuel.system</th>\n",
       "      <th>bore</th>\n",
       "      <th>stroke</th>\n",
       "      <th>compression.ratio</th>\n",
       "      <th>horsepower</th>\n",
       "      <th>peak.rpm</th>\n",
       "      <th>city.mpg</th>\n",
       "      <th>highway.mpg</th>\n",
       "      <th>Car_Price</th>\n",
       "    </tr>\n",
       "  </thead>\n",
       "  <tbody>\n",
       "    <tr>\n",
       "      <th>0</th>\n",
       "      <td>1</td>\n",
       "      <td>129.0</td>\n",
       "      <td>mazda</td>\n",
       "      <td>gas</td>\n",
       "      <td>std</td>\n",
       "      <td>two</td>\n",
       "      <td>hatchback</td>\n",
       "      <td>fwd</td>\n",
       "      <td>front</td>\n",
       "      <td>98.8</td>\n",
       "      <td>...</td>\n",
       "      <td>122</td>\n",
       "      <td>2bbl</td>\n",
       "      <td>3.39</td>\n",
       "      <td>3.39</td>\n",
       "      <td>8.6</td>\n",
       "      <td>84.0</td>\n",
       "      <td>4800.0</td>\n",
       "      <td>26</td>\n",
       "      <td>32</td>\n",
       "      <td>10595.0</td>\n",
       "    </tr>\n",
       "    <tr>\n",
       "      <th>1</th>\n",
       "      <td>1</td>\n",
       "      <td>125.0</td>\n",
       "      <td>mitsubishi</td>\n",
       "      <td>gas</td>\n",
       "      <td>std</td>\n",
       "      <td>four</td>\n",
       "      <td>sedan</td>\n",
       "      <td>fwd</td>\n",
       "      <td>front</td>\n",
       "      <td>96.3</td>\n",
       "      <td>...</td>\n",
       "      <td>122</td>\n",
       "      <td>2bbl</td>\n",
       "      <td>3.35</td>\n",
       "      <td>3.46</td>\n",
       "      <td>8.5</td>\n",
       "      <td>88.0</td>\n",
       "      <td>5000.0</td>\n",
       "      <td>25</td>\n",
       "      <td>32</td>\n",
       "      <td>8189.0</td>\n",
       "    </tr>\n",
       "    <tr>\n",
       "      <th>2</th>\n",
       "      <td>3</td>\n",
       "      <td>150.0</td>\n",
       "      <td>mazda</td>\n",
       "      <td>gas</td>\n",
       "      <td>std</td>\n",
       "      <td>two</td>\n",
       "      <td>hatchback</td>\n",
       "      <td>rwd</td>\n",
       "      <td>front</td>\n",
       "      <td>95.3</td>\n",
       "      <td>...</td>\n",
       "      <td>70</td>\n",
       "      <td>4bbl</td>\n",
       "      <td>NaN</td>\n",
       "      <td>NaN</td>\n",
       "      <td>9.4</td>\n",
       "      <td>101.0</td>\n",
       "      <td>6000.0</td>\n",
       "      <td>17</td>\n",
       "      <td>23</td>\n",
       "      <td>13645.0</td>\n",
       "    </tr>\n",
       "    <tr>\n",
       "      <th>3</th>\n",
       "      <td>3</td>\n",
       "      <td>194.0</td>\n",
       "      <td>nissan</td>\n",
       "      <td>gas</td>\n",
       "      <td>std</td>\n",
       "      <td>NaN</td>\n",
       "      <td>hatchback</td>\n",
       "      <td>rwd</td>\n",
       "      <td>front</td>\n",
       "      <td>91.3</td>\n",
       "      <td>...</td>\n",
       "      <td>181</td>\n",
       "      <td>mpfi</td>\n",
       "      <td>3.43</td>\n",
       "      <td>3.27</td>\n",
       "      <td>9.0</td>\n",
       "      <td>160.0</td>\n",
       "      <td>5200.0</td>\n",
       "      <td>19</td>\n",
       "      <td>25</td>\n",
       "      <td>17199.0</td>\n",
       "    </tr>\n",
       "    <tr>\n",
       "      <th>4</th>\n",
       "      <td>0</td>\n",
       "      <td>85.0</td>\n",
       "      <td>honda</td>\n",
       "      <td>gas</td>\n",
       "      <td>std</td>\n",
       "      <td>four</td>\n",
       "      <td>sedan</td>\n",
       "      <td>fwd</td>\n",
       "      <td>front</td>\n",
       "      <td>96.5</td>\n",
       "      <td>...</td>\n",
       "      <td>110</td>\n",
       "      <td>mpfi</td>\n",
       "      <td>3.15</td>\n",
       "      <td>3.58</td>\n",
       "      <td>9.0</td>\n",
       "      <td>101.0</td>\n",
       "      <td>5800.0</td>\n",
       "      <td>24</td>\n",
       "      <td>28</td>\n",
       "      <td>12945.0</td>\n",
       "    </tr>\n",
       "  </tbody>\n",
       "</table>\n",
       "<p>5 rows × 26 columns</p>\n",
       "</div>"
      ],
      "text/plain": [
       "   symboling  normalized.losses        make fuel.type aspiration num.of.doors  \\\n",
       "0          1              129.0       mazda       gas        std          two   \n",
       "1          1              125.0  mitsubishi       gas        std         four   \n",
       "2          3              150.0       mazda       gas        std          two   \n",
       "3          3              194.0      nissan       gas        std          NaN   \n",
       "4          0               85.0       honda       gas        std         four   \n",
       "\n",
       "  body.style drive.wheels engine.location  wheel.base  ...  engine.size  \\\n",
       "0  hatchback          fwd           front        98.8  ...          122   \n",
       "1      sedan          fwd           front        96.3  ...          122   \n",
       "2  hatchback          rwd           front        95.3  ...           70   \n",
       "3  hatchback          rwd           front        91.3  ...          181   \n",
       "4      sedan          fwd           front        96.5  ...          110   \n",
       "\n",
       "   fuel.system  bore  stroke compression.ratio horsepower  peak.rpm city.mpg  \\\n",
       "0         2bbl  3.39    3.39               8.6       84.0    4800.0       26   \n",
       "1         2bbl  3.35    3.46               8.5       88.0    5000.0       25   \n",
       "2         4bbl   NaN     NaN               9.4      101.0    6000.0       17   \n",
       "3         mpfi  3.43    3.27               9.0      160.0    5200.0       19   \n",
       "4         mpfi  3.15    3.58               9.0      101.0    5800.0       24   \n",
       "\n",
       "   highway.mpg  Car_Price  \n",
       "0           32    10595.0  \n",
       "1           32     8189.0  \n",
       "2           23    13645.0  \n",
       "3           25    17199.0  \n",
       "4           28    12945.0  \n",
       "\n",
       "[5 rows x 26 columns]"
      ]
     },
     "execution_count": 4,
     "metadata": {},
     "output_type": "execute_result"
    }
   ],
   "source": [
    "df = pd.read_excel('cars_train.xlsx')\n",
    "df.head()"
   ]
  },
  {
   "cell_type": "code",
   "execution_count": 5,
   "id": "be4b161a",
   "metadata": {},
   "outputs": [
    {
     "data": {
      "text/plain": [
       "symboling             0\n",
       "normalized.losses    30\n",
       "make                  0\n",
       "fuel.type             0\n",
       "aspiration            0\n",
       "num.of.doors         11\n",
       "body.style            0\n",
       "drive.wheels          0\n",
       "engine.location       2\n",
       "wheel.base            0\n",
       "length                0\n",
       "width                 0\n",
       "height                0\n",
       "curb.weight           0\n",
       "engine.type           0\n",
       "num.of.cylinders      2\n",
       "engine.size           0\n",
       "fuel.system           0\n",
       "bore                  3\n",
       "stroke                3\n",
       "compression.ratio     0\n",
       "horsepower            4\n",
       "peak.rpm              4\n",
       "city.mpg              0\n",
       "highway.mpg           0\n",
       "Car_Price             3\n",
       "dtype: int64"
      ]
     },
     "execution_count": 5,
     "metadata": {},
     "output_type": "execute_result"
    }
   ],
   "source": [
    "df.isna().sum()"
   ]
  },
  {
   "cell_type": "code",
   "execution_count": 6,
   "id": "5a894981",
   "metadata": {},
   "outputs": [
    {
     "data": {
      "text/plain": [
       "Index(['symboling', 'normalized.losses', 'make', 'fuel.type', 'aspiration',\n",
       "       'num.of.doors', 'body.style', 'drive.wheels', 'engine.location',\n",
       "       'wheel.base', 'length', 'width', 'height', 'curb.weight', 'engine.type',\n",
       "       'num.of.cylinders', 'engine.size', 'fuel.system', 'bore', 'stroke',\n",
       "       'compression.ratio', 'horsepower', 'peak.rpm', 'city.mpg',\n",
       "       'highway.mpg', 'Car_Price'],\n",
       "      dtype='object')"
      ]
     },
     "execution_count": 6,
     "metadata": {},
     "output_type": "execute_result"
    }
   ],
   "source": [
    "df.columns"
   ]
  },
  {
   "cell_type": "code",
   "execution_count": 7,
   "id": "94798fa6",
   "metadata": {},
   "outputs": [
    {
     "name": "stderr",
     "output_type": "stream",
     "text": [
      "C:\\Users\\punee\\AppData\\Local\\Temp\\ipykernel_11580\\2262415099.py:1: FutureWarning: The default value of regex will change from True to False in a future version. In addition, single character regular expressions will *not* be treated as literal strings when regex=True.\n",
      "  df.columns = df.columns.str.replace('.', '_')\n"
     ]
    }
   ],
   "source": [
    "df.columns = df.columns.str.replace('.', '_')"
   ]
  },
  {
   "cell_type": "code",
   "execution_count": 8,
   "id": "76a43789",
   "metadata": {},
   "outputs": [
    {
     "data": {
      "text/plain": [
       "Index(['symboling', 'normalized_losses', 'make', 'fuel_type', 'aspiration',\n",
       "       'num_of_doors', 'body_style', 'drive_wheels', 'engine_location',\n",
       "       'wheel_base', 'length', 'width', 'height', 'curb_weight', 'engine_type',\n",
       "       'num_of_cylinders', 'engine_size', 'fuel_system', 'bore', 'stroke',\n",
       "       'compression_ratio', 'horsepower', 'peak_rpm', 'city_mpg',\n",
       "       'highway_mpg', 'Car_Price'],\n",
       "      dtype='object')"
      ]
     },
     "execution_count": 8,
     "metadata": {},
     "output_type": "execute_result"
    }
   ],
   "source": [
    "df.columns"
   ]
  },
  {
   "cell_type": "code",
   "execution_count": 9,
   "id": "1ad4aad0",
   "metadata": {},
   "outputs": [
    {
     "name": "stdout",
     "output_type": "stream",
     "text": [
      "<class 'pandas.core.frame.DataFrame'>\n",
      "RangeIndex: 162 entries, 0 to 161\n",
      "Data columns (total 26 columns):\n",
      " #   Column             Non-Null Count  Dtype  \n",
      "---  ------             --------------  -----  \n",
      " 0   symboling          162 non-null    int64  \n",
      " 1   normalized_losses  132 non-null    float64\n",
      " 2   make               162 non-null    object \n",
      " 3   fuel_type          162 non-null    object \n",
      " 4   aspiration         162 non-null    object \n",
      " 5   num_of_doors       151 non-null    object \n",
      " 6   body_style         162 non-null    object \n",
      " 7   drive_wheels       162 non-null    object \n",
      " 8   engine_location    160 non-null    object \n",
      " 9   wheel_base         162 non-null    float64\n",
      " 10  length             162 non-null    float64\n",
      " 11  width              162 non-null    float64\n",
      " 12  height             162 non-null    float64\n",
      " 13  curb_weight        162 non-null    int64  \n",
      " 14  engine_type        162 non-null    object \n",
      " 15  num_of_cylinders   160 non-null    object \n",
      " 16  engine_size        162 non-null    int64  \n",
      " 17  fuel_system        162 non-null    object \n",
      " 18  bore               159 non-null    float64\n",
      " 19  stroke             159 non-null    float64\n",
      " 20  compression_ratio  162 non-null    float64\n",
      " 21  horsepower         158 non-null    float64\n",
      " 22  peak_rpm           158 non-null    float64\n",
      " 23  city_mpg           162 non-null    int64  \n",
      " 24  highway_mpg        162 non-null    int64  \n",
      " 25  Car_Price          159 non-null    float64\n",
      "dtypes: float64(11), int64(5), object(10)\n",
      "memory usage: 33.0+ KB\n"
     ]
    }
   ],
   "source": [
    "df.info()"
   ]
  },
  {
   "cell_type": "code",
   "execution_count": 10,
   "id": "bede3172",
   "metadata": {},
   "outputs": [
    {
     "data": {
      "text/html": [
       "<div>\n",
       "<style scoped>\n",
       "    .dataframe tbody tr th:only-of-type {\n",
       "        vertical-align: middle;\n",
       "    }\n",
       "\n",
       "    .dataframe tbody tr th {\n",
       "        vertical-align: top;\n",
       "    }\n",
       "\n",
       "    .dataframe thead th {\n",
       "        text-align: right;\n",
       "    }\n",
       "</style>\n",
       "<table border=\"1\" class=\"dataframe\">\n",
       "  <thead>\n",
       "    <tr style=\"text-align: right;\">\n",
       "      <th></th>\n",
       "      <th>symboling</th>\n",
       "      <th>normalized_losses</th>\n",
       "      <th>wheel_base</th>\n",
       "      <th>length</th>\n",
       "      <th>width</th>\n",
       "      <th>height</th>\n",
       "      <th>curb_weight</th>\n",
       "      <th>engine_size</th>\n",
       "      <th>bore</th>\n",
       "      <th>stroke</th>\n",
       "      <th>compression_ratio</th>\n",
       "      <th>horsepower</th>\n",
       "      <th>peak_rpm</th>\n",
       "      <th>city_mpg</th>\n",
       "      <th>highway_mpg</th>\n",
       "      <th>Car_Price</th>\n",
       "    </tr>\n",
       "  </thead>\n",
       "  <tbody>\n",
       "    <tr>\n",
       "      <th>count</th>\n",
       "      <td>162.000000</td>\n",
       "      <td>132.000000</td>\n",
       "      <td>162.000000</td>\n",
       "      <td>162.000000</td>\n",
       "      <td>162.000000</td>\n",
       "      <td>162.000000</td>\n",
       "      <td>162.000000</td>\n",
       "      <td>162.000000</td>\n",
       "      <td>159.000000</td>\n",
       "      <td>159.000000</td>\n",
       "      <td>162.000000</td>\n",
       "      <td>158.000000</td>\n",
       "      <td>158.000000</td>\n",
       "      <td>162.000000</td>\n",
       "      <td>162.000000</td>\n",
       "      <td>159.000000</td>\n",
       "    </tr>\n",
       "    <tr>\n",
       "      <th>mean</th>\n",
       "      <td>0.907407</td>\n",
       "      <td>123.060606</td>\n",
       "      <td>98.354321</td>\n",
       "      <td>173.595062</td>\n",
       "      <td>65.843210</td>\n",
       "      <td>53.537654</td>\n",
       "      <td>2561.932099</td>\n",
       "      <td>128.160494</td>\n",
       "      <td>3.341698</td>\n",
       "      <td>3.239434</td>\n",
       "      <td>10.008704</td>\n",
       "      <td>106.000000</td>\n",
       "      <td>5116.455696</td>\n",
       "      <td>25.123457</td>\n",
       "      <td>30.679012</td>\n",
       "      <td>13182.094340</td>\n",
       "    </tr>\n",
       "    <tr>\n",
       "      <th>std</th>\n",
       "      <td>1.298855</td>\n",
       "      <td>36.144696</td>\n",
       "      <td>6.049384</td>\n",
       "      <td>12.339100</td>\n",
       "      <td>2.022325</td>\n",
       "      <td>2.346770</td>\n",
       "      <td>524.474870</td>\n",
       "      <td>41.684844</td>\n",
       "      <td>0.274566</td>\n",
       "      <td>0.356446</td>\n",
       "      <td>3.735804</td>\n",
       "      <td>41.489773</td>\n",
       "      <td>501.952971</td>\n",
       "      <td>6.604878</td>\n",
       "      <td>6.879309</td>\n",
       "      <td>7746.121309</td>\n",
       "    </tr>\n",
       "    <tr>\n",
       "      <th>min</th>\n",
       "      <td>-2.000000</td>\n",
       "      <td>65.000000</td>\n",
       "      <td>86.600000</td>\n",
       "      <td>141.100000</td>\n",
       "      <td>60.300000</td>\n",
       "      <td>47.800000</td>\n",
       "      <td>1488.000000</td>\n",
       "      <td>61.000000</td>\n",
       "      <td>2.540000</td>\n",
       "      <td>2.070000</td>\n",
       "      <td>7.000000</td>\n",
       "      <td>48.000000</td>\n",
       "      <td>4150.000000</td>\n",
       "      <td>13.000000</td>\n",
       "      <td>16.000000</td>\n",
       "      <td>5118.000000</td>\n",
       "    </tr>\n",
       "    <tr>\n",
       "      <th>25%</th>\n",
       "      <td>0.000000</td>\n",
       "      <td>94.000000</td>\n",
       "      <td>94.500000</td>\n",
       "      <td>166.425000</td>\n",
       "      <td>64.125000</td>\n",
       "      <td>52.000000</td>\n",
       "      <td>2151.000000</td>\n",
       "      <td>98.000000</td>\n",
       "      <td>3.150000</td>\n",
       "      <td>3.075000</td>\n",
       "      <td>8.700000</td>\n",
       "      <td>72.250000</td>\n",
       "      <td>4800.000000</td>\n",
       "      <td>19.000000</td>\n",
       "      <td>25.000000</td>\n",
       "      <td>7603.000000</td>\n",
       "    </tr>\n",
       "    <tr>\n",
       "      <th>50%</th>\n",
       "      <td>1.000000</td>\n",
       "      <td>116.500000</td>\n",
       "      <td>96.500000</td>\n",
       "      <td>172.400000</td>\n",
       "      <td>65.450000</td>\n",
       "      <td>53.700000</td>\n",
       "      <td>2419.500000</td>\n",
       "      <td>120.000000</td>\n",
       "      <td>3.330000</td>\n",
       "      <td>3.270000</td>\n",
       "      <td>9.000000</td>\n",
       "      <td>95.000000</td>\n",
       "      <td>5100.000000</td>\n",
       "      <td>24.000000</td>\n",
       "      <td>30.000000</td>\n",
       "      <td>10795.000000</td>\n",
       "    </tr>\n",
       "    <tr>\n",
       "      <th>75%</th>\n",
       "      <td>2.000000</td>\n",
       "      <td>150.000000</td>\n",
       "      <td>101.200000</td>\n",
       "      <td>181.650000</td>\n",
       "      <td>66.575000</td>\n",
       "      <td>55.500000</td>\n",
       "      <td>2975.750000</td>\n",
       "      <td>146.000000</td>\n",
       "      <td>3.605000</td>\n",
       "      <td>3.460000</td>\n",
       "      <td>9.400000</td>\n",
       "      <td>121.000000</td>\n",
       "      <td>5500.000000</td>\n",
       "      <td>30.000000</td>\n",
       "      <td>34.000000</td>\n",
       "      <td>16594.000000</td>\n",
       "    </tr>\n",
       "    <tr>\n",
       "      <th>max</th>\n",
       "      <td>3.000000</td>\n",
       "      <td>256.000000</td>\n",
       "      <td>120.900000</td>\n",
       "      <td>208.100000</td>\n",
       "      <td>72.300000</td>\n",
       "      <td>59.100000</td>\n",
       "      <td>4066.000000</td>\n",
       "      <td>326.000000</td>\n",
       "      <td>3.940000</td>\n",
       "      <td>4.170000</td>\n",
       "      <td>23.000000</td>\n",
       "      <td>288.000000</td>\n",
       "      <td>6600.000000</td>\n",
       "      <td>49.000000</td>\n",
       "      <td>54.000000</td>\n",
       "      <td>41315.000000</td>\n",
       "    </tr>\n",
       "  </tbody>\n",
       "</table>\n",
       "</div>"
      ],
      "text/plain": [
       "        symboling  normalized_losses  wheel_base      length       width  \\\n",
       "count  162.000000         132.000000  162.000000  162.000000  162.000000   \n",
       "mean     0.907407         123.060606   98.354321  173.595062   65.843210   \n",
       "std      1.298855          36.144696    6.049384   12.339100    2.022325   \n",
       "min     -2.000000          65.000000   86.600000  141.100000   60.300000   \n",
       "25%      0.000000          94.000000   94.500000  166.425000   64.125000   \n",
       "50%      1.000000         116.500000   96.500000  172.400000   65.450000   \n",
       "75%      2.000000         150.000000  101.200000  181.650000   66.575000   \n",
       "max      3.000000         256.000000  120.900000  208.100000   72.300000   \n",
       "\n",
       "           height  curb_weight  engine_size        bore      stroke  \\\n",
       "count  162.000000   162.000000   162.000000  159.000000  159.000000   \n",
       "mean    53.537654  2561.932099   128.160494    3.341698    3.239434   \n",
       "std      2.346770   524.474870    41.684844    0.274566    0.356446   \n",
       "min     47.800000  1488.000000    61.000000    2.540000    2.070000   \n",
       "25%     52.000000  2151.000000    98.000000    3.150000    3.075000   \n",
       "50%     53.700000  2419.500000   120.000000    3.330000    3.270000   \n",
       "75%     55.500000  2975.750000   146.000000    3.605000    3.460000   \n",
       "max     59.100000  4066.000000   326.000000    3.940000    4.170000   \n",
       "\n",
       "       compression_ratio  horsepower     peak_rpm    city_mpg  highway_mpg  \\\n",
       "count         162.000000  158.000000   158.000000  162.000000   162.000000   \n",
       "mean           10.008704  106.000000  5116.455696   25.123457    30.679012   \n",
       "std             3.735804   41.489773   501.952971    6.604878     6.879309   \n",
       "min             7.000000   48.000000  4150.000000   13.000000    16.000000   \n",
       "25%             8.700000   72.250000  4800.000000   19.000000    25.000000   \n",
       "50%             9.000000   95.000000  5100.000000   24.000000    30.000000   \n",
       "75%             9.400000  121.000000  5500.000000   30.000000    34.000000   \n",
       "max            23.000000  288.000000  6600.000000   49.000000    54.000000   \n",
       "\n",
       "          Car_Price  \n",
       "count    159.000000  \n",
       "mean   13182.094340  \n",
       "std     7746.121309  \n",
       "min     5118.000000  \n",
       "25%     7603.000000  \n",
       "50%    10795.000000  \n",
       "75%    16594.000000  \n",
       "max    41315.000000  "
      ]
     },
     "execution_count": 10,
     "metadata": {},
     "output_type": "execute_result"
    }
   ],
   "source": [
    "df.describe()"
   ]
  },
  {
   "cell_type": "code",
   "execution_count": 11,
   "id": "9dba7a39",
   "metadata": {},
   "outputs": [
    {
     "data": {
      "text/plain": [
       "symboling              int64\n",
       "normalized_losses    float64\n",
       "make                  object\n",
       "fuel_type             object\n",
       "aspiration            object\n",
       "num_of_doors          object\n",
       "body_style            object\n",
       "drive_wheels          object\n",
       "engine_location       object\n",
       "wheel_base           float64\n",
       "length               float64\n",
       "width                float64\n",
       "height               float64\n",
       "curb_weight            int64\n",
       "engine_type           object\n",
       "num_of_cylinders      object\n",
       "engine_size            int64\n",
       "fuel_system           object\n",
       "bore                 float64\n",
       "stroke               float64\n",
       "compression_ratio    float64\n",
       "horsepower           float64\n",
       "peak_rpm             float64\n",
       "city_mpg               int64\n",
       "highway_mpg            int64\n",
       "Car_Price            float64\n",
       "dtype: object"
      ]
     },
     "execution_count": 11,
     "metadata": {},
     "output_type": "execute_result"
    }
   ],
   "source": [
    "df.dtypes"
   ]
  },
  {
   "cell_type": "code",
   "execution_count": 12,
   "id": "a9fff32f",
   "metadata": {},
   "outputs": [
    {
     "data": {
      "text/plain": [
       "(162, 26)"
      ]
     },
     "execution_count": 12,
     "metadata": {},
     "output_type": "execute_result"
    }
   ],
   "source": [
    "df.shape"
   ]
  },
  {
   "cell_type": "code",
   "execution_count": 16,
   "id": "38d65bd1",
   "metadata": {},
   "outputs": [
    {
     "name": "stdout",
     "output_type": "stream",
     "text": [
      "   symboling  normalized_losses  make  fuel_type  aspiration  num_of_doors  \\\n",
      "0          3                 31     8          1           0             1   \n",
      "1          3                 29    10          1           0             0   \n",
      "2          5                 37     8          1           0             1   \n",
      "3          5                 47    11          1           0             2   \n",
      "4          2                  6     5          1           0             0   \n",
      "\n",
      "   body_style  drive_wheels  engine_location  wheel_base  ...  engine_size  \\\n",
      "0           2             1                0          23  ...           16   \n",
      "1           3             1                0          16  ...           16   \n",
      "2           2             2                0          11  ...            1   \n",
      "3           2             2                0           4  ...           33   \n",
      "4           3             1                0          17  ...           11   \n",
      "\n",
      "   fuel_system  bore  stroke  compression_ratio  horsepower  peak_rpm  \\\n",
      "0            1    19      22                 10          16         8   \n",
      "1            1    18      25                  9          19        10   \n",
      "2            2    37      35                 18          26        20   \n",
      "3            5    20      19                 13          45        12   \n",
      "4            5    11      30                 13          26        18   \n",
      "\n",
      "   city_mpg  highway_mpg  Car_Price  \n",
      "0        13           14         72  \n",
      "1        12           14         48  \n",
      "2         4            5         93  \n",
      "3         6            7        113  \n",
      "4        11           10         89  \n",
      "\n",
      "[5 rows x 26 columns]\n"
     ]
    }
   ],
   "source": [
    "from sklearn.preprocessing import LabelEncoder\n",
    "\n",
    "\n",
    "label_encoder = LabelEncoder()\n",
    "\n",
    "for column in df.columns:\n",
    "    #if column in columns_to_encode:\n",
    "    df[column] = label_encoder.fit_transform(df[column])\n",
    "print(df.head())\n",
    "\n"
   ]
  },
  {
   "cell_type": "code",
   "execution_count": 17,
   "id": "178c9fec",
   "metadata": {},
   "outputs": [
    {
     "data": {
      "text/plain": [
       "symboling            0\n",
       "normalized_losses    0\n",
       "make                 0\n",
       "fuel_type            0\n",
       "aspiration           0\n",
       "num_of_doors         0\n",
       "body_style           0\n",
       "drive_wheels         0\n",
       "engine_location      0\n",
       "wheel_base           0\n",
       "length               0\n",
       "width                0\n",
       "height               0\n",
       "curb_weight          0\n",
       "engine_type          0\n",
       "num_of_cylinders     0\n",
       "engine_size          0\n",
       "fuel_system          0\n",
       "bore                 0\n",
       "stroke               0\n",
       "compression_ratio    0\n",
       "horsepower           0\n",
       "peak_rpm             0\n",
       "city_mpg             0\n",
       "highway_mpg          0\n",
       "Car_Price            0\n",
       "dtype: int64"
      ]
     },
     "execution_count": 17,
     "metadata": {},
     "output_type": "execute_result"
    }
   ],
   "source": [
    "df.isna().sum()"
   ]
  },
  {
   "cell_type": "code",
   "execution_count": null,
   "id": "4b2f45e7",
   "metadata": {},
   "outputs": [],
   "source": []
  },
  {
   "cell_type": "code",
   "execution_count": null,
   "id": "0d5deb90",
   "metadata": {},
   "outputs": [],
   "source": []
  },
  {
   "cell_type": "code",
   "execution_count": 18,
   "id": "20026c9c",
   "metadata": {},
   "outputs": [
    {
     "data": {
      "text/plain": [
       "array([ 72,  48,  93, 113,  89,  36,  65, 127,  84, 119, 144,  91,   6,\n",
       "        44,  30, 102,  51,  49,   2,  11, 100,   3,  96,  64,  26,  71,\n",
       "       111, 134,  92,  86,  53,  15, 140,  18,  99,   5, 106, 117,  61,\n",
       "        55,   7,  21,   4, 121,  50,  69,   8, 112,  35,  39,  29,  33,\n",
       "       122, 129,  54, 105,   9,  45, 137,  59,  79,  82, 118,  77,  22,\n",
       "        31, 141, 138,  76,  63,  46,  37,  19,  70,  28,  56,  10,  95,\n",
       "       101,  78, 120, 104, 110,  98, 131, 136,  12, 143,  73, 124,  20,\n",
       "        88,  32,  17, 115,  68, 107,  62,  41,  40,  13,  74, 116, 114,\n",
       "        43,  85,  23,  58, 103,  14,  81,   0,  57,  47,  60,  66,  34,\n",
       "        25,  87,  38,  75,  97, 125,  52, 133, 142,  80, 139,  67, 132,\n",
       "       135,  94,  16,  27, 109,  90,  24,  83, 130,   1, 108, 123, 128,\n",
       "        42, 126], dtype=int64)"
      ]
     },
     "execution_count": 18,
     "metadata": {},
     "output_type": "execute_result"
    }
   ],
   "source": [
    "df['Car_Price'].unique()"
   ]
  },
  {
   "cell_type": "code",
   "execution_count": 19,
   "id": "4bba58f7",
   "metadata": {},
   "outputs": [
    {
     "data": {
      "text/plain": [
       "<Axes: ylabel='count'>"
      ]
     },
     "execution_count": 19,
     "metadata": {},
     "output_type": "execute_result"
    },
    {
     "data": {
      "image/png": "[encoded data removed]",
      "text/plain": [
       "<Figure size 640x480 with 1 Axes>"
      ]
     },
     "metadata": {},
     "output_type": "display_data"
    }
   ],
   "source": [
    "sns.countplot(df['Car_Price'])"
   ]
  },
  {
   "cell_type": "code",
   "execution_count": null,
   "id": "404bbf02",
   "metadata": {
    "scrolled": true
   },
   "outputs": [],
   "source": []
  },
  {
   "cell_type": "code",
   "execution_count": 21,
   "id": "f81df86a",
   "metadata": {},
   "outputs": [
    {
     "data": {
      "text/plain": [
       "<Axes: >"
      ]
     },
     "execution_count": 21,
     "metadata": {},
     "output_type": "execute_result"
    },
    {
     "data": {
      "image/png": "[encoded data removed]",
      "text/plain": [
       "<Figure size 1000x500 with 1 Axes>"
      ]
     },
     "metadata": {},
     "output_type": "display_data"
    }
   ],
   "source": [
    "df.boxplot(figsize=(10,5))"
   ]
  },
  {
   "cell_type": "code",
   "execution_count": 22,
   "id": "a93d5520",
   "metadata": {},
   "outputs": [
    {
     "data": {
      "text/plain": [
       "Index(['symboling', 'normalized_losses', 'make', 'fuel_type', 'aspiration',\n",
       "       'num_of_doors', 'body_style', 'drive_wheels', 'engine_location',\n",
       "       'wheel_base', 'length', 'width', 'height', 'curb_weight', 'engine_type',\n",
       "       'num_of_cylinders', 'engine_size', 'fuel_system', 'bore', 'stroke',\n",
       "       'compression_ratio', 'horsepower', 'peak_rpm', 'city_mpg',\n",
       "       'highway_mpg', 'Car_Price'],\n",
       "      dtype='object')"
      ]
     },
     "execution_count": 22,
     "metadata": {},
     "output_type": "execute_result"
    }
   ],
   "source": [
    "df.columns"
   ]
  },
  {
   "cell_type": "code",
   "execution_count": 23,
   "id": "89ed4524",
   "metadata": {},
   "outputs": [
    {
     "name": "stdout",
     "output_type": "stream",
     "text": [
      "X shape:\t (162, 25)\n",
      "\n",
      "Y shape:\t (162, 1)\n"
     ]
    }
   ],
   "source": [
    "x = df.iloc[:,:-1]\n",
    "y = df.iloc[:,-1:].values\n",
    "print('X shape:\\t',x.shape)\n",
    "print()\n",
    "print('Y shape:\\t',y.shape)"
   ]
  },
  {
   "cell_type": "code",
   "execution_count": 24,
   "id": "cafee3e9",
   "metadata": {},
   "outputs": [],
   "source": [
    "#Spliting the data between test and training\n",
    "from sklearn.model_selection import train_test_split\n",
    "xtrain,xtest,ytrain,ytest = train_test_split(x,y,test_size = 0.2,random_state=4)"
   ]
  },
  {
   "cell_type": "code",
   "execution_count": 25,
   "id": "1789fd43",
   "metadata": {},
   "outputs": [
    {
     "name": "stdout",
     "output_type": "stream",
     "text": [
      "*************Training Data Shape***************\n",
      "\n",
      "Training data-X- Shape:\t (129, 25)\n",
      "\n",
      "Training data-y- Shape:\t (129, 1)\n",
      "\n",
      "**************Testing Data Shape****************\n",
      "\n",
      "Testing data(x-Input) Shape:\t (33, 25)\n",
      "\n",
      "Testing data (y-Outcome) Shape:\t (33, 1)\n"
     ]
    }
   ],
   "source": [
    "#xtrain,xtest,ytrain, ytest=train_test_split(x,y, test_size=0.2, random_state=4)\n",
    "print('*************Training Data Shape***************\\n')\n",
    "print('Training data-X- Shape:\\t',xtrain.shape)\n",
    "print()\n",
    "print('Training data-y- Shape:\\t' ,ytrain.shape)\n",
    "print()\n",
    "print('**************Testing Data Shape****************\\n')\n",
    "print('Testing data(x-Input) Shape:\\t',xtest.shape)\n",
    "print()\n",
    "print('Testing data (y-Outcome) Shape:\\t',ytest.shape)"
   ]
  },
  {
   "cell_type": "code",
   "execution_count": null,
   "id": "46aa7772",
   "metadata": {
    "scrolled": true
   },
   "outputs": [],
   "source": []
  },
  {
   "cell_type": "code",
   "execution_count": null,
   "id": "e958a70e",
   "metadata": {},
   "outputs": [],
   "source": []
  },
  {
   "cell_type": "code",
   "execution_count": 27,
   "id": "fb96b74d",
   "metadata": {},
   "outputs": [
    {
     "name": "stdout",
     "output_type": "stream",
     "text": [
      "****************************************************************************************************\n",
      "Linear Regression Model\n",
      "****************************************************************************************************\n",
      "\n",
      " Training Phase\n",
      "Hyperparameter:\n",
      " {'copy_X': True, 'fit_intercept': True, 'n_jobs': None, 'positive': False}\n",
      "Training Completed\n",
      "====================================================================================================\n",
      "\n",
      " Test Phase\n",
      "\n",
      "Testing completed\n",
      "====================================================================================================\n",
      "****************************************************************************************************\n",
      "Linear Regression - Performance Measures\n",
      "****************************************************************************************************\n",
      "Accuracy Score - Linear Regression:\t 57.3545164154803 %\n",
      "\n",
      "MSE-linear Regression:\t 777.5646181309013\n",
      "\n",
      "RMSE linear Regression:\t 27.884845671635002\n"
     ]
    }
   ],
   "source": [
    "from sklearn.linear_model import LinearRegression\n",
    "lin_reg=LinearRegression()\n",
    "print('*'*100)\n",
    "print('Linear Regression Model')\n",
    "print('*'*100)\n",
    "print('\\n Training Phase')\n",
    "lin_reg.fit(xtrain,ytrain)\n",
    "print('Hyperparameter:\\n',lin_reg.get_params())\n",
    "print('Training Completed')\n",
    "print('='*100)\n",
    "print('\\n Test Phase')\n",
    "ypred_lin_reg=lin_reg.predict(xtest)\n",
    "print()\n",
    "print('Testing completed')\n",
    "print('='*100)\n",
    "#import metrics\n",
    "from sklearn.metrics import r2_score,mean_squared_error\n",
    "print('*'*100)\n",
    "print('Linear Regression - Performance Measures')\n",
    "print('*'*100)\n",
    "Accuracy_lin_reg=r2_score(ytest,ypred_lin_reg)\n",
    "MSE_lin_reg=mean_squared_error(ytest,ypred_lin_reg)\n",
    "RMSE_lin_reg=np.sqrt(mean_squared_error(ytest,ypred_lin_reg))\n",
    "print('Accuracy Score - Linear Regression:\\t',Accuracy_lin_reg*100, '%')\n",
    "print()\n",
    "print('MSE-linear Regression:\\t',MSE_lin_reg)\n",
    "print()\n",
    "print('RMSE linear Regression:\\t',RMSE_lin_reg)"
   ]
  },
  {
   "cell_type": "markdown",
   "id": "b4f477ba",
   "metadata": {},
   "source": [
    "# Lasso regression"
   ]
  },
  {
   "cell_type": "code",
   "execution_count": 32,
   "id": "19361d65",
   "metadata": {},
   "outputs": [
    {
     "name": "stdout",
     "output_type": "stream",
     "text": [
      "Mean Squared Error: 777.2130004031205\n",
      "R-squared (R2) Score: 57.373800868101284 %\n",
      "root-Mean Squared Error: 27.878540141175264\n",
      "Variance_score: 58.00871855434225 %\n"
     ]
    }
   ],
   "source": [
    "from sklearn.linear_model import Lasso\n",
    "from sklearn.metrics import mean_squared_error, r2_score, explained_variance_score\n",
    "\n",
    "lasso_model = Lasso(alpha=0.01)\n",
    "lasso_model.fit(xtrain, ytrain)\n",
    "\n",
    "# Make predictions on the test set\n",
    "y_pred = lasso_model.predict(xtest)\n",
    "\n",
    "# Evaluate the model\n",
    "mse = mean_squared_error(ytest, y_pred)\n",
    "r2 = r2_score(ytest, y_pred)\n",
    "rmse=np.sqrt(mean_squared_error(ytest, y_pred))\n",
    "Variance_score=explained_variance_score(ytest, y_pred)\n",
    "\n",
    "# Print the results\n",
    "print(\"Mean Squared Error:\", mse)\n",
    "print(\"R-squared (R2) Score:\", r2*100,\"%\")\n",
    "\n",
    "print(\"root-Mean Squared Error:\", rmse)\n",
    "print(\"Variance_score:\", Variance_score*100,\"%\")"
   ]
  },
  {
   "cell_type": "code",
   "execution_count": 40,
   "id": "8dceb365",
   "metadata": {},
   "outputs": [
    {
     "name": "stdout",
     "output_type": "stream",
     "text": [
      "Training score:  92.32235166672739 %\n",
      "\n",
      "Training score:  57.35573363528922 %\n",
      "\n",
      "Mean Squared Error: 777.5424242905142\n",
      "R-squared (R2) Score: 57.35573363528922 %\n",
      "root-Mean Squared Error: 27.88444771356453\n",
      "Variance_score: 57.99061772356401 %\n"
     ]
    }
   ],
   "source": [
    "from sklearn.linear_model import Ridge\n",
    "from sklearn.metrics import mean_squared_error, r2_score\n",
    "\n",
    "Ridge_model = Ridge(alpha=0.01)\n",
    "Ridge_model.fit(xtrain, ytrain)\n",
    "\n",
    "# Make predictions on the test set\n",
    "y_pred = Ridge_model.predict(xtest)\n",
    "\n",
    "print(\"Training score: \", Ridge_model.score(xtrain, ytrain)*100,\"%\")\n",
    "print()\n",
    "print(\"Training score: \", Ridge_model.score(xtest, ytest)*100,\"%\")\n",
    "print()\n",
    "# Evaluate the model\n",
    "mse = mean_squared_error(ytest, y_pred)\n",
    "r2 = r2_score(ytest, y_pred)\n",
    "rmse=np.sqrt(mean_squared_error(ytest, y_pred))\n",
    "Variance_score=explained_variance_score(ytest, y_pred)\n",
    "\n",
    "# Print the results\n",
    "print(\"Mean Squared Error:\", mse)\n",
    "print(\"R-squared (R2) Score:\", r2*100,\"%\")\n",
    "\n",
    "print(\"root-Mean Squared Error:\", rmse)\n",
    "print(\"Variance_score:\", Variance_score*100,\"%\")\n"
   ]
  },
  {
   "cell_type": "code",
   "execution_count": 38,
   "id": "f34d14bb",
   "metadata": {},
   "outputs": [
    {
     "name": "stdout",
     "output_type": "stream",
     "text": [
      "[[ 44]\n",
      " [139]\n",
      " [ 26]\n",
      " [117]\n",
      " [ 61]\n",
      " [ 36]\n",
      " [ 91]\n",
      " [ 49]\n",
      " [  4]\n",
      " [ 50]\n",
      " [123]\n",
      " [111]\n",
      " [104]\n",
      " [134]\n",
      " [ 96]\n",
      " [118]\n",
      " [ 64]\n",
      " [ 90]\n",
      " [ 82]\n",
      " [ 36]\n",
      " [ 27]\n",
      " [  2]\n",
      " [144]\n",
      " [124]\n",
      " [144]\n",
      " [137]\n",
      " [ 65]\n",
      " [ 57]\n",
      " [ 93]\n",
      " [140]\n",
      " [ 80]\n",
      " [ 89]\n",
      " [ 17]] [[ 47.9413054 ]\n",
      " [138.05922141]\n",
      " [ 30.83879118]\n",
      " [113.32525797]\n",
      " [ 98.62564067]\n",
      " [ 32.44425488]\n",
      " [ 88.48536775]\n",
      " [ 51.92129384]\n",
      " [ 15.21931706]\n",
      " [ 26.41579376]\n",
      " [120.6836916 ]\n",
      " [ 81.00358487]\n",
      " [111.92974876]\n",
      " [143.31333679]\n",
      " [121.83102667]\n",
      " [ 96.40739524]\n",
      " [ 81.6450772 ]\n",
      " [ 91.63446294]\n",
      " [ 49.36759239]\n",
      " [ 32.44425488]\n",
      " [ 34.43984856]\n",
      " [ 10.47876206]\n",
      " [ 15.00098781]\n",
      " [ 98.01580464]\n",
      " [161.75255499]\n",
      " [122.99374166]\n",
      " [ 94.36457689]\n",
      " [ 55.40302098]\n",
      " [ 80.02801685]\n",
      " [164.4160471 ]\n",
      " [ 69.26350905]\n",
      " [ 77.17580092]\n",
      " [ 24.85337428]]\n"
     ]
    }
   ],
   "source": [
    "print(ytest, y_pred)"
   ]
  },
  {
   "cell_type": "code",
   "execution_count": 56,
   "id": "5a77f1c5",
   "metadata": {},
   "outputs": [
    {
     "data": {
      "text/html": [
       "<div>\n",
       "<style scoped>\n",
       "    .dataframe tbody tr th:only-of-type {\n",
       "        vertical-align: middle;\n",
       "    }\n",
       "\n",
       "    .dataframe tbody tr th {\n",
       "        vertical-align: top;\n",
       "    }\n",
       "\n",
       "    .dataframe thead th {\n",
       "        text-align: right;\n",
       "    }\n",
       "</style>\n",
       "<table border=\"1\" class=\"dataframe\">\n",
       "  <thead>\n",
       "    <tr style=\"text-align: right;\">\n",
       "      <th></th>\n",
       "      <th>symboling</th>\n",
       "      <th>normalized.losses</th>\n",
       "      <th>make</th>\n",
       "      <th>fuel.type</th>\n",
       "      <th>aspiration</th>\n",
       "      <th>num.of.doors</th>\n",
       "      <th>body.style</th>\n",
       "      <th>drive.wheels</th>\n",
       "      <th>engine.location</th>\n",
       "      <th>wheel.base</th>\n",
       "      <th>...</th>\n",
       "      <th>engine.size</th>\n",
       "      <th>fuel.system</th>\n",
       "      <th>bore</th>\n",
       "      <th>stroke</th>\n",
       "      <th>compression.ratio</th>\n",
       "      <th>horsepower</th>\n",
       "      <th>peak.rpm</th>\n",
       "      <th>city.mpg</th>\n",
       "      <th>highway.mpg</th>\n",
       "      <th>Car_Price</th>\n",
       "    </tr>\n",
       "  </thead>\n",
       "  <tbody>\n",
       "    <tr>\n",
       "      <th>0</th>\n",
       "      <td>3</td>\n",
       "      <td>NaN</td>\n",
       "      <td>alfa-romero</td>\n",
       "      <td>gas</td>\n",
       "      <td>std</td>\n",
       "      <td>two</td>\n",
       "      <td>convertible</td>\n",
       "      <td>rwd</td>\n",
       "      <td>front</td>\n",
       "      <td>88.6</td>\n",
       "      <td>...</td>\n",
       "      <td>130</td>\n",
       "      <td>mpfi</td>\n",
       "      <td>3.47</td>\n",
       "      <td>2.68</td>\n",
       "      <td>9.0</td>\n",
       "      <td>111</td>\n",
       "      <td>5000</td>\n",
       "      <td>21</td>\n",
       "      <td>27</td>\n",
       "      <td>NaN</td>\n",
       "    </tr>\n",
       "    <tr>\n",
       "      <th>1</th>\n",
       "      <td>2</td>\n",
       "      <td>164.0</td>\n",
       "      <td>audi</td>\n",
       "      <td>gas</td>\n",
       "      <td>std</td>\n",
       "      <td>four</td>\n",
       "      <td>sedan</td>\n",
       "      <td>4wd</td>\n",
       "      <td>NaN</td>\n",
       "      <td>99.4</td>\n",
       "      <td>...</td>\n",
       "      <td>136</td>\n",
       "      <td>mpfi</td>\n",
       "      <td>3.19</td>\n",
       "      <td>3.40</td>\n",
       "      <td>8.0</td>\n",
       "      <td>115</td>\n",
       "      <td>5500</td>\n",
       "      <td>18</td>\n",
       "      <td>22</td>\n",
       "      <td>NaN</td>\n",
       "    </tr>\n",
       "    <tr>\n",
       "      <th>2</th>\n",
       "      <td>2</td>\n",
       "      <td>NaN</td>\n",
       "      <td>audi</td>\n",
       "      <td>gas</td>\n",
       "      <td>std</td>\n",
       "      <td>two</td>\n",
       "      <td>sedan</td>\n",
       "      <td>fwd</td>\n",
       "      <td>front</td>\n",
       "      <td>99.8</td>\n",
       "      <td>...</td>\n",
       "      <td>136</td>\n",
       "      <td>mpfi</td>\n",
       "      <td>3.19</td>\n",
       "      <td>3.40</td>\n",
       "      <td>8.5</td>\n",
       "      <td>110</td>\n",
       "      <td>5500</td>\n",
       "      <td>19</td>\n",
       "      <td>25</td>\n",
       "      <td>NaN</td>\n",
       "    </tr>\n",
       "    <tr>\n",
       "      <th>3</th>\n",
       "      <td>1</td>\n",
       "      <td>NaN</td>\n",
       "      <td>audi</td>\n",
       "      <td>gas</td>\n",
       "      <td>std</td>\n",
       "      <td>four</td>\n",
       "      <td>wagon</td>\n",
       "      <td>fwd</td>\n",
       "      <td>front</td>\n",
       "      <td>105.8</td>\n",
       "      <td>...</td>\n",
       "      <td>136</td>\n",
       "      <td>mpfi</td>\n",
       "      <td>3.19</td>\n",
       "      <td>3.40</td>\n",
       "      <td>8.5</td>\n",
       "      <td>110</td>\n",
       "      <td>5500</td>\n",
       "      <td>19</td>\n",
       "      <td>25</td>\n",
       "      <td>NaN</td>\n",
       "    </tr>\n",
       "    <tr>\n",
       "      <th>4</th>\n",
       "      <td>1</td>\n",
       "      <td>158.0</td>\n",
       "      <td>audi</td>\n",
       "      <td>gas</td>\n",
       "      <td>turbo</td>\n",
       "      <td>four</td>\n",
       "      <td>sedan</td>\n",
       "      <td>fwd</td>\n",
       "      <td>front</td>\n",
       "      <td>105.8</td>\n",
       "      <td>...</td>\n",
       "      <td>131</td>\n",
       "      <td>mpfi</td>\n",
       "      <td>3.13</td>\n",
       "      <td>3.40</td>\n",
       "      <td>8.3</td>\n",
       "      <td>140</td>\n",
       "      <td>5500</td>\n",
       "      <td>17</td>\n",
       "      <td>20</td>\n",
       "      <td>NaN</td>\n",
       "    </tr>\n",
       "  </tbody>\n",
       "</table>\n",
       "<p>5 rows × 26 columns</p>\n",
       "</div>"
      ],
      "text/plain": [
       "   symboling  normalized.losses         make fuel.type aspiration  \\\n",
       "0          3                NaN  alfa-romero       gas        std   \n",
       "1          2              164.0         audi       gas        std   \n",
       "2          2                NaN         audi       gas        std   \n",
       "3          1                NaN         audi       gas        std   \n",
       "4          1              158.0         audi       gas      turbo   \n",
       "\n",
       "  num.of.doors   body.style drive.wheels engine.location  wheel.base  ...  \\\n",
       "0          two  convertible          rwd           front        88.6  ...   \n",
       "1         four        sedan          4wd             NaN        99.4  ...   \n",
       "2          two        sedan          fwd           front        99.8  ...   \n",
       "3         four        wagon          fwd           front       105.8  ...   \n",
       "4         four        sedan          fwd           front       105.8  ...   \n",
       "\n",
       "   engine.size  fuel.system  bore  stroke compression.ratio horsepower  \\\n",
       "0          130         mpfi  3.47    2.68               9.0        111   \n",
       "1          136         mpfi  3.19    3.40               8.0        115   \n",
       "2          136         mpfi  3.19    3.40               8.5        110   \n",
       "3          136         mpfi  3.19    3.40               8.5        110   \n",
       "4          131         mpfi  3.13    3.40               8.3        140   \n",
       "\n",
       "   peak.rpm city.mpg  highway.mpg  Car_Price  \n",
       "0      5000       21           27        NaN  \n",
       "1      5500       18           22        NaN  \n",
       "2      5500       19           25        NaN  \n",
       "3      5500       19           25        NaN  \n",
       "4      5500       17           20        NaN  \n",
       "\n",
       "[5 rows x 26 columns]"
      ]
     },
     "execution_count": 56,
     "metadata": {},
     "output_type": "execute_result"
    }
   ],
   "source": [
    "df = pd.read_excel('cars_test.xlsx')\n",
    "df.head()"
   ]
  },
  {
   "cell_type": "code",
   "execution_count": 57,
   "id": "53757d62",
   "metadata": {},
   "outputs": [],
   "source": [
    "#df.drop(columns=['Car_Price'], inplace=True)"
   ]
  },
  {
   "cell_type": "code",
   "execution_count": 58,
   "id": "5bfce9e9",
   "metadata": {},
   "outputs": [
    {
     "data": {
      "text/plain": [
       "symboling             0\n",
       "normalized.losses    12\n",
       "make                  0\n",
       "fuel.type             0\n",
       "aspiration            0\n",
       "num.of.doors          5\n",
       "body.style            0\n",
       "drive.wheels          0\n",
       "engine.location       4\n",
       "wheel.base            0\n",
       "length                0\n",
       "width                 0\n",
       "height                0\n",
       "curb.weight           0\n",
       "engine.type           0\n",
       "num.of.cylinders      1\n",
       "engine.size           0\n",
       "fuel.system           0\n",
       "bore                  1\n",
       "stroke                1\n",
       "compression.ratio     0\n",
       "horsepower            0\n",
       "peak.rpm              0\n",
       "city.mpg              0\n",
       "highway.mpg           0\n",
       "Car_Price            52\n",
       "dtype: int64"
      ]
     },
     "execution_count": 58,
     "metadata": {},
     "output_type": "execute_result"
    }
   ],
   "source": [
    "df.isna().sum()"
   ]
  },
  {
   "cell_type": "code",
   "execution_count": 59,
   "id": "25d6a626",
   "metadata": {},
   "outputs": [],
   "source": [
    "df.dropna(subset=['Car_Price'], inplace=True)"
   ]
  },
  {
   "cell_type": "code",
   "execution_count": 60,
   "id": "f4979730",
   "metadata": {},
   "outputs": [
    {
     "data": {
      "text/plain": [
       "symboling            0.0\n",
       "normalized.losses    0.0\n",
       "make                 0.0\n",
       "fuel.type            0.0\n",
       "aspiration           0.0\n",
       "num.of.doors         0.0\n",
       "body.style           0.0\n",
       "drive.wheels         0.0\n",
       "engine.location      0.0\n",
       "wheel.base           0.0\n",
       "length               0.0\n",
       "width                0.0\n",
       "height               0.0\n",
       "curb.weight          0.0\n",
       "engine.type          0.0\n",
       "num.of.cylinders     0.0\n",
       "engine.size          0.0\n",
       "fuel.system          0.0\n",
       "bore                 0.0\n",
       "stroke               0.0\n",
       "compression.ratio    0.0\n",
       "horsepower           0.0\n",
       "peak.rpm             0.0\n",
       "city.mpg             0.0\n",
       "highway.mpg          0.0\n",
       "Car_Price            0.0\n",
       "dtype: float64"
      ]
     },
     "execution_count": 60,
     "metadata": {},
     "output_type": "execute_result"
    }
   ],
   "source": [
    "df.isna().sum()"
   ]
  },
  {
   "cell_type": "code",
   "execution_count": 64,
   "id": "17e5799f",
   "metadata": {},
   "outputs": [
    {
     "data": {
      "text/plain": [
       "(33, 25)"
      ]
     },
     "execution_count": 64,
     "metadata": {},
     "output_type": "execute_result"
    }
   ],
   "source": [
    "xtest.shape"
   ]
  },
  {
   "cell_type": "code",
   "execution_count": 65,
   "id": "1976cbf6",
   "metadata": {},
   "outputs": [
    {
     "data": {
      "text/plain": [
       "(129, 25)"
      ]
     },
     "execution_count": 65,
     "metadata": {},
     "output_type": "execute_result"
    }
   ],
   "source": [
    "xtrain.shape"
   ]
  },
  {
   "cell_type": "code",
   "execution_count": 61,
   "id": "7173df50",
   "metadata": {},
   "outputs": [
    {
     "data": {
      "text/plain": [
       "(33, 1)"
      ]
     },
     "execution_count": 61,
     "metadata": {},
     "output_type": "execute_result"
    }
   ],
   "source": [
    "ytest.shape"
   ]
  },
  {
   "cell_type": "code",
   "execution_count": 62,
   "id": "959829bc",
   "metadata": {},
   "outputs": [
    {
     "data": {
      "text/plain": [
       "(33, 1)"
      ]
     },
     "execution_count": 62,
     "metadata": {},
     "output_type": "execute_result"
    }
   ],
   "source": [
    "y_pred.shape"
   ]
  },
  {
   "cell_type": "code",
   "execution_count": 68,
   "id": "299d87e6",
   "metadata": {},
   "outputs": [
    {
     "ename": "ValueError",
     "evalue": "Cannot set a frame with no defined index and a value that cannot be converted to a Series",
     "output_type": "error",
     "traceback": [
      "\u001b[1;31m---------------------------------------------------------------------------\u001b[0m",
      "\u001b[1;31mValueError\u001b[0m                                Traceback (most recent call last)",
      "File \u001b[1;32m~\\anaconda3\\Lib\\site-packages\\pandas\\core\\frame.py:4243\u001b[0m, in \u001b[0;36mDataFrame._ensure_valid_index\u001b[1;34m(self, value)\u001b[0m\n\u001b[0;32m   4242\u001b[0m \u001b[38;5;28;01mtry\u001b[39;00m:\n\u001b[1;32m-> 4243\u001b[0m     value \u001b[38;5;241m=\u001b[39m Series(value)\n\u001b[0;32m   4244\u001b[0m \u001b[38;5;28;01mexcept\u001b[39;00m (\u001b[38;5;167;01mValueError\u001b[39;00m, \u001b[38;5;167;01mNotImplementedError\u001b[39;00m, \u001b[38;5;167;01mTypeError\u001b[39;00m) \u001b[38;5;28;01mas\u001b[39;00m err:\n",
      "File \u001b[1;32m~\\anaconda3\\Lib\\site-packages\\pandas\\core\\series.py:470\u001b[0m, in \u001b[0;36mSeries.__init__\u001b[1;34m(self, data, index, dtype, name, copy, fastpath)\u001b[0m\n\u001b[0;32m    469\u001b[0m \u001b[38;5;28;01melse\u001b[39;00m:\n\u001b[1;32m--> 470\u001b[0m     data \u001b[38;5;241m=\u001b[39m sanitize_array(data, index, dtype, copy)\n\u001b[0;32m    472\u001b[0m     manager \u001b[38;5;241m=\u001b[39m get_option(\u001b[38;5;124m\"\u001b[39m\u001b[38;5;124mmode.data_manager\u001b[39m\u001b[38;5;124m\"\u001b[39m)\n",
      "File \u001b[1;32m~\\anaconda3\\Lib\\site-packages\\pandas\\core\\construction.py:647\u001b[0m, in \u001b[0;36msanitize_array\u001b[1;34m(data, index, dtype, copy, raise_cast_failure, allow_2d)\u001b[0m\n\u001b[0;32m    645\u001b[0m             subarr \u001b[38;5;241m=\u001b[39m maybe_infer_to_datetimelike(subarr)\n\u001b[1;32m--> 647\u001b[0m subarr \u001b[38;5;241m=\u001b[39m _sanitize_ndim(subarr, data, dtype, index, allow_2d\u001b[38;5;241m=\u001b[39mallow_2d)\n\u001b[0;32m    649\u001b[0m \u001b[38;5;28;01mif\u001b[39;00m \u001b[38;5;28misinstance\u001b[39m(subarr, np\u001b[38;5;241m.\u001b[39mndarray):\n\u001b[0;32m    650\u001b[0m     \u001b[38;5;66;03m# at this point we should have dtype be None or subarr.dtype == dtype\u001b[39;00m\n",
      "File \u001b[1;32m~\\anaconda3\\Lib\\site-packages\\pandas\\core\\construction.py:698\u001b[0m, in \u001b[0;36m_sanitize_ndim\u001b[1;34m(result, data, dtype, index, allow_2d)\u001b[0m\n\u001b[0;32m    697\u001b[0m         \u001b[38;5;28;01mreturn\u001b[39;00m result\n\u001b[1;32m--> 698\u001b[0m     \u001b[38;5;28;01mraise\u001b[39;00m \u001b[38;5;167;01mValueError\u001b[39;00m(\u001b[38;5;124m\"\u001b[39m\u001b[38;5;124mData must be 1-dimensional\u001b[39m\u001b[38;5;124m\"\u001b[39m)\n\u001b[0;32m    699\u001b[0m \u001b[38;5;28;01mif\u001b[39;00m is_object_dtype(dtype) \u001b[38;5;129;01mand\u001b[39;00m \u001b[38;5;28misinstance\u001b[39m(dtype, ExtensionDtype):\n\u001b[0;32m    700\u001b[0m     \u001b[38;5;66;03m# i.e. PandasDtype(\"O\")\u001b[39;00m\n",
      "\u001b[1;31mValueError\u001b[0m: Data must be 1-dimensional",
      "\nThe above exception was the direct cause of the following exception:\n",
      "\u001b[1;31mValueError\u001b[0m                                Traceback (most recent call last)",
      "Cell \u001b[1;32mIn[68], line 1\u001b[0m\n\u001b[1;32m----> 1\u001b[0m df[\u001b[38;5;124m'\u001b[39m\u001b[38;5;124mCar_Price\u001b[39m\u001b[38;5;124m'\u001b[39m] \u001b[38;5;241m=\u001b[39m y_pred\n",
      "File \u001b[1;32m~\\anaconda3\\Lib\\site-packages\\pandas\\core\\frame.py:3980\u001b[0m, in \u001b[0;36mDataFrame.__setitem__\u001b[1;34m(self, key, value)\u001b[0m\n\u001b[0;32m   3977\u001b[0m     \u001b[38;5;28mself\u001b[39m\u001b[38;5;241m.\u001b[39m_setitem_array([key], value)\n\u001b[0;32m   3978\u001b[0m \u001b[38;5;28;01melse\u001b[39;00m:\n\u001b[0;32m   3979\u001b[0m     \u001b[38;5;66;03m# set column\u001b[39;00m\n\u001b[1;32m-> 3980\u001b[0m     \u001b[38;5;28mself\u001b[39m\u001b[38;5;241m.\u001b[39m_set_item(key, value)\n",
      "File \u001b[1;32m~\\anaconda3\\Lib\\site-packages\\pandas\\core\\frame.py:4174\u001b[0m, in \u001b[0;36mDataFrame._set_item\u001b[1;34m(self, key, value)\u001b[0m\n\u001b[0;32m   4164\u001b[0m \u001b[38;5;28;01mdef\u001b[39;00m \u001b[38;5;21m_set_item\u001b[39m(\u001b[38;5;28mself\u001b[39m, key, value) \u001b[38;5;241m-\u001b[39m\u001b[38;5;241m>\u001b[39m \u001b[38;5;28;01mNone\u001b[39;00m:\n\u001b[0;32m   4165\u001b[0m \u001b[38;5;250m    \u001b[39m\u001b[38;5;124;03m\"\"\"\u001b[39;00m\n\u001b[0;32m   4166\u001b[0m \u001b[38;5;124;03m    Add series to DataFrame in specified column.\u001b[39;00m\n\u001b[0;32m   4167\u001b[0m \n\u001b[1;32m   (...)\u001b[0m\n\u001b[0;32m   4172\u001b[0m \u001b[38;5;124;03m    ensure homogeneity.\u001b[39;00m\n\u001b[0;32m   4173\u001b[0m \u001b[38;5;124;03m    \"\"\"\u001b[39;00m\n\u001b[1;32m-> 4174\u001b[0m     value \u001b[38;5;241m=\u001b[39m \u001b[38;5;28mself\u001b[39m\u001b[38;5;241m.\u001b[39m_sanitize_column(value)\n\u001b[0;32m   4176\u001b[0m     \u001b[38;5;28;01mif\u001b[39;00m (\n\u001b[0;32m   4177\u001b[0m         key \u001b[38;5;129;01min\u001b[39;00m \u001b[38;5;28mself\u001b[39m\u001b[38;5;241m.\u001b[39mcolumns\n\u001b[0;32m   4178\u001b[0m         \u001b[38;5;129;01mand\u001b[39;00m value\u001b[38;5;241m.\u001b[39mndim \u001b[38;5;241m==\u001b[39m \u001b[38;5;241m1\u001b[39m\n\u001b[0;32m   4179\u001b[0m         \u001b[38;5;129;01mand\u001b[39;00m \u001b[38;5;129;01mnot\u001b[39;00m is_extension_array_dtype(value)\n\u001b[0;32m   4180\u001b[0m     ):\n\u001b[0;32m   4181\u001b[0m         \u001b[38;5;66;03m# broadcast across multiple columns if necessary\u001b[39;00m\n\u001b[0;32m   4182\u001b[0m         \u001b[38;5;28;01mif\u001b[39;00m \u001b[38;5;129;01mnot\u001b[39;00m \u001b[38;5;28mself\u001b[39m\u001b[38;5;241m.\u001b[39mcolumns\u001b[38;5;241m.\u001b[39mis_unique \u001b[38;5;129;01mor\u001b[39;00m \u001b[38;5;28misinstance\u001b[39m(\u001b[38;5;28mself\u001b[39m\u001b[38;5;241m.\u001b[39mcolumns, MultiIndex):\n",
      "File \u001b[1;32m~\\anaconda3\\Lib\\site-packages\\pandas\\core\\frame.py:4905\u001b[0m, in \u001b[0;36mDataFrame._sanitize_column\u001b[1;34m(self, value)\u001b[0m\n\u001b[0;32m   4892\u001b[0m \u001b[38;5;28;01mdef\u001b[39;00m \u001b[38;5;21m_sanitize_column\u001b[39m(\u001b[38;5;28mself\u001b[39m, value) \u001b[38;5;241m-\u001b[39m\u001b[38;5;241m>\u001b[39m ArrayLike:\n\u001b[0;32m   4893\u001b[0m \u001b[38;5;250m    \u001b[39m\u001b[38;5;124;03m\"\"\"\u001b[39;00m\n\u001b[0;32m   4894\u001b[0m \u001b[38;5;124;03m    Ensures new columns (which go into the BlockManager as new blocks) are\u001b[39;00m\n\u001b[0;32m   4895\u001b[0m \u001b[38;5;124;03m    always copied and converted into an array.\u001b[39;00m\n\u001b[1;32m   (...)\u001b[0m\n\u001b[0;32m   4903\u001b[0m \u001b[38;5;124;03m    numpy.ndarray or ExtensionArray\u001b[39;00m\n\u001b[0;32m   4904\u001b[0m \u001b[38;5;124;03m    \"\"\"\u001b[39;00m\n\u001b[1;32m-> 4905\u001b[0m     \u001b[38;5;28mself\u001b[39m\u001b[38;5;241m.\u001b[39m_ensure_valid_index(value)\n\u001b[0;32m   4907\u001b[0m     \u001b[38;5;66;03m# We can get there through isetitem with a DataFrame\u001b[39;00m\n\u001b[0;32m   4908\u001b[0m     \u001b[38;5;66;03m# or through loc single_block_path\u001b[39;00m\n\u001b[0;32m   4909\u001b[0m     \u001b[38;5;28;01mif\u001b[39;00m \u001b[38;5;28misinstance\u001b[39m(value, DataFrame):\n",
      "File \u001b[1;32m~\\anaconda3\\Lib\\site-packages\\pandas\\core\\frame.py:4245\u001b[0m, in \u001b[0;36mDataFrame._ensure_valid_index\u001b[1;34m(self, value)\u001b[0m\n\u001b[0;32m   4243\u001b[0m         value \u001b[38;5;241m=\u001b[39m Series(value)\n\u001b[0;32m   4244\u001b[0m     \u001b[38;5;28;01mexcept\u001b[39;00m (\u001b[38;5;167;01mValueError\u001b[39;00m, \u001b[38;5;167;01mNotImplementedError\u001b[39;00m, \u001b[38;5;167;01mTypeError\u001b[39;00m) \u001b[38;5;28;01mas\u001b[39;00m err:\n\u001b[1;32m-> 4245\u001b[0m         \u001b[38;5;28;01mraise\u001b[39;00m \u001b[38;5;167;01mValueError\u001b[39;00m(\n\u001b[0;32m   4246\u001b[0m             \u001b[38;5;124m\"\u001b[39m\u001b[38;5;124mCannot set a frame with no defined index \u001b[39m\u001b[38;5;124m\"\u001b[39m\n\u001b[0;32m   4247\u001b[0m             \u001b[38;5;124m\"\u001b[39m\u001b[38;5;124mand a value that cannot be converted to a Series\u001b[39m\u001b[38;5;124m\"\u001b[39m\n\u001b[0;32m   4248\u001b[0m         ) \u001b[38;5;28;01mfrom\u001b[39;00m \u001b[38;5;21;01merr\u001b[39;00m\n\u001b[0;32m   4250\u001b[0m \u001b[38;5;66;03m# GH31368 preserve name of index\u001b[39;00m\n\u001b[0;32m   4251\u001b[0m index_copy \u001b[38;5;241m=\u001b[39m value\u001b[38;5;241m.\u001b[39mindex\u001b[38;5;241m.\u001b[39mcopy()\n",
      "\u001b[1;31mValueError\u001b[0m: Cannot set a frame with no defined index and a value that cannot be converted to a Series"
     ]
    }
   ],
   "source": [
    "df['Car_Price'] = y_pred"
   ]
  },
  {
   "cell_type": "code",
   "execution_count": 76,
   "id": "9aa39e95",
   "metadata": {},
   "outputs": [
    {
     "data": {
      "text/plain": [
       "Index(['symboling', 'normalized.losses', 'make', 'fuel.type', 'aspiration',\n",
       "       'num.of.doors', 'body.style', 'drive.wheels', 'engine.location',\n",
       "       'wheel.base', 'length', 'width', 'height', 'curb.weight', 'engine.type',\n",
       "       'num.of.cylinders', 'engine.size', 'fuel.system', 'bore', 'stroke',\n",
       "       'compression.ratio', 'horsepower', 'peak.rpm', 'city.mpg',\n",
       "       'highway.mpg', 'Car_Price'],\n",
       "      dtype='object')"
      ]
     },
     "execution_count": 76,
     "metadata": {},
     "output_type": "execute_result"
    }
   ],
   "source": [
    "df.columns"
   ]
  },
  {
   "cell_type": "code",
   "execution_count": 80,
   "id": "b6d3a7c3",
   "metadata": {},
   "outputs": [
    {
     "name": "stdout",
     "output_type": "stream",
     "text": [
      "   symboling  normalized.losses make fuel.type aspiration num.of.doors  \\\n",
      "0        NaN                NaN  NaN       NaN        NaN          NaN   \n",
      "1        NaN                NaN  NaN       NaN        NaN          NaN   \n",
      "2        NaN                NaN  NaN       NaN        NaN          NaN   \n",
      "3        NaN                NaN  NaN       NaN        NaN          NaN   \n",
      "4        NaN                NaN  NaN       NaN        NaN          NaN   \n",
      "\n",
      "  body.style drive.wheels engine.location  wheel.base  ...  engine.size  \\\n",
      "0        NaN          NaN             NaN         NaN  ...          NaN   \n",
      "1        NaN          NaN             NaN         NaN  ...          NaN   \n",
      "2        NaN          NaN             NaN         NaN  ...          NaN   \n",
      "3        NaN          NaN             NaN         NaN  ...          NaN   \n",
      "4        NaN          NaN             NaN         NaN  ...          NaN   \n",
      "\n",
      "   fuel.system  bore  stroke compression.ratio horsepower  peak.rpm city.mpg  \\\n",
      "0          NaN   NaN     NaN               NaN        NaN       NaN      NaN   \n",
      "1          NaN   NaN     NaN               NaN        NaN       NaN      NaN   \n",
      "2          NaN   NaN     NaN               NaN        NaN       NaN      NaN   \n",
      "3          NaN   NaN     NaN               NaN        NaN       NaN      NaN   \n",
      "4          NaN   NaN     NaN               NaN        NaN       NaN      NaN   \n",
      "\n",
      "   highway.mpg             Car_Price  \n",
      "0          NaN   [47.94130539759351]  \n",
      "1          NaN    [138.059221405462]  \n",
      "2          NaN   [30.83879117967942]  \n",
      "3          NaN  [113.32525796700565]  \n",
      "4          NaN   [98.62564066567776]  \n",
      "\n",
      "[5 rows x 26 columns]\n"
     ]
    }
   ],
   "source": [
    "\n",
    "\n",
    "car_test_df = pd.read_excel('cars_test.xlsx')\n",
    "\n",
    "y_pred = list(y_pred)\n",
    "car_pred_df = pd.DataFrame({'car_price_pred': y_pred})\n",
    "\n",
    "df['Car_Price'] = car_pred_df['car_price_pred']\n",
    "\n",
    "print(df.head())\n"
   ]
  },
  {
   "cell_type": "code",
   "execution_count": null,
   "id": "de29a8ff",
   "metadata": {},
   "outputs": [],
   "source": []
  },
  {
   "cell_type": "code",
   "execution_count": null,
   "id": "6b8d299c",
   "metadata": {},
   "outputs": [],
   "source": []
  }
 ],
 "metadata": {
  "kernelspec": {
   "display_name": "Python 3 (ipykernel)",
   "language": "python",
   "name": "python3"
  },
  "language_info": {
   "codemirror_mode": {
    "name": "ipython",
    "version": 3
   },
   "file_extension": ".py",
   "mimetype": "text/x-python",
   "name": "python",
   "nbconvert_exporter": "python",
   "pygments_lexer": "ipython3",
   "version": "3.11.4"
  }
 },
 "nbformat": 4,
 "nbformat_minor": 5
}
